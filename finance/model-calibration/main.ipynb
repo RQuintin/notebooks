{
 "cells": [
  {
   "cell_type": "markdown",
   "metadata": {},
   "source": [
    "# Stressed VaR calibration with atoti\n",
    "\n",
    "## A quick introduction\n",
    "\n",
    "This jupyter notebook will demonstrate how atoti™ community edition can help to analyse and explore **Value-at-Risk** across observation windows. This tool can be particularly useful for clients looking to **recalibrate the period** of significant stress relevant to their portfolio, for instance, from the **Global Financial Crisis of 2008** to the **Coronavirus Market Crash of 2020**. \n",
    "\n",
    "Read more about the use case in this blog post: [Stressed VaR calibration](#).\n",
    "\n",
    "We will focus on the step-by-step implementation of an analytical cube for the rolling VaR use case in atoti.\n"
   ]
  },
  {
   "cell_type": "markdown",
   "metadata": {},
   "source": [
    "# Importing libraries\n",
    "\n",
    "We will be using atoti and pandas today."
   ]
  },
  {
   "cell_type": "code",
   "execution_count": 1,
   "metadata": {},
   "outputs": [
    {
     "name": "stdout",
     "output_type": "stream",
     "text": [
      "Welcome to atoti 0.4.0.20200519221045!\n",
      "\n",
      "By using this community edition, you agree with the license available at https://www.atoti.io/eula.\n",
      "Browse the official documentation at https://docs.atoti.io.\n",
      "Join the community at https://www.atoti.io/register.\n",
      "\n",
      "You can hide this message by setting the ATOTI_HIDE_EULA_MESSAGE environment variable to True.\n"
     ]
    }
   ],
   "source": [
    "import atoti as tt\n",
    "import pandas as pd"
   ]
  },
  {
   "cell_type": "markdown",
   "metadata": {},
   "source": [
    "Each PnL value in the returned vector corresponds to a scenario at the same index position."
   ]
  },
  {
   "cell_type": "markdown",
   "metadata": {},
   "source": [
    "# Sample data overview\n",
    "\n",
    "For the purposes of this demonstration, we'll use a toy data model that can be adjusted for a real-life use case. The datastores that we'll need include:\n",
    "\n",
    "- positions: books, stock tickers and positions market values in USD (long and short positions),\n",
    "- historical returns: vectors of stock prices and daily changes, we will be multiplying market values by stock price changes to obtain a simulated historical P&L for the demonstration. The first two data stores can be replaced with full revaluation P&L vectors from a risk system."
   ]
  },
  {
   "cell_type": "markdown",
   "metadata": {},
   "source": [
    "# Creating an atoti session and loading data"
   ]
  },
  {
   "cell_type": "code",
   "execution_count": 2,
   "metadata": {},
   "outputs": [
    {
     "data": {
      "text/html": [
       "<div>\n",
       "<style scoped>\n",
       "    .dataframe tbody tr th:only-of-type {\n",
       "        vertical-align: middle;\n",
       "    }\n",
       "\n",
       "    .dataframe tbody tr th {\n",
       "        vertical-align: top;\n",
       "    }\n",
       "\n",
       "    .dataframe thead th {\n",
       "        text-align: right;\n",
       "    }\n",
       "</style>\n",
       "<table border=\"1\" class=\"dataframe\">\n",
       "  <thead>\n",
       "    <tr style=\"text-align: right;\">\n",
       "      <th></th>\n",
       "      <th>Returns</th>\n",
       "      <th>Prices</th>\n",
       "    </tr>\n",
       "    <tr>\n",
       "      <th>Stock</th>\n",
       "      <th></th>\n",
       "      <th></th>\n",
       "    </tr>\n",
       "  </thead>\n",
       "  <tbody>\n",
       "    <tr>\n",
       "      <th>APA</th>\n",
       "      <td>doubleVector[3634]{-0.002821133740173898, ...}</td>\n",
       "      <td>doubleVector[3634]{58.06625747680664, ...}</td>\n",
       "    </tr>\n",
       "    <tr>\n",
       "      <th>CCL</th>\n",
       "      <td>doubleVector[3634]{-0.0038484012008623836, ...}</td>\n",
       "      <td>doubleVector[3634]{36.2109375, ...}</td>\n",
       "    </tr>\n",
       "    <tr>\n",
       "      <th>EOG</th>\n",
       "      <td>doubleVector[3634]{0.001013001435978822, ...}</td>\n",
       "      <td>doubleVector[3634]{35.61472702026367, ...}</td>\n",
       "    </tr>\n",
       "  </tbody>\n",
       "</table>\n",
       "</div>"
      ],
      "text/plain": [
       "                                               Returns  \\\n",
       "Stock                                                    \n",
       "APA     doubleVector[3634]{-0.002821133740173898, ...}   \n",
       "CCL    doubleVector[3634]{-0.0038484012008623836, ...}   \n",
       "EOG      doubleVector[3634]{0.001013001435978822, ...}   \n",
       "\n",
       "                                           Prices  \n",
       "Stock                                              \n",
       "APA    doubleVector[3634]{58.06625747680664, ...}  \n",
       "CCL           doubleVector[3634]{36.2109375, ...}  \n",
       "EOG    doubleVector[3634]{35.61472702026367, ...}  "
      ]
     },
     "execution_count": 2,
     "metadata": {},
     "output_type": "execute_result"
    }
   ],
   "source": [
    "# Starting atoti session\n",
    "from atoti.config import create_config\n",
    "config = create_config(metadata_db=\"./metadata.db\")\n",
    "session = tt.create_session(config=config)\n",
    "\n",
    "# Let's load historical data into a store from a csv file.\n",
    "# Read more about the supported input data sources on the https://docs.atoti.io/.\n",
    "# By setting array_sep, atoti will recognize the input data is in vectorized format.\n",
    "\n",
    "market_data_store = session.read_csv(\n",
    "    \"stock_price_returns.csv\",\n",
    "    keys=[\"Stock\"],\n",
    "    store_name=\"StockData\",\n",
    "    array_sep=\";\"\n",
    ")\n",
    "\n",
    "market_data_store.head(3)"
   ]
  },
  {
   "cell_type": "code",
   "execution_count": 3,
   "metadata": {},
   "outputs": [
    {
     "data": {
      "text/html": [
       "<div>\n",
       "<style scoped>\n",
       "    .dataframe tbody tr th:only-of-type {\n",
       "        vertical-align: middle;\n",
       "    }\n",
       "\n",
       "    .dataframe tbody tr th {\n",
       "        vertical-align: top;\n",
       "    }\n",
       "\n",
       "    .dataframe thead th {\n",
       "        text-align: right;\n",
       "    }\n",
       "</style>\n",
       "<table border=\"1\" class=\"dataframe\">\n",
       "  <thead>\n",
       "    <tr style=\"text-align: right;\">\n",
       "      <th></th>\n",
       "      <th></th>\n",
       "      <th>Portfolio</th>\n",
       "      <th>AmountUSD</th>\n",
       "    </tr>\n",
       "    <tr>\n",
       "      <th>Book</th>\n",
       "      <th>Stock</th>\n",
       "      <th></th>\n",
       "      <th></th>\n",
       "    </tr>\n",
       "  </thead>\n",
       "  <tbody>\n",
       "    <tr>\n",
       "      <th rowspan=\"2\" valign=\"top\">Indices</th>\n",
       "      <th>^DJI</th>\n",
       "      <td>US</td>\n",
       "      <td>5000.0</td>\n",
       "    </tr>\n",
       "    <tr>\n",
       "      <th>^GSPC</th>\n",
       "      <td>US</td>\n",
       "      <td>5000.0</td>\n",
       "    </tr>\n",
       "    <tr>\n",
       "      <th>Oil&amp;Gas</th>\n",
       "      <th>APA</th>\n",
       "      <td>US</td>\n",
       "      <td>250.0</td>\n",
       "    </tr>\n",
       "  </tbody>\n",
       "</table>\n",
       "</div>"
      ],
      "text/plain": [
       "              Portfolio  AmountUSD\n",
       "Book    Stock                     \n",
       "Indices ^DJI         US     5000.0\n",
       "        ^GSPC        US     5000.0\n",
       "Oil&Gas APA          US      250.0"
      ]
     },
     "execution_count": 3,
     "metadata": {},
     "output_type": "execute_result"
    }
   ],
   "source": [
    "# Now let's load the positions.\n",
    "positions_store = session.read_csv(\n",
    "    \"positions_snapshot.csv\",\n",
    "    keys=[\"Book\", \"Stock\"],\n",
    "    store_name=\"Positions\",\n",
    "    types={\"AmountUSD\": tt.types.DOUBLE},\n",
    ")\n",
    "\n",
    "positions_store.head(3)"
   ]
  },
  {
   "cell_type": "code",
   "execution_count": 4,
   "metadata": {},
   "outputs": [],
   "source": [
    "positions_store.join(market_data_store)"
   ]
  },
  {
   "cell_type": "markdown",
   "metadata": {},
   "source": [
    "# Creating an OLAP cube"
   ]
  },
  {
   "cell_type": "code",
   "execution_count": 5,
   "metadata": {},
   "outputs": [
    {
     "data": {
      "application/json": {
       "Dimensions": {
        "Hierarchies": {
         "Book": [
          "Book"
         ],
         "Portfolio": [
          "Portfolio"
         ],
         "Stock": [
          "Stock"
         ]
        }
       },
       "Measures": {
        "AmountUSD.MEAN": {
         "formatter": "DOUBLE[#,###.00]",
         "visible": true
        },
        "AmountUSD.SUM": {
         "formatter": "DOUBLE[#,###.00]",
         "visible": true
        },
        "Prices.VALUE": {
         "formatter": null,
         "visible": true
        },
        "Returns.VALUE": {
         "formatter": null,
         "visible": true
        },
        "contributors.COUNT": {
         "formatter": null,
         "visible": true
        }
       }
      },
      "text/html": [
       "<ul>\n",
       "<li>Historical VaR Cube\n",
       "  <ul>\n",
       "  <li>Dimensions\n",
       "    <ul>\n",
       "    <li>Hierarchies\n",
       "      <ul>\n",
       "      <li>Book\n",
       "        <ol>\n",
       "        <li>Book</li>\n",
       "        </ol>      </li>\n",
       "      <li>Portfolio\n",
       "        <ol>\n",
       "        <li>Portfolio</li>\n",
       "        </ol>      </li>\n",
       "      <li>Stock\n",
       "        <ol>\n",
       "        <li>Stock</li>\n",
       "        </ol>      </li>\n",
       "      </ul>\n",
       "    </li>\n",
       "    </ul>\n",
       "  </li>\n",
       "  <li>Measures\n",
       "    <ul>\n",
       "    <li>AmountUSD.MEAN\n",
       "      <ul>\n",
       "      <li>formatter: DOUBLE[#,###.00]</li>\n",
       "      <li>visible: True</li>\n",
       "      </ul>\n",
       "    </li>\n",
       "    <li>AmountUSD.SUM\n",
       "      <ul>\n",
       "      <li>formatter: DOUBLE[#,###.00]</li>\n",
       "      <li>visible: True</li>\n",
       "      </ul>\n",
       "    </li>\n",
       "    <li>Prices.VALUE\n",
       "      <ul>\n",
       "      <li>formatter: None</li>\n",
       "      <li>visible: True</li>\n",
       "      </ul>\n",
       "    </li>\n",
       "    <li>Returns.VALUE\n",
       "      <ul>\n",
       "      <li>formatter: None</li>\n",
       "      <li>visible: True</li>\n",
       "      </ul>\n",
       "    </li>\n",
       "    <li>contributors.COUNT\n",
       "      <ul>\n",
       "      <li>formatter: None</li>\n",
       "      <li>visible: True</li>\n",
       "      </ul>\n",
       "    </li>\n",
       "    </ul>\n",
       "  </li>\n",
       "  </ul>\n",
       "</li>\n",
       "</ul>\n"
      ],
      "text/plain": [
       "<atoti.cube.Cube at 0x115f76b50>"
      ]
     },
     "execution_count": 5,
     "metadata": {
      "application/json": {
       "expanded": false,
       "root": "Historical VaR Cube"
      }
     },
     "output_type": "execute_result"
    }
   ],
   "source": [
    "cube = session.create_cube(positions_store, \"Historical VaR Cube\", mode=\"auto\")\n",
    "h = cube.hierarchies\n",
    "l = cube.levels\n",
    "m = cube.measures\n",
    "cube"
   ]
  },
  {
   "cell_type": "markdown",
   "metadata": {},
   "source": [
    "Let's put Books under Portfolios to create a multi-level hierarchy:"
   ]
  },
  {
   "cell_type": "code",
   "execution_count": 6,
   "metadata": {},
   "outputs": [],
   "source": [
    "h[\"Portfolio Structure\"] = {\n",
    "    \"Portfolio\": l[\"Portfolio\"],\n",
    "    \"Book\": l['Book']\n",
    "}"
   ]
  },
  {
   "cell_type": "markdown",
   "metadata": {},
   "source": [
    "The default aggregation functions created at this step allow to display position's market values. I'm using the multi-level `Portfolio Structure` to expand data:"
   ]
  },
  {
   "cell_type": "code",
   "execution_count": 27,
   "metadata": {
    "atoti": {
     "state": {
      "name": "",
      "type": "container",
      "value": {
       "body": {
        "configuration": {
         "tabular": {
          "addButtonFilter": "numeric",
          "columns": [
           {
            "key": "[Measures].[AmountUSD.SUM]",
            "width": 176
           }
          ],
          "columnsGroups": [
           {
            "captionProducer": "firstColumn",
            "cellFactory": "kpi-status",
            "selector": "kpi-status"
           },
           {
            "captionProducer": "firstColumn",
            "cellFactory": "lookup",
            "selector": "lookup"
           },
           {
            "captionProducer": "expiry",
            "cellFactory": "expiry",
            "selector": "kpi-expiry"
           },
           {
            "captionProducer": "columnMerge",
            "cellFactory": {
             "args": {},
             "key": "treeCells"
            },
            "selector": "member"
           }
          ],
          "defaultOptions": {},
          "expansion": {
           "automaticExpansion": true
          },
          "hideAddButton": true,
          "pinnedHeaderSelector": "member",
          "sortingMode": "non-breaking",
          "statisticsShown": true
         }
        },
        "contextValues": {},
        "mdx": "SELECT NON EMPTY Hierarchize(DrilldownLevel([Hierarchies].[Portfolio Structure].[ALL].[AllMember])) ON ROWS, NON EMPTY [Measures].[AmountUSD.SUM] ON COLUMNS FROM [Historical VaR Cube] CELL PROPERTIES VALUE, FORMATTED_VALUE, BACK_COLOR, FORE_COLOR, FONT_FLAGS",
        "ranges": {
         "column": {
          "chunkSize": 50,
          "thresholdPercentage": 0.2
         },
         "row": {
          "chunkSize": 2000,
          "thresholdPercentage": 0.1
         }
        },
        "serverUrl": "",
        "updateMode": "once"
       },
       "containerKey": "pivot-table",
       "showTitleBar": false,
       "style": {}
      }
     }
    }
   },
   "outputs": [
    {
     "data": {
      "application/vnd.atoti.v0+json": {
       "cube": "Historical VaR Cube",
       "name": null,
       "session": "Unnamed"
      },
      "text/plain": [
       "Install and enable the atoti JupyterLab extension to see this widget."
      ]
     },
     "metadata": {},
     "output_type": "display_data"
    }
   ],
   "source": [
    "cube.visualize()"
   ]
  },
  {
   "cell_type": "markdown",
   "metadata": {},
   "source": [
    "# URL to atoti UI"
   ]
  },
  {
   "cell_type": "code",
   "execution_count": 8,
   "metadata": {},
   "outputs": [
    {
     "data": {
      "text/plain": [
       "'http://localhost:56799'"
      ]
     },
     "execution_count": 8,
     "metadata": {},
     "output_type": "execute_result"
    }
   ],
   "source": [
    "session.url"
   ]
  },
  {
   "cell_type": "markdown",
   "metadata": {},
   "source": [
    "# New measure for the VaR vector\n",
    "\n",
    "In our toy example we multiply the positions market values -  _AmountUSD_  - by the stock returns for each name to obtain the historical VaR vectors. This step is not necessary if PL vectors are delivered by a risk system. "
   ]
  },
  {
   "cell_type": "code",
   "execution_count": 9,
   "metadata": {},
   "outputs": [],
   "source": [
    "m[\"VaR Vector\"] = tt.agg.sum(\n",
    "    m[\"AmountUSD.SUM\"] * m[\"Returns.VALUE\"], scope=tt.scope.origin(l[\"Stock\"])\n",
    ")"
   ]
  },
  {
   "cell_type": "markdown",
   "metadata": {},
   "source": [
    "We can now explore the VaR vectors at stock and book level."
   ]
  },
  {
   "cell_type": "code",
   "execution_count": 10,
   "metadata": {
    "atoti": {
     "state": {
      "name": "",
      "type": "container",
      "value": {
       "body": {
        "configuration": {
         "tabular": {
          "addButtonFilter": "numeric",
          "columns": [
           {
            "key": "[Measures].[VaR Vector]",
            "width": 120
           }
          ],
          "columnsGroups": [
           {
            "captionProducer": "firstColumn",
            "cellFactory": "kpi-status",
            "selector": "kpi-status"
           },
           {
            "captionProducer": "firstColumn",
            "cellFactory": "lookup",
            "selector": "lookup"
           },
           {
            "captionProducer": "expiry",
            "cellFactory": "expiry",
            "selector": "kpi-expiry"
           },
           {
            "captionProducer": "columnMerge",
            "cellFactory": {
             "args": {},
             "key": "treeCells"
            },
            "selector": "member"
           }
          ],
          "defaultOptions": {},
          "expansion": {
           "automaticExpansion": true
          },
          "hideAddButton": true,
          "pinnedHeaderSelector": "member",
          "sortingMode": "non-breaking",
          "statisticsShown": true
         }
        },
        "contextValues": {},
        "mdx": "SELECT NON EMPTY Hierarchize(DrilldownLevel([Hierarchies].[Portfolio Structure].[ALL].[AllMember])) ON ROWS, NON EMPTY [Measures].[VaR Vector] ON COLUMNS FROM [Historical VaR Cube] CELL PROPERTIES VALUE, FORMATTED_VALUE, BACK_COLOR, FORE_COLOR, FONT_FLAGS",
        "ranges": {
         "column": {
          "chunkSize": 50,
          "thresholdPercentage": 0.2
         },
         "row": {
          "chunkSize": 2000,
          "thresholdPercentage": 0.1
         }
        },
        "serverUrl": "",
        "updateMode": "once"
       },
       "containerKey": "pivot-table",
       "showTitleBar": false,
       "style": {}
      }
     }
    }
   },
   "outputs": [
    {
     "data": {
      "application/vnd.atoti.v0+json": {
       "cube": "Historical VaR Cube",
       "name": null,
       "session": "Unnamed"
      },
      "text/plain": [
       "Install and enable the atoti JupyterLab extension to see this widget."
      ]
     },
     "metadata": {},
     "output_type": "display_data"
    }
   ],
   "source": [
    "cube.visualize()"
   ]
  },
  {
   "cell_type": "markdown",
   "metadata": {},
   "source": [
    "# Enriching VaR vectors with date labels"
   ]
  },
  {
   "cell_type": "markdown",
   "metadata": {},
   "source": [
    "So far, VaR vectors are not intuitive. Let's create a hierarchy that will allow to display P&L value by historical date, which is more user friendly."
   ]
  },
  {
   "cell_type": "code",
   "execution_count": 11,
   "metadata": {},
   "outputs": [],
   "source": [
    "calendar = pd.date_range(end = '2020-06-09', periods = 3634, freq=\"B\")"
   ]
  },
  {
   "cell_type": "code",
   "execution_count": 12,
   "metadata": {},
   "outputs": [],
   "source": [
    "cube.create_parameter_hierarchy(\n",
    "    \"Historical Dates\", calendar, index_measure=\"Date Index\",\n",
    ")"
   ]
  },
  {
   "cell_type": "code",
   "execution_count": 13,
   "metadata": {},
   "outputs": [],
   "source": [
    "# This new measure will pick an element from the VaR vector:\n",
    "m[\"PnL at date\"] = m[\"VaR Vector\"][m[\"Date Index\"]]\n",
    "m[\"PnL at date\"].formatter = \"DOUBLE[#,##0.#]\"\n",
    "m[\"Price at date\"] = m[\"Prices.VALUE\"][m[\"Date Index\"]]"
   ]
  },
  {
   "cell_type": "markdown",
   "metadata": {},
   "source": [
    "Let's do some simple verification. In the following Pivot table (filtered for the 4 recent dates), we can see the PnL value for each date scenario.  \n",
    "\n",
    "For each date, let's drill down to the books and stock. "
   ]
  },
  {
   "cell_type": "code",
   "execution_count": 14,
   "metadata": {
    "atoti": {
     "state": {
      "name": "",
      "type": "container",
      "value": {
       "body": {
        "configuration": {
         "tabular": {
          "addButtonFilter": "numeric",
          "columns": [
           {
            "key": "[Measures].[VaR Vector]",
            "width": 384
           }
          ],
          "columnsGroups": [
           {
            "captionProducer": "firstColumn",
            "cellFactory": "kpi-status",
            "selector": "kpi-status"
           },
           {
            "captionProducer": "firstColumn",
            "cellFactory": "lookup",
            "selector": "lookup"
           },
           {
            "captionProducer": "expiry",
            "cellFactory": "expiry",
            "selector": "kpi-expiry"
           },
           {
            "captionProducer": "columnMerge",
            "cellFactory": {
             "args": {},
             "key": "treeCells"
            },
            "selector": "member"
           }
          ],
          "defaultOptions": {},
          "expansion": {
           "automaticExpansion": true
          },
          "hideAddButton": true,
          "pinnedHeaderSelector": "member",
          "sortingMode": "non-breaking",
          "statisticsShown": true
         }
        },
        "contextValues": {},
        "mdx": "SELECT NON EMPTY Hierarchize([Hierarchies].[Historical Dates].[Historical Dates].Members) ON ROWS, NON EMPTY {[Measures].[Date Index], [Measures].[PnL at date]} ON COLUMNS FROM (SELECT Subset(Order([Hierarchies].[Historical Dates].[Historical Dates].Members, [Hierarchies].[Historical Dates].CurrentMember.MemberValue, BDESC), 0, 4) ON COLUMNS FROM [Historical VaR Cube]) CELL PROPERTIES VALUE, FORMATTED_VALUE, BACK_COLOR, FORE_COLOR, FONT_FLAGS",
        "ranges": {
         "column": {
          "chunkSize": 50,
          "thresholdPercentage": 0.2
         },
         "row": {
          "chunkSize": 2000,
          "thresholdPercentage": 0.1
         }
        },
        "serverUrl": "",
        "updateMode": "once"
       },
       "containerKey": "pivot-table",
       "showTitleBar": false,
       "style": {}
      }
     }
    }
   },
   "outputs": [
    {
     "data": {
      "application/vnd.atoti.v0+json": {
       "cube": "Historical VaR Cube",
       "name": null,
       "session": "Unnamed"
      },
      "text/plain": [
       "Install and enable the atoti JupyterLab extension to see this widget."
      ]
     },
     "metadata": {},
     "output_type": "display_data"
    }
   ],
   "source": [
    "cube.visualize()"
   ]
  },
  {
   "cell_type": "markdown",
   "metadata": {},
   "source": [
    "Or, for prices (this view is filtered for three most recent dates):"
   ]
  },
  {
   "cell_type": "code",
   "execution_count": 15,
   "metadata": {
    "atoti": {
     "state": {
      "name": "",
      "type": "container",
      "value": {
       "body": {
        "configuration": {
         "tabular": {
          "addButtonFilter": "numeric",
          "columns": [
           {
            "key": "[Measures].[Prices.VALUE]",
            "width": 354
           }
          ],
          "columnsGroups": [
           {
            "captionProducer": "firstColumn",
            "cellFactory": "kpi-status",
            "selector": "kpi-status"
           },
           {
            "captionProducer": "firstColumn",
            "cellFactory": "lookup",
            "selector": "lookup"
           },
           {
            "captionProducer": "expiry",
            "cellFactory": "expiry",
            "selector": "kpi-expiry"
           },
           {
            "captionProducer": "columnMerge",
            "cellFactory": {
             "args": {},
             "key": "treeCells"
            },
            "selector": "member"
           }
          ],
          "defaultOptions": {},
          "expansion": {
           "automaticExpansion": true
          },
          "hideAddButton": true,
          "pinnedHeaderSelector": "member",
          "sortingMode": "non-breaking",
          "statisticsShown": true
         }
        },
        "contextValues": {},
        "mdx": "SELECT NON EMPTY Crossjoin({[Measures].[Price at date]}, Hierarchize([Hierarchies].[Historical Dates].[Historical Dates].Members)) ON COLUMNS, NON EMPTY Hierarchize(DrilldownLevel([Hierarchies].[Stock].[ALL].[AllMember])) ON ROWS FROM (SELECT Subset(Order([Hierarchies].[Historical Dates].[Historical Dates].Members, [Hierarchies].[Historical Dates].CurrentMember.MemberValue, BDESC), 0, 3) ON COLUMNS FROM [Historical VaR Cube]) CELL PROPERTIES VALUE, FORMATTED_VALUE, BACK_COLOR, FORE_COLOR, FONT_FLAGS",
        "ranges": {
         "column": {
          "chunkSize": 50,
          "thresholdPercentage": 0.2
         },
         "row": {
          "chunkSize": 2000,
          "thresholdPercentage": 0.1
         }
        },
        "serverUrl": "",
        "updateMode": "once"
       },
       "containerKey": "pivot-table",
       "showTitleBar": false,
       "style": {}
      }
     }
    }
   },
   "outputs": [
    {
     "data": {
      "application/vnd.atoti.v0+json": {
       "cube": "Historical VaR Cube",
       "name": null,
       "session": "Unnamed"
      },
      "text/plain": [
       "Install and enable the atoti JupyterLab extension to see this widget."
      ]
     },
     "metadata": {},
     "output_type": "display_data"
    }
   ],
   "source": [
    "cube.visualize()"
   ]
  },
  {
   "cell_type": "markdown",
   "metadata": {},
   "source": [
    "# Creating Sliding Windows"
   ]
  },
  {
   "cell_type": "markdown",
   "metadata": {},
   "source": [
    "We want to compute VaRs for different observation windows to see which period would lead to the most conservative VaR for our current portfolio. Such a \"worst\" window will be a good candidate for the Stressed VaR calibration and will be a focus for further analysis and decomposition."
   ]
  },
  {
   "cell_type": "code",
   "execution_count": 16,
   "metadata": {},
   "outputs": [],
   "source": [
    "# Lets create a measure for the observation window length:\n",
    "m['Lookback Window'] = 260"
   ]
  },
  {
   "cell_type": "code",
   "execution_count": 17,
   "metadata": {},
   "outputs": [],
   "source": [
    "m[\"VaR Sub-Vector\"] = m[\"VaR Vector\"][\n",
    "    m[\"Date Index\"] - m['Lookback Window'] : m[\"Date Index\"]\n",
    "]"
   ]
  },
  {
   "cell_type": "markdown",
   "metadata": {},
   "source": [
    "The Sub-Vector measure requires having historical dates in the view. \n",
    "\n",
    "Now for each desired scope, the `VaR Sub-Vector` measure will pick 260 most recent values from the `VaR vector`. The below view is filtered for the 3 most recent historical dates. This result is not for human consumption, but still showing it here for illustration purposes."
   ]
  },
  {
   "cell_type": "code",
   "execution_count": 18,
   "metadata": {
    "atoti": {
     "state": {
      "name": "",
      "type": "container",
      "value": {
       "body": {
        "configuration": {
         "tabular": {
          "addButtonFilter": "numeric",
          "columns": [
           {
            "key": "([Measures].[VaR Sub-Vector],[Hierarchies].[Historical Dates].[Historical Dates].[2008-11-18])",
            "width": 271
           },
           {
            "key": "([Measures].[VaR Sub-Vector],[Hierarchies].[Historical Dates].[Historical Dates].[2008-11-19])",
            "width": 166
           },
           {
            "key": "([Measures].[VaR Sub-Vector],[Hierarchies].[Historical Dates].[Historical Dates].[2007-11-20])",
            "width": 205
           }
          ],
          "columnsGroups": [
           {
            "captionProducer": "firstColumn",
            "cellFactory": "kpi-status",
            "selector": "kpi-status"
           },
           {
            "captionProducer": "firstColumn",
            "cellFactory": "lookup",
            "selector": "lookup"
           },
           {
            "captionProducer": "expiry",
            "cellFactory": "expiry",
            "selector": "kpi-expiry"
           },
           {
            "captionProducer": "columnMerge",
            "cellFactory": {
             "args": {},
             "key": "treeCells"
            },
            "selector": "member"
           }
          ],
          "defaultOptions": {},
          "expansion": {
           "automaticExpansion": true
          },
          "hideAddButton": true,
          "pinnedHeaderSelector": "member",
          "sortingMode": "non-breaking",
          "statisticsShown": true
         }
        },
        "contextValues": {},
        "mdx": "SELECT NON EMPTY Hierarchize(DrilldownLevel([Hierarchies].[Portfolio Structure].[ALL].[AllMember])) ON ROWS, NON EMPTY Crossjoin([Measures].[VaR Sub-Vector], Hierarchize([Hierarchies].[Historical Dates].[Historical Dates].Members)) ON COLUMNS FROM (SELECT Subset(Order([Hierarchies].[Historical Dates].[Historical Dates].Members, [Hierarchies].[Historical Dates].CurrentMember.MemberValue, BDESC), 0, 3) ON COLUMNS FROM [Historical VaR Cube]) CELL PROPERTIES VALUE, FORMATTED_VALUE, BACK_COLOR, FORE_COLOR, FONT_FLAGS",
        "ranges": {
         "column": {
          "chunkSize": 50,
          "thresholdPercentage": 0.2
         },
         "row": {
          "chunkSize": 2000,
          "thresholdPercentage": 0.1
         }
        },
        "serverUrl": "",
        "updateMode": "once"
       },
       "containerKey": "pivot-table",
       "showTitleBar": false,
       "style": {}
      }
     }
    }
   },
   "outputs": [
    {
     "data": {
      "application/vnd.atoti.v0+json": {
       "cube": "Historical VaR Cube",
       "name": null,
       "session": "Unnamed"
      },
      "text/plain": [
       "Install and enable the atoti JupyterLab extension to see this widget."
      ]
     },
     "metadata": {},
     "output_type": "display_data"
    }
   ],
   "source": [
    "cube.visualize()"
   ]
  },
  {
   "cell_type": "markdown",
   "metadata": {},
   "source": [
    "# Adding Sliding VaR measure\n",
    "\n",
    "In this notebook, we'll apply a simple quantile function to the subvector. \n",
    "\n",
    "Please read about about **VaR-type estimators using kernel functions** in our future blog posts."
   ]
  },
  {
   "cell_type": "code",
   "execution_count": 19,
   "metadata": {},
   "outputs": [],
   "source": [
    "# Hui Fang:\n",
    "# h[\"Historical Dates\"].slicing = False\n",
    "# m[\"Worst VaR\"] = tt.agg.min(m[\"1d 99% VaR Sliding\"], scope=tt.scope.siblings(l[\"Historical Dates\"]))\n",
    "# m[\"Worst VaR Date Index\"] = tt.agg.max(tt.where(m[\"1d 99% VaR Sliding\"] == m[\"Worst VaR\"], m[\"Date Index\"], 0))\n",
    "# m[\"max label\"] = tt.agg.max_member(m[\"Worst VaR Date Index\"], l[\"Historical Dates\"])"
   ]
  },
  {
   "cell_type": "code",
   "execution_count": 20,
   "metadata": {},
   "outputs": [],
   "source": [
    "m[\"1d 99% VaR Sliding\"] = tt.array.quantile(m[\"VaR Sub-Vector\"], 0.01)"
   ]
  },
  {
   "cell_type": "markdown",
   "metadata": {},
   "source": [
    "As expected, VaR chart is step-wise and goes up and down every time extreme scenarios leave the observation window."
   ]
  },
  {
   "cell_type": "code",
   "execution_count": 21,
   "metadata": {},
   "outputs": [],
   "source": [
    "# This doesn't work yet:\n",
    "m[\"1d 99% VaR Current\"] = tt.array.quantile(m[\"VaR Vector\"][-260:], 0.01)"
   ]
  },
  {
   "cell_type": "code",
   "execution_count": 23,
   "metadata": {},
   "outputs": [],
   "source": [
    "h[\"Historical Dates\"].slicing = False"
   ]
  },
  {
   "cell_type": "code",
   "execution_count": 24,
   "metadata": {},
   "outputs": [],
   "source": [
    "m['Worst VaR'] = tt.agg.min(m[\"1d 99% VaR Sliding\"],scope=tt.scope.origin(l['Historical Dates']))"
   ]
  },
  {
   "cell_type": "code",
   "execution_count": 25,
   "metadata": {},
   "outputs": [
    {
     "data": {
      "text/html": [
       "<div>\n",
       "<style scoped>\n",
       "    .dataframe tbody tr th:only-of-type {\n",
       "        vertical-align: middle;\n",
       "    }\n",
       "\n",
       "    .dataframe tbody tr th {\n",
       "        vertical-align: top;\n",
       "    }\n",
       "\n",
       "    .dataframe thead th {\n",
       "        text-align: right;\n",
       "    }\n",
       "</style>\n",
       "<table border=\"1\" class=\"dataframe\">\n",
       "  <thead>\n",
       "    <tr style=\"text-align: right;\">\n",
       "      <th></th>\n",
       "      <th>Worst VaR</th>\n",
       "    </tr>\n",
       "  </thead>\n",
       "  <tbody>\n",
       "    <tr>\n",
       "      <th>0</th>\n",
       "      <td>-1680.811084</td>\n",
       "    </tr>\n",
       "  </tbody>\n",
       "</table>\n",
       "</div>"
      ],
      "text/plain": [
       "     Worst VaR\n",
       "0 -1680.811084"
      ]
     },
     "execution_count": 25,
     "metadata": {},
     "output_type": "execute_result"
    }
   ],
   "source": [
    "cube.query(m['Worst VaR'])"
   ]
  },
  {
   "cell_type": "markdown",
   "metadata": {},
   "source": [
    "And this measure will return the worst scenario:"
   ]
  },
  {
   "cell_type": "code",
   "execution_count": 26,
   "metadata": {},
   "outputs": [],
   "source": [
    "# the measure should compute the worst sliding window - doesn't work as desired unfortunately\n",
    "m['Worst VaR Period End'] = tt.agg.min_member(m[\"1d 99% VaR Sliding\"],l['Historical Dates'])"
   ]
  },
  {
   "cell_type": "code",
   "execution_count": 28,
   "metadata": {},
   "outputs": [
    {
     "data": {
      "text/html": [
       "<div>\n",
       "<style scoped>\n",
       "    .dataframe tbody tr th:only-of-type {\n",
       "        vertical-align: middle;\n",
       "    }\n",
       "\n",
       "    .dataframe tbody tr th {\n",
       "        vertical-align: top;\n",
       "    }\n",
       "\n",
       "    .dataframe thead th {\n",
       "        text-align: right;\n",
       "    }\n",
       "</style>\n",
       "<table border=\"1\" class=\"dataframe\">\n",
       "  <thead>\n",
       "    <tr style=\"text-align: right;\">\n",
       "      <th></th>\n",
       "      <th>Worst VaR Period End</th>\n",
       "    </tr>\n",
       "  </thead>\n",
       "  <tbody>\n",
       "    <tr>\n",
       "      <th>0</th>\n",
       "      <td>2009-04-22</td>\n",
       "    </tr>\n",
       "  </tbody>\n",
       "</table>\n",
       "</div>"
      ],
      "text/plain": [
       "  Worst VaR Period End\n",
       "0           2009-04-22"
      ]
     },
     "execution_count": 28,
     "metadata": {},
     "output_type": "execute_result"
    }
   ],
   "source": [
    "cube.query(m['Worst VaR Period End'])"
   ]
  },
  {
   "cell_type": "code",
   "execution_count": 29,
   "metadata": {},
   "outputs": [
    {
     "ename": "RuntimeError",
     "evalue": "('Request failed', {'status': 'error', 'error': {'errorChain': [{'type': 'IllegalArgumentException', 'message': 'Empty list of fields to retrieve from the store'}, {'type': 'IllegalArgumentException', 'message': 'java.lang.IllegalArgumentException: Empty list of fields to retrieve from the store'}, {'type': 'QueryException', 'message': 'Could not execute query at epoch 3. : ActivePivotSyncActionQuery: action=MdxAction (mdx=SELECT [Measures].[1d 99% VaR Sliding] ON COLUMNS FROM [Historical VaR Cube]), argument=com.quartetfs.pivot.mdx.impl.BasicSelectExecutor@7152bd07'}, {'type': 'MdxException', 'message': 'Error with the following query: SELECT [Measures].[1d 99% VaR Sliding] ON COLUMNS FROM [Historical VaR Cube]'}, {'type': 'BadArgumentException', 'message': '[400] com.quartetfs.pivot.mdx.MdxException: Error with the following query: SELECT [Measures].[1d 99% VaR Sliding] ON COLUMNS FROM [Historical VaR Cube]'}], 'stackTrace': 'com.qfs.fwk.services.BadArgumentException: [400] com.quartetfs.pivot.mdx.MdxException: Error with the following query: SELECT [Measures].[1d 99% VaR Sliding] ON COLUMNS FROM [Historical VaR Cube]\\n\\tat com.qfs.pivot.rest.query.impl.JsonQueryService.executeQuery(JsonQueryService.java:215)\\n\\tat com.qfs.pivot.rest.query.impl.JsonQueryService.executeMdxQuery(JsonQueryService.java:108)\\n\\tat com.qfs.pivot.rest.query.impl.QueriesRestService.mdxQuery(QueriesRestService.java:66)\\n\\tat java.base/jdk.internal.reflect.NativeMethodAccessorImpl.invoke0(Native Method)\\n\\tat java.base/jdk.internal.reflect.NativeMethodAccessorImpl.invoke(NativeMethodAccessorImpl.java:62)\\n\\tat java.base/jdk.internal.reflect.DelegatingMethodAccessorImpl.invoke(DelegatingMethodAccessorImpl.java:43)\\n\\tat java.base/java.lang.reflect.Method.invoke(Method.java:566)\\n\\tat org.apache.cxf.service.invoker.AbstractInvoker.performInvocation(AbstractInvoker.java:179)\\n\\tat org.apache.cxf.service.invoker.AbstractInvoker.invoke(AbstractInvoker.java:96)\\n\\tat org.apache.cxf.jaxrs.JAXRSInvoker.invoke(JAXRSInvoker.java:201)\\n\\tat org.apache.cxf.jaxrs.JAXRSInvoker.invoke(JAXRSInvoker.java:104)\\n\\tat org.apache.cxf.interceptor.ServiceInvokerInterceptor$1.run(ServiceInvokerInterceptor.java:59)\\n\\tat org.apache.cxf.interceptor.ServiceInvokerInterceptor.handleMessage(ServiceInvokerInterceptor.java:96)\\n\\tat org.apache.cxf.phase.PhaseInterceptorChain.doIntercept(PhaseInterceptorChain.java:308)\\n\\tat org.apache.cxf.transport.ChainInitiationObserver.onMessage(ChainInitiationObserver.java:121)\\n\\tat org.apache.cxf.transport.http.AbstractHTTPDestination.invoke(AbstractHTTPDestination.java:267)\\n\\tat org.apache.cxf.transport.servlet.ServletController.invokeDestination(ServletController.java:234)\\n\\tat org.apache.cxf.transport.servlet.ServletController.invoke(ServletController.java:208)\\n\\tat org.apache.cxf.transport.servlet.ServletController.invoke(ServletController.java:160)\\n\\tat org.apache.cxf.transport.servlet.CXFNonSpringServlet.invoke(CXFNonSpringServlet.java:225)\\n\\tat org.apache.cxf.transport.servlet.AbstractHTTPServlet.handleRequest(AbstractHTTPServlet.java:301)\\n\\tat org.apache.cxf.transport.servlet.AbstractHTTPServlet.doPost(AbstractHTTPServlet.java:220)\\n\\tat javax.servlet.http.HttpServlet.service(HttpServlet.java:660)\\n\\tat org.apache.cxf.transport.servlet.AbstractHTTPServlet.service(AbstractHTTPServlet.java:276)\\n\\tat org.springframework.web.servlet.mvc.ServletWrappingController.handleRequestInternal(ServletWrappingController.java:166)\\n\\tat org.springframework.web.servlet.mvc.AbstractController.handleRequest(AbstractController.java:177)\\n\\tat org.springframework.web.servlet.mvc.SimpleControllerHandlerAdapter.handle(SimpleControllerHandlerAdapter.java:52)\\n\\tat org.springframework.web.servlet.DispatcherServlet.doDispatch(DispatcherServlet.java:1040)\\n\\tat org.springframework.web.servlet.DispatcherServlet.doService(DispatcherServlet.java:943)\\n\\tat org.springframework.web.servlet.FrameworkServlet.processRequest(FrameworkServlet.java:1006)\\n\\tat org.springframework.web.servlet.FrameworkServlet.doPost(FrameworkServlet.java:909)\\n\\tat javax.servlet.http.HttpServlet.service(HttpServlet.java:660)\\n\\tat org.springframework.web.servlet.FrameworkServlet.service(FrameworkServlet.java:883)\\n\\tat javax.servlet.http.HttpServlet.service(HttpServlet.java:741)\\n\\tat org.apache.catalina.core.ApplicationFilterChain.internalDoFilter(ApplicationFilterChain.java:231)\\n\\tat org.apache.catalina.core.ApplicationFilterChain.doFilter(ApplicationFilterChain.java:166)\\n\\tat org.apache.tomcat.websocket.server.WsFilter.doFilter(WsFilter.java:53)\\n\\tat org.apache.catalina.core.ApplicationFilterChain.internalDoFilter(ApplicationFilterChain.java:193)\\n\\tat org.apache.catalina.core.ApplicationFilterChain.doFilter(ApplicationFilterChain.java:166)\\n\\tat com.qfs.pivot.servlet.impl.ContextValueFilter.doFilter(ContextValueFilter.java:67)\\n\\tat org.apache.catalina.core.ApplicationFilterChain.internalDoFilter(ApplicationFilterChain.java:193)\\n\\tat org.apache.catalina.core.ApplicationFilterChain.doFilter(ApplicationFilterChain.java:166)\\n\\tat org.springframework.web.filter.CorsFilter.doFilterInternal(CorsFilter.java:92)\\n\\tat org.springframework.web.filter.OncePerRequestFilter.doFilter(OncePerRequestFilter.java:119)\\n\\tat org.apache.catalina.core.ApplicationFilterChain.internalDoFilter(ApplicationFilterChain.java:193)\\n\\tat org.apache.catalina.core.ApplicationFilterChain.doFilter(ApplicationFilterChain.java:166)\\n\\tat org.springframework.web.filter.CharacterEncodingFilter.doFilterInternal(CharacterEncodingFilter.java:201)\\n\\tat org.springframework.web.filter.OncePerRequestFilter.doFilter(OncePerRequestFilter.java:119)\\n\\tat org.apache.catalina.core.ApplicationFilterChain.internalDoFilter(ApplicationFilterChain.java:193)\\n\\tat org.apache.catalina.core.ApplicationFilterChain.doFilter(ApplicationFilterChain.java:166)\\n\\tat org.apache.catalina.core.StandardWrapperValve.invoke(StandardWrapperValve.java:202)\\n\\tat org.apache.catalina.core.StandardContextValve.invoke(StandardContextValve.java:96)\\n\\tat org.apache.catalina.authenticator.AuthenticatorBase.invoke(AuthenticatorBase.java:541)\\n\\tat org.apache.catalina.core.StandardHostValve.invoke(StandardHostValve.java:139)\\n\\tat org.apache.catalina.valves.ErrorReportValve.invoke(ErrorReportValve.java:92)\\n\\tat org.apache.catalina.core.StandardEngineValve.invoke(StandardEngineValve.java:74)\\n\\tat org.apache.catalina.connector.CoyoteAdapter.service(CoyoteAdapter.java:343)\\n\\tat org.apache.coyote.http11.Http11Processor.service(Http11Processor.java:367)\\n\\tat org.apache.coyote.AbstractProcessorLight.process(AbstractProcessorLight.java:65)\\n\\tat org.apache.coyote.AbstractProtocol$ConnectionHandler.process(AbstractProtocol.java:868)\\n\\tat org.apache.tomcat.util.net.NioEndpoint$SocketProcessor.doRun(NioEndpoint.java:1639)\\n\\tat org.apache.tomcat.util.net.SocketProcessorBase.run(SocketProcessorBase.java:49)\\n\\tat java.base/java.util.concurrent.ThreadPoolExecutor.runWorker(ThreadPoolExecutor.java:1128)\\n\\tat java.base/java.util.concurrent.ThreadPoolExecutor$Worker.run(ThreadPoolExecutor.java:628)\\n\\tat org.apache.tomcat.util.threads.TaskThread$WrappingRunnable.run(TaskThread.java:61)\\n\\tat java.base/java.lang.Thread.run(Thread.java:834)\\nCaused by: com.quartetfs.pivot.mdx.MdxException: Error with the following query: SELECT [Measures].[1d 99% VaR Sliding] ON COLUMNS FROM [Historical VaR Cube]\\n\\tat com.quartetfs.pivot.mdx.impl.ASelectStatementExecutor.executeAfterParse(ASelectStatementExecutor.java:426)\\n\\tat com.quartetfs.pivot.mdx.impl.ASelectStatementExecutor.executeAfterParse(ASelectStatementExecutor.java:408)\\n\\tat com.quartetfs.pivot.mdx.impl.ASelectStatementExecutor.execute(ASelectStatementExecutor.java:397)\\n\\tat com.qfs.pivot.rest.query.impl.JsonQueryService$JsonSelectExecutor.execute(JsonQueryService.java:316)\\n\\tat com.qfs.pivot.rest.query.impl.JsonQueryService$JsonSelectExecutor.execute(JsonQueryService.java:294)\\n\\tat com.qfs.pivot.rest.query.impl.JsonQueryService.executeQuery(JsonQueryService.java:210)\\n\\t... 65 more\\nCaused by: com.quartetfs.fwk.query.QueryException: Could not execute query at epoch 3. : ActivePivotSyncActionQuery: action=MdxAction (mdx=SELECT [Measures].[1d 99% VaR Sliding] ON COLUMNS FROM [Historical VaR Cube]), argument=com.quartetfs.pivot.mdx.impl.BasicSelectExecutor@7152bd07\\n\\tat com.quartetfs.biz.pivot.impl.ActivePivotVersion$QueryExecutionTask.getWithQueriesTimeLimit(ActivePivotVersion.java:1523)\\n\\tat com.quartetfs.biz.pivot.impl.ActivePivotVersion.execute(ActivePivotVersion.java:936)\\n\\tat com.quartetfs.biz.pivot.query.impl.ActivePivotSyncUtils.activePivotSyncExec(ActivePivotSyncUtils.java:94)\\n\\tat com.quartetfs.pivot.mdx.impl.ASelectStatementExecutor.executeAfterParse(ASelectStatementExecutor.java:424)\\n\\t... 70 more\\nCaused by: java.lang.IllegalArgumentException: java.lang.IllegalArgumentException: Empty list of fields to retrieve from the store\\n\\tat java.base/jdk.internal.reflect.NativeConstructorAccessorImpl.newInstance0(Native Method)\\n\\tat java.base/jdk.internal.reflect.NativeConstructorAccessorImpl.newInstance(NativeConstructorAccessorImpl.java:62)\\n\\tat java.base/jdk.internal.reflect.DelegatingConstructorAccessorImpl.newInstance(DelegatingConstructorAccessorImpl.java:45)\\n\\tat java.base/java.lang.reflect.Constructor.newInstance(Constructor.java:490)\\n\\tat java.base/java.util.concurrent.ForkJoinTask.getThrowableException(ForkJoinTask.java:600)\\n\\tat java.base/java.util.concurrent.ForkJoinTask.get(ForkJoinTask.java:1064)\\n\\tat com.quartetfs.biz.pivot.impl.ActivePivotVersion$QueryExecutionTask.getWithQueriesTimeLimit(ActivePivotVersion.java:1494)\\n\\t... 73 more\\nCaused by: java.lang.IllegalArgumentException: Empty list of fields to retrieve from the store\\n\\tat com.quartetfs.biz.pivot.cube.hierarchy.axis.DatastorePrefetchRequest.<init>(DatastorePrefetchRequest.java:100)\\n\\tat com.quartetfs.biz.pivot.cube.hierarchy.axis.DatastorePrefetchRequest.<init>(DatastorePrefetchRequest.java:77)\\n\\tat com.activeviam.copper.agg.InnerJoinAnalysisAggregationProcedure.getDatastorePrefetch(InnerJoinAnalysisAggregationProcedure.java:226)\\n\\tat com.quartetfs.biz.pivot.query.aggregates.impl.PlanningGraph.planExternalRetrievals(PlanningGraph.java:1287)\\n\\tat com.quartetfs.biz.pivot.query.aggregates.impl.PlanningGraph.finalizeAggregationNodesPlanning(PlanningGraph.java:1203)\\n\\tat com.quartetfs.biz.pivot.query.aggregates.impl.PlanningGraph.completePlanning(PlanningGraph.java:1168)\\n\\tat com.quartetfs.biz.pivot.query.aggregates.impl.ActivePivotAggregatesRetriever.finalizePlanningGraph(ActivePivotAggregatesRetriever.java:994)\\n\\tat com.quartetfs.biz.pivot.query.aggregates.impl.ActivePivotAggregatesRetriever.doCompletePlanning(ActivePivotAggregatesRetriever.java:963)\\n\\tat com.quartetfs.biz.pivot.query.aggregates.impl.ActivePivotAggregatesRetriever.completePlanning(ActivePivotAggregatesRetriever.java:826)\\n\\tat com.quartetfs.biz.pivot.query.aggregates.IActivePivotAggregatesRetriever.executeAllPlanned(IActivePivotAggregatesRetriever.java:218)\\n\\tat com.quartetfs.biz.pivot.query.aggregates.impl.ARetrieveAggregatesAction.computeSafely(ARetrieveAggregatesAction.java:80)\\n\\tat com.qfs.concurrent.cancellable.impl.CancellableCountedCompleter.execSafely(CancellableCountedCompleter.java:141)\\n\\tat com.qfs.concurrent.cancellable.impl.CancellableCountedCompleter.compute(CancellableCountedCompleter.java:171)\\n\\tat com.quartetfs.biz.pivot.query.aggregates.impl.ActivePivotAggregatesRetriever.retrieveAggregatesAsync(ActivePivotAggregatesRetriever.java:744)\\n\\tat com.quartetfs.biz.pivot.query.impl.GetAggregatesAttachedQuery.executeAsync(GetAggregatesAttachedQuery.java:119)\\n\\tat com.quartetfs.biz.pivot.impl.AActivePivotQueryExecutor.executeAsync(AActivePivotQueryExecutor.java:33)\\n\\tat com.quartetfs.biz.pivot.impl.ActivePivotVersion.executeAttachedAsync(ActivePivotVersion.java:1120)\\n\\tat com.quartetfs.biz.pivot.impl.ActivePivotVersion$QueryExecutionTask.computeSafely(ActivePivotVersion.java:1366)\\n\\tat com.qfs.concurrent.cancellable.impl.CancellableCountedCompleter.execSafely(CancellableCountedCompleter.java:141)\\n\\tat com.quartetfs.biz.pivot.context.impl.ContextualCancellableCountedCompleter.execSafely(ContextualCancellableCountedCompleter.java:118)\\n\\tat com.qfs.concurrent.cancellable.impl.CancellableCountedCompleter.compute(CancellableCountedCompleter.java:171)\\n\\tat java.base/java.util.concurrent.CountedCompleter.exec(CountedCompleter.java:746)\\n\\tat java.base/java.util.concurrent.ForkJoinTask.doExec(ForkJoinTask.java:290)\\n\\tat java.base/java.util.concurrent.ForkJoinPool$WorkQueue.helpCC(ForkJoinPool.java:1115)\\n\\tat java.base/java.util.concurrent.ForkJoinPool.awaitJoin(ForkJoinPool.java:1687)\\n\\tat java.base/java.util.concurrent.ForkJoinTask.get(ForkJoinTask.java:1039)\\n\\tat com.quartetfs.pivot.mdx.plan.impl.ACellPlanExecutor.tryGetResult(ACellPlanExecutor.java:939)\\n\\tat com.quartetfs.pivot.mdx.plan.impl.ACellPlanExecutor.executeGaq(ACellPlanExecutor.java:910)\\n\\tat com.quartetfs.pivot.mdx.plan.impl.ACellPlanExecutor.pivotEval(ACellPlanExecutor.java:873)\\n\\tat com.quartetfs.pivot.mdx.plan.impl.ACellPlanExecutor.computeAggregates(ACellPlanExecutor.java:388)\\n\\tat com.quartetfs.pivot.mdx.plan.impl.ACellPlanExecutor.executeAggregateTask(ACellPlanExecutor.java:314)\\n\\tat com.quartetfs.pivot.mdx.plan.impl.BasicCellPlanExecutor.visit(BasicCellPlanExecutor.java:53)\\n\\tat com.quartetfs.pivot.mdx.plan.impl.BasicCellPlanExecutor.visit(BasicCellPlanExecutor.java:28)\\n\\tat com.quartetfs.pivot.mdx.plan.impl.CellPlanExecutionTask$AggregateKeyTask.accept(CellPlanExecutionTask.java:219)\\n\\tat com.quartetfs.pivot.mdx.plan.impl.ACellPlanExecutor.execute(ACellPlanExecutor.java:242)\\n\\tat com.quartetfs.pivot.mdx.plan.impl.ACellPlanExecutor.execute(ACellPlanExecutor.java:136)\\n\\tat com.quartetfs.pivot.mdx.plan.impl.PassDirectedExecutionGraph$Execution.execute(PassDirectedExecutionGraph.java:275)\\n\\tat com.quartetfs.pivot.mdx.plan.impl.PassDirectedExecutionGraph$Execution$ContextualExecTask.executeTask(PassDirectedExecutionGraph.java:352)\\n\\tat com.qfs.concurrent.cancellable.impl.CancellableForkJoinTask.exec(CancellableForkJoinTask.java:104)\\n\\tat java.base/java.util.concurrent.ForkJoinTask.doExec(ForkJoinTask.java:290)\\n\\tat java.base/java.util.concurrent.ForkJoinTask.doInvoke(ForkJoinTask.java:408)\\n\\tat java.base/java.util.concurrent.ForkJoinTask.quietlyInvoke(ForkJoinTask.java:1087)\\n\\tat com.qfs.util.impl.QfsConcurrency.safeInvokeAll(QfsConcurrency.java:167)\\n\\tat com.qfs.util.impl.QfsConcurrency.safeInvokeAll(QfsConcurrency.java:223)\\n\\tat com.quartetfs.pivot.mdx.plan.impl.PassDirectedExecutionGraph$Execution.executeAll(PassDirectedExecutionGraph.java:268)\\n\\tat com.quartetfs.pivot.mdx.plan.impl.PassDirectedExecutionGraph.execute(PassDirectedExecutionGraph.java:144)\\n\\tat com.quartetfs.pivot.mdx.plan.impl.CellPlan.evaluate(CellPlan.java:152)\\n\\tat com.quartetfs.pivot.mdx.plan.impl.Pass.execute(Pass.java:131)\\n\\tat com.quartetfs.pivot.mdx.plan.impl.PassExecutor.process(PassExecutor.java:54)\\n\\tat com.quartetfs.pivot.mdx.realtime.impl.ADepthFirstVisitor.visitRegular(ADepthFirstVisitor.java:49)\\n\\tat com.quartetfs.pivot.mdx.plan.impl.APassVisitor.visit(APassVisitor.java:64)\\n\\tat com.quartetfs.pivot.mdx.plan.impl.APassVisitor.visit(APassVisitor.java:28)\\n\\tat com.quartetfs.pivot.mdx.utils.impl.ColoredDirectedAcyclicGraph.accept(ColoredDirectedAcyclicGraph.java:120)\\n\\tat com.quartetfs.pivot.mdx.realtime.impl.ADepthFirstVisitor.visitTopSelect(ADepthFirstVisitor.java:77)\\n\\tat com.quartetfs.pivot.mdx.plan.impl.APassVisitor.visit(APassVisitor.java:70)\\n\\tat com.quartetfs.pivot.mdx.plan.impl.APassVisitor.visit(APassVisitor.java:28)\\n\\tat com.quartetfs.pivot.mdx.utils.impl.ColoredDirectedAcyclicGraph.accept(ColoredDirectedAcyclicGraph.java:120)\\n\\tat com.quartetfs.pivot.mdx.plan.impl.PassManager.execute(PassManager.java:151)\\n\\tat com.quartetfs.pivot.mdx.impl.RecursiveSelectPlanuator.handleSelect(RecursiveSelectPlanuator.java:106)\\n\\tat com.quartetfs.pivot.mdx.impl.RecursiveSelectPlanuator.handleSelect(RecursiveSelectPlanuator.java:38)\\n\\tat com.quartetfs.pivot.mdx.impl.ARecursiveSelectVisitor.visit(ARecursiveSelectVisitor.java:55)\\n\\tat com.quartetfs.pivot.mdx.impl.RecursiveSelectPlanuator.visit(RecursiveSelectPlanuator.java:72)\\n\\tat com.quartetfs.pivot.mdx.impl.ASelectStatementExecutor.doPlanEvaluate(ASelectStatementExecutor.java:329)\\n\\tat com.quartetfs.pivot.mdx.impl.ASelectStatementExecutor.planEvaluate(ASelectStatementExecutor.java:266)\\n\\tat com.quartetfs.pivot.mdx.impl.ASelectStatementExecutor.noSyncExecuteAfterParse(ASelectStatementExecutor.java:464)\\n\\tat com.quartetfs.pivot.mdx.impl.ASelectStatementExecutor$MdxAction.execute(ASelectStatementExecutor.java:532)\\n\\tat com.quartetfs.pivot.mdx.impl.ASelectStatementExecutor$MdxAction.execute(ASelectStatementExecutor.java:512)\\n\\tat com.quartetfs.biz.pivot.query.impl.ActivePivotSyncUtils$AAction.execute(ActivePivotSyncUtils.java:205)\\n\\tat com.quartetfs.biz.pivot.query.impl.ActivePivotSyncActionAttachedQuery.executeAsync(ActivePivotSyncActionAttachedQuery.java:57)\\n\\tat com.quartetfs.biz.pivot.impl.AActivePivotQueryExecutor.executeAsync(AActivePivotQueryExecutor.java:33)\\n\\tat com.quartetfs.biz.pivot.impl.ActivePivotVersion.executeAttachedAsync(ActivePivotVersion.java:1120)\\n\\tat com.quartetfs.biz.pivot.impl.ActivePivotVersion$QueryExecutionTask.computeSafely(ActivePivotVersion.java:1366)\\n\\tat com.qfs.concurrent.cancellable.impl.CancellableCountedCompleter.execSafely(CancellableCountedCompleter.java:141)\\n\\tat com.quartetfs.biz.pivot.context.impl.ContextualCancellableCountedCompleter.execSafely(ContextualCancellableCountedCompleter.java:118)\\n\\tat com.qfs.concurrent.cancellable.impl.CancellableCountedCompleter.compute(CancellableCountedCompleter.java:171)\\n\\tat java.base/java.util.concurrent.CountedCompleter.exec(CountedCompleter.java:746)\\n\\tat java.base/java.util.concurrent.ForkJoinTask.doExec(ForkJoinTask.java:290)\\n\\tat java.base/java.util.concurrent.ForkJoinPool$WorkQueue.topLevelExec(ForkJoinPool.java:1020)\\n\\tat java.base/java.util.concurrent.ForkJoinPool.scan(ForkJoinPool.java:1656)\\n\\tat java.base/java.util.concurrent.ForkJoinPool.runWorker(ForkJoinPool.java:1594)\\n\\tat java.base/java.util.concurrent.ForkJoinWorkerThread.run(ForkJoinWorkerThread.java:177)\\n'}})",
     "output_type": "error",
     "traceback": [
      "\u001b[0;31m---------------------------------------------------------------------------\u001b[0m",
      "\u001b[0;31mHTTPError\u001b[0m                                 Traceback (most recent call last)",
      "\u001b[0;32m~/miniconda3/envs/atoti-ce-0.4/lib/python3.8/site-packages/atoti/query/session.py\u001b[0m in \u001b[0;36m_execute_json_request\u001b[0;34m(self, url, body)\u001b[0m\n\u001b[1;32m     77\u001b[0m         \u001b[0;32mtry\u001b[0m\u001b[0;34m:\u001b[0m\u001b[0;34m\u001b[0m\u001b[0;34m\u001b[0m\u001b[0m\n\u001b[0;32m---> 78\u001b[0;31m             \u001b[0mresponse\u001b[0m \u001b[0;34m=\u001b[0m \u001b[0murlopen\u001b[0m\u001b[0;34m(\u001b[0m\u001b[0mrequest\u001b[0m\u001b[0;34m)\u001b[0m  \u001b[0;31m# nosec\u001b[0m\u001b[0;34m\u001b[0m\u001b[0;34m\u001b[0m\u001b[0m\n\u001b[0m\u001b[1;32m     79\u001b[0m             \u001b[0;32mreturn\u001b[0m \u001b[0mjson\u001b[0m\u001b[0;34m.\u001b[0m\u001b[0mloads\u001b[0m\u001b[0;34m(\u001b[0m\u001b[0mresponse\u001b[0m\u001b[0;34m.\u001b[0m\u001b[0mread\u001b[0m\u001b[0;34m(\u001b[0m\u001b[0;34m)\u001b[0m\u001b[0;34m.\u001b[0m\u001b[0mdecode\u001b[0m\u001b[0;34m(\u001b[0m\u001b[0;34m\"utf8\"\u001b[0m\u001b[0;34m)\u001b[0m\u001b[0;34m)\u001b[0m\u001b[0;34m\u001b[0m\u001b[0;34m\u001b[0m\u001b[0m\n",
      "\u001b[0;32m~/miniconda3/envs/atoti-ce-0.4/lib/python3.8/urllib/request.py\u001b[0m in \u001b[0;36murlopen\u001b[0;34m(url, data, timeout, cafile, capath, cadefault, context)\u001b[0m\n\u001b[1;32m    221\u001b[0m         \u001b[0mopener\u001b[0m \u001b[0;34m=\u001b[0m \u001b[0m_opener\u001b[0m\u001b[0;34m\u001b[0m\u001b[0;34m\u001b[0m\u001b[0m\n\u001b[0;32m--> 222\u001b[0;31m     \u001b[0;32mreturn\u001b[0m \u001b[0mopener\u001b[0m\u001b[0;34m.\u001b[0m\u001b[0mopen\u001b[0m\u001b[0;34m(\u001b[0m\u001b[0murl\u001b[0m\u001b[0;34m,\u001b[0m \u001b[0mdata\u001b[0m\u001b[0;34m,\u001b[0m \u001b[0mtimeout\u001b[0m\u001b[0;34m)\u001b[0m\u001b[0;34m\u001b[0m\u001b[0;34m\u001b[0m\u001b[0m\n\u001b[0m\u001b[1;32m    223\u001b[0m \u001b[0;34m\u001b[0m\u001b[0m\n",
      "\u001b[0;32m~/miniconda3/envs/atoti-ce-0.4/lib/python3.8/urllib/request.py\u001b[0m in \u001b[0;36mopen\u001b[0;34m(self, fullurl, data, timeout)\u001b[0m\n\u001b[1;32m    530\u001b[0m             \u001b[0mmeth\u001b[0m \u001b[0;34m=\u001b[0m \u001b[0mgetattr\u001b[0m\u001b[0;34m(\u001b[0m\u001b[0mprocessor\u001b[0m\u001b[0;34m,\u001b[0m \u001b[0mmeth_name\u001b[0m\u001b[0;34m)\u001b[0m\u001b[0;34m\u001b[0m\u001b[0;34m\u001b[0m\u001b[0m\n\u001b[0;32m--> 531\u001b[0;31m             \u001b[0mresponse\u001b[0m \u001b[0;34m=\u001b[0m \u001b[0mmeth\u001b[0m\u001b[0;34m(\u001b[0m\u001b[0mreq\u001b[0m\u001b[0;34m,\u001b[0m \u001b[0mresponse\u001b[0m\u001b[0;34m)\u001b[0m\u001b[0;34m\u001b[0m\u001b[0;34m\u001b[0m\u001b[0m\n\u001b[0m\u001b[1;32m    532\u001b[0m \u001b[0;34m\u001b[0m\u001b[0m\n",
      "\u001b[0;32m~/miniconda3/envs/atoti-ce-0.4/lib/python3.8/urllib/request.py\u001b[0m in \u001b[0;36mhttp_response\u001b[0;34m(self, request, response)\u001b[0m\n\u001b[1;32m    639\u001b[0m         \u001b[0;32mif\u001b[0m \u001b[0;32mnot\u001b[0m \u001b[0;34m(\u001b[0m\u001b[0;36m200\u001b[0m \u001b[0;34m<=\u001b[0m \u001b[0mcode\u001b[0m \u001b[0;34m<\u001b[0m \u001b[0;36m300\u001b[0m\u001b[0;34m)\u001b[0m\u001b[0;34m:\u001b[0m\u001b[0;34m\u001b[0m\u001b[0;34m\u001b[0m\u001b[0m\n\u001b[0;32m--> 640\u001b[0;31m             response = self.parent.error(\n\u001b[0m\u001b[1;32m    641\u001b[0m                 'http', request, response, code, msg, hdrs)\n",
      "\u001b[0;32m~/miniconda3/envs/atoti-ce-0.4/lib/python3.8/urllib/request.py\u001b[0m in \u001b[0;36merror\u001b[0;34m(self, proto, *args)\u001b[0m\n\u001b[1;32m    568\u001b[0m             \u001b[0margs\u001b[0m \u001b[0;34m=\u001b[0m \u001b[0;34m(\u001b[0m\u001b[0mdict\u001b[0m\u001b[0;34m,\u001b[0m \u001b[0;34m'default'\u001b[0m\u001b[0;34m,\u001b[0m \u001b[0;34m'http_error_default'\u001b[0m\u001b[0;34m)\u001b[0m \u001b[0;34m+\u001b[0m \u001b[0morig_args\u001b[0m\u001b[0;34m\u001b[0m\u001b[0;34m\u001b[0m\u001b[0m\n\u001b[0;32m--> 569\u001b[0;31m             \u001b[0;32mreturn\u001b[0m \u001b[0mself\u001b[0m\u001b[0;34m.\u001b[0m\u001b[0m_call_chain\u001b[0m\u001b[0;34m(\u001b[0m\u001b[0;34m*\u001b[0m\u001b[0margs\u001b[0m\u001b[0;34m)\u001b[0m\u001b[0;34m\u001b[0m\u001b[0;34m\u001b[0m\u001b[0m\n\u001b[0m\u001b[1;32m    570\u001b[0m \u001b[0;34m\u001b[0m\u001b[0m\n",
      "\u001b[0;32m~/miniconda3/envs/atoti-ce-0.4/lib/python3.8/urllib/request.py\u001b[0m in \u001b[0;36m_call_chain\u001b[0;34m(self, chain, kind, meth_name, *args)\u001b[0m\n\u001b[1;32m    501\u001b[0m             \u001b[0mfunc\u001b[0m \u001b[0;34m=\u001b[0m \u001b[0mgetattr\u001b[0m\u001b[0;34m(\u001b[0m\u001b[0mhandler\u001b[0m\u001b[0;34m,\u001b[0m \u001b[0mmeth_name\u001b[0m\u001b[0;34m)\u001b[0m\u001b[0;34m\u001b[0m\u001b[0;34m\u001b[0m\u001b[0m\n\u001b[0;32m--> 502\u001b[0;31m             \u001b[0mresult\u001b[0m \u001b[0;34m=\u001b[0m \u001b[0mfunc\u001b[0m\u001b[0;34m(\u001b[0m\u001b[0;34m*\u001b[0m\u001b[0margs\u001b[0m\u001b[0;34m)\u001b[0m\u001b[0;34m\u001b[0m\u001b[0;34m\u001b[0m\u001b[0m\n\u001b[0m\u001b[1;32m    503\u001b[0m             \u001b[0;32mif\u001b[0m \u001b[0mresult\u001b[0m \u001b[0;32mis\u001b[0m \u001b[0;32mnot\u001b[0m \u001b[0;32mNone\u001b[0m\u001b[0;34m:\u001b[0m\u001b[0;34m\u001b[0m\u001b[0;34m\u001b[0m\u001b[0m\n",
      "\u001b[0;32m~/miniconda3/envs/atoti-ce-0.4/lib/python3.8/urllib/request.py\u001b[0m in \u001b[0;36mhttp_error_default\u001b[0;34m(self, req, fp, code, msg, hdrs)\u001b[0m\n\u001b[1;32m    648\u001b[0m     \u001b[0;32mdef\u001b[0m \u001b[0mhttp_error_default\u001b[0m\u001b[0;34m(\u001b[0m\u001b[0mself\u001b[0m\u001b[0;34m,\u001b[0m \u001b[0mreq\u001b[0m\u001b[0;34m,\u001b[0m \u001b[0mfp\u001b[0m\u001b[0;34m,\u001b[0m \u001b[0mcode\u001b[0m\u001b[0;34m,\u001b[0m \u001b[0mmsg\u001b[0m\u001b[0;34m,\u001b[0m \u001b[0mhdrs\u001b[0m\u001b[0;34m)\u001b[0m\u001b[0;34m:\u001b[0m\u001b[0;34m\u001b[0m\u001b[0;34m\u001b[0m\u001b[0m\n\u001b[0;32m--> 649\u001b[0;31m         \u001b[0;32mraise\u001b[0m \u001b[0mHTTPError\u001b[0m\u001b[0;34m(\u001b[0m\u001b[0mreq\u001b[0m\u001b[0;34m.\u001b[0m\u001b[0mfull_url\u001b[0m\u001b[0;34m,\u001b[0m \u001b[0mcode\u001b[0m\u001b[0;34m,\u001b[0m \u001b[0mmsg\u001b[0m\u001b[0;34m,\u001b[0m \u001b[0mhdrs\u001b[0m\u001b[0;34m,\u001b[0m \u001b[0mfp\u001b[0m\u001b[0;34m)\u001b[0m\u001b[0;34m\u001b[0m\u001b[0;34m\u001b[0m\u001b[0m\n\u001b[0m\u001b[1;32m    650\u001b[0m \u001b[0;34m\u001b[0m\u001b[0m\n",
      "\u001b[0;31mHTTPError\u001b[0m: HTTP Error 400: ",
      "\nDuring handling of the above exception, another exception occurred:\n",
      "\u001b[0;31mRuntimeError\u001b[0m                              Traceback (most recent call last)",
      "\u001b[0;32m<ipython-input-29-87b965bac50b>\u001b[0m in \u001b[0;36m<module>\u001b[0;34m\u001b[0m\n\u001b[0;32m----> 1\u001b[0;31m \u001b[0mcube\u001b[0m\u001b[0;34m.\u001b[0m\u001b[0mquery\u001b[0m\u001b[0;34m(\u001b[0m\u001b[0mm\u001b[0m\u001b[0;34m[\u001b[0m\u001b[0;34m'1d 99% VaR Sliding'\u001b[0m\u001b[0;34m]\u001b[0m\u001b[0;34m)\u001b[0m\u001b[0;34m\u001b[0m\u001b[0;34m\u001b[0m\u001b[0m\n\u001b[0m",
      "\u001b[0;32m~/miniconda3/envs/atoti-ce-0.4/lib/python3.8/site-packages/atoti/_docs_utils.py\u001b[0m in \u001b[0;36mwrapper\u001b[0;34m(*args, **kwargs)\u001b[0m\n\u001b[1;32m     16\u001b[0m         \u001b[0;34m@\u001b[0m\u001b[0mwraps\u001b[0m\u001b[0;34m(\u001b[0m\u001b[0mfunc\u001b[0m\u001b[0;34m)\u001b[0m\u001b[0;34m\u001b[0m\u001b[0;34m\u001b[0m\u001b[0m\n\u001b[1;32m     17\u001b[0m         \u001b[0;32mdef\u001b[0m \u001b[0mwrapper\u001b[0m\u001b[0;34m(\u001b[0m\u001b[0;34m*\u001b[0m\u001b[0margs\u001b[0m\u001b[0;34m:\u001b[0m \u001b[0mAny\u001b[0m\u001b[0;34m,\u001b[0m \u001b[0;34m**\u001b[0m\u001b[0mkwargs\u001b[0m\u001b[0;34m:\u001b[0m \u001b[0mAny\u001b[0m\u001b[0;34m)\u001b[0m \u001b[0;34m->\u001b[0m \u001b[0mCallable\u001b[0m\u001b[0;34m:\u001b[0m\u001b[0;34m\u001b[0m\u001b[0;34m\u001b[0m\u001b[0m\n\u001b[0;32m---> 18\u001b[0;31m             \u001b[0;32mreturn\u001b[0m \u001b[0mfunc\u001b[0m\u001b[0;34m(\u001b[0m\u001b[0;34m*\u001b[0m\u001b[0margs\u001b[0m\u001b[0;34m,\u001b[0m \u001b[0;34m**\u001b[0m\u001b[0mkwargs\u001b[0m\u001b[0;34m)\u001b[0m\u001b[0;34m\u001b[0m\u001b[0;34m\u001b[0m\u001b[0m\n\u001b[0m\u001b[1;32m     19\u001b[0m \u001b[0;34m\u001b[0m\u001b[0m\n\u001b[1;32m     20\u001b[0m         \u001b[0;31m# Collecting docstring and docstring templates\u001b[0m\u001b[0;34m\u001b[0m\u001b[0;34m\u001b[0m\u001b[0;34m\u001b[0m\u001b[0m\n",
      "\u001b[0;32m~/miniconda3/envs/atoti-ce-0.4/lib/python3.8/site-packages/atoti/cube.py\u001b[0m in \u001b[0;36mquery\u001b[0;34m(self, levels, condition, scenario, timeout, *measures)\u001b[0m\n\u001b[1;32m    163\u001b[0m             \u001b[0mmeasures\u001b[0m\u001b[0;34m,\u001b[0m \u001b[0mScenarioName\u001b[0m\u001b[0;34m(\u001b[0m\u001b[0mscenario\u001b[0m\u001b[0;34m)\u001b[0m\u001b[0;34m,\u001b[0m \u001b[0mlevels\u001b[0m\u001b[0;34m=\u001b[0m\u001b[0mlevels\u001b[0m\u001b[0;34m,\u001b[0m \u001b[0mcondition\u001b[0m\u001b[0;34m=\u001b[0m\u001b[0mcondition\u001b[0m\u001b[0;34m\u001b[0m\u001b[0;34m\u001b[0m\u001b[0m\n\u001b[1;32m    164\u001b[0m         )\n\u001b[0;32m--> 165\u001b[0;31m         \u001b[0;32mreturn\u001b[0m \u001b[0mself\u001b[0m\u001b[0;34m.\u001b[0m\u001b[0m_session\u001b[0m\u001b[0;34m.\u001b[0m\u001b[0mquery_mdx\u001b[0m\u001b[0;34m(\u001b[0m\u001b[0mmdx\u001b[0m\u001b[0;34m,\u001b[0m \u001b[0mtimeout\u001b[0m\u001b[0;34m=\u001b[0m\u001b[0mtimeout\u001b[0m\u001b[0;34m)\u001b[0m\u001b[0;34m\u001b[0m\u001b[0;34m\u001b[0m\u001b[0m\n\u001b[0m\u001b[1;32m    166\u001b[0m \u001b[0;34m\u001b[0m\u001b[0m\n\u001b[1;32m    167\u001b[0m     \u001b[0;34m@\u001b[0m\u001b[0mdoc\u001b[0m\u001b[0;34m(\u001b[0m\u001b[0margs\u001b[0m\u001b[0;34m=\u001b[0m\u001b[0m_QUERY_ARGS_DOC\u001b[0m\u001b[0;34m)\u001b[0m\u001b[0;34m\u001b[0m\u001b[0;34m\u001b[0m\u001b[0m\n",
      "\u001b[0;32m~/miniconda3/envs/atoti-ce-0.4/lib/python3.8/site-packages/atoti/_docs_utils.py\u001b[0m in \u001b[0;36mwrapper\u001b[0;34m(*args, **kwargs)\u001b[0m\n\u001b[1;32m     16\u001b[0m         \u001b[0;34m@\u001b[0m\u001b[0mwraps\u001b[0m\u001b[0;34m(\u001b[0m\u001b[0mfunc\u001b[0m\u001b[0;34m)\u001b[0m\u001b[0;34m\u001b[0m\u001b[0;34m\u001b[0m\u001b[0m\n\u001b[1;32m     17\u001b[0m         \u001b[0;32mdef\u001b[0m \u001b[0mwrapper\u001b[0m\u001b[0;34m(\u001b[0m\u001b[0;34m*\u001b[0m\u001b[0margs\u001b[0m\u001b[0;34m:\u001b[0m \u001b[0mAny\u001b[0m\u001b[0;34m,\u001b[0m \u001b[0;34m**\u001b[0m\u001b[0mkwargs\u001b[0m\u001b[0;34m:\u001b[0m \u001b[0mAny\u001b[0m\u001b[0;34m)\u001b[0m \u001b[0;34m->\u001b[0m \u001b[0mCallable\u001b[0m\u001b[0;34m:\u001b[0m\u001b[0;34m\u001b[0m\u001b[0;34m\u001b[0m\u001b[0m\n\u001b[0;32m---> 18\u001b[0;31m             \u001b[0;32mreturn\u001b[0m \u001b[0mfunc\u001b[0m\u001b[0;34m(\u001b[0m\u001b[0;34m*\u001b[0m\u001b[0margs\u001b[0m\u001b[0;34m,\u001b[0m \u001b[0;34m**\u001b[0m\u001b[0mkwargs\u001b[0m\u001b[0;34m)\u001b[0m\u001b[0;34m\u001b[0m\u001b[0;34m\u001b[0m\u001b[0m\n\u001b[0m\u001b[1;32m     19\u001b[0m \u001b[0;34m\u001b[0m\u001b[0m\n\u001b[1;32m     20\u001b[0m         \u001b[0;31m# Collecting docstring and docstring templates\u001b[0m\u001b[0;34m\u001b[0m\u001b[0;34m\u001b[0m\u001b[0;34m\u001b[0m\u001b[0m\n",
      "\u001b[0;32m~/miniconda3/envs/atoti-ce-0.4/lib/python3.8/site-packages/atoti/session.py\u001b[0m in \u001b[0;36mquery_mdx\u001b[0;34m(self, mdx, timeout)\u001b[0m\n\u001b[1;32m    578\u001b[0m     \u001b[0;34m@\u001b[0m\u001b[0mdoc\u001b[0m\u001b[0;34m(\u001b[0m\u001b[0m_QUERY_MDX_DOC\u001b[0m\u001b[0;34m)\u001b[0m\u001b[0;34m\u001b[0m\u001b[0;34m\u001b[0m\u001b[0m\n\u001b[1;32m    579\u001b[0m     \u001b[0;32mdef\u001b[0m \u001b[0mquery_mdx\u001b[0m\u001b[0;34m(\u001b[0m\u001b[0mself\u001b[0m\u001b[0;34m,\u001b[0m \u001b[0mmdx\u001b[0m\u001b[0;34m:\u001b[0m \u001b[0mstr\u001b[0m\u001b[0;34m,\u001b[0m \u001b[0;34m*\u001b[0m\u001b[0;34m,\u001b[0m \u001b[0mtimeout\u001b[0m\u001b[0;34m:\u001b[0m \u001b[0mint\u001b[0m \u001b[0;34m=\u001b[0m \u001b[0;36m30\u001b[0m\u001b[0;34m)\u001b[0m \u001b[0;34m->\u001b[0m \u001b[0mpd\u001b[0m\u001b[0;34m.\u001b[0m\u001b[0mDataFrame\u001b[0m\u001b[0;34m:\u001b[0m\u001b[0;34m\u001b[0m\u001b[0;34m\u001b[0m\u001b[0m\n\u001b[0;32m--> 580\u001b[0;31m         return self._open_query_session().query_mdx(\n\u001b[0m\u001b[1;32m    581\u001b[0m             \u001b[0mmdx\u001b[0m\u001b[0;34m,\u001b[0m\u001b[0;34m\u001b[0m\u001b[0;34m\u001b[0m\u001b[0m\n\u001b[1;32m    582\u001b[0m             \u001b[0mtimeout\u001b[0m\u001b[0;34m=\u001b[0m\u001b[0mtimeout\u001b[0m\u001b[0;34m,\u001b[0m\u001b[0;34m\u001b[0m\u001b[0;34m\u001b[0m\u001b[0m\n",
      "\u001b[0;32m~/miniconda3/envs/atoti-ce-0.4/lib/python3.8/site-packages/atoti/_docs_utils.py\u001b[0m in \u001b[0;36mwrapper\u001b[0;34m(*args, **kwargs)\u001b[0m\n\u001b[1;32m     16\u001b[0m         \u001b[0;34m@\u001b[0m\u001b[0mwraps\u001b[0m\u001b[0;34m(\u001b[0m\u001b[0mfunc\u001b[0m\u001b[0;34m)\u001b[0m\u001b[0;34m\u001b[0m\u001b[0;34m\u001b[0m\u001b[0m\n\u001b[1;32m     17\u001b[0m         \u001b[0;32mdef\u001b[0m \u001b[0mwrapper\u001b[0m\u001b[0;34m(\u001b[0m\u001b[0;34m*\u001b[0m\u001b[0margs\u001b[0m\u001b[0;34m:\u001b[0m \u001b[0mAny\u001b[0m\u001b[0;34m,\u001b[0m \u001b[0;34m**\u001b[0m\u001b[0mkwargs\u001b[0m\u001b[0;34m:\u001b[0m \u001b[0mAny\u001b[0m\u001b[0;34m)\u001b[0m \u001b[0;34m->\u001b[0m \u001b[0mCallable\u001b[0m\u001b[0;34m:\u001b[0m\u001b[0;34m\u001b[0m\u001b[0;34m\u001b[0m\u001b[0m\n\u001b[0;32m---> 18\u001b[0;31m             \u001b[0;32mreturn\u001b[0m \u001b[0mfunc\u001b[0m\u001b[0;34m(\u001b[0m\u001b[0;34m*\u001b[0m\u001b[0margs\u001b[0m\u001b[0;34m,\u001b[0m \u001b[0;34m**\u001b[0m\u001b[0mkwargs\u001b[0m\u001b[0;34m)\u001b[0m\u001b[0;34m\u001b[0m\u001b[0;34m\u001b[0m\u001b[0m\n\u001b[0m\u001b[1;32m     19\u001b[0m \u001b[0;34m\u001b[0m\u001b[0m\n\u001b[1;32m     20\u001b[0m         \u001b[0;31m# Collecting docstring and docstring templates\u001b[0m\u001b[0;34m\u001b[0m\u001b[0;34m\u001b[0m\u001b[0;34m\u001b[0m\u001b[0m\n",
      "\u001b[0;32m~/miniconda3/envs/atoti-ce-0.4/lib/python3.8/site-packages/atoti/query/session.py\u001b[0m in \u001b[0;36mquery_mdx\u001b[0;34m(self, mdx, timeout, **kwargs)\u001b[0m\n\u001b[1;32m    112\u001b[0m             \u001b[0mcontext\u001b[0m \u001b[0;34m=\u001b[0m \u001b[0;34m{\u001b[0m\u001b[0;34m\"queriesTimeLimit\"\u001b[0m\u001b[0;34m:\u001b[0m \u001b[0mtimeout\u001b[0m\u001b[0;34m,\u001b[0m \u001b[0;34m**\u001b[0m\u001b[0mcontext\u001b[0m\u001b[0;34m}\u001b[0m\u001b[0;34m\u001b[0m\u001b[0;34m\u001b[0m\u001b[0m\n\u001b[1;32m    113\u001b[0m         \u001b[0mbody\u001b[0m\u001b[0;34m:\u001b[0m \u001b[0mMapping\u001b[0m\u001b[0;34m[\u001b[0m\u001b[0mstr\u001b[0m\u001b[0;34m,\u001b[0m \u001b[0mUnion\u001b[0m\u001b[0;34m[\u001b[0m\u001b[0mstr\u001b[0m\u001b[0;34m,\u001b[0m \u001b[0m_Context\u001b[0m\u001b[0;34m]\u001b[0m\u001b[0;34m]\u001b[0m \u001b[0;34m=\u001b[0m \u001b[0;34m{\u001b[0m\u001b[0;34m\"context\"\u001b[0m\u001b[0;34m:\u001b[0m \u001b[0mcontext\u001b[0m\u001b[0;34m,\u001b[0m \u001b[0;34m\"mdx\"\u001b[0m\u001b[0;34m:\u001b[0m \u001b[0mmdx\u001b[0m\u001b[0;34m}\u001b[0m\u001b[0;34m\u001b[0m\u001b[0;34m\u001b[0m\u001b[0m\n\u001b[0;32m--> 114\u001b[0;31m         \u001b[0mresponse\u001b[0m \u001b[0;34m=\u001b[0m \u001b[0mself\u001b[0m\u001b[0;34m.\u001b[0m\u001b[0m_execute_json_request\u001b[0m\u001b[0;34m(\u001b[0m\u001b[0murl\u001b[0m\u001b[0;34m,\u001b[0m \u001b[0mbody\u001b[0m\u001b[0;34m)\u001b[0m\u001b[0;34m\u001b[0m\u001b[0;34m\u001b[0m\u001b[0m\n\u001b[0m\u001b[1;32m    115\u001b[0m         \u001b[0mcellset\u001b[0m \u001b[0;34m=\u001b[0m \u001b[0mCellset\u001b[0m\u001b[0;34m.\u001b[0m\u001b[0m_from_dict\u001b[0m\u001b[0;34m(\u001b[0m\u001b[0mresponse\u001b[0m\u001b[0;34m[\u001b[0m\u001b[0;34m\"data\"\u001b[0m\u001b[0;34m]\u001b[0m\u001b[0;34m)\u001b[0m\u001b[0;34m\u001b[0m\u001b[0;34m\u001b[0m\u001b[0m\n\u001b[1;32m    116\u001b[0m         \u001b[0mget_level_data_types\u001b[0m \u001b[0;34m=\u001b[0m \u001b[0mkwargs\u001b[0m\u001b[0;34m.\u001b[0m\u001b[0mget\u001b[0m\u001b[0;34m(\u001b[0m\u001b[0;34m\"get_level_data_types\"\u001b[0m\u001b[0;34m)\u001b[0m\u001b[0;34m\u001b[0m\u001b[0;34m\u001b[0m\u001b[0m\n",
      "\u001b[0;32m~/miniconda3/envs/atoti-ce-0.4/lib/python3.8/site-packages/atoti/query/session.py\u001b[0m in \u001b[0;36m_execute_json_request\u001b[0;34m(self, url, body)\u001b[0m\n\u001b[1;32m     81\u001b[0m             \u001b[0merror_json\u001b[0m \u001b[0;34m=\u001b[0m \u001b[0merror\u001b[0m\u001b[0;34m.\u001b[0m\u001b[0mread\u001b[0m\u001b[0;34m(\u001b[0m\u001b[0;34m)\u001b[0m\u001b[0;34m\u001b[0m\u001b[0;34m\u001b[0m\u001b[0m\n\u001b[1;32m     82\u001b[0m             \u001b[0merror_data\u001b[0m \u001b[0;34m=\u001b[0m \u001b[0mjson\u001b[0m\u001b[0;34m.\u001b[0m\u001b[0mloads\u001b[0m\u001b[0;34m(\u001b[0m\u001b[0merror_json\u001b[0m\u001b[0;34m)\u001b[0m\u001b[0;34m\u001b[0m\u001b[0;34m\u001b[0m\u001b[0m\n\u001b[0;32m---> 83\u001b[0;31m             \u001b[0;32mraise\u001b[0m \u001b[0mRuntimeError\u001b[0m\u001b[0;34m(\u001b[0m\u001b[0;34m\"Request failed\"\u001b[0m\u001b[0;34m,\u001b[0m \u001b[0merror_data\u001b[0m\u001b[0;34m)\u001b[0m\u001b[0;34m\u001b[0m\u001b[0;34m\u001b[0m\u001b[0m\n\u001b[0m\u001b[1;32m     84\u001b[0m \u001b[0;34m\u001b[0m\u001b[0m\n\u001b[1;32m     85\u001b[0m     \u001b[0;32mdef\u001b[0m \u001b[0m_fetch_version\u001b[0m\u001b[0;34m(\u001b[0m\u001b[0mself\u001b[0m\u001b[0;34m)\u001b[0m \u001b[0;34m->\u001b[0m \u001b[0mstr\u001b[0m\u001b[0;34m:\u001b[0m\u001b[0;34m\u001b[0m\u001b[0;34m\u001b[0m\u001b[0m\n",
      "\u001b[0;31mRuntimeError\u001b[0m: ('Request failed', {'status': 'error', 'error': {'errorChain': [{'type': 'IllegalArgumentException', 'message': 'Empty list of fields to retrieve from the store'}, {'type': 'IllegalArgumentException', 'message': 'java.lang.IllegalArgumentException: Empty list of fields to retrieve from the store'}, {'type': 'QueryException', 'message': 'Could not execute query at epoch 3. : ActivePivotSyncActionQuery: action=MdxAction (mdx=SELECT [Measures].[1d 99% VaR Sliding] ON COLUMNS FROM [Historical VaR Cube]), argument=com.quartetfs.pivot.mdx.impl.BasicSelectExecutor@7152bd07'}, {'type': 'MdxException', 'message': 'Error with the following query: SELECT [Measures].[1d 99% VaR Sliding] ON COLUMNS FROM [Historical VaR Cube]'}, {'type': 'BadArgumentException', 'message': '[400] com.quartetfs.pivot.mdx.MdxException: Error with the following query: SELECT [Measures].[1d 99% VaR Sliding] ON COLUMNS FROM [Historical VaR Cube]'}], 'stackTrace': 'com.qfs.fwk.services.BadArgumentException: [400] com.quartetfs.pivot.mdx.MdxException: Error with the following query: SELECT [Measures].[1d 99% VaR Sliding] ON COLUMNS FROM [Historical VaR Cube]\\n\\tat com.qfs.pivot.rest.query.impl.JsonQueryService.executeQuery(JsonQueryService.java:215)\\n\\tat com.qfs.pivot.rest.query.impl.JsonQueryService.executeMdxQuery(JsonQueryService.java:108)\\n\\tat com.qfs.pivot.rest.query.impl.QueriesRestService.mdxQuery(QueriesRestService.java:66)\\n\\tat java.base/jdk.internal.reflect.NativeMethodAccessorImpl.invoke0(Native Method)\\n\\tat java.base/jdk.internal.reflect.NativeMethodAccessorImpl.invoke(NativeMethodAccessorImpl.java:62)\\n\\tat java.base/jdk.internal.reflect.DelegatingMethodAccessorImpl.invoke(DelegatingMethodAccessorImpl.java:43)\\n\\tat java.base/java.lang.reflect.Method.invoke(Method.java:566)\\n\\tat org.apache.cxf.service.invoker.AbstractInvoker.performInvocation(AbstractInvoker.java:179)\\n\\tat org.apache.cxf.service.invoker.AbstractInvoker.invoke(AbstractInvoker.java:96)\\n\\tat org.apache.cxf.jaxrs.JAXRSInvoker.invoke(JAXRSInvoker.java:201)\\n\\tat org.apache.cxf.jaxrs.JAXRSInvoker.invoke(JAXRSInvoker.java:104)\\n\\tat org.apache.cxf.interceptor.ServiceInvokerInterceptor$1.run(ServiceInvokerInterceptor.java:59)\\n\\tat org.apache.cxf.interceptor.ServiceInvokerInterceptor.handleMessage(ServiceInvokerInterceptor.java:96)\\n\\tat org.apache.cxf.phase.PhaseInterceptorChain.doIntercept(PhaseInterceptorChain.java:308)\\n\\tat org.apache.cxf.transport.ChainInitiationObserver.onMessage(ChainInitiationObserver.java:121)\\n\\tat org.apache.cxf.transport.http.AbstractHTTPDestination.invoke(AbstractHTTPDestination.java:267)\\n\\tat org.apache.cxf.transport.servlet.ServletController.invokeDestination(ServletController.java:234)\\n\\tat org.apache.cxf.transport.servlet.ServletController.invoke(ServletController.java:208)\\n\\tat org.apache.cxf.transport.servlet.ServletController.invoke(ServletController.java:160)\\n\\tat org.apache.cxf.transport.servlet.CXFNonSpringServlet.invoke(CXFNonSpringServlet.java:225)\\n\\tat org.apache.cxf.transport.servlet.AbstractHTTPServlet.handleRequest(AbstractHTTPServlet.java:301)\\n\\tat org.apache.cxf.transport.servlet.AbstractHTTPServlet.doPost(AbstractHTTPServlet.java:220)\\n\\tat javax.servlet.http.HttpServlet.service(HttpServlet.java:660)\\n\\tat org.apache.cxf.transport.servlet.AbstractHTTPServlet.service(AbstractHTTPServlet.java:276)\\n\\tat org.springframework.web.servlet.mvc.ServletWrappingController.handleRequestInternal(ServletWrappingController.java:166)\\n\\tat org.springframework.web.servlet.mvc.AbstractController.handleRequest(AbstractController.java:177)\\n\\tat org.springframework.web.servlet.mvc.SimpleControllerHandlerAdapter.handle(SimpleControllerHandlerAdapter.java:52)\\n\\tat org.springframework.web.servlet.DispatcherServlet.doDispatch(DispatcherServlet.java:1040)\\n\\tat org.springframework.web.servlet.DispatcherServlet.doService(DispatcherServlet.java:943)\\n\\tat org.springframework.web.servlet.FrameworkServlet.processRequest(FrameworkServlet.java:1006)\\n\\tat org.springframework.web.servlet.FrameworkServlet.doPost(FrameworkServlet.java:909)\\n\\tat javax.servlet.http.HttpServlet.service(HttpServlet.java:660)\\n\\tat org.springframework.web.servlet.FrameworkServlet.service(FrameworkServlet.java:883)\\n\\tat javax.servlet.http.HttpServlet.service(HttpServlet.java:741)\\n\\tat org.apache.catalina.core.ApplicationFilterChain.internalDoFilter(ApplicationFilterChain.java:231)\\n\\tat org.apache.catalina.core.ApplicationFilterChain.doFilter(ApplicationFilterChain.java:166)\\n\\tat org.apache.tomcat.websocket.server.WsFilter.doFilter(WsFilter.java:53)\\n\\tat org.apache.catalina.core.ApplicationFilterChain.internalDoFilter(ApplicationFilterChain.java:193)\\n\\tat org.apache.catalina.core.ApplicationFilterChain.doFilter(ApplicationFilterChain.java:166)\\n\\tat com.qfs.pivot.servlet.impl.ContextValueFilter.doFilter(ContextValueFilter.java:67)\\n\\tat org.apache.catalina.core.ApplicationFilterChain.internalDoFilter(ApplicationFilterChain.java:193)\\n\\tat org.apache.catalina.core.ApplicationFilterChain.doFilter(ApplicationFilterChain.java:166)\\n\\tat org.springframework.web.filter.CorsFilter.doFilterInternal(CorsFilter.java:92)\\n\\tat org.springframework.web.filter.OncePerRequestFilter.doFilter(OncePerRequestFilter.java:119)\\n\\tat org.apache.catalina.core.ApplicationFilterChain.internalDoFilter(ApplicationFilterChain.java:193)\\n\\tat org.apache.catalina.core.ApplicationFilterChain.doFilter(ApplicationFilterChain.java:166)\\n\\tat org.springframework.web.filter.CharacterEncodingFilter.doFilterInternal(CharacterEncodingFilter.java:201)\\n\\tat org.springframework.web.filter.OncePerRequestFilter.doFilter(OncePerRequestFilter.java:119)\\n\\tat org.apache.catalina.core.ApplicationFilterChain.internalDoFilter(ApplicationFilterChain.java:193)\\n\\tat org.apache.catalina.core.ApplicationFilterChain.doFilter(ApplicationFilterChain.java:166)\\n\\tat org.apache.catalina.core.StandardWrapperValve.invoke(StandardWrapperValve.java:202)\\n\\tat org.apache.catalina.core.StandardContextValve.invoke(StandardContextValve.java:96)\\n\\tat org.apache.catalina.authenticator.AuthenticatorBase.invoke(AuthenticatorBase.java:541)\\n\\tat org.apache.catalina.core.StandardHostValve.invoke(StandardHostValve.java:139)\\n\\tat org.apache.catalina.valves.ErrorReportValve.invoke(ErrorReportValve.java:92)\\n\\tat org.apache.catalina.core.StandardEngineValve.invoke(StandardEngineValve.java:74)\\n\\tat org.apache.catalina.connector.CoyoteAdapter.service(CoyoteAdapter.java:343)\\n\\tat org.apache.coyote.http11.Http11Processor.service(Http11Processor.java:367)\\n\\tat org.apache.coyote.AbstractProcessorLight.process(AbstractProcessorLight.java:65)\\n\\tat org.apache.coyote.AbstractProtocol$ConnectionHandler.process(AbstractProtocol.java:868)\\n\\tat org.apache.tomcat.util.net.NioEndpoint$SocketProcessor.doRun(NioEndpoint.java:1639)\\n\\tat org.apache.tomcat.util.net.SocketProcessorBase.run(SocketProcessorBase.java:49)\\n\\tat java.base/java.util.concurrent.ThreadPoolExecutor.runWorker(ThreadPoolExecutor.java:1128)\\n\\tat java.base/java.util.concurrent.ThreadPoolExecutor$Worker.run(ThreadPoolExecutor.java:628)\\n\\tat org.apache.tomcat.util.threads.TaskThread$WrappingRunnable.run(TaskThread.java:61)\\n\\tat java.base/java.lang.Thread.run(Thread.java:834)\\nCaused by: com.quartetfs.pivot.mdx.MdxException: Error with the following query: SELECT [Measures].[1d 99% VaR Sliding] ON COLUMNS FROM [Historical VaR Cube]\\n\\tat com.quartetfs.pivot.mdx.impl.ASelectStatementExecutor.executeAfterParse(ASelectStatementExecutor.java:426)\\n\\tat com.quartetfs.pivot.mdx.impl.ASelectStatementExecutor.executeAfterParse(ASelectStatementExecutor.java:408)\\n\\tat com.quartetfs.pivot.mdx.impl.ASelectStatementExecutor.execute(ASelectStatementExecutor.java:397)\\n\\tat com.qfs.pivot.rest.query.impl.JsonQueryService$JsonSelectExecutor.execute(JsonQueryService.java:316)\\n\\tat com.qfs.pivot.rest.query.impl.JsonQueryService$JsonSelectExecutor.execute(JsonQueryService.java:294)\\n\\tat com.qfs.pivot.rest.query.impl.JsonQueryService.executeQuery(JsonQueryService.java:210)\\n\\t... 65 more\\nCaused by: com.quartetfs.fwk.query.QueryException: Could not execute query at epoch 3. : ActivePivotSyncActionQuery: action=MdxAction (mdx=SELECT [Measures].[1d 99% VaR Sliding] ON COLUMNS FROM [Historical VaR Cube]), argument=com.quartetfs.pivot.mdx.impl.BasicSelectExecutor@7152bd07\\n\\tat com.quartetfs.biz.pivot.impl.ActivePivotVersion$QueryExecutionTask.getWithQueriesTimeLimit(ActivePivotVersion.java:1523)\\n\\tat com.quartetfs.biz.pivot.impl.ActivePivotVersion.execute(ActivePivotVersion.java:936)\\n\\tat com.quartetfs.biz.pivot.query.impl.ActivePivotSyncUtils.activePivotSyncExec(ActivePivotSyncUtils.java:94)\\n\\tat com.quartetfs.pivot.mdx.impl.ASelectStatementExecutor.executeAfterParse(ASelectStatementExecutor.java:424)\\n\\t... 70 more\\nCaused by: java.lang.IllegalArgumentException: java.lang.IllegalArgumentException: Empty list of fields to retrieve from the store\\n\\tat java.base/jdk.internal.reflect.NativeConstructorAccessorImpl.newInstance0(Native Method)\\n\\tat java.base/jdk.internal.reflect.NativeConstructorAccessorImpl.newInstance(NativeConstructorAccessorImpl.java:62)\\n\\tat java.base/jdk.internal.reflect.DelegatingConstructorAccessorImpl.newInstance(DelegatingConstructorAccessorImpl.java:45)\\n\\tat java.base/java.lang.reflect.Constructor.newInstance(Constructor.java:490)\\n\\tat java.base/java.util.concurrent.ForkJoinTask.getThrowableException(ForkJoinTask.java:600)\\n\\tat java.base/java.util.concurrent.ForkJoinTask.get(ForkJoinTask.java:1064)\\n\\tat com.quartetfs.biz.pivot.impl.ActivePivotVersion$QueryExecutionTask.getWithQueriesTimeLimit(ActivePivotVersion.java:1494)\\n\\t... 73 more\\nCaused by: java.lang.IllegalArgumentException: Empty list of fields to retrieve from the store\\n\\tat com.quartetfs.biz.pivot.cube.hierarchy.axis.DatastorePrefetchRequest.<init>(DatastorePrefetchRequest.java:100)\\n\\tat com.quartetfs.biz.pivot.cube.hierarchy.axis.DatastorePrefetchRequest.<init>(DatastorePrefetchRequest.java:77)\\n\\tat com.activeviam.copper.agg.InnerJoinAnalysisAggregationProcedure.getDatastorePrefetch(InnerJoinAnalysisAggregationProcedure.java:226)\\n\\tat com.quartetfs.biz.pivot.query.aggregates.impl.PlanningGraph.planExternalRetrievals(PlanningGraph.java:1287)\\n\\tat com.quartetfs.biz.pivot.query.aggregates.impl.PlanningGraph.finalizeAggregationNodesPlanning(PlanningGraph.java:1203)\\n\\tat com.quartetfs.biz.pivot.query.aggregates.impl.PlanningGraph.completePlanning(PlanningGraph.java:1168)\\n\\tat com.quartetfs.biz.pivot.query.aggregates.impl.ActivePivotAggregatesRetriever.finalizePlanningGraph(ActivePivotAggregatesRetriever.java:994)\\n\\tat com.quartetfs.biz.pivot.query.aggregates.impl.ActivePivotAggregatesRetriever.doCompletePlanning(ActivePivotAggregatesRetriever.java:963)\\n\\tat com.quartetfs.biz.pivot.query.aggregates.impl.ActivePivotAggregatesRetriever.completePlanning(ActivePivotAggregatesRetriever.java:826)\\n\\tat com.quartetfs.biz.pivot.query.aggregates.IActivePivotAggregatesRetriever.executeAllPlanned(IActivePivotAggregatesRetriever.java:218)\\n\\tat com.quartetfs.biz.pivot.query.aggregates.impl.ARetrieveAggregatesAction.computeSafely(ARetrieveAggregatesAction.java:80)\\n\\tat com.qfs.concurrent.cancellable.impl.CancellableCountedCompleter.execSafely(CancellableCountedCompleter.java:141)\\n\\tat com.qfs.concurrent.cancellable.impl.CancellableCountedCompleter.compute(CancellableCountedCompleter.java:171)\\n\\tat com.quartetfs.biz.pivot.query.aggregates.impl.ActivePivotAggregatesRetriever.retrieveAggregatesAsync(ActivePivotAggregatesRetriever.java:744)\\n\\tat com.quartetfs.biz.pivot.query.impl.GetAggregatesAttachedQuery.executeAsync(GetAggregatesAttachedQuery.java:119)\\n\\tat com.quartetfs.biz.pivot.impl.AActivePivotQueryExecutor.executeAsync(AActivePivotQueryExecutor.java:33)\\n\\tat com.quartetfs.biz.pivot.impl.ActivePivotVersion.executeAttachedAsync(ActivePivotVersion.java:1120)\\n\\tat com.quartetfs.biz.pivot.impl.ActivePivotVersion$QueryExecutionTask.computeSafely(ActivePivotVersion.java:1366)\\n\\tat com.qfs.concurrent.cancellable.impl.CancellableCountedCompleter.execSafely(CancellableCountedCompleter.java:141)\\n\\tat com.quartetfs.biz.pivot.context.impl.ContextualCancellableCountedCompleter.execSafely(ContextualCancellableCountedCompleter.java:118)\\n\\tat com.qfs.concurrent.cancellable.impl.CancellableCountedCompleter.compute(CancellableCountedCompleter.java:171)\\n\\tat java.base/java.util.concurrent.CountedCompleter.exec(CountedCompleter.java:746)\\n\\tat java.base/java.util.concurrent.ForkJoinTask.doExec(ForkJoinTask.java:290)\\n\\tat java.base/java.util.concurrent.ForkJoinPool$WorkQueue.helpCC(ForkJoinPool.java:1115)\\n\\tat java.base/java.util.concurrent.ForkJoinPool.awaitJoin(ForkJoinPool.java:1687)\\n\\tat java.base/java.util.concurrent.ForkJoinTask.get(ForkJoinTask.java:1039)\\n\\tat com.quartetfs.pivot.mdx.plan.impl.ACellPlanExecutor.tryGetResult(ACellPlanExecutor.java:939)\\n\\tat com.quartetfs.pivot.mdx.plan.impl.ACellPlanExecutor.executeGaq(ACellPlanExecutor.java:910)\\n\\tat com.quartetfs.pivot.mdx.plan.impl.ACellPlanExecutor.pivotEval(ACellPlanExecutor.java:873)\\n\\tat com.quartetfs.pivot.mdx.plan.impl.ACellPlanExecutor.computeAggregates(ACellPlanExecutor.java:388)\\n\\tat com.quartetfs.pivot.mdx.plan.impl.ACellPlanExecutor.executeAggregateTask(ACellPlanExecutor.java:314)\\n\\tat com.quartetfs.pivot.mdx.plan.impl.BasicCellPlanExecutor.visit(BasicCellPlanExecutor.java:53)\\n\\tat com.quartetfs.pivot.mdx.plan.impl.BasicCellPlanExecutor.visit(BasicCellPlanExecutor.java:28)\\n\\tat com.quartetfs.pivot.mdx.plan.impl.CellPlanExecutionTask$AggregateKeyTask.accept(CellPlanExecutionTask.java:219)\\n\\tat com.quartetfs.pivot.mdx.plan.impl.ACellPlanExecutor.execute(ACellPlanExecutor.java:242)\\n\\tat com.quartetfs.pivot.mdx.plan.impl.ACellPlanExecutor.execute(ACellPlanExecutor.java:136)\\n\\tat com.quartetfs.pivot.mdx.plan.impl.PassDirectedExecutionGraph$Execution.execute(PassDirectedExecutionGraph.java:275)\\n\\tat com.quartetfs.pivot.mdx.plan.impl.PassDirectedExecutionGraph$Execution$ContextualExecTask.executeTask(PassDirectedExecutionGraph.java:352)\\n\\tat com.qfs.concurrent.cancellable.impl.CancellableForkJoinTask.exec(CancellableForkJoinTask.java:104)\\n\\tat java.base/java.util.concurrent.ForkJoinTask.doExec(ForkJoinTask.java:290)\\n\\tat java.base/java.util.concurrent.ForkJoinTask.doInvoke(ForkJoinTask.java:408)\\n\\tat java.base/java.util.concurrent.ForkJoinTask.quietlyInvoke(ForkJoinTask.java:1087)\\n\\tat com.qfs.util.impl.QfsConcurrency.safeInvokeAll(QfsConcurrency.java:167)\\n\\tat com.qfs.util.impl.QfsConcurrency.safeInvokeAll(QfsConcurrency.java:223)\\n\\tat com.quartetfs.pivot.mdx.plan.impl.PassDirectedExecutionGraph$Execution.executeAll(PassDirectedExecutionGraph.java:268)\\n\\tat com.quartetfs.pivot.mdx.plan.impl.PassDirectedExecutionGraph.execute(PassDirectedExecutionGraph.java:144)\\n\\tat com.quartetfs.pivot.mdx.plan.impl.CellPlan.evaluate(CellPlan.java:152)\\n\\tat com.quartetfs.pivot.mdx.plan.impl.Pass.execute(Pass.java:131)\\n\\tat com.quartetfs.pivot.mdx.plan.impl.PassExecutor.process(PassExecutor.java:54)\\n\\tat com.quartetfs.pivot.mdx.realtime.impl.ADepthFirstVisitor.visitRegular(ADepthFirstVisitor.java:49)\\n\\tat com.quartetfs.pivot.mdx.plan.impl.APassVisitor.visit(APassVisitor.java:64)\\n\\tat com.quartetfs.pivot.mdx.plan.impl.APassVisitor.visit(APassVisitor.java:28)\\n\\tat com.quartetfs.pivot.mdx.utils.impl.ColoredDirectedAcyclicGraph.accept(ColoredDirectedAcyclicGraph.java:120)\\n\\tat com.quartetfs.pivot.mdx.realtime.impl.ADepthFirstVisitor.visitTopSelect(ADepthFirstVisitor.java:77)\\n\\tat com.quartetfs.pivot.mdx.plan.impl.APassVisitor.visit(APassVisitor.java:70)\\n\\tat com.quartetfs.pivot.mdx.plan.impl.APassVisitor.visit(APassVisitor.java:28)\\n\\tat com.quartetfs.pivot.mdx.utils.impl.ColoredDirectedAcyclicGraph.accept(ColoredDirectedAcyclicGraph.java:120)\\n\\tat com.quartetfs.pivot.mdx.plan.impl.PassManager.execute(PassManager.java:151)\\n\\tat com.quartetfs.pivot.mdx.impl.RecursiveSelectPlanuator.handleSelect(RecursiveSelectPlanuator.java:106)\\n\\tat com.quartetfs.pivot.mdx.impl.RecursiveSelectPlanuator.handleSelect(RecursiveSelectPlanuator.java:38)\\n\\tat com.quartetfs.pivot.mdx.impl.ARecursiveSelectVisitor.visit(ARecursiveSelectVisitor.java:55)\\n\\tat com.quartetfs.pivot.mdx.impl.RecursiveSelectPlanuator.visit(RecursiveSelectPlanuator.java:72)\\n\\tat com.quartetfs.pivot.mdx.impl.ASelectStatementExecutor.doPlanEvaluate(ASelectStatementExecutor.java:329)\\n\\tat com.quartetfs.pivot.mdx.impl.ASelectStatementExecutor.planEvaluate(ASelectStatementExecutor.java:266)\\n\\tat com.quartetfs.pivot.mdx.impl.ASelectStatementExecutor.noSyncExecuteAfterParse(ASelectStatementExecutor.java:464)\\n\\tat com.quartetfs.pivot.mdx.impl.ASelectStatementExecutor$MdxAction.execute(ASelectStatementExecutor.java:532)\\n\\tat com.quartetfs.pivot.mdx.impl.ASelectStatementExecutor$MdxAction.execute(ASelectStatementExecutor.java:512)\\n\\tat com.quartetfs.biz.pivot.query.impl.ActivePivotSyncUtils$AAction.execute(ActivePivotSyncUtils.java:205)\\n\\tat com.quartetfs.biz.pivot.query.impl.ActivePivotSyncActionAttachedQuery.executeAsync(ActivePivotSyncActionAttachedQuery.java:57)\\n\\tat com.quartetfs.biz.pivot.impl.AActivePivotQueryExecutor.executeAsync(AActivePivotQueryExecutor.java:33)\\n\\tat com.quartetfs.biz.pivot.impl.ActivePivotVersion.executeAttachedAsync(ActivePivotVersion.java:1120)\\n\\tat com.quartetfs.biz.pivot.impl.ActivePivotVersion$QueryExecutionTask.computeSafely(ActivePivotVersion.java:1366)\\n\\tat com.qfs.concurrent.cancellable.impl.CancellableCountedCompleter.execSafely(CancellableCountedCompleter.java:141)\\n\\tat com.quartetfs.biz.pivot.context.impl.ContextualCancellableCountedCompleter.execSafely(ContextualCancellableCountedCompleter.java:118)\\n\\tat com.qfs.concurrent.cancellable.impl.CancellableCountedCompleter.compute(CancellableCountedCompleter.java:171)\\n\\tat java.base/java.util.concurrent.CountedCompleter.exec(CountedCompleter.java:746)\\n\\tat java.base/java.util.concurrent.ForkJoinTask.doExec(ForkJoinTask.java:290)\\n\\tat java.base/java.util.concurrent.ForkJoinPool$WorkQueue.topLevelExec(ForkJoinPool.java:1020)\\n\\tat java.base/java.util.concurrent.ForkJoinPool.scan(ForkJoinPool.java:1656)\\n\\tat java.base/java.util.concurrent.ForkJoinPool.runWorker(ForkJoinPool.java:1594)\\n\\tat java.base/java.util.concurrent.ForkJoinWorkerThread.run(ForkJoinWorkerThread.java:177)\\n'}})"
     ]
    }
   ],
   "source": [
    "cube.query(m['1d 99% VaR Sliding'])"
   ]
  },
  {
   "cell_type": "code",
   "execution_count": null,
   "metadata": {
    "atoti": {
     "state": {
      "name": "",
      "type": "container",
      "value": {
       "body": {
        "configuration": {
         "tabular": {
          "addButtonFilter": "numeric",
          "columns": [
           {
            "key": "[Measures].[Worst VaR Period End]",
            "width": 169
           },
           {
            "key": "[Measures].[Worst VaR Period End (1)]",
            "width": 224
           }
          ],
          "columnsGroups": [
           {
            "captionProducer": "firstColumn",
            "cellFactory": "kpi-status",
            "selector": "kpi-status"
           },
           {
            "captionProducer": "firstColumn",
            "cellFactory": "lookup",
            "selector": "lookup"
           },
           {
            "captionProducer": "expiry",
            "cellFactory": "expiry",
            "selector": "kpi-expiry"
           },
           {
            "captionProducer": "columnMerge",
            "cellFactory": {
             "args": {},
             "key": "treeCells"
            },
            "selector": "member"
           }
          ],
          "defaultOptions": {},
          "expansion": {
           "automaticExpansion": true
          },
          "hideAddButton": true,
          "pinnedHeaderSelector": "member",
          "sortingMode": "non-breaking",
          "statisticsShown": true
         }
        },
        "contextValues": {},
        "mdx": "WITH  Member [Measures].[Worst VaR Period End (1)] AS [Measures].[Worst VaR Period End], BACK_COLOR = CASE WHEN Year([Measures].[Worst VaR Period End]) >= 2020 THEN rgb(244, 204, 204) END, CAPTION = [Measures].[Worst VaR Period End].MEMBER_CAPTION  SELECT NON EMPTY {[Measures].[Worst VaR Period End (1)], [Measures].[1d 99% VaR Current], [Measures].[1d 99% VaR Sliding], [Measures].[Worst VaR]} ON COLUMNS, NON EMPTY Hierarchize(Union(DrilldownLevel([Hierarchies].[Portfolio Structure].[ALL].[AllMember]), Descendants({[Hierarchies].[Portfolio Structure].[ALL].[AllMember].[MSCI stocks portfolio]}, [Hierarchies].[Portfolio Structure].[Book]), Descendants({[Hierarchies].[Portfolio Structure].[ALL].[AllMember].[US]}, [Hierarchies].[Portfolio Structure].[Book]), Descendants({[Hierarchies].[Portfolio Structure].[ALL].[AllMember].[Emerging Markets]}, [Hierarchies].[Portfolio Structure].[Book]))) ON ROWS FROM (SELECT Filter([Hierarchies].[Historical Dates].[Historical Dates].Members, IsDate([Hierarchies].[Historical Dates].CurrentMember.MemberValue) AND (Month([Hierarchies].[Historical Dates].CurrentMember.MemberValue) >= 1 AND Month([Hierarchies].[Historical Dates].CurrentMember.MemberValue) <= 3)) ON COLUMNS FROM [Historical VaR Cube]) CELL PROPERTIES BACK_COLOR, FONT_FLAGS, FORE_COLOR, FORMATTED_VALUE, VALUE",
        "ranges": {
         "column": {
          "chunkSize": 50,
          "thresholdPercentage": 0.2
         },
         "row": {
          "chunkSize": 2000,
          "thresholdPercentage": 0.1
         }
        },
        "serverUrl": "",
        "updateMode": "once"
       },
       "containerKey": "pivot-table",
       "showTitleBar": false,
       "style": {}
      }
     }
    }
   },
   "outputs": [],
   "source": [
    "cube.visualize()"
   ]
  },
  {
   "cell_type": "code",
   "execution_count": null,
   "metadata": {
    "atoti": {
     "state": {
      "name": "",
      "type": "container",
      "value": {
       "body": {
        "configuration": {
         "mapping": {
          "horizontalSubplots": [
           "[Hierarchies].[Book].[Book]"
          ],
          "splitBy": [],
          "values": [
           "[Measures].[1d 99% VaR Sliding]",
           "[Measures].[Worst VaR]"
          ],
          "verticalSubplots": [
           "[Hierarchies].[Portfolio Structure].[Portfolio]"
          ],
          "xAxis": [
           "[Hierarchies].[Historical Dates].[Historical Dates]"
          ]
         },
         "plotly": {
          "data": {
           "commonTraceOverride": {
            "marker": {
             "size": 1
            }
           }
          }
         },
         "subplotModeEnabled": true,
         "type": "plotly-line-chart"
        },
        "query": {
         "mdx": "SELECT NON EMPTY {[Measures].[1d 99% VaR Sliding], [Measures].[Worst VaR]} ON COLUMNS, NON EMPTY Crossjoin([Hierarchies].[Historical Dates].[Historical Dates].Members, [Hierarchies].[Book].[Book].Members, [Hierarchies].[Portfolio Structure].[Portfolio].Members) ON ROWS FROM [Historical VaR Cube] CELL PROPERTIES BACK_COLOR, FONT_FLAGS, FORE_COLOR, FORMATTED_VALUE, VALUE",
         "serverUrl": "",
         "updateMode": "once"
        }
       },
       "containerKey": "chart",
       "showTitleBar": false,
       "style": {}
      }
     }
    }
   },
   "outputs": [],
   "source": [
    "cube.visualize()"
   ]
  },
  {
   "cell_type": "markdown",
   "metadata": {},
   "source": [
    "# Filter and Drill down to the worst scenarios"
   ]
  },
  {
   "cell_type": "code",
   "execution_count": null,
   "metadata": {
    "atoti": {
     "state": {
      "name": "",
      "type": "container",
      "value": {
       "body": {
        "configuration": {
         "tabular": {
          "addButtonFilter": "numeric",
          "columnOrder": {
           "args": {
            "orderedColumns": [
             "c-treeCells-member",
             "([Measures].[PnL at date],[Hierarchies].[Portfolio Structure].[ALL].[AllMember])",
             "([Measures].[PnL at date],[Hierarchies].[Portfolio Structure].[ALL].[AllMember].[MSCI stocks portfolio])",
             "([Measures].[PnL at date],[Hierarchies].[Portfolio Structure].[ALL].[AllMember].[US stocks portfolio])",
             "([Measures].[1d pct price change],[Hierarchies].[Portfolio Structure].[ALL].[AllMember])",
             "([Measures].[1d pct price change],[Hierarchies].[Portfolio Structure].[ALL].[AllMember].[MSCI stocks portfolio])",
             "([Measures].[1d pct price change],[Hierarchies].[Portfolio Structure].[ALL].[AllMember].[US stocks portfolio])"
            ]
           },
           "key": "explicit"
          },
          "columns": [
           {
            "key": "c-treeCells-member",
            "width": 174
           }
          ],
          "columnsGroups": [
           {
            "captionProducer": "firstColumn",
            "cellFactory": "kpi-status",
            "selector": "kpi-status"
           },
           {
            "captionProducer": "firstColumn",
            "cellFactory": "lookup",
            "selector": "lookup"
           },
           {
            "captionProducer": "expiry",
            "cellFactory": "expiry",
            "selector": "kpi-expiry"
           },
           {
            "captionProducer": "columnMerge",
            "cellFactory": {
             "args": {},
             "key": "treeCells"
            },
            "selector": "member"
           }
          ],
          "defaultOptions": {
           "headerHeight": 57
          },
          "expansion": {
           "automaticExpansion": true
          },
          "hideAddButton": true,
          "pinnedHeaderSelector": "member",
          "sortingMode": "non-breaking",
          "statisticsShown": true
         }
        },
        "contextValues": {},
        "mdx": "WITH  Member [Measures].[1d pct price change (1)] AS [Measures].[1d pct price change], BACK_COLOR = CASE WHEN [Measures].[1d pct price change (1)] >= 0.2 THEN rgb(147, 196, 125) WHEN [Measures].[1d pct price change (1)] <= - 0.2 THEN rgb(244, 204, 204) END, FORMAT_STRING = \"#%\", CAPTION = [Measures].[1d pct price change].MEMBER_CAPTION  SELECT NON EMPTY Crossjoin({[Measures].[PnL at date], [Measures].[1d pct price change (1)]}, Hierarchize(DrilldownLevel([Hierarchies].[Portfolio Structure].[ALL].[AllMember]))) ON COLUMNS, NON EMPTY Hierarchize(Union(Crossjoin([Hierarchies].[Historical Dates].[Historical Dates].Members, [Hierarchies].[Stock].DefaultMember), Crossjoin([Hierarchies].[Historical Dates].[Historical Dates].[2009-02-13], [Hierarchies].[Stock].[Stock].Members))) ON ROWS FROM (SELECT BottomCount(Filter([Hierarchies].[Historical Dates].Levels(0).Members, NOT IsEmpty([Measures].[PnL at date])), 5, [Measures].[PnL at date]) ON COLUMNS FROM [Historical VaR Cube]) CELL PROPERTIES BACK_COLOR, FONT_FLAGS, FORE_COLOR, FORMATTED_VALUE, VALUE",
        "ranges": {
         "column": {
          "chunkSize": 50,
          "thresholdPercentage": 0.2
         },
         "row": {
          "chunkSize": 2000,
          "thresholdPercentage": 0.1
         }
        },
        "serverUrl": "",
        "updateMode": "once"
       },
       "containerKey": "pivot-table",
       "showTitleBar": false,
       "style": {}
      }
     }
    }
   },
   "outputs": [],
   "source": [
    "cube.visualize()"
   ]
  },
  {
   "cell_type": "markdown",
   "metadata": {},
   "source": [
    "# What-If on different lookback setting\n",
    "\n",
    "Now let's setup a what-if simulation and change the Lookback Window to shorter and longer lengths. "
   ]
  },
  {
   "cell_type": "code",
   "execution_count": null,
   "metadata": {},
   "outputs": [],
   "source": [
    "lookback_windows = cube.setup_simulation(\n",
    "    \"Lookback Windows\", replace=[m[\"Lookback Window\"]], base_scenario=\"260 days\"\n",
    ").scenarios\n",
    "lookback_windows[\"10 days\"] = 10\n",
    "lookback_windows[\"120 days\"] = 120\n",
    "lookback_windows[\"2600 days\"] = 2600"
   ]
  },
  {
   "cell_type": "markdown",
   "metadata": {},
   "source": [
    "Now the different `Lookback Windows` are available in the UI for analysis. As expected, the shorter the observation window, the faster VaR metric reacts to changes in market volatility."
   ]
  },
  {
   "cell_type": "code",
   "execution_count": null,
   "metadata": {
    "atoti": {
     "state": {
      "name": "",
      "type": "container",
      "value": {
       "body": {
        "configuration": {
         "mapping": {
          "horizontalSubplots": [],
          "splitBy": [
           "[Measure Simulations].[Lookback Windows].[Lookback Windows]"
          ],
          "values": [
           "[Measures].[1d 99% VaR Sliding]"
          ],
          "verticalSubplots": [],
          "xAxis": [
           "[Hierarchies].[Historical Dates].[Historical Dates]"
          ]
         },
         "plotly": {
          "data": {
           "commonTraceOverride": {
            "marker": {
             "size": 1
            }
           }
          }
         },
         "type": "plotly-line-chart"
        },
        "query": {
         "mdx": "SELECT NON EMPTY [Measures].[1d 99% VaR Sliding] ON COLUMNS, NON EMPTY Crossjoin([Hierarchies].[Historical Dates].[Historical Dates].Members, [Measure Simulations].[Lookback Windows].[Lookback Windows].Members) ON ROWS FROM (SELECT Subset(Order([Hierarchies].[Historical Dates].[Historical Dates].Members, [Hierarchies].[Historical Dates].CurrentMember.MemberValue, BDESC), 0, 180) ON COLUMNS FROM [Historical VaR Cube]) WHERE [Hierarchies].[Portfolio Structure].[ALL].[AllMember].[US stocks portfolio] CELL PROPERTIES VALUE, FORMATTED_VALUE, BACK_COLOR, FORE_COLOR, FONT_FLAGS",
         "serverUrl": "",
         "updateMode": "once"
        }
       },
       "containerKey": "chart",
       "showTitleBar": false,
       "style": {}
      }
     }
    }
   },
   "outputs": [],
   "source": [
    "cube.visualize()"
   ]
  }
 ],
 "metadata": {
  "kernelspec": {
   "display_name": "Python 3",
   "language": "python",
   "name": "python3"
  },
  "language_info": {
   "codemirror_mode": {
    "name": "ipython",
    "version": 3
   },
   "file_extension": ".py",
   "mimetype": "text/x-python",
   "name": "python",
   "nbconvert_exporter": "python",
   "pygments_lexer": "ipython3",
   "version": "3.8.2"
  }
 },
 "nbformat": 4,
 "nbformat_minor": 4
}
