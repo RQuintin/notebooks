{
 "cells": [
  {
   "cell_type": "markdown",
   "metadata": {},
   "source": [
    "# Interactive sliding Value-at-Risk with atoti\n",
    "\n",
    "## A quick introduction\n",
    "\n",
    "This jupyter notebook will demonstrate how atoti™ community edition can help to analyse and explore **Value-at-Risk** across observation windows. This tool can be particularly useful for clients looking to **recalibrate the period** of significant stress relevant to their portfolio, for instance, from the **Global Financial Crisis of 2008** to the **Coronavirus Market Crash of 2020**. \n",
    "\n",
    "Read more about the use case in this blog post: [Stressed VaR calibration](#).\n",
    "\n",
    "We will focus on the step-by-step implementation of an analytical cube for the rolling VaR use case in atoti.\n"
   ]
  },
  {
   "cell_type": "markdown",
   "metadata": {},
   "source": [
    "# Importing libraries\n",
    "\n",
    "We will be using atoti and pandas today."
   ]
  },
  {
   "cell_type": "code",
   "execution_count": 1,
   "metadata": {},
   "outputs": [
    {
     "name": "stdout",
     "output_type": "stream",
     "text": [
      "Welcome to atoti 0.4.0.20200519221045!\n",
      "\n",
      "By using this community edition, you agree with the license available at https://www.atoti.io/eula.\n",
      "Browse the official documentation at https://docs.atoti.io.\n",
      "Join the community at https://www.atoti.io/register.\n",
      "\n",
      "You can hide this message by setting the ATOTI_HIDE_EULA_MESSAGE environment variable to True.\n"
     ]
    }
   ],
   "source": [
    "import atoti as tt\n",
    "import pandas as pd"
   ]
  },
  {
   "cell_type": "markdown",
   "metadata": {},
   "source": [
    "Each PnL value in the returned vector corresponds to a scenario at the same index position."
   ]
  },
  {
   "cell_type": "markdown",
   "metadata": {},
   "source": [
    "# Sample data overview\n",
    "\n",
    "For the purposes of this demonstration, we'll use a toy data model that can be adjusted for a real-life use case. The datastores that we'll need include:\n",
    "\n",
    "- positions: books, stock tickers and positions market values in USD (long and short positions),\n",
    "- historical returns: vectors of stock prices and daily changes, we will be multiplying market values by stock price changes to obtain a simulated historical P&L for the demonstration. The first two data stores can be replaced with full revaluation P&L vectors from a risk system."
   ]
  },
  {
   "cell_type": "markdown",
   "metadata": {},
   "source": [
    "# Creating an atoti session and loading data"
   ]
  },
  {
   "cell_type": "code",
   "execution_count": 2,
   "metadata": {},
   "outputs": [
    {
     "data": {
      "text/html": [
       "<div>\n",
       "<style scoped>\n",
       "    .dataframe tbody tr th:only-of-type {\n",
       "        vertical-align: middle;\n",
       "    }\n",
       "\n",
       "    .dataframe tbody tr th {\n",
       "        vertical-align: top;\n",
       "    }\n",
       "\n",
       "    .dataframe thead th {\n",
       "        text-align: right;\n",
       "    }\n",
       "</style>\n",
       "<table border=\"1\" class=\"dataframe\">\n",
       "  <thead>\n",
       "    <tr style=\"text-align: right;\">\n",
       "      <th></th>\n",
       "      <th>Returns</th>\n",
       "      <th>Prices</th>\n",
       "    </tr>\n",
       "    <tr>\n",
       "      <th>Stock</th>\n",
       "      <th></th>\n",
       "      <th></th>\n",
       "    </tr>\n",
       "  </thead>\n",
       "  <tbody>\n",
       "    <tr>\n",
       "      <th>AAPL</th>\n",
       "      <td>doubleVector[3632]{0.0029431159209480917, ...}</td>\n",
       "      <td>doubleVector[3632]{9.271618843078613, ...}</td>\n",
       "    </tr>\n",
       "    <tr>\n",
       "      <th>GOOG</th>\n",
       "      <td>doubleVector[3632]{0.022999346863395997, ...}</td>\n",
       "      <td>doubleVector[3632]{221.78868103027344, ...}</td>\n",
       "    </tr>\n",
       "    <tr>\n",
       "      <th>LUKOY</th>\n",
       "      <td>doubleVector[3632]{0.0195919993640441, ...}</td>\n",
       "      <td>doubleVector[3632]{32.09617614746094, ...}</td>\n",
       "    </tr>\n",
       "    <tr>\n",
       "      <th>MSFT</th>\n",
       "      <td>doubleVector[3632]{0.004844138140399634, ...}</td>\n",
       "      <td>doubleVector[3632]{19.697484970092773, ...}</td>\n",
       "    </tr>\n",
       "    <tr>\n",
       "      <th>OGZPY</th>\n",
       "      <td>doubleVector[3632]{0.05288110091337339, ...}</td>\n",
       "      <td>doubleVector[3632]{7.355556964874268, ...}</td>\n",
       "    </tr>\n",
       "    <tr>\n",
       "      <th>ROSYY</th>\n",
       "      <td>doubleVector[3632]{0.023913277535070776, ...}</td>\n",
       "      <td>doubleVector[3632]{8.996960639953613, ...}</td>\n",
       "    </tr>\n",
       "    <tr>\n",
       "      <th>^DJI</th>\n",
       "      <td>doubleVector[3632]{0.003018253564988971, ...}</td>\n",
       "      <td>doubleVector[3632]{10880.150390625, ...}</td>\n",
       "    </tr>\n",
       "    <tr>\n",
       "      <th>^GSPC</th>\n",
       "      <td>doubleVector[3632]{0.0036726922525569528, ...}</td>\n",
       "      <td>doubleVector[3632]{1273.4599609375, ...}</td>\n",
       "    </tr>\n",
       "  </tbody>\n",
       "</table>\n",
       "</div>"
      ],
      "text/plain": [
       "                                              Returns  \\\n",
       "Stock                                                   \n",
       "AAPL   doubleVector[3632]{0.0029431159209480917, ...}   \n",
       "GOOG    doubleVector[3632]{0.022999346863395997, ...}   \n",
       "LUKOY     doubleVector[3632]{0.0195919993640441, ...}   \n",
       "MSFT    doubleVector[3632]{0.004844138140399634, ...}   \n",
       "OGZPY    doubleVector[3632]{0.05288110091337339, ...}   \n",
       "ROSYY   doubleVector[3632]{0.023913277535070776, ...}   \n",
       "^DJI    doubleVector[3632]{0.003018253564988971, ...}   \n",
       "^GSPC  doubleVector[3632]{0.0036726922525569528, ...}   \n",
       "\n",
       "                                            Prices  \n",
       "Stock                                               \n",
       "AAPL    doubleVector[3632]{9.271618843078613, ...}  \n",
       "GOOG   doubleVector[3632]{221.78868103027344, ...}  \n",
       "LUKOY   doubleVector[3632]{32.09617614746094, ...}  \n",
       "MSFT   doubleVector[3632]{19.697484970092773, ...}  \n",
       "OGZPY   doubleVector[3632]{7.355556964874268, ...}  \n",
       "ROSYY   doubleVector[3632]{8.996960639953613, ...}  \n",
       "^DJI      doubleVector[3632]{10880.150390625, ...}  \n",
       "^GSPC     doubleVector[3632]{1273.4599609375, ...}  "
      ]
     },
     "execution_count": 2,
     "metadata": {},
     "output_type": "execute_result"
    }
   ],
   "source": [
    "# Starting atoti session\n",
    "session = tt.create_session()\n",
    "\n",
    "# Let's load historical data into a store from a csv file.\n",
    "# Read more about the supported input data sources on the https://docs.atoti.io/.\n",
    "# By setting array_sep, atoti will recognize the input data is in vectorized format.\n",
    "\n",
    "market_data_store = session.read_csv(\n",
    "    \"stock_price_returns.csv\",\n",
    "    keys=[\"Stock\"],\n",
    "    store_name=\"StockData\",\n",
    "    array_sep=\";\"\n",
    ")\n",
    "\n",
    "market_data_store.head(10)"
   ]
  },
  {
   "cell_type": "code",
   "execution_count": 3,
   "metadata": {},
   "outputs": [
    {
     "data": {
      "text/html": [
       "<div>\n",
       "<style scoped>\n",
       "    .dataframe tbody tr th:only-of-type {\n",
       "        vertical-align: middle;\n",
       "    }\n",
       "\n",
       "    .dataframe tbody tr th {\n",
       "        vertical-align: top;\n",
       "    }\n",
       "\n",
       "    .dataframe thead th {\n",
       "        text-align: right;\n",
       "    }\n",
       "</style>\n",
       "<table border=\"1\" class=\"dataframe\">\n",
       "  <thead>\n",
       "    <tr style=\"text-align: right;\">\n",
       "      <th></th>\n",
       "      <th></th>\n",
       "      <th>portfolio</th>\n",
       "      <th>AmountUSD</th>\n",
       "    </tr>\n",
       "    <tr>\n",
       "      <th>book</th>\n",
       "      <th>Stock</th>\n",
       "      <th></th>\n",
       "      <th></th>\n",
       "    </tr>\n",
       "  </thead>\n",
       "  <tbody>\n",
       "    <tr>\n",
       "      <th rowspan=\"2\" valign=\"top\">Indices</th>\n",
       "      <th>^DJI</th>\n",
       "      <td>US stocks portfolio</td>\n",
       "      <td>1000.0</td>\n",
       "    </tr>\n",
       "    <tr>\n",
       "      <th>^GSPC</th>\n",
       "      <td>US stocks portfolio</td>\n",
       "      <td>1000.0</td>\n",
       "    </tr>\n",
       "    <tr>\n",
       "      <th>Technology CFD</th>\n",
       "      <th>AAPL</th>\n",
       "      <td>US stocks portfolio</td>\n",
       "      <td>-500.0</td>\n",
       "    </tr>\n",
       "  </tbody>\n",
       "</table>\n",
       "</div>"
      ],
      "text/plain": [
       "                                portfolio  AmountUSD\n",
       "book           Stock                                \n",
       "Indices        ^DJI   US stocks portfolio     1000.0\n",
       "               ^GSPC  US stocks portfolio     1000.0\n",
       "Technology CFD AAPL   US stocks portfolio     -500.0"
      ]
     },
     "execution_count": 3,
     "metadata": {},
     "output_type": "execute_result"
    }
   ],
   "source": [
    "# Now let's load the positions.\n",
    "positions_store = session.read_csv(\n",
    "    \"positions_snapshot.csv\",\n",
    "    keys=[\"book\", \"Stock\"],\n",
    "    store_name=\"Positions\",\n",
    "    types={\"AmountUSD\": tt.types.DOUBLE},\n",
    ")\n",
    "\n",
    "positions_store.head(3)"
   ]
  },
  {
   "cell_type": "code",
   "execution_count": 4,
   "metadata": {},
   "outputs": [],
   "source": [
    "positions_store.join(market_data_store)"
   ]
  },
  {
   "cell_type": "markdown",
   "metadata": {},
   "source": [
    "# Creating an OLAP cube"
   ]
  },
  {
   "cell_type": "code",
   "execution_count": 5,
   "metadata": {},
   "outputs": [
    {
     "data": {
      "application/json": {
       "Dimensions": {
        "Hierarchies": {
         "Stock": [
          "Stock"
         ],
         "book": [
          "book"
         ],
         "portfolio": [
          "portfolio"
         ]
        }
       },
       "Measures": {
        "AmountUSD.MEAN": {
         "formatter": "DOUBLE[#,###.00]",
         "visible": true
        },
        "AmountUSD.SUM": {
         "formatter": "DOUBLE[#,###.00]",
         "visible": true
        },
        "Prices.VALUE": {
         "formatter": null,
         "visible": true
        },
        "Returns.VALUE": {
         "formatter": null,
         "visible": true
        },
        "contributors.COUNT": {
         "formatter": null,
         "visible": true
        }
       }
      },
      "text/html": [
       "<ul>\n",
       "<li>Historical VaR Cube\n",
       "  <ul>\n",
       "  <li>Dimensions\n",
       "    <ul>\n",
       "    <li>Hierarchies\n",
       "      <ul>\n",
       "      <li>Stock\n",
       "        <ol>\n",
       "        <li>Stock</li>\n",
       "        </ol>      </li>\n",
       "      <li>book\n",
       "        <ol>\n",
       "        <li>book</li>\n",
       "        </ol>      </li>\n",
       "      <li>portfolio\n",
       "        <ol>\n",
       "        <li>portfolio</li>\n",
       "        </ol>      </li>\n",
       "      </ul>\n",
       "    </li>\n",
       "    </ul>\n",
       "  </li>\n",
       "  <li>Measures\n",
       "    <ul>\n",
       "    <li>AmountUSD.MEAN\n",
       "      <ul>\n",
       "      <li>formatter: DOUBLE[#,###.00]</li>\n",
       "      <li>visible: True</li>\n",
       "      </ul>\n",
       "    </li>\n",
       "    <li>AmountUSD.SUM\n",
       "      <ul>\n",
       "      <li>formatter: DOUBLE[#,###.00]</li>\n",
       "      <li>visible: True</li>\n",
       "      </ul>\n",
       "    </li>\n",
       "    <li>Prices.VALUE\n",
       "      <ul>\n",
       "      <li>formatter: None</li>\n",
       "      <li>visible: True</li>\n",
       "      </ul>\n",
       "    </li>\n",
       "    <li>Returns.VALUE\n",
       "      <ul>\n",
       "      <li>formatter: None</li>\n",
       "      <li>visible: True</li>\n",
       "      </ul>\n",
       "    </li>\n",
       "    <li>contributors.COUNT\n",
       "      <ul>\n",
       "      <li>formatter: None</li>\n",
       "      <li>visible: True</li>\n",
       "      </ul>\n",
       "    </li>\n",
       "    </ul>\n",
       "  </li>\n",
       "  </ul>\n",
       "</li>\n",
       "</ul>\n"
      ],
      "text/plain": [
       "<atoti.cube.Cube at 0x110bf98e0>"
      ]
     },
     "execution_count": 5,
     "metadata": {
      "application/json": {
       "expanded": false,
       "root": "Historical VaR Cube"
      }
     },
     "output_type": "execute_result"
    }
   ],
   "source": [
    "cube = session.create_cube(positions_store, \"Historical VaR Cube\", mode=\"auto\")\n",
    "h = cube.hierarchies\n",
    "l = cube.levels\n",
    "m = cube.measures\n",
    "cube"
   ]
  },
  {
   "cell_type": "markdown",
   "metadata": {},
   "source": [
    "Let's put Books under Portfolios to create a multi-level hierarchy:"
   ]
  },
  {
   "cell_type": "code",
   "execution_count": 6,
   "metadata": {},
   "outputs": [],
   "source": [
    "h[\"Portfolio Structure\"] = {\n",
    "    \"Portfolio\": l[\"portfolio\"],\n",
    "    \"Book\": l['book']\n",
    "}"
   ]
  },
  {
   "cell_type": "markdown",
   "metadata": {},
   "source": [
    "The default aggregation functions created at this step allow to display position's market values. I'm using the multi-level `Portfolio Structure` to expand data:"
   ]
  },
  {
   "cell_type": "code",
   "execution_count": 8,
   "metadata": {
    "atoti": {
     "state": {
      "name": "",
      "type": "container",
      "value": {
       "body": {
        "configuration": {
         "tabular": {
          "addButtonFilter": "numeric",
          "columns": [
           {
            "key": "[Measures].[AmountUSD.SUM]",
            "width": 176
           }
          ],
          "columnsGroups": [
           {
            "captionProducer": "firstColumn",
            "cellFactory": "kpi-status",
            "selector": "kpi-status"
           },
           {
            "captionProducer": "firstColumn",
            "cellFactory": "lookup",
            "selector": "lookup"
           },
           {
            "captionProducer": "expiry",
            "cellFactory": "expiry",
            "selector": "kpi-expiry"
           },
           {
            "captionProducer": "columnMerge",
            "cellFactory": {
             "args": {},
             "key": "treeCells"
            },
            "selector": "member"
           }
          ],
          "defaultOptions": {},
          "expansion": {
           "automaticExpansion": true
          },
          "hideAddButton": true,
          "pinnedHeaderSelector": "member",
          "sortingMode": "non-breaking",
          "statisticsShown": true
         }
        },
        "contextValues": {},
        "mdx": "SELECT NON EMPTY Hierarchize(DrilldownLevel([Hierarchies].[Portfolio Structure].[ALL].[AllMember])) ON ROWS, NON EMPTY [Measures].[AmountUSD.SUM] ON COLUMNS FROM [Historical VaR Cube] CELL PROPERTIES VALUE, FORMATTED_VALUE, BACK_COLOR, FORE_COLOR, FONT_FLAGS",
        "ranges": {
         "column": {
          "chunkSize": 50,
          "thresholdPercentage": 0.2
         },
         "row": {
          "chunkSize": 2000,
          "thresholdPercentage": 0.1
         }
        },
        "serverUrl": "",
        "updateMode": "once"
       },
       "containerKey": "pivot-table",
       "showTitleBar": false,
       "style": {}
      }
     }
    }
   },
   "outputs": [
    {
     "data": {
      "application/vnd.atoti.v0+json": {
       "cube": "Historical VaR Cube",
       "name": null,
       "session": "Unnamed"
      },
      "text/plain": [
       "Install and enable the atoti JupyterLab extension to see this widget."
      ]
     },
     "metadata": {},
     "output_type": "display_data"
    }
   ],
   "source": [
    "cube.visualize()"
   ]
  },
  {
   "cell_type": "markdown",
   "metadata": {},
   "source": [
    "# New measure for the VaR vector\n",
    "\n",
    "In our toy example we multiply the positions market values -  _AmountUSD_  - by the stock returns for each name to obtain the historical VaR vectors. This step is not necessary if PL vectors are delivered by a risk system. "
   ]
  },
  {
   "cell_type": "code",
   "execution_count": 8,
   "metadata": {},
   "outputs": [],
   "source": [
    "m[\"VaR Vector\"] = tt.agg.sum(\n",
    "    m[\"AmountUSD.SUM\"] * m[\"Returns.VALUE\"], scope=tt.scope.origin(l[\"Stock\"])\n",
    ")"
   ]
  },
  {
   "cell_type": "markdown",
   "metadata": {},
   "source": [
    "We can now explore the VaR vectors at stock and book level."
   ]
  },
  {
   "cell_type": "code",
   "execution_count": 10,
   "metadata": {
    "atoti": {
     "state": {
      "name": "",
      "type": "container",
      "value": {
       "body": {
        "configuration": {
         "tabular": {
          "addButtonFilter": "numeric",
          "columns": [
           {
            "key": "[Measures].[VaR Vector]",
            "width": 120
           }
          ],
          "columnsGroups": [
           {
            "captionProducer": "firstColumn",
            "cellFactory": "kpi-status",
            "selector": "kpi-status"
           },
           {
            "captionProducer": "firstColumn",
            "cellFactory": "lookup",
            "selector": "lookup"
           },
           {
            "captionProducer": "expiry",
            "cellFactory": "expiry",
            "selector": "kpi-expiry"
           },
           {
            "captionProducer": "columnMerge",
            "cellFactory": {
             "args": {},
             "key": "treeCells"
            },
            "selector": "member"
           }
          ],
          "defaultOptions": {},
          "expansion": {
           "automaticExpansion": true
          },
          "hideAddButton": true,
          "pinnedHeaderSelector": "member",
          "sortingMode": "non-breaking",
          "statisticsShown": true
         }
        },
        "contextValues": {},
        "mdx": "SELECT NON EMPTY Hierarchize(DrilldownLevel([Hierarchies].[Portfolio Structure].[ALL].[AllMember])) ON ROWS, NON EMPTY [Measures].[VaR Vector] ON COLUMNS FROM [Historical VaR Cube] CELL PROPERTIES VALUE, FORMATTED_VALUE, BACK_COLOR, FORE_COLOR, FONT_FLAGS",
        "ranges": {
         "column": {
          "chunkSize": 50,
          "thresholdPercentage": 0.2
         },
         "row": {
          "chunkSize": 2000,
          "thresholdPercentage": 0.1
         }
        },
        "serverUrl": "",
        "updateMode": "once"
       },
       "containerKey": "pivot-table",
       "showTitleBar": false,
       "style": {}
      }
     }
    }
   },
   "outputs": [
    {
     "data": {
      "application/vnd.atoti.v0+json": {
       "cube": "Historical VaR Cube",
       "name": null,
       "session": "Unnamed"
      },
      "text/plain": [
       "Install and enable the atoti JupyterLab extension to see this widget."
      ]
     },
     "metadata": {},
     "output_type": "display_data"
    }
   ],
   "source": [
    "cube.visualize()"
   ]
  },
  {
   "cell_type": "markdown",
   "metadata": {},
   "source": [
    "# Enriching VaR vectors with date labels"
   ]
  },
  {
   "cell_type": "markdown",
   "metadata": {},
   "source": [
    "So far, VaR vectors are not intuitive. Let's create a hierarchy that will allow to display P&L value by historical date, which is more user friendly."
   ]
  },
  {
   "cell_type": "code",
   "execution_count": 11,
   "metadata": {},
   "outputs": [],
   "source": [
    "calendar = pd.date_range(end = '2020-06-09', periods = 3632, freq=\"B\")"
   ]
  },
  {
   "cell_type": "code",
   "execution_count": 12,
   "metadata": {},
   "outputs": [],
   "source": [
    "cube.create_parameter_hierarchy(\n",
    "    \"Historical Dates\", calendar, index_measure=\"Date Index\",\n",
    ")"
   ]
  },
  {
   "cell_type": "code",
   "execution_count": 13,
   "metadata": {},
   "outputs": [],
   "source": [
    "# This new measure will pick an element from the VaR vector:\n",
    "m[\"PnL at date\"] = m[\"VaR Vector\"][m[\"Date Index\"]]\n",
    "m[\"PnL at date\"].formatter = \"DOUBLE[#,##0.#]\"\n",
    "m[\"Price at date\"] = m[\"Prices.VALUE\"][m[\"Date Index\"]]"
   ]
  },
  {
   "cell_type": "markdown",
   "metadata": {},
   "source": [
    "Let's do some simple verification. In the following Pivot table (filtered for the 4 recent dates), we can see the PnL value for each date scenario.  \n",
    "\n",
    "For each date, let's drill down to the books and stock. "
   ]
  },
  {
   "cell_type": "code",
   "execution_count": 15,
   "metadata": {
    "atoti": {
     "state": {
      "name": "",
      "type": "container",
      "value": {
       "body": {
        "configuration": {
         "tabular": {
          "addButtonFilter": "numeric",
          "columns": [
           {
            "key": "[Measures].[VaR Vector]",
            "width": 384
           }
          ],
          "columnsGroups": [
           {
            "captionProducer": "firstColumn",
            "cellFactory": "kpi-status",
            "selector": "kpi-status"
           },
           {
            "captionProducer": "firstColumn",
            "cellFactory": "lookup",
            "selector": "lookup"
           },
           {
            "captionProducer": "expiry",
            "cellFactory": "expiry",
            "selector": "kpi-expiry"
           },
           {
            "captionProducer": "columnMerge",
            "cellFactory": {
             "args": {},
             "key": "treeCells"
            },
            "selector": "member"
           }
          ],
          "defaultOptions": {},
          "expansion": {
           "automaticExpansion": true
          },
          "hideAddButton": true,
          "pinnedHeaderSelector": "member",
          "sortingMode": "non-breaking",
          "statisticsShown": true
         }
        },
        "contextValues": {},
        "mdx": "SELECT NON EMPTY Hierarchize([Hierarchies].[Historical Dates].[Historical Dates].Members) ON ROWS, NON EMPTY {[Measures].[Date Index], [Measures].[PnL at date]} ON COLUMNS FROM (SELECT Subset(Order([Hierarchies].[Historical Dates].[Historical Dates].Members, [Hierarchies].[Historical Dates].CurrentMember.MemberValue, BDESC), 0, 4) ON COLUMNS FROM [Historical VaR Cube]) CELL PROPERTIES VALUE, FORMATTED_VALUE, BACK_COLOR, FORE_COLOR, FONT_FLAGS",
        "ranges": {
         "column": {
          "chunkSize": 50,
          "thresholdPercentage": 0.2
         },
         "row": {
          "chunkSize": 2000,
          "thresholdPercentage": 0.1
         }
        },
        "serverUrl": "",
        "updateMode": "once"
       },
       "containerKey": "pivot-table",
       "showTitleBar": false,
       "style": {}
      }
     }
    }
   },
   "outputs": [
    {
     "data": {
      "application/vnd.atoti.v0+json": {
       "cube": "Historical VaR Cube",
       "name": null,
       "session": "Unnamed"
      },
      "text/plain": [
       "Install and enable the atoti JupyterLab extension to see this widget."
      ]
     },
     "metadata": {},
     "output_type": "display_data"
    }
   ],
   "source": [
    "cube.visualize()"
   ]
  },
  {
   "cell_type": "markdown",
   "metadata": {},
   "source": [
    "Or, for prices (this view is filtered for three most recent dates):"
   ]
  },
  {
   "cell_type": "code",
   "execution_count": 17,
   "metadata": {
    "atoti": {
     "state": {
      "name": "",
      "type": "container",
      "value": {
       "body": {
        "configuration": {
         "tabular": {
          "addButtonFilter": "numeric",
          "columns": [
           {
            "key": "[Measures].[Prices.VALUE]",
            "width": 354
           }
          ],
          "columnsGroups": [
           {
            "captionProducer": "firstColumn",
            "cellFactory": "kpi-status",
            "selector": "kpi-status"
           },
           {
            "captionProducer": "firstColumn",
            "cellFactory": "lookup",
            "selector": "lookup"
           },
           {
            "captionProducer": "expiry",
            "cellFactory": "expiry",
            "selector": "kpi-expiry"
           },
           {
            "captionProducer": "columnMerge",
            "cellFactory": {
             "args": {},
             "key": "treeCells"
            },
            "selector": "member"
           }
          ],
          "defaultOptions": {},
          "expansion": {
           "automaticExpansion": true
          },
          "hideAddButton": true,
          "pinnedHeaderSelector": "member",
          "sortingMode": "non-breaking",
          "statisticsShown": true
         }
        },
        "contextValues": {},
        "mdx": "SELECT NON EMPTY Crossjoin({[Measures].[Price at date]}, Hierarchize([Hierarchies].[Historical Dates].[Historical Dates].Members)) ON COLUMNS, NON EMPTY Hierarchize(DrilldownLevel([Hierarchies].[Stock].[ALL].[AllMember])) ON ROWS FROM (SELECT Subset(Order([Hierarchies].[Historical Dates].[Historical Dates].Members, [Hierarchies].[Historical Dates].CurrentMember.MemberValue, BDESC), 0, 3) ON COLUMNS FROM [Historical VaR Cube]) CELL PROPERTIES VALUE, FORMATTED_VALUE, BACK_COLOR, FORE_COLOR, FONT_FLAGS",
        "ranges": {
         "column": {
          "chunkSize": 50,
          "thresholdPercentage": 0.2
         },
         "row": {
          "chunkSize": 2000,
          "thresholdPercentage": 0.1
         }
        },
        "serverUrl": "",
        "updateMode": "once"
       },
       "containerKey": "pivot-table",
       "showTitleBar": false,
       "style": {}
      }
     }
    }
   },
   "outputs": [
    {
     "data": {
      "application/vnd.atoti.v0+json": {
       "cube": "Historical VaR Cube",
       "name": null,
       "session": "Unnamed"
      },
      "text/plain": [
       "Install and enable the atoti JupyterLab extension to see this widget."
      ]
     },
     "metadata": {},
     "output_type": "display_data"
    }
   ],
   "source": [
    "cube.visualize()"
   ]
  },
  {
   "cell_type": "markdown",
   "metadata": {},
   "source": [
    "# Creating Sliding Windows"
   ]
  },
  {
   "cell_type": "markdown",
   "metadata": {},
   "source": [
    "We want to compute VaRs for different observation windows to see which period would lead to the most conservative VaR for our current portfolio. Such a \"worst\" window will be a good candidate for the Stressed VaR calibration and will be a focus for further analysis and decomposition."
   ]
  },
  {
   "cell_type": "code",
   "execution_count": 18,
   "metadata": {},
   "outputs": [],
   "source": [
    "# Lets create a measure for the observation window length:\n",
    "m['Lookback Window'] = 260"
   ]
  },
  {
   "cell_type": "code",
   "execution_count": 19,
   "metadata": {},
   "outputs": [],
   "source": [
    "m[\"VaR Sub-Vector\"] = m[\"VaR Vector\"][\n",
    "    m[\"Date Index\"] - m['Lookback Window'] : m[\"Date Index\"]\n",
    "]"
   ]
  },
  {
   "cell_type": "markdown",
   "metadata": {},
   "source": [
    "The Sub-Vector measure requires having historical dates in the view. \n",
    "\n",
    "Now for each desired scope, the `VaR Sub-Vector` measure will pick 260 most recent values from the `VaR vector`. The below view is filtered for the 3 most recent historical dates. This result is not for human consumption, but still showing it here for illustration purposes."
   ]
  },
  {
   "cell_type": "code",
   "execution_count": 21,
   "metadata": {
    "atoti": {
     "state": {
      "name": "",
      "type": "container",
      "value": {
       "body": {
        "configuration": {
         "tabular": {
          "addButtonFilter": "numeric",
          "columns": [
           {
            "key": "([Measures].[VaR Sub-Vector],[Hierarchies].[Historical Dates].[Historical Dates].[2008-11-18])",
            "width": 271
           },
           {
            "key": "([Measures].[VaR Sub-Vector],[Hierarchies].[Historical Dates].[Historical Dates].[2008-11-19])",
            "width": 166
           },
           {
            "key": "([Measures].[VaR Sub-Vector],[Hierarchies].[Historical Dates].[Historical Dates].[2007-11-20])",
            "width": 205
           }
          ],
          "columnsGroups": [
           {
            "captionProducer": "firstColumn",
            "cellFactory": "kpi-status",
            "selector": "kpi-status"
           },
           {
            "captionProducer": "firstColumn",
            "cellFactory": "lookup",
            "selector": "lookup"
           },
           {
            "captionProducer": "expiry",
            "cellFactory": "expiry",
            "selector": "kpi-expiry"
           },
           {
            "captionProducer": "columnMerge",
            "cellFactory": {
             "args": {},
             "key": "treeCells"
            },
            "selector": "member"
           }
          ],
          "defaultOptions": {},
          "expansion": {
           "automaticExpansion": true
          },
          "hideAddButton": true,
          "pinnedHeaderSelector": "member",
          "sortingMode": "non-breaking",
          "statisticsShown": true
         }
        },
        "contextValues": {},
        "mdx": "SELECT NON EMPTY Hierarchize(DrilldownLevel([Hierarchies].[Portfolio Structure].[ALL].[AllMember])) ON ROWS, NON EMPTY Crossjoin([Measures].[VaR Sub-Vector], Hierarchize([Hierarchies].[Historical Dates].[Historical Dates].Members)) ON COLUMNS FROM (SELECT Subset(Order([Hierarchies].[Historical Dates].[Historical Dates].Members, [Hierarchies].[Historical Dates].CurrentMember.MemberValue, BDESC), 0, 3) ON COLUMNS FROM [Historical VaR Cube]) CELL PROPERTIES VALUE, FORMATTED_VALUE, BACK_COLOR, FORE_COLOR, FONT_FLAGS",
        "ranges": {
         "column": {
          "chunkSize": 50,
          "thresholdPercentage": 0.2
         },
         "row": {
          "chunkSize": 2000,
          "thresholdPercentage": 0.1
         }
        },
        "serverUrl": "",
        "updateMode": "once"
       },
       "containerKey": "pivot-table",
       "showTitleBar": false,
       "style": {}
      }
     }
    }
   },
   "outputs": [
    {
     "data": {
      "application/vnd.atoti.v0+json": {
       "cube": "Historical VaR Cube",
       "name": null,
       "session": "Unnamed"
      },
      "text/plain": [
       "Install and enable the atoti JupyterLab extension to see this widget."
      ]
     },
     "metadata": {},
     "output_type": "display_data"
    }
   ],
   "source": [
    "cube.visualize()"
   ]
  },
  {
   "cell_type": "markdown",
   "metadata": {},
   "source": [
    "# Adding Sliding VaR measure\n",
    "\n",
    "In this notebook, we'll apply a simple quantile function to the subvector. \n",
    "\n",
    "Please read about about **VaR-type estimators using kernel functions** in our future blog posts."
   ]
  },
  {
   "cell_type": "code",
   "execution_count": 22,
   "metadata": {},
   "outputs": [],
   "source": [
    "m[\"1d 99% VaR Sliding\"] = tt.array.quantile(m[\"VaR Sub-Vector\"], 0.01)"
   ]
  },
  {
   "cell_type": "markdown",
   "metadata": {},
   "source": [
    "As it's based on the `VaR Sub-Vector` measure, it also requires the `Historical Dates` in the view:"
   ]
  },
  {
   "cell_type": "markdown",
   "metadata": {},
   "source": [
    "As expected, VaR chart is step-wise and goes up and down every time extreme scenarios leave the observation window."
   ]
  },
  {
   "cell_type": "code",
   "execution_count": 24,
   "metadata": {
    "atoti": {
     "state": {
      "name": "",
      "type": "container",
      "value": {
       "body": {
        "configuration": {
         "mapping": {
          "horizontalSubplots": [],
          "splitBy": [
           "[Hierarchies].[portfolio].[portfolio]"
          ],
          "values": [
           "[Measures].[1d 99% VaR Sliding]"
          ],
          "verticalSubplots": [],
          "xAxis": [
           "[Hierarchies].[Historical Dates].[Historical Dates]"
          ]
         },
         "plotly": {
          "data": {
           "commonTraceOverride": {
            "marker": {
             "size": 1
            }
           }
          }
         },
         "type": "plotly-line-chart"
        },
        "query": {
         "mdx": "SELECT NON EMPTY {[Measures].[1d 99% VaR Sliding]} ON COLUMNS, NON EMPTY Crossjoin([Hierarchies].[Historical Dates].[Historical Dates].Members, [Hierarchies].[portfolio].[portfolio].Members) ON ROWS FROM [Historical VaR Cube] CELL PROPERTIES BACK_COLOR, FONT_FLAGS, FORE_COLOR, FORMATTED_VALUE, VALUE",
         "serverUrl": "",
         "updateMode": "once"
        }
       },
       "containerKey": "chart",
       "showTitleBar": false,
       "style": {}
      }
     }
    }
   },
   "outputs": [
    {
     "data": {
      "application/vnd.atoti.v0+json": {
       "cube": "Historical VaR Cube",
       "name": null,
       "session": "Unnamed"
      },
      "text/plain": [
       "Install and enable the atoti JupyterLab extension to see this widget."
      ]
     },
     "metadata": {},
     "output_type": "display_data"
    }
   ],
   "source": [
    "cube.visualize()"
   ]
  },
  {
   "cell_type": "markdown",
   "metadata": {},
   "source": [
    "# Quantiles for stock returns"
   ]
  },
  {
   "cell_type": "code",
   "execution_count": 25,
   "metadata": {},
   "outputs": [],
   "source": [
    "m[\"Returns Sub-Vector 260 window\"] = m[\"Returns.VALUE\"][\n",
    "    m[\"Date Index\"] - 260 : m[\"Date Index\"]\n",
    "]\n",
    "m[\"Empirical 99% Percentile based on 260 days rolling window\"] = tt.array.quantile(m[\"Returns Sub-Vector 260 window\"], 0.01)\n",
    "\n",
    "m[\"Returns Sub-Vector 130 window\"] = m[\"Returns.VALUE\"][\n",
    "    m[\"Date Index\"] - 130 : m[\"Date Index\"]\n",
    "]\n",
    "m[\"Empirical 99% Percentile based on 130 days rolling window\"] = tt.array.quantile(m[\"Returns Sub-Vector 130 window\"], 0.01)"
   ]
  },
  {
   "cell_type": "code",
   "execution_count": 47,
   "metadata": {},
   "outputs": [],
   "source": [
    "m['1d pct price change'] = m['Returns.VALUE'][m[\"Date Index\"]]\n",
    "m['1d pct price change'].formatter = \"DOUBLE[#%]\""
   ]
  },
  {
   "cell_type": "code",
   "execution_count": 44,
   "metadata": {
    "atoti": {
     "state": {
      "name": "",
      "type": "container",
      "value": {
       "body": {
        "configuration": {
         "mapping": {
          "horizontalSubplots": [],
          "splitBy": [],
          "values": [
           "[Measures].[Empirical 99% Percentile based on 130 days rolling window]",
           "[Measures].[Empirical 99% Percentile based on 260 days rolling window]",
           "[Measures].[1d pct price change]"
          ],
          "verticalSubplots": [],
          "xAxis": [
           "[Hierarchies].[Historical Dates].[Historical Dates]"
          ]
         },
         "plotly": {
          "data": {
           "commonTraceOverride": {
            "marker": {
             "size": 1
            }
           }
          },
          "layout": {
           "legend": {
            "x": 0.1,
            "y": -0.3,
            "yanchor": "top"
           },
           "yaxis": {
            "tickformat": "%"
           }
          }
         },
         "type": "plotly-line-chart"
        },
        "query": {
         "mdx": "SELECT NON EMPTY {[Measures].[Empirical 99% Percentile based on 130 days rolling window], [Measures].[Empirical 99% Percentile based on 260 days rolling window], [Measures].[1d pct price change]} ON COLUMNS, NON EMPTY [Hierarchies].[Historical Dates].[Historical Dates].Members ON ROWS FROM [Historical VaR Cube] WHERE [Hierarchies].[Stock].[ALL].[AllMember].[^GSPC] CELL PROPERTIES VALUE, FORMATTED_VALUE, BACK_COLOR, FORE_COLOR, FONT_FLAGS",
         "serverUrl": "",
         "updateMode": "once"
        }
       },
       "containerKey": "chart",
       "showTitleBar": false,
       "style": {}
      }
     }
    }
   },
   "outputs": [
    {
     "data": {
      "application/vnd.atoti.v0+json": {
       "cube": "Historical VaR Cube",
       "name": null,
       "session": "Unnamed"
      },
      "text/plain": [
       "Install and enable the atoti JupyterLab extension to see this widget."
      ]
     },
     "metadata": {},
     "output_type": "display_data"
    }
   ],
   "source": [
    "cube.visualize()"
   ]
  },
  {
   "cell_type": "markdown",
   "metadata": {},
   "source": [
    "# Drill down to the worst scenarios"
   ]
  },
  {
   "cell_type": "code",
   "execution_count": 46,
   "metadata": {
    "atoti": {
     "state": {
      "name": "",
      "type": "container",
      "value": {
       "body": {
        "configuration": {
         "tabular": {
          "addButtonFilter": "numeric",
          "columnOrder": {
           "args": {
            "orderedColumns": [
             "c-treeCells-member",
             "([Measures].[PnL at date],[Hierarchies].[Portfolio Structure].[ALL].[AllMember])",
             "([Measures].[PnL at date],[Hierarchies].[Portfolio Structure].[ALL].[AllMember].[MSCI stocks portfolio])",
             "([Measures].[PnL at date],[Hierarchies].[Portfolio Structure].[ALL].[AllMember].[US stocks portfolio])",
             "([Measures].[1d pct price change],[Hierarchies].[Portfolio Structure].[ALL].[AllMember])",
             "([Measures].[1d pct price change],[Hierarchies].[Portfolio Structure].[ALL].[AllMember].[MSCI stocks portfolio])",
             "([Measures].[1d pct price change],[Hierarchies].[Portfolio Structure].[ALL].[AllMember].[US stocks portfolio])"
            ]
           },
           "key": "explicit"
          },
          "columns": [
           {
            "key": "c-treeCells-member",
            "width": 174
           }
          ],
          "columnsGroups": [
           {
            "captionProducer": "firstColumn",
            "cellFactory": "kpi-status",
            "selector": "kpi-status"
           },
           {
            "captionProducer": "firstColumn",
            "cellFactory": "lookup",
            "selector": "lookup"
           },
           {
            "captionProducer": "expiry",
            "cellFactory": "expiry",
            "selector": "kpi-expiry"
           },
           {
            "captionProducer": "columnMerge",
            "cellFactory": {
             "args": {},
             "key": "treeCells"
            },
            "selector": "member"
           }
          ],
          "defaultOptions": {
           "headerHeight": 57
          },
          "expansion": {
           "automaticExpansion": true
          },
          "hideAddButton": true,
          "pinnedHeaderSelector": "member",
          "sortingMode": "non-breaking",
          "statisticsShown": true
         }
        },
        "contextValues": {},
        "mdx": "WITH  Member [Measures].[1d pct price change (1)] AS [Measures].[1d pct price change], BACK_COLOR = CASE WHEN [Measures].[1d pct price change (1)] >= 0.2 THEN rgb(147, 196, 125) WHEN [Measures].[1d pct price change (1)] <= - 0.2 THEN rgb(244, 204, 204) END, FORMAT_STRING = \"#%\", CAPTION = [Measures].[1d pct price change].MEMBER_CAPTION  SELECT NON EMPTY Crossjoin({[Measures].[PnL at date], [Measures].[1d pct price change (1)]}, Hierarchize(DrilldownLevel([Hierarchies].[Portfolio Structure].[ALL].[AllMember]))) ON COLUMNS, NON EMPTY Hierarchize(Union(Crossjoin([Hierarchies].[Historical Dates].[Historical Dates].Members, [Hierarchies].[Stock].DefaultMember), Crossjoin([Hierarchies].[Historical Dates].[Historical Dates].[2009-02-13], [Hierarchies].[Stock].[Stock].Members))) ON ROWS FROM (SELECT BottomCount(Filter([Hierarchies].[Historical Dates].Levels(0).Members, NOT IsEmpty([Measures].[PnL at date])), 5, [Measures].[PnL at date]) ON COLUMNS FROM [Historical VaR Cube]) CELL PROPERTIES BACK_COLOR, FONT_FLAGS, FORE_COLOR, FORMATTED_VALUE, VALUE",
        "ranges": {
         "column": {
          "chunkSize": 50,
          "thresholdPercentage": 0.2
         },
         "row": {
          "chunkSize": 2000,
          "thresholdPercentage": 0.1
         }
        },
        "serverUrl": "",
        "updateMode": "once"
       },
       "containerKey": "pivot-table",
       "showTitleBar": false,
       "style": {}
      }
     }
    }
   },
   "outputs": [
    {
     "data": {
      "application/vnd.atoti.v0+json": {
       "cube": "Historical VaR Cube",
       "name": null,
       "session": "Unnamed"
      },
      "text/plain": [
       "Install and enable the atoti JupyterLab extension to see this widget."
      ]
     },
     "metadata": {},
     "output_type": "display_data"
    }
   ],
   "source": [
    "cube.visualize()"
   ]
  },
  {
   "cell_type": "markdown",
   "metadata": {},
   "source": [
    "# What-If on different lookback setting\n",
    "\n",
    "Now let's setup a what-if simulation and change the Lookback Window to shorter and longer lengths. "
   ]
  },
  {
   "cell_type": "code",
   "execution_count": 29,
   "metadata": {},
   "outputs": [],
   "source": [
    "lookback_windows = cube.setup_simulation(\n",
    "    \"Lookback Windows\", replace=[m[\"Lookback Window\"]], base_scenario=\"260 days\"\n",
    ").scenarios\n",
    "lookback_windows[\"10 days\"] = 10\n",
    "lookback_windows[\"120 days\"] = 120\n",
    "lookback_windows[\"2600 days\"] = 2600"
   ]
  },
  {
   "cell_type": "markdown",
   "metadata": {},
   "source": [
    "Now the different `Lookback Windows` are available in the UI for analysis. As expected, the shorter the observation window, the faster VaR metric reacts to changes in market volatility."
   ]
  },
  {
   "cell_type": "code",
   "execution_count": 31,
   "metadata": {
    "atoti": {
     "state": {
      "name": "",
      "type": "container",
      "value": {
       "body": {
        "configuration": {
         "mapping": {
          "horizontalSubplots": [],
          "splitBy": [
           "[Measure Simulations].[Lookback Windows].[Lookback Windows]"
          ],
          "values": [
           "[Measures].[1d 99% VaR Sliding]"
          ],
          "verticalSubplots": [],
          "xAxis": [
           "[Hierarchies].[Historical Dates].[Historical Dates]"
          ]
         },
         "plotly": {
          "data": {
           "commonTraceOverride": {
            "marker": {
             "size": 1
            }
           }
          }
         },
         "type": "plotly-line-chart"
        },
        "query": {
         "mdx": "SELECT NON EMPTY [Measures].[1d 99% VaR Sliding] ON COLUMNS, NON EMPTY Crossjoin([Hierarchies].[Historical Dates].[Historical Dates].Members, [Measure Simulations].[Lookback Windows].[Lookback Windows].Members) ON ROWS FROM (SELECT [Hierarchies].[Portfolio Structure].[ALL].[AllMember].[US stocks portfolio] ON COLUMNS FROM (SELECT Subset(Order([Hierarchies].[Historical Dates].[Historical Dates].Members, [Hierarchies].[Historical Dates].CurrentMember.MemberValue, BDESC), 0, 180) ON COLUMNS FROM [Historical VaR Cube])) CELL PROPERTIES VALUE, FORMATTED_VALUE, BACK_COLOR, FORE_COLOR, FONT_FLAGS",
         "serverUrl": "",
         "updateMode": "once"
        }
       },
       "containerKey": "chart",
       "showTitleBar": false,
       "style": {}
      }
     }
    }
   },
   "outputs": [
    {
     "data": {
      "application/vnd.atoti.v0+json": {
       "cube": "Historical VaR Cube",
       "name": null,
       "session": "Unnamed"
      },
      "text/plain": [
       "Install and enable the atoti JupyterLab extension to see this widget."
      ]
     },
     "metadata": {},
     "output_type": "display_data"
    }
   ],
   "source": [
    "cube.visualize()"
   ]
  },
  {
   "cell_type": "markdown",
   "metadata": {},
   "source": [
    "# Worst VaR period\n",
    "\n",
    "Now let's create a measure that will compute the worst VaR for any scope of data - for example, books or legal entities - that we want to have in the view."
   ]
  },
  {
   "cell_type": "code",
   "execution_count": 48,
   "metadata": {},
   "outputs": [],
   "source": [
    "# the measure should compute the worst VaR across sliding windows - doesn't work as desired unfortunately\n",
    "m['Worst VaR'] = tt.agg.min(m[\"1d 99% VaR Sliding\"], scope = tt.scope.origin(l['Historical Dates']))"
   ]
  },
  {
   "cell_type": "code",
   "execution_count": 34,
   "metadata": {
    "atoti": {
     "state": {
      "name": "",
      "type": "container",
      "value": {
       "body": {
        "configuration": {
         "tabular": {
          "addButtonFilter": "numeric",
          "columns": [
           {
            "key": "[Measures].[1d 99% VaR Sliding]",
            "width": 174
           }
          ],
          "columnsGroups": [
           {
            "captionProducer": "firstColumn",
            "cellFactory": "kpi-status",
            "selector": "kpi-status"
           },
           {
            "captionProducer": "firstColumn",
            "cellFactory": "lookup",
            "selector": "lookup"
           },
           {
            "captionProducer": "expiry",
            "cellFactory": "expiry",
            "selector": "kpi-expiry"
           },
           {
            "captionProducer": "columnMerge",
            "cellFactory": {
             "args": {},
             "key": "treeCells"
            },
            "selector": "member"
           }
          ],
          "defaultOptions": {},
          "expansion": {
           "automaticExpansion": true
          },
          "hideAddButton": true,
          "pinnedHeaderSelector": "member",
          "sortingMode": "non-breaking",
          "statisticsShown": true
         }
        },
        "contextValues": {},
        "mdx": "SELECT NON EMPTY Hierarchize(Union(Crossjoin(Union(DrilldownLevel([Hierarchies].[Portfolio Structure].[ALL].[AllMember]), Descendants({[Hierarchies].[Portfolio Structure].[ALL].[AllMember].[US stocks]}, [Hierarchies].[Portfolio Structure].[Book])), [Hierarchies].[Stock].DefaultMember), Crossjoin([Hierarchies].[Portfolio Structure].[ALL].[AllMember].[US stocks].[Technology CFD], [Hierarchies].[Stock].[Stock].Members))) ON ROWS, NON EMPTY {[Measures].[1d 99% VaR Sliding], [Measures].[Worst VaR]} ON COLUMNS FROM (SELECT Subset(Order([Hierarchies].[Historical Dates].[Historical Dates].Members, [Hierarchies].[Historical Dates].CurrentMember.MemberValue, BDESC), 0, 1) ON COLUMNS FROM [Historical VaR Cube]) CELL PROPERTIES VALUE, FORMATTED_VALUE, BACK_COLOR, FORE_COLOR, FONT_FLAGS",
        "ranges": {
         "column": {
          "chunkSize": 50,
          "thresholdPercentage": 0.2
         },
         "row": {
          "chunkSize": 2000,
          "thresholdPercentage": 0.1
         }
        },
        "serverUrl": "",
        "updateMode": "once"
       },
       "containerKey": "pivot-table",
       "showTitleBar": false,
       "style": {}
      }
     }
    }
   },
   "outputs": [
    {
     "data": {
      "application/vnd.atoti.v0+json": {
       "cube": "Historical VaR Cube",
       "name": null,
       "session": "Unnamed"
      },
      "text/plain": [
       "Install and enable the atoti JupyterLab extension to see this widget."
      ]
     },
     "metadata": {},
     "output_type": "display_data"
    }
   ],
   "source": [
    "cube.visualize()"
   ]
  },
  {
   "cell_type": "markdown",
   "metadata": {},
   "source": [
    "And this measure will return the worst scenario:"
   ]
  },
  {
   "cell_type": "code",
   "execution_count": null,
   "metadata": {},
   "outputs": [],
   "source": [
    "# the measure should compute the worst sliding window - doesn't work as desired unfortunately\n",
    "m['Worst VaR Period'] = tt.agg.min_member(m[\"1d 99% VaR Sliding\"], l['Historical Dates'])"
   ]
  },
  {
   "cell_type": "code",
   "execution_count": 39,
   "metadata": {
    "atoti": {
     "state": {
      "name": "",
      "type": "container",
      "value": {
       "body": {
        "configuration": {
         "tabular": {
          "addButtonFilter": "numeric",
          "columns": [
           {
            "key": "[Measures].[Worst VaR Period]",
            "width": 169
           }
          ],
          "columnsGroups": [
           {
            "captionProducer": "firstColumn",
            "cellFactory": "kpi-status",
            "selector": "kpi-status"
           },
           {
            "captionProducer": "firstColumn",
            "cellFactory": "lookup",
            "selector": "lookup"
           },
           {
            "captionProducer": "expiry",
            "cellFactory": "expiry",
            "selector": "kpi-expiry"
           },
           {
            "captionProducer": "columnMerge",
            "cellFactory": {
             "args": {},
             "key": "treeCells"
            },
            "selector": "member"
           }
          ],
          "defaultOptions": {},
          "expansion": {
           "automaticExpansion": true
          },
          "hideAddButton": true,
          "pinnedHeaderSelector": "member",
          "sortingMode": "non-breaking",
          "statisticsShown": true
         }
        },
        "contextValues": {},
        "mdx": "SELECT NON EMPTY Hierarchize(DrilldownLevel([Hierarchies].[Portfolio Structure].[ALL].[AllMember])) ON ROWS, NON EMPTY {[Measures].[Worst VaR], [Measures].[Worst VaR Period]} ON COLUMNS FROM (SELECT Subset(Order([Hierarchies].[Historical Dates].[Historical Dates].Members, [Hierarchies].[Historical Dates].CurrentMember.MemberValue, BDESC), 0, 1) ON COLUMNS FROM [Historical VaR Cube]) CELL PROPERTIES VALUE, FORMATTED_VALUE, BACK_COLOR, FORE_COLOR, FONT_FLAGS",
        "ranges": {
         "column": {
          "chunkSize": 50,
          "thresholdPercentage": 0.2
         },
         "row": {
          "chunkSize": 2000,
          "thresholdPercentage": 0.1
         }
        },
        "serverUrl": "",
        "updateMode": "once"
       },
       "containerKey": "pivot-table",
       "showTitleBar": false,
       "style": {}
      }
     }
    }
   },
   "outputs": [
    {
     "data": {
      "application/vnd.atoti.v0+json": {
       "cube": "Historical VaR Cube",
       "name": null,
       "session": "Unnamed"
      },
      "text/plain": [
       "Install and enable the atoti JupyterLab extension to see this widget."
      ]
     },
     "metadata": {},
     "output_type": "display_data"
    }
   ],
   "source": [
    "cube.visualize()"
   ]
  }
 ],
 "metadata": {
  "kernelspec": {
   "display_name": "Python 3",
   "language": "python",
   "name": "python3"
  },
  "language_info": {
   "codemirror_mode": {
    "name": "ipython",
    "version": 3
   },
   "file_extension": ".py",
   "mimetype": "text/x-python",
   "name": "python",
   "nbconvert_exporter": "python",
   "pygments_lexer": "ipython3",
   "version": "3.8.2"
  }
 },
 "nbformat": 4,
 "nbformat_minor": 4
}
