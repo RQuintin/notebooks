{
 "cells": [
  {
   "cell_type": "markdown",
   "metadata": {},
   "source": [
    "# Introduction\n",
    "\n",
    "#market-risk, #var, #variance-covariance, #sbm, #frtb, #cva-frtb, #simm\n",
    "\n",
    "Run this notebook to create an analytical application for the SBM charge. The input data will be stored in-memory and Atoti will perform the computation \"on-the-fly\". Users can filter and drill down to explore your data.\n",
    "\n",
    "You will find below how the SBM logic can be described in python and injected into Atoti. We'll narrow down the use case to Equity Delta charge, the other aggregation chains can be added in a similar manner.\n",
    "\n",
    "Sensitivity-based mathod is one of the parametric market risk methodologies. It can be used to compute a VaR-like metric from sensitivities using pre-calibrated risk weights and correlations, through a sequence of nested variance covariance formulae. Due to its multiple benefits (see [2]), the method is widely used both internally by orgazations to manage market risk, as well as by Regulators for capital requirements purposes (FRTB) as well as margining (SIMM). \n",
    "\n",
    "The notebook assumes that the reader is familiar with the sensitivity-based method and terminology.\n",
    "\n",
    "## Input data\n",
    "\n",
    "Input data is sourced in a CRIF-like format: https://www.isda.org/a/owEDE/risk-data-standards-v1-36-public.pdf\n",
    "\n",
    "## References \n",
    "\n",
    "- [1]: Consolidated Basel Framework Chapter MAR21: https://www.bis.org/basel_framework/chapter/MAR/21.htm?inforce=20220101. \n",
    "- [2]: ISDA SIMM(TM): From Principles to Model Specification https://www.isda.org/a/vAiDE/simm-from-principles-to-model-specification-4-mar-2016-v4-public.pdf"
   ]
  },
  {
   "cell_type": "markdown",
   "metadata": {},
   "source": [
    "# Imports"
   ]
  },
  {
   "cell_type": "code",
   "execution_count": 1,
   "metadata": {},
   "outputs": [],
   "source": [
    "from IPython.display import display, Markdown, Latex, Image\n",
    "import numpy as np\n",
    "import pandas as pd\n",
    "import os\n",
    "\n",
    "pd.set_option('display.max_rows', 500)\n",
    "pd.set_option('display.max_columns', 500)\n",
    "pd.set_option(\"display.max_colwidth\", 300)\n",
    "pd.options.display.float_format = '{:,.4f}'.format\n"
   ]
  },
  {
   "cell_type": "markdown",
   "metadata": {},
   "source": [
    "# Atoti"
   ]
  },
  {
   "cell_type": "code",
   "execution_count": 2,
   "metadata": {},
   "outputs": [
    {
     "name": "stdout",
     "output_type": "stream",
     "text": [
      "Welcome to Atoti 0.3.1!\n",
      "\n",
      "By using this community edition, you agree with the license available at https://www.atoti.io/eula.\n",
      "Browse the official documentation at https://docs.atoti.io.\n",
      "Join the community at https://www.atoti.io/register.\n",
      "\n",
      "You can hide this message by setting the ATOTI_HIDE_EULA_MESSAGE environment variable to True.\n"
     ]
    }
   ],
   "source": [
    "import atoti as av\n",
    "from atoti.config import create_config\n",
    "session = av.create_session(\n",
    "    config='./configuration.yaml', port='53972', sampling_mode=av.sampling.FULL)"
   ]
  },
  {
   "cell_type": "markdown",
   "metadata": {},
   "source": [
    "# Url"
   ]
  },
  {
   "cell_type": "code",
   "execution_count": 3,
   "metadata": {},
   "outputs": [
    {
     "data": {
      "text/markdown": [
       "[http://localhost:53972](http://localhost:53972)"
      ],
      "text/plain": [
       "<IPython.core.display.Markdown object>"
      ]
     },
     "metadata": {},
     "output_type": "display_data"
    }
   ],
   "source": [
    "display(Markdown('[' + session.url+ ']('+ session.url+')'))"
   ]
  },
  {
   "cell_type": "markdown",
   "metadata": {},
   "source": [
    "# Input data files\n",
    "\n",
    "These are the csv-files that we need to illustrate the Equity Delta aggregation:\n",
    "\n",
    "- \"smaller_data.csv\" - sensitivities in a CRIF-like format\n",
    "- \"eq_delta_gamma.csv\" - cross-bucket correlations, set for each pair of buckets\n",
    "- \"eq_delta_rho.csv\" - risk factor correlations, set per bucket, i.e. all pairs of risk factors in a given bucket have the same correlation\n",
    "- \"eq_delta_rw.csv\" - risk weights, set per bucket and per risk factor type (stored in Label2 crif field)\n",
    "\n",
    "The example data files are stored in a cloud and I'm dowloading them to the working directory."
   ]
  },
  {
   "cell_type": "code",
   "execution_count": 4,
   "metadata": {},
   "outputs": [
    {
     "name": "stdout",
     "output_type": "stream",
     "text": [
      "smaller_data.csv already downloaded.\n",
      "bigger_data.csv already downloaded.\n",
      "eq_delta_gamma.csv already downloaded.\n",
      "eq_delta_rho.csv already downloaded.\n",
      "eq_delta_rw.csv already downloaded.\n"
     ]
    }
   ],
   "source": [
    "# this cell will download example data files from a url to the working directory\n",
    "import sys  \n",
    "sys.path.append('../../utils')\n",
    "\n",
    "import notebook_utils\n",
    "cwd = os.getcwd() # to be removed\n",
    "\n",
    "notebook_utils.download_source(cwd, 'https://data.atoti.io/notebooks/sbm/smaller_data.csv', \"smaller_data.csv\")\n",
    "notebook_utils.download_source(cwd, 'https://data.atoti.io/notebooks/sbm/bigger_data.csv', \"bigger_data.csv\")\n",
    "\n",
    "notebook_utils.download_source(cwd, 'https://data.atoti.io/notebooks/sbm/parameters/eq_delta_gamma.csv', \"eq_delta_gamma.csv\")\n",
    "notebook_utils.download_source(cwd, 'https://data.atoti.io/notebooks/sbm/parameters/eq_delta_rho.csv', \"eq_delta_rho.csv\")\n",
    "notebook_utils.download_source(cwd, 'https://data.atoti.io/notebooks/sbm/parameters/eq_delta_rw.csv', \"eq_delta_rw.csv\")\n"
   ]
  },
  {
   "cell_type": "markdown",
   "metadata": {},
   "source": [
    "# Sensitivities datastore"
   ]
  },
  {
   "cell_type": "code",
   "execution_count": 5,
   "metadata": {},
   "outputs": [
    {
     "data": {
      "text/html": [
       "<div>\n",
       "<style scoped>\n",
       "    .dataframe tbody tr th:only-of-type {\n",
       "        vertical-align: middle;\n",
       "    }\n",
       "\n",
       "    .dataframe tbody tr th {\n",
       "        vertical-align: top;\n",
       "    }\n",
       "\n",
       "    .dataframe thead th {\n",
       "        text-align: right;\n",
       "    }\n",
       "</style>\n",
       "<table border=\"1\" class=\"dataframe\">\n",
       "  <thead>\n",
       "    <tr style=\"text-align: right;\">\n",
       "      <th></th>\n",
       "      <th>TradeID</th>\n",
       "      <th>RiskType</th>\n",
       "      <th>Qualifier</th>\n",
       "      <th>Label2</th>\n",
       "      <th>AmountUSD</th>\n",
       "      <th>Bucket</th>\n",
       "      <th>PortfolioID</th>\n",
       "    </tr>\n",
       "  </thead>\n",
       "  <tbody>\n",
       "    <tr>\n",
       "      <th>0</th>\n",
       "      <td>0</td>\n",
       "      <td>Risk_Equity</td>\n",
       "      <td>Wilmar International</td>\n",
       "      <td>REPO</td>\n",
       "      <td>-10,332.0900</td>\n",
       "      <td>1</td>\n",
       "      <td>Smaller_Portfolio</td>\n",
       "    </tr>\n",
       "    <tr>\n",
       "      <th>1</th>\n",
       "      <td>1</td>\n",
       "      <td>Risk_Equity</td>\n",
       "      <td>Wilmar International</td>\n",
       "      <td>SPOT</td>\n",
       "      <td>-3,641,606.4500</td>\n",
       "      <td>1</td>\n",
       "      <td>Smaller_Portfolio</td>\n",
       "    </tr>\n",
       "    <tr>\n",
       "      <th>2</th>\n",
       "      <td>2</td>\n",
       "      <td>Risk_Equity</td>\n",
       "      <td>China Minmetals</td>\n",
       "      <td>REPO</td>\n",
       "      <td>-2,337.9000</td>\n",
       "      <td>3</td>\n",
       "      <td>Smaller_Portfolio</td>\n",
       "    </tr>\n",
       "    <tr>\n",
       "      <th>3</th>\n",
       "      <td>3</td>\n",
       "      <td>Risk_Equity</td>\n",
       "      <td>China Minmetals</td>\n",
       "      <td>SPOT</td>\n",
       "      <td>-10,549.5400</td>\n",
       "      <td>3</td>\n",
       "      <td>Smaller_Portfolio</td>\n",
       "    </tr>\n",
       "    <tr>\n",
       "      <th>4</th>\n",
       "      <td>4</td>\n",
       "      <td>Risk_Equity</td>\n",
       "      <td>China Life Insurance</td>\n",
       "      <td>REPO</td>\n",
       "      <td>-7,874.9400</td>\n",
       "      <td>4</td>\n",
       "      <td>Smaller_Portfolio</td>\n",
       "    </tr>\n",
       "  </tbody>\n",
       "</table>\n",
       "</div>"
      ],
      "text/plain": [
       "  TradeID     RiskType             Qualifier Label2       AmountUSD  Bucket  \\\n",
       "0       0  Risk_Equity  Wilmar International   REPO    -10,332.0900       1   \n",
       "1       1  Risk_Equity  Wilmar International   SPOT -3,641,606.4500       1   \n",
       "2       2  Risk_Equity       China Minmetals   REPO     -2,337.9000       3   \n",
       "3       3  Risk_Equity       China Minmetals   SPOT    -10,549.5400       3   \n",
       "4       4  Risk_Equity  China Life Insurance   REPO     -7,874.9400       4   \n",
       "\n",
       "         PortfolioID  \n",
       "0  Smaller_Portfolio  \n",
       "1  Smaller_Portfolio  \n",
       "2  Smaller_Portfolio  \n",
       "3  Smaller_Portfolio  \n",
       "4  Smaller_Portfolio  "
      ]
     },
     "execution_count": 5,
     "metadata": {},
     "output_type": "execute_result"
    }
   ],
   "source": [
    "# in this example, the data is initially read into a pandas dataframe, \n",
    "# which is subsequently used to create the datastore.\n",
    "crif = pd.read_csv(\"smaller_data.csv\")\n",
    "crif = crif.append(pd.read_csv(\"bigger_data.csv\"), ignore_index = True)\n",
    "crif.head(5)"
   ]
  },
  {
   "cell_type": "code",
   "execution_count": 6,
   "metadata": {
    "scrolled": true
   },
   "outputs": [],
   "source": [
    "risks_store = session.read_pandas(crif,\n",
    "                                  keys=['TradeID', 'PortfolioID','RiskType', 'Qualifier', 'Label2'],\n",
    "                                  store_name=\"Risks\",\n",
    "                                  types={'Bucket': av.types.STRING})\n",
    "\n",
    "cube = session.create_cube(risks_store)\n",
    "lvl = cube.levels\n",
    "m = cube.measures\n",
    "h = cube.hierarchies"
   ]
  },
  {
   "cell_type": "code",
   "execution_count": 7,
   "metadata": {},
   "outputs": [],
   "source": [
    "# creating a comparator to sort buckets as numbers:\n",
    "# NOT WORKING AT THE MOMENT\n",
    "# lvl[\"Bucket\"].comparator = av.comparator.first_members([str(i) for i in range(1,13)])"
   ]
  },
  {
   "cell_type": "markdown",
   "metadata": {},
   "source": [
    "At this point, a cube has been created, and we can start browsing the sensitivities:"
   ]
  },
  {
   "cell_type": "code",
   "execution_count": 9,
   "metadata": {
    "atoti": {
     "state": {
      "name": "",
      "type": "container",
      "value": {
       "body": {
        "configuration": {
         "tabular": {
          "addButtonFilter": "numeric",
          "columns": [],
          "columnsGroups": [
           {
            "captionProducer": "firstColumn",
            "cellFactory": "kpi-status",
            "selector": "kpi-status"
           },
           {
            "captionProducer": "firstColumn",
            "cellFactory": "lookup",
            "selector": "lookup"
           },
           {
            "captionProducer": "expiry",
            "cellFactory": "expiry",
            "selector": "kpi-expiry"
           },
           {
            "captionProducer": "columnMerge",
            "cellFactory": {
             "args": {
              "automaticExpansion": true
             },
             "key": "treeCells"
            },
            "selector": "member"
           }
          ],
          "defaultOptions": {},
          "hideAddButton": true,
          "lineNumbers": true,
          "pinnedHeaderSelector": "member",
          "sortingMode": "non-breaking",
          "statisticsShown": true
         }
        },
        "contextValues": {},
        "mdx": "SELECT NON EMPTY [Measures].[AmountUSD.SUM] ON COLUMNS, NON EMPTY Crossjoin(Hierarchize(DrilldownLevel([Hierarchies].[RiskType].[ALL].[AllMember])), Hierarchize(DrilldownLevel([Hierarchies].[Bucket].[ALL].[AllMember]))) ON ROWS FROM [Risks] CELL PROPERTIES VALUE, FORMATTED_VALUE, BACK_COLOR, FORE_COLOR, FONT_FLAGS",
        "ranges": {
         "column": {
          "chunkSize": 50,
          "thresholdPercentage": 0.2
         },
         "row": {
          "chunkSize": 2000,
          "thresholdPercentage": 0.1
         }
        },
        "serverUrl": "",
        "updateMode": "once"
       },
       "containerKey": "pivot-table",
       "showTitleBar": false,
       "style": {}
      }
     }
    }
   },
   "outputs": [
    {
     "data": {
      "application/vnd.atoti.v0+json": {
       "cube": "Risks",
       "name": null,
       "session": "Unnamed"
      },
      "text/plain": [
       "Install the Atoti JupyterLab extension to see this widget."
      ]
     },
     "metadata": {},
     "output_type": "display_data"
    }
   ],
   "source": [
    "cube.visualize()"
   ]
  },
  {
   "cell_type": "markdown",
   "metadata": {},
   "source": [
    "Run this command to create a new data vizualisation:"
   ]
  },
  {
   "cell_type": "code",
   "execution_count": 10,
   "metadata": {},
   "outputs": [
    {
     "data": {
      "application/vnd.atoti.v0+json": {
       "cube": "Risks",
       "name": null,
       "session": "Unnamed"
      },
      "text/plain": [
       "Install the Atoti JupyterLab extension to see this widget."
      ]
     },
     "metadata": {},
     "output_type": "display_data"
    }
   ],
   "source": [
    "cube.visualize()"
   ]
  },
  {
   "cell_type": "markdown",
   "metadata": {},
   "source": [
    "# Risk weights datastore"
   ]
  },
  {
   "cell_type": "code",
   "execution_count": 11,
   "metadata": {},
   "outputs": [],
   "source": [
    "# the risk weights data store is created from a csv:\n",
    "eq_delta_risk_weights_store = session.read_csv(\n",
    "    \"data/parameters/eq_delta_rw.csv\",\n",
    "    keys=[\"Bucket\", \"Label2\"],\n",
    "    types={\"Bucket\": av.types.STRING},\n",
    "    store_name=\"RiskWeights\"\n",
    ")\n",
    "\n",
    "# risks store is joined with the risk weights store\n",
    "risks_store.join(eq_delta_risk_weights_store)"
   ]
  },
  {
   "cell_type": "code",
   "execution_count": 12,
   "metadata": {},
   "outputs": [
    {
     "data": {
      "text/html": [
       "<div>\n",
       "<style scoped>\n",
       "    .dataframe tbody tr th:only-of-type {\n",
       "        vertical-align: middle;\n",
       "    }\n",
       "\n",
       "    .dataframe tbody tr th {\n",
       "        vertical-align: top;\n",
       "    }\n",
       "\n",
       "    .dataframe thead th {\n",
       "        text-align: right;\n",
       "    }\n",
       "</style>\n",
       "<table border=\"1\" class=\"dataframe\">\n",
       "  <thead>\n",
       "    <tr style=\"text-align: right;\">\n",
       "      <th></th>\n",
       "      <th></th>\n",
       "      <th>RW</th>\n",
       "    </tr>\n",
       "    <tr>\n",
       "      <th>Bucket</th>\n",
       "      <th>Label2</th>\n",
       "      <th></th>\n",
       "    </tr>\n",
       "  </thead>\n",
       "  <tbody>\n",
       "    <tr>\n",
       "      <th>1</th>\n",
       "      <th>SPOT</th>\n",
       "      <td>0.5500</td>\n",
       "    </tr>\n",
       "    <tr>\n",
       "      <th>2</th>\n",
       "      <th>SPOT</th>\n",
       "      <td>0.6000</td>\n",
       "    </tr>\n",
       "    <tr>\n",
       "      <th>3</th>\n",
       "      <th>SPOT</th>\n",
       "      <td>0.4500</td>\n",
       "    </tr>\n",
       "    <tr>\n",
       "      <th>4</th>\n",
       "      <th>SPOT</th>\n",
       "      <td>0.5500</td>\n",
       "    </tr>\n",
       "    <tr>\n",
       "      <th>5</th>\n",
       "      <th>SPOT</th>\n",
       "      <td>0.3000</td>\n",
       "    </tr>\n",
       "  </tbody>\n",
       "</table>\n",
       "</div>"
      ],
      "text/plain": [
       "                  RW\n",
       "Bucket Label2       \n",
       "1      SPOT   0.5500\n",
       "2      SPOT   0.6000\n",
       "3      SPOT   0.4500\n",
       "4      SPOT   0.5500\n",
       "5      SPOT   0.3000"
      ]
     },
     "execution_count": 12,
     "metadata": {},
     "output_type": "execute_result"
    }
   ],
   "source": [
    "eq_delta_risk_weights_store.head(5)"
   ]
  },
  {
   "cell_type": "markdown",
   "metadata": {},
   "source": [
    "# Weighted sensitivities\n",
    "\n",
    "In this section, we'll create a measure visualizing the weighted sensitivities defined in\n",
    "[MAR21.4](https://www.bis.org/basel_framework/chapter/MAR/21.htm?inforce=20220101#paragraph_MAR_21_20220101_21_4):\n",
    "\n",
    "$$WS_k=RW_k \\cdot s_k$$\n",
    "\n",
    "As the risk weights are defined for each Bucket and Label2, this is the level where sensitivities need to be multiplied by the risk weight.\n"
   ]
  },
  {
   "cell_type": "code",
   "execution_count": 13,
   "metadata": {},
   "outputs": [],
   "source": [
    "# The input sensitivities are multplied by risk weight for each Bucket and Label2,\n",
    "# and then summed up to obtain weighted sensitivities\n",
    "m['WS'] = av.agg.sum(m['AmountUSD.SUM']*m['RW.VALUE'], scope=av.scope.origin(\"Bucket\",\"Label2\"))"
   ]
  },
  {
   "cell_type": "markdown",
   "metadata": {},
   "source": [
    "# Bucket-level aggregation\n",
    "\n",
    "The weighted sensitivities are rolled up into the bucket-level charges, using a variance-covariance formula that can be found in the [MAR21.4](https://www.bis.org/basel_framework/chapter/MAR/21.htm?inforce=20220101#paragraph_MAR_21_20220101_21_4):\n",
    "\n",
    "$$K_{b} =\\sqrt{max \\left( 0, \\sum _{k\\in b} WS_{k}^{2} +\\sum _{k\\in b}\\sum\n",
    "  _{l\\in b, l\\neq k}\\rho_{kl}\\cdot WS_k \\cdot WS_l\\right)}$$\n",
    "  \n",
    "In this section we'll create measures visualizing bucket-level charges. \n",
    "\n",
    "The formula for bucket-level charges is a type of variance-covariance aggregation. We will provide two methods to compute it:\n",
    "\n",
    "1. Method 1: materializing both risk factors in a pair and looping over all the pais of the risk factors\n",
    "2. Method 2: more computationally efficient: leveraging the fact, that some of the risk factors use the same correlation values, we provide a more computationally efficient calculation"
   ]
  },
  {
   "cell_type": "markdown",
   "metadata": {},
   "source": [
    "## Risk factor correlations"
   ]
  },
  {
   "cell_type": "markdown",
   "metadata": {},
   "source": [
    "The parameter $\\rho_{kl}$ denotes correlation between two risk factors $k$ and $l$ in a pair of risk factors. The rules defining the equity delta correlations are set in [MAR21.78](https://www.bis.org/basel_framework/chapter/MAR/21.htm?inforce=20220101#paragraph_MAR_21_20220101_21_78).\n",
    "\n",
    "The rules can be summarised for each pair of risk factors as follows:\n",
    "\n",
    "- Case 1: same name, different type: a single value -> 0.999\n",
    "- Case 2: different name, same type: a single value depending on bucket, for example, 0.15\n",
    "- Case 3: different name, different type: value depending on risk factor multiplier by 0.999, for example, 0.15 x 0.999\n",
    "\n",
    "For example,\n",
    "\n",
    "\n",
    "| risk factors | name1-spot | name1-repo | name2-spot | name2-repo |\n",
    "|------------|-------------|-------------|-------------|-------------|\n",
    "| name1-spot | 1 |  |  |  |\n",
    "| name1-repo | same_name_diff_type | 1 |  |  |\n",
    "| name2-spot | rho_by_name | rho_by_name x type_multiplier | 1 |  |\n",
    "| name2-repo | rho_by_name x type_multiplier | rho_by_name x type_multiplier | same_name_diff_type | 1 |"
   ]
  },
  {
   "cell_type": "code",
   "execution_count": 14,
   "metadata": {},
   "outputs": [],
   "source": [
    "# Equity delta risk factor is defined as a combination of fields - \"Qualifier\" and \"Label2\", i.e. equity name and risk factor type.\n",
    "# Creating variables:\n",
    "same_risk_factor = 1.0\n",
    "same_name_diff_type = 0.999\n",
    "diff_type_multiplier = 0.999"
   ]
  },
  {
   "cell_type": "code",
   "execution_count": 15,
   "metadata": {
    "scrolled": true
   },
   "outputs": [
    {
     "data": {
      "text/html": [
       "<div>\n",
       "<style scoped>\n",
       "    .dataframe tbody tr th:only-of-type {\n",
       "        vertical-align: middle;\n",
       "    }\n",
       "\n",
       "    .dataframe tbody tr th {\n",
       "        vertical-align: top;\n",
       "    }\n",
       "\n",
       "    .dataframe thead th {\n",
       "        text-align: right;\n",
       "    }\n",
       "</style>\n",
       "<table border=\"1\" class=\"dataframe\">\n",
       "  <thead>\n",
       "    <tr style=\"text-align: right;\">\n",
       "      <th></th>\n",
       "      <th>names_correlation</th>\n",
       "    </tr>\n",
       "    <tr>\n",
       "      <th>Bucket</th>\n",
       "      <th></th>\n",
       "    </tr>\n",
       "  </thead>\n",
       "  <tbody>\n",
       "    <tr>\n",
       "      <th>1</th>\n",
       "      <td>0.1500</td>\n",
       "    </tr>\n",
       "    <tr>\n",
       "      <th>2</th>\n",
       "      <td>0.1500</td>\n",
       "    </tr>\n",
       "    <tr>\n",
       "      <th>3</th>\n",
       "      <td>0.1500</td>\n",
       "    </tr>\n",
       "    <tr>\n",
       "      <th>4</th>\n",
       "      <td>0.1500</td>\n",
       "    </tr>\n",
       "    <tr>\n",
       "      <th>5</th>\n",
       "      <td>0.2500</td>\n",
       "    </tr>\n",
       "  </tbody>\n",
       "</table>\n",
       "</div>"
      ],
      "text/plain": [
       "        names_correlation\n",
       "Bucket                   \n",
       "1                  0.1500\n",
       "2                  0.1500\n",
       "3                  0.1500\n",
       "4                  0.1500\n",
       "5                  0.2500"
      ]
     },
     "execution_count": 15,
     "metadata": {},
     "output_type": "execute_result"
    }
   ],
   "source": [
    "# Creating a datastore holding correlations defined per bucket ([MAR21.78](2)):\n",
    "eq_delta_rho = session.read_csv(\n",
    "    \"eq_delta_rho.csv\", keys=[\"Bucket\"], types={\"Bucket\": av.types.STRING}, \n",
    "    store_name=\"RiskFactorCorrelations\"\n",
    ")\n",
    "risks_store.join(eq_delta_rho)\n",
    "eq_delta_rho.head(5)"
   ]
  },
  {
   "cell_type": "markdown",
   "metadata": {},
   "source": [
    "## Method 1: materializing risk factor pairs"
   ]
  },
  {
   "cell_type": "code",
   "execution_count": 16,
   "metadata": {},
   "outputs": [],
   "source": [
    "# Important:\n",
    "# We join by POrtfolioID - hence  \n",
    "# the combinations of risk factors are restricted to those that defined below PortfolioID"
   ]
  },
  {
   "cell_type": "code",
   "execution_count": 17,
   "metadata": {},
   "outputs": [],
   "source": [
    "# Now, for each risk factor - \"Qualifier\" + \"Label2\" - there's a list of all risk factors in portfolio and bucket.\n",
    "# THe hierarchies representing risk factors: \"Other Qualifier\", \"Other Label2\".\n",
    "other_risk_factor_store = session.read_pandas(crif[['PortfolioID', 'Bucket', 'Qualifier', 'Label2']].rename(columns={'Qualifier': 'Other Qualifier', 'Label2': 'Other Label2'}), keys=[\n",
    "                                              'PortfolioID', 'Bucket', 'Other Qualifier', 'Other Label2'], types={'Bucket': av.types.STRING}, store_name='OtherRiskFactor')\n",
    "risks_store.join(other_risk_factor_store, mapping={\n",
    "                 'PortfolioID': 'PortfolioID', 'Bucket': 'Bucket'})"
   ]
  },
  {
   "cell_type": "code",
   "execution_count": 18,
   "metadata": {},
   "outputs": [],
   "source": [
    "# Setting up a measure returning correlation for any pair of \n",
    "# risk factors represented by hierarchies (\"Qualifier\", \"Label2\") and (\"Other Qualifier\", \"Other Label2\")\n",
    "m['rho_kl'] = av.where(lvl['Qualifier'] == lvl['Other Qualifier'], \n",
    "                       av.where(lvl['Label2'] == lvl['Other Label2'], same_risk_factor, same_name_diff_type),\n",
    "                       av.where(lvl['Label2'] == lvl['Other Label2'], m['names_correlation.VALUE'],\n",
    "                                m['names_correlation.VALUE'] * diff_type_multiplier))"
   ]
  },
  {
   "cell_type": "code",
   "execution_count": 19,
   "metadata": {},
   "outputs": [],
   "source": [
    "m['WSk'] = m['WS']\n",
    "m['WSl'] = av.at(m['WS'], {\n",
    "                        lvl['Qualifier']: lvl['Other Qualifier'],\n",
    "                        lvl['Label2']: lvl['Other Label2']})\n",
    "\n",
    "# Please note, that for the bucket 11, bucket-level charge is defined as sum of absoluted \n",
    "# weighted sensitivities by risk factor [MAR21.79](https://www.bis.org/basel_framework/chapter/MAR/21.htm?inforce=20220101#paragraph_MAR_21_20220101_21_79)\n",
    "\n",
    "m['Kb'] = av.agg.stop(av.where(lvl['Bucket'] == '11',\n",
    "                                av.agg.sum(av.abs(m['WSk']), av.scope.origin('Qualifier','Label2')),\n",
    "                                av.sqrt(av.max(0, av.agg.sum(m['WSk']\n",
    "                                                             * m['WSl'] * m['rho_kl'], scope = av.scope.origin('Qualifier','Other Qualifier','Label2','Other Label2'))))), at = [lvl['Bucket']])"
   ]
  },
  {
   "cell_type": "code",
   "execution_count": 20,
   "metadata": {},
   "outputs": [],
   "source": [
    "m['temp'] = m['WSk']    * m['WSl'] * 0.999"
   ]
  },
  {
   "cell_type": "code",
   "execution_count": 21,
   "metadata": {},
   "outputs": [],
   "source": [
    "m['sq root of temp'] = av.sqrt(m['temp'])"
   ]
  },
  {
   "cell_type": "code",
   "execution_count": 22,
   "metadata": {},
   "outputs": [
    {
     "data": {
      "text/html": [
       "<div>\n",
       "<style scoped>\n",
       "    .dataframe tbody tr th:only-of-type {\n",
       "        vertical-align: middle;\n",
       "    }\n",
       "\n",
       "    .dataframe tbody tr th {\n",
       "        vertical-align: top;\n",
       "    }\n",
       "\n",
       "    .dataframe thead th {\n",
       "        text-align: right;\n",
       "    }\n",
       "</style>\n",
       "<table border=\"1\" class=\"dataframe\">\n",
       "  <thead>\n",
       "    <tr style=\"text-align: right;\">\n",
       "      <th></th>\n",
       "      <th>AmountUSD.SUM</th>\n",
       "      <th>WS</th>\n",
       "      <th>Kb</th>\n",
       "    </tr>\n",
       "    <tr>\n",
       "      <th>Bucket</th>\n",
       "      <th></th>\n",
       "      <th></th>\n",
       "      <th></th>\n",
       "    </tr>\n",
       "  </thead>\n",
       "  <tbody>\n",
       "    <tr>\n",
       "      <th>1</th>\n",
       "      <td>-3,651,938.5400</td>\n",
       "      <td>-2,002,940.3740</td>\n",
       "      <td>2,002,940.3172</td>\n",
       "    </tr>\n",
       "    <tr>\n",
       "      <th>10</th>\n",
       "      <td>-5,652,387.6950</td>\n",
       "      <td>-2,810,353.8262</td>\n",
       "      <td>1,819,315.9010</td>\n",
       "    </tr>\n",
       "    <tr>\n",
       "      <th>11</th>\n",
       "      <td>9,197,909.9830</td>\n",
       "      <td>6,418,348.7082</td>\n",
       "      <td>6,418,348.7082</td>\n",
       "    </tr>\n",
       "    <tr>\n",
       "      <th>12</th>\n",
       "      <td>-1,913,082.0100</td>\n",
       "      <td>-286,992.4351</td>\n",
       "      <td>286,992.4354</td>\n",
       "    </tr>\n",
       "    <tr>\n",
       "      <th>3</th>\n",
       "      <td>-12,887.4400</td>\n",
       "      <td>-4,757.8136</td>\n",
       "      <td>4,757.8031</td>\n",
       "    </tr>\n",
       "    <tr>\n",
       "      <th>4</th>\n",
       "      <td>-1,030,083.3000</td>\n",
       "      <td>-557,071.4497</td>\n",
       "      <td>758,465.4868</td>\n",
       "    </tr>\n",
       "    <tr>\n",
       "      <th>5</th>\n",
       "      <td>1,443,720.0700</td>\n",
       "      <td>429,349.4284</td>\n",
       "      <td>456,861.0617</td>\n",
       "    </tr>\n",
       "    <tr>\n",
       "      <th>7</th>\n",
       "      <td>239,581.2030</td>\n",
       "      <td>91,493.4106</td>\n",
       "      <td>932,682.8928</td>\n",
       "    </tr>\n",
       "    <tr>\n",
       "      <th>8</th>\n",
       "      <td>-10,423,086.7700</td>\n",
       "      <td>-5,177,444.7259</td>\n",
       "      <td>3,937,788.9195</td>\n",
       "    </tr>\n",
       "    <tr>\n",
       "      <th>9</th>\n",
       "      <td>1,103,113.6600</td>\n",
       "      <td>744,897.8498</td>\n",
       "      <td>2,234,809.9610</td>\n",
       "    </tr>\n",
       "  </tbody>\n",
       "</table>\n",
       "</div>"
      ],
      "text/plain": [
       "          AmountUSD.SUM              WS             Kb\n",
       "Bucket                                                \n",
       "1       -3,651,938.5400 -2,002,940.3740 2,002,940.3172\n",
       "10      -5,652,387.6950 -2,810,353.8262 1,819,315.9010\n",
       "11       9,197,909.9830  6,418,348.7082 6,418,348.7082\n",
       "12      -1,913,082.0100   -286,992.4351   286,992.4354\n",
       "3          -12,887.4400     -4,757.8136     4,757.8031\n",
       "4       -1,030,083.3000   -557,071.4497   758,465.4868\n",
       "5        1,443,720.0700    429,349.4284   456,861.0617\n",
       "7          239,581.2030     91,493.4106   932,682.8928\n",
       "8      -10,423,086.7700 -5,177,444.7259 3,937,788.9195\n",
       "9        1,103,113.6600    744,897.8498 2,234,809.9610"
      ]
     },
     "execution_count": 22,
     "metadata": {},
     "output_type": "execute_result"
    }
   ],
   "source": [
    "cube.query(m['AmountUSD.SUM'], m['WS'], m['Kb'], levels = [lvl['Bucket']], condition = lvl['PortfolioID']==\"Smaller_Portfolio\")"
   ]
  },
  {
   "cell_type": "markdown",
   "metadata": {},
   "source": [
    "## Method 2: optimized Kb calculation"
   ]
  },
  {
   "cell_type": "markdown",
   "metadata": {},
   "source": [
    "Since many of the risk pairs share the same correlation value, it is possible to optimize the variance-covariance aggregation. The efficiency of this calculation is critical when data cardinality along risk factor is high.\n",
    "\n",
    "We decompose the formula into the three components:\n",
    "- contribution of pairs with both risk factors being spot - same correlation $\\rho_{names}$ set per bucket,\n",
    "- contribution of pairs with both risk factors being repo - same correlation $\\rho_{names}$ set per bucket,\n",
    "- contribution of pairs where one risk factor is spot, another one is repo - same correlation $\\rho_{names} \\cdot 0.999$. We'd need to account that for some of the pairs where one risk factor is spot, one is repo some the equity names will match and need to be correlated at 0.999\n",
    "\n",
    "\n",
    "Let's start with the pairs where both risk factors are either spot or repo. Their contribution can be rewritten:\n",
    "\n",
    "$$ \\sum_k WS_k^2 +  \\sum_k \\sum_{l \\neq k} \\rho_{kl} WS_k WS_l = \\sum_k WS_k^2 + \\rho_{kl} \\cdot \\left(\\left( \\sum_k WS_k \\right)^2 - \\sum_k WS_k^2  \\right) = (1-\\rho_{kl}) \\cdot \\sum_k WS_k^2 + \\rho_{kl} \\cdot \\left( \\sum_k WS_k \\right)^2  $$"
   ]
  },
  {
   "cell_type": "code",
   "execution_count": 23,
   "metadata": {},
   "outputs": [],
   "source": [
    "# This measure will display sum by k of WS_k squared:\n",
    "m['sum squares'] = av.agg.square_sum(m['WS'], scope = av.scope.origin('Qualifier', 'Label2'))\n",
    "m['reduced formula'] = (1-m['names_correlation.VALUE'])*m['sum squares'] + m['names_correlation.VALUE']* av.pow(m['WS'],2.0)\n",
    "\n",
    "# contribution of pairs having only spot risk factors:\n",
    "m['spot contribution'] = av.filter(m['reduced formula'] , lvl['Label2']==\"SPOT\")\n",
    "# contribution of pairs having only repo risk factors:\n",
    "m['repo contribution'] = av.filter(m['reduced formula'] , lvl['Label2']==\"REPO\")"
   ]
  },
  {
   "cell_type": "markdown",
   "metadata": {},
   "source": [
    "The contribution of the risk factors where one risk factor belongs to \"SPOT\" and the other belongs to \"REPO\" can be rewritten:\n",
    "$$ \\sum_k WS_k^2 +  \\sum_k \\sum_{l \\neq k} \\rho_{kl} WS_k WS_l =  \\vec{WS_{repo}^T} \\cdot J_{n_{repo}, n_{spot}} \\cdot \\vec{WS_{spot}} \\cdot \\rho_{names} \\cdot 0.999 + 0.999 \\cdot (1 - \\rho_{names}) \\sum_{n\\in names}{WS_n^{repo} \\cdot WS_n^{spot}}$$\n",
    "\n",
    "where:\n",
    "- J - is a matrix of ones,\n",
    "- first term in the above formula performs aggregation of all sensitivities, as if they all are correlated at $\\rho_{names}$,\n",
    "- the second term is to correct the first term and to account for the fact that risk factors, where spot and repo risk factors have the same equity name, must be correlated at 0.999.\n"
   ]
  },
  {
   "cell_type": "code",
   "execution_count": 24,
   "metadata": {},
   "outputs": [],
   "source": [
    "# filtering for repo and spot risk factors:\n",
    "m['WS_spot'] = av.filter(m['WSk'], lvl['Label2']==\"SPOT\")\n",
    "m['WS_repo'] = av.filter(m['WSk'], lvl['Label2']==\"REPO\")"
   ]
  },
  {
   "cell_type": "markdown",
   "metadata": {},
   "source": [
    "The measure `sum WS_repo J WS_spot` will display $\\vec{WS_{repo}^T} \\cdot J_{n_{repo}, n_{spot}} \\cdot \\vec{WS_{spot}} $:"
   ]
  },
  {
   "cell_type": "code",
   "execution_count": 25,
   "metadata": {},
   "outputs": [],
   "source": [
    "# m['WS_spot_vector'] = av.parent_value(av.agg._vector(m['WS_spot'], av.scope.origin('Qualifier')), on_hierarchies=[h['Bucket'],h['Qualifier']])\n",
    "# m[\"sum WS_repo J WS_spot\"] = av.agg.sum(av.array.sum(m['WS_spot_vector']*m['WS_repo']), scope = av.scope.origin('Qualifier', 'Bucket'))"
   ]
  },
  {
   "cell_type": "code",
   "execution_count": null,
   "metadata": {},
   "outputs": [],
   "source": [
    "# cube.query(m['WS_repo J WS_spot'], m['repo scalar x spot vector'], m['array sum'], levels = [lvl['Bucket'], lvl['Qualifier']])"
   ]
  },
  {
   "cell_type": "code",
   "execution_count": 44,
   "metadata": {},
   "outputs": [],
   "source": [
    "# Collect WS of the spot risk factors in a vector and show against every qualifier in a bucket:\n",
    "weights_vector = av.agg._vector(m['WS_spot'], av.scope.origin('Bucket', 'Qualifier'))\n",
    "m['spot vector'] = av.parent_value(weights_vector, on_hierarchies = [ h['Qualifier']])\n",
    "\n",
    "# Multiply vector WS of the spot risk factors by WS of each repo risk factor sum them up\n",
    "m['repo scalar x spot vector'] = m['WS_repo'] * m['spot vector']\n",
    "m['WS_repo J WS_spot'] = av.agg.sum(av.array.sum(m['repo scalar x spot vector']), scope = av.scope.origin('Bucket', 'Qualifier'))"
   ]
  },
  {
   "cell_type": "code",
   "execution_count": 50,
   "metadata": {},
   "outputs": [],
   "source": [
    "m['array sum'] = av.array.sum(m['repo scalar x spot vector'])"
   ]
  },
  {
   "cell_type": "code",
   "execution_count": 52,
   "metadata": {},
   "outputs": [],
   "source": [
    "m['sum of array sum'] = av.agg.sum(m['array sum'], scope = av.scope.origin('Bucket', 'Qualifier'))"
   ]
  },
  {
   "cell_type": "markdown",
   "metadata": {},
   "source": [
    "# PROBLEM\n",
    "\n",
    "We want to have a measure, which will be a simple of array sum, but for some reason it shows empty/None!"
   ]
  },
  {
   "cell_type": "code",
   "execution_count": 53,
   "metadata": {},
   "outputs": [
    {
     "data": {
      "text/html": [
       "<div>\n",
       "<style scoped>\n",
       "    .dataframe tbody tr th:only-of-type {\n",
       "        vertical-align: middle;\n",
       "    }\n",
       "\n",
       "    .dataframe tbody tr th {\n",
       "        vertical-align: top;\n",
       "    }\n",
       "\n",
       "    .dataframe thead th {\n",
       "        text-align: right;\n",
       "    }\n",
       "</style>\n",
       "<table border=\"1\" class=\"dataframe\">\n",
       "  <thead>\n",
       "    <tr style=\"text-align: right;\">\n",
       "      <th></th>\n",
       "      <th>sum of array sum</th>\n",
       "    </tr>\n",
       "  </thead>\n",
       "  <tbody>\n",
       "  </tbody>\n",
       "</table>\n",
       "</div>"
      ],
      "text/plain": [
       "Empty DataFrame\n",
       "Columns: [sum of array sum]\n",
       "Index: []"
      ]
     },
     "execution_count": 53,
     "metadata": {},
     "output_type": "execute_result"
    }
   ],
   "source": [
    "cube.query(m['sum of array sum'])"
   ]
  },
  {
   "cell_type": "code",
   "execution_count": 57,
   "metadata": {},
   "outputs": [
    {
     "data": {
      "text/plain": [
       "'0.3.1'"
      ]
     },
     "execution_count": 57,
     "metadata": {},
     "output_type": "execute_result"
    }
   ],
   "source": [
    "av.__version__"
   ]
  },
  {
   "cell_type": "code",
   "execution_count": 59,
   "metadata": {
    "atoti": {
     "state": {
      "name": "",
      "type": "container",
      "value": {
       "body": {
        "configuration": {
         "tabular": {
          "addButtonFilter": "numeric",
          "columnsGroups": [
           {
            "captionProducer": "firstColumn",
            "cellFactory": "kpi-status",
            "selector": "kpi-status"
           },
           {
            "captionProducer": "firstColumn",
            "cellFactory": "lookup",
            "selector": "lookup"
           },
           {
            "captionProducer": "expiry",
            "cellFactory": "expiry",
            "selector": "kpi-expiry"
           },
           {
            "captionProducer": "columnMerge",
            "cellFactory": {
             "args": {
              "automaticExpansion": true
             },
             "key": "treeCells"
            },
            "selector": "member"
           }
          ],
          "defaultOptions": {},
          "hideAddButton": true,
          "lineNumbers": true,
          "pinnedHeaderSelector": "member",
          "sortingMode": "non-breaking",
          "statisticsShown": true
         }
        },
        "contextValues": {},
        "mdx": "SELECT NON EMPTY {[Measures].[array sum]} ON COLUMNS, NON EMPTY Crossjoin(Hierarchize(DrilldownLevel([Hierarchies].[PortfolioID].[ALL].[AllMember])), Hierarchize(DrilldownLevel([Hierarchies].[Bucket].[ALL].[AllMember])), Hierarchize(DrilldownLevel([Hierarchies].[Qualifier].[ALL].[AllMember]))) ON ROWS FROM [Risks] CELL PROPERTIES VALUE, FORMATTED_VALUE, BACK_COLOR, FORE_COLOR, FONT_FLAGS",
        "ranges": {
         "column": {
          "chunkSize": 50,
          "thresholdPercentage": 0.2
         },
         "row": {
          "chunkSize": 2000,
          "thresholdPercentage": 0.1
         }
        },
        "serverUrl": "",
        "updateMode": "once"
       },
       "containerKey": "pivot-table",
       "showTitleBar": false,
       "style": {}
      }
     }
    }
   },
   "outputs": [
    {
     "data": {
      "application/vnd.atoti.v0+json": {
       "cube": "Risks",
       "name": null,
       "session": "Unnamed"
      },
      "text/plain": [
       "Install the Atoti JupyterLab extension to see this widget."
      ]
     },
     "metadata": {},
     "output_type": "display_data"
    }
   ],
   "source": [
    "cube.visualize()"
   ]
  },
  {
   "cell_type": "code",
   "execution_count": null,
   "metadata": {},
   "outputs": [],
   "source": [
    "######### Below formula will multiply by null - might be a bad practice??"
   ]
  },
  {
   "cell_type": "code",
   "execution_count": 33,
   "metadata": {},
   "outputs": [],
   "source": [
    "# cross product of weighted sensitivities for the names, having both spot and repo sensitivities:\n",
    "m['sum WS repo and spot'] = av.agg.sum(m['WS_spot']*m['WS_repo'], scope = av.scope.origin('Qualifier'))"
   ]
  },
  {
   "cell_type": "code",
   "execution_count": 34,
   "metadata": {},
   "outputs": [],
   "source": [
    "# final contribution of the pairs where one risk factor is spot, one is repo\n",
    "m[\"cross repo spot contribution\"] = m['names_correlation.VALUE']*m[\"sum WS_repo J WS_spot\"]+0.999*(1- m['names_correlation.VALUE'])* m['sum WS repo and spot']"
   ]
  },
  {
   "cell_type": "code",
   "execution_count": 45,
   "metadata": {},
   "outputs": [
    {
     "data": {
      "text/html": [
       "<div>\n",
       "<style scoped>\n",
       "    .dataframe tbody tr th:only-of-type {\n",
       "        vertical-align: middle;\n",
       "    }\n",
       "\n",
       "    .dataframe tbody tr th {\n",
       "        vertical-align: top;\n",
       "    }\n",
       "\n",
       "    .dataframe thead th {\n",
       "        text-align: right;\n",
       "    }\n",
       "</style>\n",
       "<table border=\"1\" class=\"dataframe\">\n",
       "  <thead>\n",
       "    <tr style=\"text-align: right;\">\n",
       "      <th></th>\n",
       "      <th>cross repo spot contribution</th>\n",
       "      <th>sum WS repo and spot</th>\n",
       "      <th>sum WS_repo J WS_spot</th>\n",
       "    </tr>\n",
       "  </thead>\n",
       "  <tbody>\n",
       "  </tbody>\n",
       "</table>\n",
       "</div>"
      ],
      "text/plain": [
       "Empty DataFrame\n",
       "Columns: [cross repo spot contribution, sum WS repo and spot, sum WS_repo J WS_spot]\n",
       "Index: []"
      ]
     },
     "execution_count": 45,
     "metadata": {},
     "output_type": "execute_result"
    }
   ],
   "source": [
    "cube.query( m['cross repo spot contribution'], m['sum WS repo and spot'], m[\"sum WS_repo J WS_spot\"], levels = [lvl['Bucket']], condition = lvl['PortfolioID']==\"Smaller_Portfolio\")"
   ]
  },
  {
   "cell_type": "code",
   "execution_count": null,
   "metadata": {},
   "outputs": [],
   "source": [
    "# Hence the formula for Kb can be repre"
   ]
  },
  {
   "cell_type": "code",
   "execution_count": 35,
   "metadata": {},
   "outputs": [],
   "source": [
    "m['K_b alternative'] = av.sqrt(av.max(0, m['spot contribution'] + m['repo contribution'] + 2*m[\"cross repo spot contribution\"]))"
   ]
  },
  {
   "cell_type": "code",
   "execution_count": 39,
   "metadata": {},
   "outputs": [
    {
     "data": {
      "text/html": [
       "<div>\n",
       "<style scoped>\n",
       "    .dataframe tbody tr th:only-of-type {\n",
       "        vertical-align: middle;\n",
       "    }\n",
       "\n",
       "    .dataframe tbody tr th {\n",
       "        vertical-align: top;\n",
       "    }\n",
       "\n",
       "    .dataframe thead th {\n",
       "        text-align: right;\n",
       "    }\n",
       "</style>\n",
       "<table border=\"1\" class=\"dataframe\">\n",
       "  <thead>\n",
       "    <tr style=\"text-align: right;\">\n",
       "      <th></th>\n",
       "      <th></th>\n",
       "      <th>Kb</th>\n",
       "      <th>K_b alternative</th>\n",
       "      <th>spot contribution</th>\n",
       "      <th>repo contribution</th>\n",
       "    </tr>\n",
       "    <tr>\n",
       "      <th>PortfolioID</th>\n",
       "      <th>Bucket</th>\n",
       "      <th></th>\n",
       "      <th></th>\n",
       "      <th></th>\n",
       "      <th></th>\n",
       "    </tr>\n",
       "  </thead>\n",
       "  <tbody>\n",
       "    <tr>\n",
       "      <th rowspan=\"10\" valign=\"top\">Smaller_Portfolio</th>\n",
       "      <th>1</th>\n",
       "      <td>2,002,940.3172</td>\n",
       "      <td>2,002,883.5483</td>\n",
       "      <td>4,011,542,504,846.1855</td>\n",
       "      <td>3,229.2505</td>\n",
       "    </tr>\n",
       "    <tr>\n",
       "      <th>10</th>\n",
       "      <td>1,819,315.9010</td>\n",
       "      <td>1,819,191.3827</td>\n",
       "      <td>3,309,457,252,220.8950</td>\n",
       "      <td>34,792.3173</td>\n",
       "    </tr>\n",
       "    <tr>\n",
       "      <th>11</th>\n",
       "      <td>6,418,348.7082</td>\n",
       "      <td>3,409,633.5532</td>\n",
       "      <td>11,625,600,950,839.9102</td>\n",
       "      <td>16,133.3217</td>\n",
       "    </tr>\n",
       "    <tr>\n",
       "      <th>12</th>\n",
       "      <td>286,992.4354</td>\n",
       "      <td>286,992.7395</td>\n",
       "      <td>82,364,832,525.7148</td>\n",
       "      <td>0.0926</td>\n",
       "    </tr>\n",
       "    <tr>\n",
       "      <th>3</th>\n",
       "      <td>4,757.8031</td>\n",
       "      <td>4,747.3047</td>\n",
       "      <td>22,536,790.8278</td>\n",
       "      <td>110.6820</td>\n",
       "    </tr>\n",
       "    <tr>\n",
       "      <th>4</th>\n",
       "      <td>758,465.4868</td>\n",
       "      <td>758,430.0265</td>\n",
       "      <td>575,216,099,754.0173</td>\n",
       "      <td>5,301.2157</td>\n",
       "    </tr>\n",
       "    <tr>\n",
       "      <th>5</th>\n",
       "      <td>456,861.0617</td>\n",
       "      <td>456,846.2609</td>\n",
       "      <td>208,708,503,926.5409</td>\n",
       "      <td>2,188.4072</td>\n",
       "    </tr>\n",
       "    <tr>\n",
       "      <th>7</th>\n",
       "      <td>932,682.8928</td>\n",
       "      <td>932,701.1300</td>\n",
       "      <td>869,931,393,755.0397</td>\n",
       "      <td>4,196.0403</td>\n",
       "    </tr>\n",
       "    <tr>\n",
       "      <th>8</th>\n",
       "      <td>3,937,788.9195</td>\n",
       "      <td>3,937,638.7286</td>\n",
       "      <td>15,504,998,703,492.8867</td>\n",
       "      <td>53,668.7411</td>\n",
       "    </tr>\n",
       "    <tr>\n",
       "      <th>9</th>\n",
       "      <td>2,234,809.9610</td>\n",
       "      <td>2,234,768.0819</td>\n",
       "      <td>4,994,188,329,084.8691</td>\n",
       "      <td>50,755.9984</td>\n",
       "    </tr>\n",
       "  </tbody>\n",
       "</table>\n",
       "</div>"
      ],
      "text/plain": [
       "                                     Kb  K_b alternative  \\\n",
       "PortfolioID       Bucket                                   \n",
       "Smaller_Portfolio 1      2,002,940.3172   2,002,883.5483   \n",
       "                  10     1,819,315.9010   1,819,191.3827   \n",
       "                  11     6,418,348.7082   3,409,633.5532   \n",
       "                  12       286,992.4354     286,992.7395   \n",
       "                  3          4,757.8031       4,747.3047   \n",
       "                  4        758,465.4868     758,430.0265   \n",
       "                  5        456,861.0617     456,846.2609   \n",
       "                  7        932,682.8928     932,701.1300   \n",
       "                  8      3,937,788.9195   3,937,638.7286   \n",
       "                  9      2,234,809.9610   2,234,768.0819   \n",
       "\n",
       "                               spot contribution  repo contribution  \n",
       "PortfolioID       Bucket                                             \n",
       "Smaller_Portfolio 1       4,011,542,504,846.1855         3,229.2505  \n",
       "                  10      3,309,457,252,220.8950        34,792.3173  \n",
       "                  11     11,625,600,950,839.9102        16,133.3217  \n",
       "                  12         82,364,832,525.7148             0.0926  \n",
       "                  3              22,536,790.8278           110.6820  \n",
       "                  4         575,216,099,754.0173         5,301.2157  \n",
       "                  5         208,708,503,926.5409         2,188.4072  \n",
       "                  7         869,931,393,755.0397         4,196.0403  \n",
       "                  8      15,504,998,703,492.8867        53,668.7411  \n",
       "                  9       4,994,188,329,084.8691        50,755.9984  "
      ]
     },
     "execution_count": 39,
     "metadata": {},
     "output_type": "execute_result"
    }
   ],
   "source": [
    "cube.query(m['Kb'], m['K_b alternative'], m['spot contribution'], m['repo contribution'],levels = [lvl['PortfolioID'], lvl['Bucket']], condition = lvl['PortfolioID']==\"Smaller_Portfolio\")"
   ]
  },
  {
   "cell_type": "code",
   "execution_count": 44,
   "metadata": {},
   "outputs": [
    {
     "data": {
      "text/html": [
       "<div>\n",
       "<style scoped>\n",
       "    .dataframe tbody tr th:only-of-type {\n",
       "        vertical-align: middle;\n",
       "    }\n",
       "\n",
       "    .dataframe tbody tr th {\n",
       "        vertical-align: top;\n",
       "    }\n",
       "\n",
       "    .dataframe thead th {\n",
       "        text-align: right;\n",
       "    }\n",
       "</style>\n",
       "<table border=\"1\" class=\"dataframe\">\n",
       "  <thead>\n",
       "    <tr style=\"text-align: right;\">\n",
       "      <th></th>\n",
       "      <th></th>\n",
       "      <th>Kb</th>\n",
       "      <th>K_b alternative</th>\n",
       "    </tr>\n",
       "    <tr>\n",
       "      <th>PortfolioID</th>\n",
       "      <th>Bucket</th>\n",
       "      <th></th>\n",
       "      <th></th>\n",
       "    </tr>\n",
       "  </thead>\n",
       "  <tbody>\n",
       "    <tr>\n",
       "      <th rowspan=\"10\" valign=\"top\">Smaller_Portfolio</th>\n",
       "      <th>1</th>\n",
       "      <td>2,002,940.3172</td>\n",
       "      <td>2,002,883.5483</td>\n",
       "    </tr>\n",
       "    <tr>\n",
       "      <th>10</th>\n",
       "      <td>1,819,315.9010</td>\n",
       "      <td>1,819,191.3827</td>\n",
       "    </tr>\n",
       "    <tr>\n",
       "      <th>11</th>\n",
       "      <td>6,418,348.7082</td>\n",
       "      <td>3,409,633.5532</td>\n",
       "    </tr>\n",
       "    <tr>\n",
       "      <th>12</th>\n",
       "      <td>286,992.4354</td>\n",
       "      <td>286,992.7395</td>\n",
       "    </tr>\n",
       "    <tr>\n",
       "      <th>3</th>\n",
       "      <td>4,757.8031</td>\n",
       "      <td>4,747.3047</td>\n",
       "    </tr>\n",
       "    <tr>\n",
       "      <th>4</th>\n",
       "      <td>758,465.4868</td>\n",
       "      <td>758,430.0265</td>\n",
       "    </tr>\n",
       "    <tr>\n",
       "      <th>5</th>\n",
       "      <td>456,861.0617</td>\n",
       "      <td>456,846.2609</td>\n",
       "    </tr>\n",
       "    <tr>\n",
       "      <th>7</th>\n",
       "      <td>932,682.8928</td>\n",
       "      <td>932,701.1300</td>\n",
       "    </tr>\n",
       "    <tr>\n",
       "      <th>8</th>\n",
       "      <td>3,937,788.9195</td>\n",
       "      <td>3,937,638.7286</td>\n",
       "    </tr>\n",
       "    <tr>\n",
       "      <th>9</th>\n",
       "      <td>2,234,809.9610</td>\n",
       "      <td>2,234,768.0819</td>\n",
       "    </tr>\n",
       "  </tbody>\n",
       "</table>\n",
       "</div>"
      ],
      "text/plain": [
       "                                     Kb  K_b alternative\n",
       "PortfolioID       Bucket                                \n",
       "Smaller_Portfolio 1      2,002,940.3172   2,002,883.5483\n",
       "                  10     1,819,315.9010   1,819,191.3827\n",
       "                  11     6,418,348.7082   3,409,633.5532\n",
       "                  12       286,992.4354     286,992.7395\n",
       "                  3          4,757.8031       4,747.3047\n",
       "                  4        758,465.4868     758,430.0265\n",
       "                  5        456,861.0617     456,846.2609\n",
       "                  7        932,682.8928     932,701.1300\n",
       "                  8      3,937,788.9195   3,937,638.7286\n",
       "                  9      2,234,809.9610   2,234,768.0819"
      ]
     },
     "execution_count": 44,
     "metadata": {},
     "output_type": "execute_result"
    }
   ],
   "source": [
    "cube.query(m['Kb'], m['K_b alternative'], levels = [lvl['PortfolioID'], lvl['Bucket']], condition = lvl['PortfolioID']==\"Smaller_Portfolio\")"
   ]
  },
  {
   "cell_type": "markdown",
   "metadata": {},
   "source": [
    "# Cross-bucket aggregation"
   ]
  },
  {
   "cell_type": "markdown",
   "metadata": {},
   "source": [
    "## Bucket correlations"
   ]
  },
  {
   "cell_type": "code",
   "execution_count": 56,
   "metadata": {},
   "outputs": [],
   "source": [
    "eq_delta_buckets_correlations = session.read_csv(\n",
    "    \"eq_delta_gamma.csv\", keys=[\"Bucket\", \"Other Bucket\"], types = {\"Bucket\": av.types.STRING, \"Other Bucket\": av.types.STRING}, store_name=\"eq_delta_corr_outer\"\n",
    ")\n",
    "risks_store.join(eq_delta_buckets_correlations)"
   ]
  },
  {
   "cell_type": "markdown",
   "metadata": {},
   "source": [
    "## Aggregating across buckets"
   ]
  },
  {
   "cell_type": "code",
   "execution_count": 61,
   "metadata": {},
   "outputs": [],
   "source": [
    "# 21.4(5)(a):\n",
    "m['WSb'] = m['WS']\n",
    "m['WSc'] = av.at(m['WS'], {lvl['Bucket']: lvl['Other Bucket']})\n",
    "m['sum Kb2 + sum sum WSb WSc gamma'] = av.agg.square_sum(m['Kb'], av.scope.origin('Bucket')) + av.agg.sum(\n",
    "    m['WSb'] * m['WSc']*m['gamma.VALUE'], scope = av.scope.origin('Bucket','Other Bucket'))\n",
    "\n",
    "# 21.4(5)(b):\n",
    "m['Sb'] = av.max(av.min(m['WS'], m['Kb']), -1.0 * m['Kb'])\n",
    "m['Sc'] = av.at(m['Sb'], {lvl['Bucket']: lvl['Other Bucket']})\n",
    "m['sum Kb2 + sum sum Sb Sc gamma'] = av.agg.square_sum(m['Kb'], av.scope.origin(lvl['Bucket'])) + av.agg.sum(\n",
    "    m['Sb'] * m['Sc']*m['gamma.VALUE'], scope = av.scope.origin('Bucket','Other Bucket'))\n",
    "\n",
    "m['Delta Margin'] = av.where(m['sum Kb2 + sum sum WSb WSc gamma'] > 0,\n",
    "                             av.sqrt(m['sum Kb2 + sum sum WSb WSc gamma']),\n",
    "                             av.sqrt(m['sum Kb2 + sum sum Sb Sc gamma']))"
   ]
  },
  {
   "cell_type": "code",
   "execution_count": 63,
   "metadata": {},
   "outputs": [
    {
     "data": {
      "text/html": [
       "<div>\n",
       "<style scoped>\n",
       "    .dataframe tbody tr th:only-of-type {\n",
       "        vertical-align: middle;\n",
       "    }\n",
       "\n",
       "    .dataframe tbody tr th {\n",
       "        vertical-align: top;\n",
       "    }\n",
       "\n",
       "    .dataframe thead th {\n",
       "        text-align: right;\n",
       "    }\n",
       "</style>\n",
       "<table border=\"1\" class=\"dataframe\">\n",
       "  <thead>\n",
       "    <tr style=\"text-align: right;\">\n",
       "      <th></th>\n",
       "      <th>Delta Margin</th>\n",
       "    </tr>\n",
       "  </thead>\n",
       "  <tbody>\n",
       "    <tr>\n",
       "      <th>0</th>\n",
       "      <td>8,951,153.7749</td>\n",
       "    </tr>\n",
       "  </tbody>\n",
       "</table>\n",
       "</div>"
      ],
      "text/plain": [
       "    Delta Margin\n",
       "0 8,951,153.7749"
      ]
     },
     "execution_count": 63,
     "metadata": {},
     "output_type": "execute_result"
    }
   ],
   "source": [
    "cube.query(m['Delta Margin'], condition = lvl['PortfolioID']==\"Smaller_Portfolio\", timeout=90)"
   ]
  },
  {
   "cell_type": "code",
   "execution_count": null,
   "metadata": {},
   "outputs": [],
   "source": [
    "# Optimized calculation\n",
    "\n",
    "# 21.4(5)(a):\n",
    "m['sum Kb2 + sum sum WSb WSc gamma alternative'] = av.agg.square_sum(m['K_b alternative'], av.scope.origin([lvl['Bucket']])) + av.agg.sum(\n",
    "    m['WS_b'] * m['WS_c']*m['gamma.VALUE'], av.scope.origin([lvl['Bucket'], lvl['Other Bucket']]))\n",
    "\n",
    "# 21.4(5)(b):\n",
    "m['S_b alternative'] = av.max(av.min(m['WS_k'], m['K_b alternative']), -1.0 * m['K_b alternative'])\n",
    "m['S_c alternative'] = av.at(m['S_b alternative'], {lvl['Bucket']: lvl['Other Bucket']})\n",
    "m['sum Kb2 + sum sum Sb Sc gamma alternative'] = av.agg.square_sum(m['K_b alternative'], av.scope.origin([lvl['Bucket']])) + av.agg.sum(\n",
    "    m['S_b alternative'] * m['S_c alternative']*m['gamma.VALUE'], av.scope.origin([lvl['Bucket'], lvl['Other Bucket']]))\n",
    "\n",
    "m['Delta Margin alternative'] = av.where(m['sum Kb2 + sum sum WSb WSc gamma alternative'] > 0,\n",
    "                             av.sqrt(m['sum Kb2 + sum sum WSb WSc gamma alternative']),\n",
    "                             av.sqrt(m['sum Kb2 + sum sum Sb Sc gamma alternative']))"
   ]
  },
  {
   "cell_type": "code",
   "execution_count": null,
   "metadata": {},
   "outputs": [],
   "source": [
    "cube.query(m['Delta Margin alternative'], levels = [lvl['PortfolioID']], timeout=90)"
   ]
  },
  {
   "cell_type": "markdown",
   "metadata": {},
   "source": [
    "# Timeit"
   ]
  },
  {
   "cell_type": "code",
   "execution_count": null,
   "metadata": {},
   "outputs": [],
   "source": [
    "risks_store.load_pandas(crif)"
   ]
  },
  {
   "cell_type": "code",
   "execution_count": null,
   "metadata": {},
   "outputs": [],
   "source": [
    "%%timeit\n",
    "cube.query(m['Delta Margin'], condition = lvl['PortfolioID']==\"Smaller_Portfolio\", timeout=90)"
   ]
  },
  {
   "cell_type": "code",
   "execution_count": null,
   "metadata": {},
   "outputs": [],
   "source": [
    "%%timeit\n",
    "cube.query(m['Delta Margin'], condition = lvl['PortfolioID']==\"Bigger_Portfolio\", timeout=90)"
   ]
  },
  {
   "cell_type": "code",
   "execution_count": null,
   "metadata": {},
   "outputs": [],
   "source": [
    "%%timeit\n",
    "cube.query(m['Delta Margin alternative'], condition = lvl['PortfolioID']==\"Smaller_Portfolio\")"
   ]
  },
  {
   "cell_type": "code",
   "execution_count": null,
   "metadata": {},
   "outputs": [],
   "source": [
    "%%timeit\n",
    "cube.query(m['Delta Margin alternative'], condition = lvl['PortfolioID']==\"Bigger_Portfolio\")"
   ]
  }
 ],
 "metadata": {
  "kernelspec": {
   "display_name": "Python 3",
   "language": "python",
   "name": "python3"
  },
  "language_info": {
   "codemirror_mode": {
    "name": "ipython",
    "version": 3
   },
   "file_extension": ".py",
   "mimetype": "text/x-python",
   "name": "python",
   "nbconvert_exporter": "python",
   "pygments_lexer": "ipython3",
   "version": "3.7.6"
  },
  "latex_envs": {
   "LaTeX_envs_menu_present": true,
   "autoclose": false,
   "autocomplete": true,
   "bibliofile": "biblio.bib",
   "cite_by": "apalike",
   "current_citInitial": 1,
   "eqLabelWithNumbers": true,
   "eqNumInitial": 1,
   "hotkeys": {
    "equation": "Ctrl-E",
    "itemize": "Ctrl-I"
   },
   "labels_anchors": false,
   "latex_user_defs": false,
   "report_style_numbering": false,
   "user_envs_cfg": false
  },
  "toc": {
   "base_numbering": 1,
   "nav_menu": {},
   "number_sections": true,
   "sideBar": true,
   "skip_h1_title": false,
   "title_cell": "Table of Contents",
   "title_sidebar": "Contents",
   "toc_cell": false,
   "toc_position": {
    "height": "calc(100% - 180px)",
    "left": "10px",
    "top": "150px",
    "width": "305.517px"
   },
   "toc_section_display": true,
   "toc_window_display": true
  },
  "varInspector": {
   "cols": {
    "lenName": 16,
    "lenType": 16,
    "lenVar": 40
   },
   "kernels_config": {
    "python": {
     "delete_cmd_postfix": "",
     "delete_cmd_prefix": "del ",
     "library": "var_list.py",
     "varRefreshCmd": "print(var_dic_list())"
    },
    "r": {
     "delete_cmd_postfix": ") ",
     "delete_cmd_prefix": "rm(",
     "library": "var_list.r",
     "varRefreshCmd": "cat(var_dic_list()) "
    }
   },
   "types_to_exclude": [
    "module",
    "function",
    "builtin_function_or_method",
    "instance",
    "_Feature"
   ],
   "window_display": false
  }
 },
 "nbformat": 4,
 "nbformat_minor": 4
}
