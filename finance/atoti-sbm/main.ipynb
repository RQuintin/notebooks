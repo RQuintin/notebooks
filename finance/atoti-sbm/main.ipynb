{
 "cells": [
  {
   "cell_type": "markdown",
   "metadata": {},
   "source": [
    "# Introduction\n",
    "\n",
    "#variance-covariance, #sbm, #frtb, #cva-frtb, #simm\n",
    "\n",
    "This is a demonstration of the variance-covariance aggregation in atoti.\n",
    "\n",
    "Run this notebook to start up a cube aggregating equity delta sensitivities into the SBM charge. The SBM methodology is implemented as described in the Consolidated Basel Framework Chapter MAR21: https://www.bis.org/basel_framework/chapter/MAR/21.htm?inforce=20220101. \n",
    "\n",
    "The variance-covariance method is utilized internally by organisations, as well as by the other regulatory methodologies, such as SIMM, CVA-FRTB to compute VaR-type measures from sensitivities.\n",
    "\n",
    "Input data is sourced in CRIF-like format: https://www.isda.org/a/owEDE/risk-data-standards-v1-36-public.pdf"
   ]
  },
  {
   "cell_type": "markdown",
   "metadata": {},
   "source": [
    "# Imports"
   ]
  },
  {
   "cell_type": "code",
   "execution_count": 1,
   "metadata": {},
   "outputs": [],
   "source": [
    "from IPython.display import display, Markdown, Latex, Image\n",
    "import numpy as np\n",
    "import pandas as pd\n",
    "import os\n",
    "\n",
    "pd.set_option('display.max_rows', 500)\n",
    "pd.set_option('display.max_columns', 500)\n",
    "pd.set_option(\"display.max_colwidth\", 300)\n",
    "pd.options.display.float_format = '{:,.4f}'.format\n",
    "diagram = {}"
   ]
  },
  {
   "cell_type": "markdown",
   "metadata": {},
   "source": [
    "# Atoti"
   ]
  },
  {
   "cell_type": "code",
   "execution_count": 2,
   "metadata": {},
   "outputs": [],
   "source": [
    "import atoti as av\n",
    "from atoti.config import create_config\n",
    "session = av.create_session(\n",
    "    config='./configuration.yaml', port='53972', sampling_mode=av.sampling.FULL)"
   ]
  },
  {
   "cell_type": "markdown",
   "metadata": {},
   "source": [
    "# Url"
   ]
  },
  {
   "cell_type": "code",
   "execution_count": 3,
   "metadata": {},
   "outputs": [
    {
     "data": {
      "text/markdown": [
       "[http://localhost:53972](http://localhost:53972)"
      ],
      "text/plain": [
       "<IPython.core.display.Markdown object>"
      ]
     },
     "metadata": {},
     "output_type": "display_data"
    }
   ],
   "source": [
    "display(Markdown('[' + session.url+ ']('+ session.url+')'))"
   ]
  },
  {
   "cell_type": "markdown",
   "metadata": {},
   "source": [
    "# Reading sensitivities"
   ]
  },
  {
   "cell_type": "code",
   "execution_count": 4,
   "metadata": {},
   "outputs": [
    {
     "data": {
      "text/html": [
       "<div>\n",
       "<style scoped>\n",
       "    .dataframe tbody tr th:only-of-type {\n",
       "        vertical-align: middle;\n",
       "    }\n",
       "\n",
       "    .dataframe tbody tr th {\n",
       "        vertical-align: top;\n",
       "    }\n",
       "\n",
       "    .dataframe thead th {\n",
       "        text-align: right;\n",
       "    }\n",
       "</style>\n",
       "<table border=\"1\" class=\"dataframe\">\n",
       "  <thead>\n",
       "    <tr style=\"text-align: right;\">\n",
       "      <th></th>\n",
       "      <th>TradeID</th>\n",
       "      <th>RiskType</th>\n",
       "      <th>Qualifier</th>\n",
       "      <th>Label2</th>\n",
       "      <th>AmountUSD</th>\n",
       "      <th>Bucket</th>\n",
       "      <th>PortfolioID</th>\n",
       "    </tr>\n",
       "  </thead>\n",
       "  <tbody>\n",
       "    <tr>\n",
       "      <th>0</th>\n",
       "      <td>0</td>\n",
       "      <td>Risk_Equity</td>\n",
       "      <td>Wilmar International</td>\n",
       "      <td>REPO</td>\n",
       "      <td>-10,332.0900</td>\n",
       "      <td>1</td>\n",
       "      <td>Smaller_Portfolio</td>\n",
       "    </tr>\n",
       "    <tr>\n",
       "      <th>1</th>\n",
       "      <td>1</td>\n",
       "      <td>Risk_Equity</td>\n",
       "      <td>Wilmar International</td>\n",
       "      <td>SPOT</td>\n",
       "      <td>-3,641,606.4500</td>\n",
       "      <td>1</td>\n",
       "      <td>Smaller_Portfolio</td>\n",
       "    </tr>\n",
       "    <tr>\n",
       "      <th>2</th>\n",
       "      <td>2</td>\n",
       "      <td>Risk_Equity</td>\n",
       "      <td>China Minmetals</td>\n",
       "      <td>REPO</td>\n",
       "      <td>-2,337.9000</td>\n",
       "      <td>3</td>\n",
       "      <td>Smaller_Portfolio</td>\n",
       "    </tr>\n",
       "    <tr>\n",
       "      <th>3</th>\n",
       "      <td>3</td>\n",
       "      <td>Risk_Equity</td>\n",
       "      <td>China Minmetals</td>\n",
       "      <td>SPOT</td>\n",
       "      <td>-10,549.5400</td>\n",
       "      <td>3</td>\n",
       "      <td>Smaller_Portfolio</td>\n",
       "    </tr>\n",
       "    <tr>\n",
       "      <th>4</th>\n",
       "      <td>4</td>\n",
       "      <td>Risk_Equity</td>\n",
       "      <td>China Life Insurance</td>\n",
       "      <td>REPO</td>\n",
       "      <td>-7,874.9400</td>\n",
       "      <td>4</td>\n",
       "      <td>Smaller_Portfolio</td>\n",
       "    </tr>\n",
       "  </tbody>\n",
       "</table>\n",
       "</div>"
      ],
      "text/plain": [
       "  TradeID     RiskType             Qualifier Label2       AmountUSD  Bucket  \\\n",
       "0       0  Risk_Equity  Wilmar International   REPO    -10,332.0900       1   \n",
       "1       1  Risk_Equity  Wilmar International   SPOT -3,641,606.4500       1   \n",
       "2       2  Risk_Equity       China Minmetals   REPO     -2,337.9000       3   \n",
       "3       3  Risk_Equity       China Minmetals   SPOT    -10,549.5400       3   \n",
       "4       4  Risk_Equity  China Life Insurance   REPO     -7,874.9400       4   \n",
       "\n",
       "         PortfolioID  \n",
       "0  Smaller_Portfolio  \n",
       "1  Smaller_Portfolio  \n",
       "2  Smaller_Portfolio  \n",
       "3  Smaller_Portfolio  \n",
       "4  Smaller_Portfolio  "
      ]
     },
     "execution_count": 4,
     "metadata": {},
     "output_type": "execute_result"
    }
   ],
   "source": [
    "crif = pd.read_csv(\"data/smaller_data.csv\")\n",
    "crif = crif.append(pd.read_csv(\"data/bigger_data.csv\"), ignore_index = True)\n",
    "crif.head(5)"
   ]
  },
  {
   "cell_type": "code",
   "execution_count": 5,
   "metadata": {
    "scrolled": true
   },
   "outputs": [],
   "source": [
    "risks_store = session.read_pandas(crif,\n",
    "                                  keys=['TradeID', 'PortfolioID','RiskType', 'Qualifier', 'Label2'],\n",
    "                                  store_name=\"Risks\",\n",
    "                                  types={'Bucket': av.types.STRING})\n",
    "\n",
    "cube = session.create_cube(risks_store)\n",
    "lvl = cube.levels\n",
    "m = cube.measures\n",
    "h = cube.hierarchies"
   ]
  },
  {
   "cell_type": "markdown",
   "metadata": {},
   "source": [
    "# Risk weights datastore"
   ]
  },
  {
   "cell_type": "code",
   "execution_count": 6,
   "metadata": {},
   "outputs": [],
   "source": [
    "eq_delta_risk_weights_store = session.read_csv(\n",
    "    \"data/parameters/eq_delta_rw.csv\",\n",
    "    keys=[\"Bucket\", \"Label2\"],\n",
    "    types={\"Bucket\": av.types.STRING},\n",
    "    store_name=\"RiskWeights\"\n",
    ")\n",
    "risks_store.join(eq_delta_risk_weights_store)"
   ]
  },
  {
   "cell_type": "code",
   "execution_count": 7,
   "metadata": {},
   "outputs": [
    {
     "data": {
      "text/html": [
       "<div>\n",
       "<style scoped>\n",
       "    .dataframe tbody tr th:only-of-type {\n",
       "        vertical-align: middle;\n",
       "    }\n",
       "\n",
       "    .dataframe tbody tr th {\n",
       "        vertical-align: top;\n",
       "    }\n",
       "\n",
       "    .dataframe thead th {\n",
       "        text-align: right;\n",
       "    }\n",
       "</style>\n",
       "<table border=\"1\" class=\"dataframe\">\n",
       "  <thead>\n",
       "    <tr style=\"text-align: right;\">\n",
       "      <th></th>\n",
       "      <th></th>\n",
       "      <th>RW</th>\n",
       "    </tr>\n",
       "    <tr>\n",
       "      <th>Bucket</th>\n",
       "      <th>Label2</th>\n",
       "      <th></th>\n",
       "    </tr>\n",
       "  </thead>\n",
       "  <tbody>\n",
       "    <tr>\n",
       "      <th>1</th>\n",
       "      <th>SPOT</th>\n",
       "      <td>0.5500</td>\n",
       "    </tr>\n",
       "    <tr>\n",
       "      <th>2</th>\n",
       "      <th>SPOT</th>\n",
       "      <td>0.6000</td>\n",
       "    </tr>\n",
       "    <tr>\n",
       "      <th>3</th>\n",
       "      <th>SPOT</th>\n",
       "      <td>0.4500</td>\n",
       "    </tr>\n",
       "    <tr>\n",
       "      <th>4</th>\n",
       "      <th>SPOT</th>\n",
       "      <td>0.5500</td>\n",
       "    </tr>\n",
       "    <tr>\n",
       "      <th>5</th>\n",
       "      <th>SPOT</th>\n",
       "      <td>0.3000</td>\n",
       "    </tr>\n",
       "  </tbody>\n",
       "</table>\n",
       "</div>"
      ],
      "text/plain": [
       "                  RW\n",
       "Bucket Label2       \n",
       "1      SPOT   0.5500\n",
       "2      SPOT   0.6000\n",
       "3      SPOT   0.4500\n",
       "4      SPOT   0.5500\n",
       "5      SPOT   0.3000"
      ]
     },
     "execution_count": 7,
     "metadata": {},
     "output_type": "execute_result"
    }
   ],
   "source": [
    "eq_delta_risk_weights_store.head(5)"
   ]
  },
  {
   "cell_type": "markdown",
   "metadata": {},
   "source": [
    "# Weighted sensitivities"
   ]
  },
  {
   "cell_type": "code",
   "execution_count": 8,
   "metadata": {},
   "outputs": [],
   "source": [
    "m['WS_k'] = av.agg.sum(m['AmountUSD.SUM']*m['RW.VALUE'],\n",
    "                       scope=av.scope.origin(\"Bucket\",\"Label2\"))"
   ]
  },
  {
   "cell_type": "markdown",
   "metadata": {},
   "source": [
    "# Bucket-level aggregation"
   ]
  },
  {
   "cell_type": "markdown",
   "metadata": {},
   "source": [
    "## Risk factor correlations"
   ]
  },
  {
   "cell_type": "markdown",
   "metadata": {},
   "source": [
    "The three cases for each pair of risk factors:\n",
    "\n",
    "- Case 1: same name, different type: a single value -> 0.999\n",
    "- Case 2: different name, same type: a single value depending on bucket, for example, 0.15\n",
    "- Case 3: different name, different type: value depending on risk factor multiplier by 0.999, for example, 0.15 x 0.999\n",
    "\n",
    "Example\n",
    "\n",
    "\n",
    "| risk factors | name1-spot | name1-repo | name2-spot | name2-repo |\n",
    "|------------|-------------|-------------|-------------|-------------|\n",
    "| name1-spot | 1 |  |  |  |\n",
    "| name1-repo | same_name_diff_type | 1 |  |  |\n",
    "| name2-spot | rho_by_name | rho_by_name x type_multiplier | 1 |  |\n",
    "| name2-repo | rho_by_name x type_multiplier | rho_by_name x type_multiplier | same_name_diff_type | 1 |"
   ]
  },
  {
   "cell_type": "code",
   "execution_count": 9,
   "metadata": {},
   "outputs": [],
   "source": [
    "# risk factor = name + type\n",
    "# correlations and multipliers:\n",
    "same_risk_factor = 1.0\n",
    "same_name_diff_type = 0.999\n",
    "diff_type_multiplier = 0.999"
   ]
  },
  {
   "cell_type": "code",
   "execution_count": 10,
   "metadata": {
    "scrolled": true
   },
   "outputs": [
    {
     "data": {
      "text/html": [
       "<div>\n",
       "<style scoped>\n",
       "    .dataframe tbody tr th:only-of-type {\n",
       "        vertical-align: middle;\n",
       "    }\n",
       "\n",
       "    .dataframe tbody tr th {\n",
       "        vertical-align: top;\n",
       "    }\n",
       "\n",
       "    .dataframe thead th {\n",
       "        text-align: right;\n",
       "    }\n",
       "</style>\n",
       "<table border=\"1\" class=\"dataframe\">\n",
       "  <thead>\n",
       "    <tr style=\"text-align: right;\">\n",
       "      <th></th>\n",
       "      <th>names_correlation</th>\n",
       "    </tr>\n",
       "    <tr>\n",
       "      <th>Bucket</th>\n",
       "      <th></th>\n",
       "    </tr>\n",
       "  </thead>\n",
       "  <tbody>\n",
       "    <tr>\n",
       "      <th>1</th>\n",
       "      <td>0.1500</td>\n",
       "    </tr>\n",
       "    <tr>\n",
       "      <th>2</th>\n",
       "      <td>0.1500</td>\n",
       "    </tr>\n",
       "    <tr>\n",
       "      <th>3</th>\n",
       "      <td>0.1500</td>\n",
       "    </tr>\n",
       "    <tr>\n",
       "      <th>4</th>\n",
       "      <td>0.1500</td>\n",
       "    </tr>\n",
       "    <tr>\n",
       "      <th>5</th>\n",
       "      <td>0.2500</td>\n",
       "    </tr>\n",
       "  </tbody>\n",
       "</table>\n",
       "</div>"
      ],
      "text/plain": [
       "        names_correlation\n",
       "Bucket                   \n",
       "1                  0.1500\n",
       "2                  0.1500\n",
       "3                  0.1500\n",
       "4                  0.1500\n",
       "5                  0.2500"
      ]
     },
     "execution_count": 10,
     "metadata": {},
     "output_type": "execute_result"
    }
   ],
   "source": [
    "# correlations by bucket - datastore creation\n",
    "eq_delta_rho = session.read_csv(\n",
    "    \"data/parameters/eq_delta_rho.csv\", keys=[\"Bucket\"], types={\"Bucket\": av.types.STRING}, \n",
    "    store_name=\"RiskFactorCorrelations\"\n",
    ")\n",
    "risks_store.join(eq_delta_rho)\n",
    "eq_delta_rho.head(5)"
   ]
  },
  {
   "cell_type": "markdown",
   "metadata": {},
   "source": [
    "## Method 1: materializing risk factor pairs"
   ]
  },
  {
   "cell_type": "code",
   "execution_count": 11,
   "metadata": {},
   "outputs": [],
   "source": [
    "# Important:\n",
    "# We join by POrtfolioID - hence  \n",
    "# the combinations of risk factors are restricted to those that defined below PortfolioID"
   ]
  },
  {
   "cell_type": "code",
   "execution_count": 12,
   "metadata": {},
   "outputs": [],
   "source": [
    "other_risk_factor_store = session.read_pandas(crif[['PortfolioID', 'Bucket', 'Qualifier', 'Label2']].rename(columns={'Qualifier': 'Other Qualifier', 'Label2': 'Other Label2'}), keys=[\n",
    "                                              'PortfolioID', 'Bucket', 'Other Qualifier', 'Other Label2'], types={'Bucket': av.types.STRING}, store_name='OtherRiskFactor')\n",
    "risks_store.join(other_risk_factor_store, mapping={\n",
    "                 'PortfolioID': 'PortfolioID', 'Bucket': 'Bucket'})"
   ]
  },
  {
   "cell_type": "code",
   "execution_count": 13,
   "metadata": {},
   "outputs": [],
   "source": [
    "# measure returning correlation\n",
    "m['rho_kl'] = av.where(lvl['Qualifier'] == lvl['Other Qualifier'], \n",
    "                       av.where(lvl['Label2'] == lvl['Other Label2'], same_risk_factor, same_name_diff_type),\n",
    "                       av.where(lvl['Label2'] == lvl['Other Label2'], m['names_correlation.VALUE'],\n",
    "                                m['names_correlation.VALUE'] * diff_type_multiplier))"
   ]
  },
  {
   "cell_type": "code",
   "execution_count": 14,
   "metadata": {},
   "outputs": [],
   "source": [
    "m['Other WS_k'] = av.at(m['WS_k'], {\n",
    "                        lvl['Qualifier']: lvl['Other Qualifier'],\n",
    "                        lvl['Label2']: lvl['Other Label2']})\n",
    "\n",
    "m['K_b'] = av.agg.stop(av.where(lvl['Bucket'] == '11',\n",
    "                                av.agg.sum(av.abs(m['WS_k']), av.scope.origin('Qualifier','Label2')),\n",
    "                                av.sqrt(av.max(0, av.agg.sum(m['WS_k']\n",
    "                                                             * m['Other WS_k'] * m['rho_kl'], scope = av.scope.origin('Qualifier','Other Qualifier','Label2','Other Label2'))))), at = [lvl['Bucket']])"
   ]
  },
  {
   "cell_type": "markdown",
   "metadata": {},
   "source": [
    "## Method 2: optimized Kb calculation"
   ]
  },
  {
   "cell_type": "markdown",
   "metadata": {},
   "source": [
    "Since many of the risk pairs share the same correlation value, it is possible to optimize the variance-covariance aggregation. The efficiency of this calculation is critical when cardinality of data along risk factor is high.\n",
    "\n",
    "We decompose the formula into three components:\n",
    "- contribution of pairs with both risk factors being spot - same correlation $\\rho_{names}$ set per bucket,\n",
    "- contribution of pairs with both risk factors being repo - same correlation $\\rho_{names}$ set per bucket,\n",
    "- contribution of pairs where one risk factor is spot, another one is repo - same correlation $\\rho_{names} \\cdot 0.999$. We'd need to account that for some of the pairs where one risk factor is spot, one is repo - some of the names will match and need to be correlated at 0.999\n",
    "\n",
    "\n",
    "Let's start with the pairs where both risk factors are either spot or repo. Their contribution can be rewritten:\n",
    "\n",
    "$$ \\sum_k WS_k^2 +  \\sum_k \\sum_{l \\neq k} \\rho_{kl} WS_k WS_l = \\sum_k WS_k^2 + \\rho_{kl} \\cdot \\left(\\left( \\sum_k WS_k \\right)^2 - \\sum_k WS_k^2  \\right)$$\n",
    "\n",
    "$$ \\sum_k WS_k^2 +  \\sum_k \\sum_{l \\neq k} \\rho_{kl} WS_k WS_l = (1-\\rho_{kl}) \\cdot \\sum_k WS_k^2 + \\rho_{kl} \\cdot \\left( \\sum_k WS_k \\right)^2  $$"
   ]
  },
  {
   "cell_type": "code",
   "execution_count": 15,
   "metadata": {},
   "outputs": [],
   "source": [
    "m['sum squares'] = av.agg.square_sum(m['WS_k'], scope = av.scope.origin('Qualifier'))\n",
    "m['reduced formula'] = (1-m['names_correlation.VALUE'])*m['sum squares'] + m['names_correlation.VALUE']* av.pow(m['WS_k'],2.0)\n",
    "\n",
    "# contribution of pairs having only spot risk factors:\n",
    "m['spot contribution'] = av.filter(m['reduced formula'] , lvl['Label2']==\"SPOT\")\n",
    "# contribution of pairs having only repo risk factors:\n",
    "m['repo contribution'] = av.filter(m['reduced formula'] , lvl['Label2']==\"REPO\")"
   ]
  },
  {
   "cell_type": "markdown",
   "metadata": {},
   "source": [
    "For pairs of risk factors where one risk factor belongs to \"SPOT\" and the other belongs to \"REPO\", the measure \"sum WS_repo WS_spot\" performs this matrix multiplication for each bucket: \n",
    "\n",
    "$$\\vec{WS_{repo}^T} \\cdot J_{n_{repo}, n_{spot}} \\cdot \\vec{WS_{spot}}$$\n",
    "\n",
    "where J - is a matrix of ones. THe above result can be multiplied by $\\rho_{kl}$ for a given bucket, corrected by the factor reflecting that both risk factors belong to different types and different names: $\\rho_{kl} = \\rho_{names} * 0.999$. \n",
    "\n",
    "$$\\vec{WS_{repo}^T} \\cdot J_{n_{repo}, n_{spot}} \\cdot \\vec{WS_{spot}} \\cdot \\rho_{names} \\cdot 0.999$$\n",
    "\n",
    "SOme of the pairs may actually contain matching equity names, which must be correlated at 0.999. Their contribution is corrected by adding:\n",
    "\n",
    "$$(0.999 - \\rho_{names}) \\sum_{n\\in names}{WS_n^{repo} \\cdot WS_n^{spot}}$$\n"
   ]
  },
  {
   "cell_type": "code",
   "execution_count": 16,
   "metadata": {},
   "outputs": [],
   "source": [
    "m['WS_spot'] = av.filter(m['WS_k'], lvl['Label2']==\"SPOT\")\n",
    "m['WS_repo'] = av.filter(m['WS_k'], lvl['Label2']==\"REPO\")\n",
    "\n",
    "m['WS_spot_vector'] = av.parent_value(av.agg._vector(m['WS_spot'], av.scope.origin('Qualifier')), on_hierarchies=[h['Qualifier']])\n",
    "m[\"sum WS_repo J WS_spot\"] = av.agg.sum(av.array.sum(m['WS_spot_vector']*m['WS_repo']), av.scope.origin('Qualifier'))"
   ]
  },
  {
   "cell_type": "code",
   "execution_count": 17,
   "metadata": {},
   "outputs": [
    {
     "data": {
      "text/html": [
       "<div>\n",
       "<style scoped>\n",
       "    .dataframe tbody tr th:only-of-type {\n",
       "        vertical-align: middle;\n",
       "    }\n",
       "\n",
       "    .dataframe tbody tr th {\n",
       "        vertical-align: top;\n",
       "    }\n",
       "\n",
       "    .dataframe thead th {\n",
       "        text-align: right;\n",
       "    }\n",
       "</style>\n",
       "<table border=\"1\" class=\"dataframe\">\n",
       "  <thead>\n",
       "    <tr style=\"text-align: right;\">\n",
       "      <th></th>\n",
       "      <th></th>\n",
       "      <th>WS_spot_vector</th>\n",
       "      <th>WS_repo</th>\n",
       "      <th>sum WS_repo J WS_spot</th>\n",
       "    </tr>\n",
       "    <tr>\n",
       "      <th>Bucket</th>\n",
       "      <th>Qualifier</th>\n",
       "      <th></th>\n",
       "      <th></th>\n",
       "      <th></th>\n",
       "    </tr>\n",
       "  </thead>\n",
       "  <tbody>\n",
       "    <tr>\n",
       "      <th>1</th>\n",
       "      <th>Wilmar International</th>\n",
       "      <td>[-4005767.0950000007]</td>\n",
       "      <td>-113.6530</td>\n",
       "      <td>455,267,407.5904</td>\n",
       "    </tr>\n",
       "    <tr>\n",
       "      <th rowspan=\"4\" valign=\"top\">10</th>\n",
       "      <th>AB Volvo</th>\n",
       "      <td>[-2422152.722, -1961608.41, -879956.03, -356670.49]</td>\n",
       "      <td>7.1048</td>\n",
       "      <td>-39,931,730.1899</td>\n",
       "    </tr>\n",
       "    <tr>\n",
       "      <th>Anheuser-Busch InBev</th>\n",
       "      <td>[-2422152.722, -1961608.41, -879956.03, -356670.49]</td>\n",
       "      <td>-374.0586</td>\n",
       "      <td>2,102,354,505.1760</td>\n",
       "    </tr>\n",
       "    <tr>\n",
       "      <th>Christian Dior</th>\n",
       "      <td>[-2422152.722, -1961608.41, -879956.03, -356670.49]</td>\n",
       "      <td>64.3994</td>\n",
       "      <td>-361,949,592.5562</td>\n",
       "    </tr>\n",
       "    <tr>\n",
       "      <th>Danone</th>\n",
       "      <td>[-2422152.722, -1961608.41, -879956.03, -356670.49]</td>\n",
       "      <td>-17.4460</td>\n",
       "      <td>98,053,282.9768</td>\n",
       "    </tr>\n",
       "    <tr>\n",
       "      <th>...</th>\n",
       "      <th>...</th>\n",
       "      <td>...</td>\n",
       "      <td>...</td>\n",
       "      <td>...</td>\n",
       "    </tr>\n",
       "    <tr>\n",
       "      <th rowspan=\"5\" valign=\"top\">9</th>\n",
       "      <th>Gazprom</th>\n",
       "      <td>[1196946.758, 108348.45, 156175.15199999997, 1095322.2, 795571.938, 1930220.8939999999, -3793340.8379999995]</td>\n",
       "      <td>-2.1799</td>\n",
       "      <td>-3,246,463.7730</td>\n",
       "    </tr>\n",
       "    <tr>\n",
       "      <th>JBS S.A.</th>\n",
       "      <td>[1196946.758, 108348.45, 156175.15199999997, 1095322.2, 795571.938, 1930220.8939999999, -3793340.8379999995]</td>\n",
       "      <td>138.8859</td>\n",
       "      <td>206,835,040.4175</td>\n",
       "    </tr>\n",
       "    <tr>\n",
       "      <th>Lukoil</th>\n",
       "      <td>[1196946.758, 108348.45, 156175.15199999997, 1095322.2, 795571.938, 1930220.8939999999, -3793340.8379999995]</td>\n",
       "      <td>-156.4048</td>\n",
       "      <td>-232,924,966.8346</td>\n",
       "    </tr>\n",
       "    <tr>\n",
       "      <th>SAIC Motor</th>\n",
       "      <td>[1196946.758, 108348.45, 156175.15199999997, 1095322.2, 795571.938, 1930220.8939999999, -3793340.8379999995]</td>\n",
       "      <td>212.1448</td>\n",
       "      <td>315,935,488.0594</td>\n",
       "    </tr>\n",
       "    <tr>\n",
       "      <th>Severstal</th>\n",
       "      <td>[1196946.758, 108348.45, 156175.15199999997, 1095322.2, 795571.938, 1930220.8939999999, -3793340.8379999995]</td>\n",
       "      <td>-15.1826</td>\n",
       "      <td>-22,610,574.5807</td>\n",
       "    </tr>\n",
       "  </tbody>\n",
       "</table>\n",
       "<p>1044 rows × 3 columns</p>\n",
       "</div>"
      ],
      "text/plain": [
       "                                                                                                                           WS_spot_vector  \\\n",
       "Bucket Qualifier                                                                                                                            \n",
       "1      Wilmar International                                                                                         [-4005767.0950000007]   \n",
       "10     AB Volvo                                                                       [-2422152.722, -1961608.41, -879956.03, -356670.49]   \n",
       "       Anheuser-Busch InBev                                                           [-2422152.722, -1961608.41, -879956.03, -356670.49]   \n",
       "       Christian Dior                                                                 [-2422152.722, -1961608.41, -879956.03, -356670.49]   \n",
       "       Danone                                                                         [-2422152.722, -1961608.41, -879956.03, -356670.49]   \n",
       "...                                                                                                                                   ...   \n",
       "9      Gazprom               [1196946.758, 108348.45, 156175.15199999997, 1095322.2, 795571.938, 1930220.8939999999, -3793340.8379999995]   \n",
       "       JBS S.A.              [1196946.758, 108348.45, 156175.15199999997, 1095322.2, 795571.938, 1930220.8939999999, -3793340.8379999995]   \n",
       "       Lukoil                [1196946.758, 108348.45, 156175.15199999997, 1095322.2, 795571.938, 1930220.8939999999, -3793340.8379999995]   \n",
       "       SAIC Motor            [1196946.758, 108348.45, 156175.15199999997, 1095322.2, 795571.938, 1930220.8939999999, -3793340.8379999995]   \n",
       "       Severstal             [1196946.758, 108348.45, 156175.15199999997, 1095322.2, 795571.938, 1930220.8939999999, -3793340.8379999995]   \n",
       "\n",
       "                              WS_repo  sum WS_repo J WS_spot  \n",
       "Bucket Qualifier                                              \n",
       "1      Wilmar International -113.6530       455,267,407.5904  \n",
       "10     AB Volvo                7.1048       -39,931,730.1899  \n",
       "       Anheuser-Busch InBev -374.0586     2,102,354,505.1760  \n",
       "       Christian Dior         64.3994      -361,949,592.5562  \n",
       "       Danone                -17.4460        98,053,282.9768  \n",
       "...                               ...                    ...  \n",
       "9      Gazprom                -2.1799        -3,246,463.7730  \n",
       "       JBS S.A.              138.8859       206,835,040.4175  \n",
       "       Lukoil               -156.4048      -232,924,966.8346  \n",
       "       SAIC Motor            212.1448       315,935,488.0594  \n",
       "       Severstal             -15.1826       -22,610,574.5807  \n",
       "\n",
       "[1044 rows x 3 columns]"
      ]
     },
     "execution_count": 17,
     "metadata": {},
     "output_type": "execute_result"
    }
   ],
   "source": [
    "# this query visualized interim results\n",
    "cube.query(m['WS_spot_vector'], m['WS_repo'], m[\"sum WS_repo J WS_spot\"], levels = [lvl['Bucket'], lvl['Qualifier']])"
   ]
  },
  {
   "cell_type": "code",
   "execution_count": 18,
   "metadata": {},
   "outputs": [],
   "source": [
    "######### Below formula will multiply by null - might be a bad practice??"
   ]
  },
  {
   "cell_type": "code",
   "execution_count": 19,
   "metadata": {},
   "outputs": [],
   "source": [
    "# cross product of weighted sensitivities for the names, having both spot and repo sensitivities:\n",
    "m['sum WS repo and spot'] = av.agg.sum(m['WS_spot']*m['WS_repo'], scope = av.scope.origin('Qualifier'))"
   ]
  },
  {
   "cell_type": "code",
   "execution_count": 20,
   "metadata": {},
   "outputs": [],
   "source": [
    "# final contribution of the pairs where one risk factor is spot, one is repo\n",
    "m[\"cross repo spot contribution\"] = m['names_correlation.VALUE']*m[\"sum WS_repo J WS_spot\"]+(0.999- m['names_correlation.VALUE'])* m['sum WS repo and spot']"
   ]
  },
  {
   "cell_type": "code",
   "execution_count": 21,
   "metadata": {},
   "outputs": [],
   "source": [
    "# Hence the formula for Kb can be repre"
   ]
  },
  {
   "cell_type": "code",
   "execution_count": 22,
   "metadata": {},
   "outputs": [],
   "source": [
    "m['K_b alternative'] = av.sqrt(av.max(0, m['spot contribution'] + m['repo contribution'] + 2*m[\"cross repo spot contribution\"]))"
   ]
  },
  {
   "cell_type": "code",
   "execution_count": 23,
   "metadata": {},
   "outputs": [
    {
     "data": {
      "text/html": [
       "<div>\n",
       "<style scoped>\n",
       "    .dataframe tbody tr th:only-of-type {\n",
       "        vertical-align: middle;\n",
       "    }\n",
       "\n",
       "    .dataframe tbody tr th {\n",
       "        vertical-align: top;\n",
       "    }\n",
       "\n",
       "    .dataframe thead th {\n",
       "        text-align: right;\n",
       "    }\n",
       "</style>\n",
       "<table border=\"1\" class=\"dataframe\">\n",
       "  <thead>\n",
       "    <tr style=\"text-align: right;\">\n",
       "      <th></th>\n",
       "      <th></th>\n",
       "      <th>K_b</th>\n",
       "      <th>K_b alternative</th>\n",
       "    </tr>\n",
       "    <tr>\n",
       "      <th>PortfolioID</th>\n",
       "      <th>Bucket</th>\n",
       "      <th></th>\n",
       "      <th></th>\n",
       "    </tr>\n",
       "  </thead>\n",
       "  <tbody>\n",
       "    <tr>\n",
       "      <th rowspan=\"11\" valign=\"top\">Bigger_Portfolio</th>\n",
       "      <th>1</th>\n",
       "      <td>2,002,940.3172</td>\n",
       "      <td>2,002,940.3172</td>\n",
       "    </tr>\n",
       "    <tr>\n",
       "      <th>10</th>\n",
       "      <td>1,819,315.9010</td>\n",
       "      <td>1,819,315.9185</td>\n",
       "    </tr>\n",
       "    <tr>\n",
       "      <th>11</th>\n",
       "      <td>6,418,348.7082</td>\n",
       "      <td>3,409,711.0045</td>\n",
       "    </tr>\n",
       "    <tr>\n",
       "      <th>12</th>\n",
       "      <td>286,992.4354</td>\n",
       "      <td>286,992.4354</td>\n",
       "    </tr>\n",
       "    <tr>\n",
       "      <th>2</th>\n",
       "      <td>1,247,249.6016</td>\n",
       "      <td>1,247,248.4588</td>\n",
       "    </tr>\n",
       "    <tr>\n",
       "      <th>3</th>\n",
       "      <td>4,757.8031</td>\n",
       "      <td>4,757.8031</td>\n",
       "    </tr>\n",
       "    <tr>\n",
       "      <th>4</th>\n",
       "      <td>758,465.4868</td>\n",
       "      <td>758,465.4930</td>\n",
       "    </tr>\n",
       "    <tr>\n",
       "      <th>5</th>\n",
       "      <td>456,861.0617</td>\n",
       "      <td>456,861.0687</td>\n",
       "    </tr>\n",
       "    <tr>\n",
       "      <th>7</th>\n",
       "      <td>932,682.8928</td>\n",
       "      <td>932,682.9003</td>\n",
       "    </tr>\n",
       "    <tr>\n",
       "      <th>8</th>\n",
       "      <td>3,937,788.9195</td>\n",
       "      <td>3,937,789.0203</td>\n",
       "    </tr>\n",
       "    <tr>\n",
       "      <th>9</th>\n",
       "      <td>2,234,809.9610</td>\n",
       "      <td>2,234,809.9651</td>\n",
       "    </tr>\n",
       "    <tr>\n",
       "      <th rowspan=\"10\" valign=\"top\">Smaller_Portfolio</th>\n",
       "      <th>1</th>\n",
       "      <td>2,002,940.3172</td>\n",
       "      <td>2,002,940.3172</td>\n",
       "    </tr>\n",
       "    <tr>\n",
       "      <th>10</th>\n",
       "      <td>1,819,315.9010</td>\n",
       "      <td>1,819,315.9185</td>\n",
       "    </tr>\n",
       "    <tr>\n",
       "      <th>11</th>\n",
       "      <td>6,418,348.7082</td>\n",
       "      <td>3,409,711.0045</td>\n",
       "    </tr>\n",
       "    <tr>\n",
       "      <th>12</th>\n",
       "      <td>286,992.4354</td>\n",
       "      <td>286,992.4354</td>\n",
       "    </tr>\n",
       "    <tr>\n",
       "      <th>3</th>\n",
       "      <td>4,757.8031</td>\n",
       "      <td>4,757.8031</td>\n",
       "    </tr>\n",
       "    <tr>\n",
       "      <th>4</th>\n",
       "      <td>758,465.4868</td>\n",
       "      <td>758,465.4930</td>\n",
       "    </tr>\n",
       "    <tr>\n",
       "      <th>5</th>\n",
       "      <td>456,861.0617</td>\n",
       "      <td>456,861.0687</td>\n",
       "    </tr>\n",
       "    <tr>\n",
       "      <th>7</th>\n",
       "      <td>932,682.8928</td>\n",
       "      <td>932,682.9003</td>\n",
       "    </tr>\n",
       "    <tr>\n",
       "      <th>8</th>\n",
       "      <td>3,937,788.9195</td>\n",
       "      <td>3,937,789.0203</td>\n",
       "    </tr>\n",
       "    <tr>\n",
       "      <th>9</th>\n",
       "      <td>2,234,809.9610</td>\n",
       "      <td>2,234,809.9651</td>\n",
       "    </tr>\n",
       "  </tbody>\n",
       "</table>\n",
       "</div>"
      ],
      "text/plain": [
       "                                    K_b  K_b alternative\n",
       "PortfolioID       Bucket                                \n",
       "Bigger_Portfolio  1      2,002,940.3172   2,002,940.3172\n",
       "                  10     1,819,315.9010   1,819,315.9185\n",
       "                  11     6,418,348.7082   3,409,711.0045\n",
       "                  12       286,992.4354     286,992.4354\n",
       "                  2      1,247,249.6016   1,247,248.4588\n",
       "                  3          4,757.8031       4,757.8031\n",
       "                  4        758,465.4868     758,465.4930\n",
       "                  5        456,861.0617     456,861.0687\n",
       "                  7        932,682.8928     932,682.9003\n",
       "                  8      3,937,788.9195   3,937,789.0203\n",
       "                  9      2,234,809.9610   2,234,809.9651\n",
       "Smaller_Portfolio 1      2,002,940.3172   2,002,940.3172\n",
       "                  10     1,819,315.9010   1,819,315.9185\n",
       "                  11     6,418,348.7082   3,409,711.0045\n",
       "                  12       286,992.4354     286,992.4354\n",
       "                  3          4,757.8031       4,757.8031\n",
       "                  4        758,465.4868     758,465.4930\n",
       "                  5        456,861.0617     456,861.0687\n",
       "                  7        932,682.8928     932,682.9003\n",
       "                  8      3,937,788.9195   3,937,789.0203\n",
       "                  9      2,234,809.9610   2,234,809.9651"
      ]
     },
     "execution_count": 23,
     "metadata": {},
     "output_type": "execute_result"
    }
   ],
   "source": [
    "cube.query(m['K_b'], m['K_b alternative'], levels = [lvl['PortfolioID'], lvl['Bucket']])"
   ]
  },
  {
   "cell_type": "markdown",
   "metadata": {},
   "source": [
    "# Cross-bucket aggregation"
   ]
  },
  {
   "cell_type": "markdown",
   "metadata": {},
   "source": [
    "## Bucket correlations"
   ]
  },
  {
   "cell_type": "code",
   "execution_count": 24,
   "metadata": {},
   "outputs": [],
   "source": [
    "eq_delta_buckets_correlations = session.read_csv(\n",
    "    \"data/parameters/eq_delta_gamma.csv\", keys=[\"Bucket\", \"Other Bucket\"], types = {\"Bucket\": av.types.STRING, \"Other Bucket\": av.types.STRING}, store_name=\"eq_delta_corr_outer\"\n",
    ")\n",
    "risks_store.join(eq_delta_buckets_correlations)"
   ]
  },
  {
   "cell_type": "markdown",
   "metadata": {},
   "source": [
    "## Aggregating across buckets"
   ]
  },
  {
   "cell_type": "code",
   "execution_count": 25,
   "metadata": {},
   "outputs": [],
   "source": [
    "# 21.4(5)(a):\n",
    "m['WS_b'] = m['WS_k']\n",
    "m['WS_c'] = av.at(m['WS_k'], {lvl['Bucket']: lvl['Other Bucket']})\n",
    "m['sum Kb2 + sum sum WSb WSc gamma'] = av.agg.square_sum(m['K_b'], av.scope.origin([lvl['Bucket']])) + av.agg.sum(\n",
    "    m['WS_b'] * m['WS_c']*m['gamma.VALUE'], av.scope.origin([lvl['Bucket'], lvl['Other Bucket']]))\n",
    "\n",
    "# 21.4(5)(b):\n",
    "m['S_b'] = av.max(av.min(m['WS_k'], m['K_b']), -1.0 * m['K_b'])\n",
    "m['S_c'] = av.at(m['S_b'], {lvl['Bucket']: lvl['Other Bucket']})\n",
    "m['sum Kb2 + sum sum Sb Sc gamma'] = av.agg.square_sum(m['K_b'], av.scope.origin([lvl['Bucket']])) + av.agg.sum(\n",
    "    m['S_b'] * m['S_c']*m['gamma.VALUE'], av.scope.origin([lvl['Bucket'], lvl['Other Bucket']]))\n",
    "\n",
    "m['Delta Margin'] = av.where(m['sum Kb2 + sum sum WSb WSc gamma'] > 0,\n",
    "                             av.sqrt(m['sum Kb2 + sum sum WSb WSc gamma']),\n",
    "                             av.sqrt(m['sum Kb2 + sum sum Sb Sc gamma']))"
   ]
  },
  {
   "cell_type": "code",
   "execution_count": 26,
   "metadata": {},
   "outputs": [
    {
     "ename": "RuntimeError",
     "evalue": "('Request failed', {'status': 'error', 'error': {'errorChain': [{'type': 'OutOfMemoryError', 'message': 'Java heap space'}, {'type': 'OutOfMemoryError'}, {'type': 'QueryException', 'message': 'Could not execute query at epoch 5. : ActivePivotSyncActionQuery: action=MdxAction (mdx=SELECT [Measures].[Delta Margin] ON COLUMNS, NON EMPTY [Hierarchies].[PortfolioID].[PortfolioID].Members ON ROWS FROM [Risks]), argument=com.quartetfs.pivot.mdx.impl.BasicSelectExecutor@2031aa7f'}, {'type': 'MdxException', 'message': 'Error with the following query: SELECT [Measures].[Delta Margin] ON COLUMNS, NON EMPTY [Hierarchies].[PortfolioID].[PortfolioID].Members ON ROWS FROM [Risks]'}, {'type': 'BadArgumentException', 'message': '[400] com.quartetfs.pivot.mdx.MdxException: Error with the following query: SELECT [Measures].[Delta Margin] ON COLUMNS, NON EMPTY [Hierarchies].[PortfolioID].[PortfolioID].Members ON ROWS FROM [Risks]'}], 'stackTrace': 'com.qfs.fwk.services.BadArgumentException: [400] com.quartetfs.pivot.mdx.MdxException: Error with the following query: SELECT [Measures].[Delta Margin] ON COLUMNS, NON EMPTY [Hierarchies].[PortfolioID].[PortfolioID].Members ON ROWS FROM [Risks]\\n\\tat com.qfs.pivot.rest.query.impl.JsonQueryService.executeQuery(JsonQueryService.java:216)\\n\\tat com.qfs.pivot.rest.query.impl.JsonQueryService.executeMdxQuery(JsonQueryService.java:109)\\n\\tat com.qfs.pivot.rest.query.impl.QueriesRestService.mdxQuery(QueriesRestService.java:66)\\n\\tat java.base/jdk.internal.reflect.NativeMethodAccessorImpl.invoke0(Native Method)\\n\\tat java.base/jdk.internal.reflect.NativeMethodAccessorImpl.invoke(NativeMethodAccessorImpl.java:62)\\n\\tat java.base/jdk.internal.reflect.DelegatingMethodAccessorImpl.invoke(DelegatingMethodAccessorImpl.java:43)\\n\\tat java.base/java.lang.reflect.Method.invoke(Method.java:566)\\n\\tat org.apache.cxf.service.invoker.AbstractInvoker.performInvocation(AbstractInvoker.java:179)\\n\\tat org.apache.cxf.service.invoker.AbstractInvoker.invoke(AbstractInvoker.java:96)\\n\\tat org.apache.cxf.jaxrs.JAXRSInvoker.invoke(JAXRSInvoker.java:193)\\n\\tat org.apache.cxf.jaxrs.JAXRSInvoker.invoke(JAXRSInvoker.java:103)\\n\\tat org.apache.cxf.interceptor.ServiceInvokerInterceptor$1.run(ServiceInvokerInterceptor.java:59)\\n\\tat org.apache.cxf.interceptor.ServiceInvokerInterceptor.handleMessage(ServiceInvokerInterceptor.java:96)\\n\\tat org.apache.cxf.phase.PhaseInterceptorChain.doIntercept(PhaseInterceptorChain.java:308)\\n\\tat org.apache.cxf.transport.ChainInitiationObserver.onMessage(ChainInitiationObserver.java:121)\\n\\tat org.apache.cxf.transport.http.AbstractHTTPDestination.invoke(AbstractHTTPDestination.java:267)\\n\\tat org.apache.cxf.transport.servlet.ServletController.invokeDestination(ServletController.java:234)\\n\\tat org.apache.cxf.transport.servlet.ServletController.invoke(ServletController.java:208)\\n\\tat org.apache.cxf.transport.servlet.ServletController.invoke(ServletController.java:160)\\n\\tat org.apache.cxf.transport.servlet.CXFNonSpringServlet.invoke(CXFNonSpringServlet.java:216)\\n\\tat org.apache.cxf.transport.servlet.AbstractHTTPServlet.handleRequest(AbstractHTTPServlet.java:301)\\n\\tat org.apache.cxf.transport.servlet.AbstractHTTPServlet.doPost(AbstractHTTPServlet.java:220)\\n\\tat javax.servlet.http.HttpServlet.service(HttpServlet.java:660)\\n\\tat org.apache.cxf.transport.servlet.AbstractHTTPServlet.service(AbstractHTTPServlet.java:276)\\n\\tat org.springframework.web.servlet.mvc.ServletWrappingController.handleRequestInternal(ServletWrappingController.java:166)\\n\\tat org.springframework.web.servlet.mvc.AbstractController.handleRequest(AbstractController.java:177)\\n\\tat org.springframework.web.servlet.mvc.SimpleControllerHandlerAdapter.handle(SimpleControllerHandlerAdapter.java:52)\\n\\tat org.springframework.web.servlet.DispatcherServlet.doDispatch(DispatcherServlet.java:1040)\\n\\tat org.springframework.web.servlet.DispatcherServlet.doService(DispatcherServlet.java:943)\\n\\tat org.springframework.web.servlet.FrameworkServlet.processRequest(FrameworkServlet.java:1006)\\n\\tat org.springframework.web.servlet.FrameworkServlet.doPost(FrameworkServlet.java:909)\\n\\tat javax.servlet.http.HttpServlet.service(HttpServlet.java:660)\\n\\tat org.springframework.web.servlet.FrameworkServlet.service(FrameworkServlet.java:883)\\n\\tat javax.servlet.http.HttpServlet.service(HttpServlet.java:741)\\n\\tat org.apache.catalina.core.ApplicationFilterChain.internalDoFilter(ApplicationFilterChain.java:231)\\n\\tat org.apache.catalina.core.ApplicationFilterChain.doFilter(ApplicationFilterChain.java:166)\\n\\tat org.apache.tomcat.websocket.server.WsFilter.doFilter(WsFilter.java:53)\\n\\tat org.apache.catalina.core.ApplicationFilterChain.internalDoFilter(ApplicationFilterChain.java:193)\\n\\tat org.apache.catalina.core.ApplicationFilterChain.doFilter(ApplicationFilterChain.java:166)\\n\\tat com.qfs.security.impl.SpringCorsFilter.handleNonCORS(SpringCorsFilter.java:437)\\n\\tat com.qfs.security.impl.SpringCorsFilter.doFilter(SpringCorsFilter.java:168)\\n\\tat org.apache.catalina.core.ApplicationFilterChain.internalDoFilter(ApplicationFilterChain.java:193)\\n\\tat org.apache.catalina.core.ApplicationFilterChain.doFilter(ApplicationFilterChain.java:166)\\n\\tat org.springframework.security.web.FilterChainProxy$VirtualFilterChain.doFilter(FilterChainProxy.java:320)\\n\\tat com.qfs.pivot.servlet.impl.ContextValueFilter.doFilter(ContextValueFilter.java:69)\\n\\tat org.springframework.security.web.FilterChainProxy$VirtualFilterChain.doFilter(FilterChainProxy.java:334)\\n\\tat org.springframework.security.web.access.intercept.FilterSecurityInterceptor.invoke(FilterSecurityInterceptor.java:126)\\n\\tat org.springframework.security.web.access.intercept.FilterSecurityInterceptor.doFilter(FilterSecurityInterceptor.java:90)\\n\\tat org.springframework.security.web.FilterChainProxy$VirtualFilterChain.doFilter(FilterChainProxy.java:334)\\n\\tat org.springframework.security.web.access.ExceptionTranslationFilter.doFilter(ExceptionTranslationFilter.java:118)\\n\\tat org.springframework.security.web.FilterChainProxy$VirtualFilterChain.doFilter(FilterChainProxy.java:334)\\n\\tat org.springframework.security.web.session.SessionManagementFilter.doFilter(SessionManagementFilter.java:137)\\n\\tat org.springframework.security.web.FilterChainProxy$VirtualFilterChain.doFilter(FilterChainProxy.java:334)\\n\\tat org.springframework.security.web.authentication.AnonymousAuthenticationFilter.doFilter(AnonymousAuthenticationFilter.java:111)\\n\\tat org.springframework.security.web.FilterChainProxy$VirtualFilterChain.doFilter(FilterChainProxy.java:334)\\n\\tat org.springframework.security.web.servletapi.SecurityContextHolderAwareRequestFilter.doFilter(SecurityContextHolderAwareRequestFilter.java:158)\\n\\tat org.springframework.security.web.FilterChainProxy$VirtualFilterChain.doFilter(FilterChainProxy.java:334)\\n\\tat org.springframework.security.web.savedrequest.RequestCacheAwareFilter.doFilter(RequestCacheAwareFilter.java:63)\\n\\tat org.springframework.security.web.FilterChainProxy$VirtualFilterChain.doFilter(FilterChainProxy.java:334)\\n\\tat org.springframework.security.web.authentication.logout.LogoutFilter.doFilter(LogoutFilter.java:116)\\n\\tat org.springframework.security.web.FilterChainProxy$VirtualFilterChain.doFilter(FilterChainProxy.java:334)\\n\\tat org.springframework.security.web.header.HeaderWriterFilter.doHeadersAfter(HeaderWriterFilter.java:92)\\n\\tat org.springframework.security.web.header.HeaderWriterFilter.doFilterInternal(HeaderWriterFilter.java:77)\\n\\tat org.springframework.web.filter.OncePerRequestFilter.doFilter(OncePerRequestFilter.java:119)\\n\\tat org.springframework.security.web.FilterChainProxy$VirtualFilterChain.doFilter(FilterChainProxy.java:334)\\n\\tat org.springframework.security.web.context.SecurityContextPersistenceFilter.doFilter(SecurityContextPersistenceFilter.java:105)\\n\\tat org.springframework.security.web.FilterChainProxy$VirtualFilterChain.doFilter(FilterChainProxy.java:334)\\n\\tat org.springframework.security.web.context.request.async.WebAsyncManagerIntegrationFilter.doFilterInternal(WebAsyncManagerIntegrationFilter.java:56)\\n\\tat org.springframework.web.filter.OncePerRequestFilter.doFilter(OncePerRequestFilter.java:119)\\n\\tat org.springframework.security.web.FilterChainProxy$VirtualFilterChain.doFilter(FilterChainProxy.java:334)\\n\\tat org.springframework.security.web.FilterChainProxy.doFilterInternal(FilterChainProxy.java:215)\\n\\tat org.springframework.security.web.FilterChainProxy.doFilter(FilterChainProxy.java:178)\\n\\tat org.springframework.web.filter.DelegatingFilterProxy.invokeDelegate(DelegatingFilterProxy.java:358)\\n\\tat org.springframework.web.filter.DelegatingFilterProxy.doFilter(DelegatingFilterProxy.java:271)\\n\\tat org.apache.catalina.core.ApplicationFilterChain.internalDoFilter(ApplicationFilterChain.java:193)\\n\\tat org.apache.catalina.core.ApplicationFilterChain.doFilter(ApplicationFilterChain.java:166)\\n\\tat org.springframework.web.filter.CharacterEncodingFilter.doFilterInternal(CharacterEncodingFilter.java:201)\\n\\tat org.springframework.web.filter.OncePerRequestFilter.doFilter(OncePerRequestFilter.java:119)\\n\\tat org.apache.catalina.core.ApplicationFilterChain.internalDoFilter(ApplicationFilterChain.java:193)\\n\\tat org.apache.catalina.core.ApplicationFilterChain.doFilter(ApplicationFilterChain.java:166)\\n\\tat org.apache.catalina.core.StandardWrapperValve.invoke(StandardWrapperValve.java:202)\\n\\tat org.apache.catalina.core.StandardContextValve.invoke(StandardContextValve.java:96)\\n\\tat org.apache.catalina.authenticator.AuthenticatorBase.invoke(AuthenticatorBase.java:526)\\n\\tat org.apache.catalina.core.StandardHostValve.invoke(StandardHostValve.java:139)\\n\\tat org.apache.catalina.valves.ErrorReportValve.invoke(ErrorReportValve.java:92)\\n\\tat org.apache.catalina.core.StandardEngineValve.invoke(StandardEngineValve.java:74)\\n\\tat org.apache.catalina.connector.CoyoteAdapter.service(CoyoteAdapter.java:343)\\n\\tat org.apache.coyote.http11.Http11Processor.service(Http11Processor.java:367)\\n\\tat org.apache.coyote.AbstractProcessorLight.process(AbstractProcessorLight.java:65)\\n\\tat org.apache.coyote.AbstractProtocol$ConnectionHandler.process(AbstractProtocol.java:860)\\n\\tat org.apache.tomcat.util.net.NioEndpoint$SocketProcessor.doRun(NioEndpoint.java:1591)\\n\\tat org.apache.tomcat.util.net.SocketProcessorBase.run(SocketProcessorBase.java:49)\\n\\tat java.base/java.util.concurrent.ThreadPoolExecutor.runWorker(ThreadPoolExecutor.java:1128)\\n\\tat java.base/java.util.concurrent.ThreadPoolExecutor$Worker.run(ThreadPoolExecutor.java:628)\\n\\tat org.apache.tomcat.util.threads.TaskThread$WrappingRunnable.run(TaskThread.java:61)\\n\\tat java.base/java.lang.Thread.run(Thread.java:834)\\nCaused by: com.quartetfs.pivot.mdx.MdxException: Error with the following query: SELECT [Measures].[Delta Margin] ON COLUMNS, NON EMPTY [Hierarchies].[PortfolioID].[PortfolioID].Members ON ROWS FROM [Risks]\\n\\tat com.quartetfs.pivot.mdx.impl.ASelectStatementExecutor.executeAfterParse(ASelectStatementExecutor.java:426)\\n\\tat com.quartetfs.pivot.mdx.impl.ASelectStatementExecutor.executeAfterParse(ASelectStatementExecutor.java:408)\\n\\tat com.quartetfs.pivot.mdx.impl.ASelectStatementExecutor.execute(ASelectStatementExecutor.java:397)\\n\\tat com.qfs.pivot.rest.query.impl.JsonQueryService$JsonSelectExecutor.execute(JsonQueryService.java:299)\\n\\tat com.qfs.pivot.rest.query.impl.JsonQueryService$JsonSelectExecutor.execute(JsonQueryService.java:277)\\n\\tat com.qfs.pivot.rest.query.impl.JsonQueryService.executeQuery(JsonQueryService.java:211)\\n\\t... 95 more\\nCaused by: com.quartetfs.fwk.query.QueryException: Could not execute query at epoch 5. : ActivePivotSyncActionQuery: action=MdxAction (mdx=SELECT [Measures].[Delta Margin] ON COLUMNS, NON EMPTY [Hierarchies].[PortfolioID].[PortfolioID].Members ON ROWS FROM [Risks]), argument=com.quartetfs.pivot.mdx.impl.BasicSelectExecutor@2031aa7f\\n\\tat com.quartetfs.biz.pivot.impl.ActivePivotVersion$QueryExecutionTask.getWithQueriesTimeLimit(ActivePivotVersion.java:1500)\\n\\tat com.quartetfs.biz.pivot.impl.ActivePivotVersion.execute(ActivePivotVersion.java:916)\\n\\tat com.quartetfs.biz.pivot.query.impl.ActivePivotSyncUtils.activePivotSyncExec(ActivePivotSyncUtils.java:94)\\n\\tat com.quartetfs.pivot.mdx.impl.ASelectStatementExecutor.executeAfterParse(ASelectStatementExecutor.java:424)\\n\\t... 100 more\\nCaused by: java.lang.OutOfMemoryError\\n\\tat java.base/jdk.internal.reflect.NativeConstructorAccessorImpl.newInstance0(Native Method)\\n\\tat java.base/jdk.internal.reflect.NativeConstructorAccessorImpl.newInstance(NativeConstructorAccessorImpl.java:62)\\n\\tat java.base/jdk.internal.reflect.DelegatingConstructorAccessorImpl.newInstance(DelegatingConstructorAccessorImpl.java:45)\\n\\tat java.base/java.lang.reflect.Constructor.newInstance(Constructor.java:490)\\n\\tat java.base/java.util.concurrent.ForkJoinTask.getThrowableException(ForkJoinTask.java:603)\\n\\tat java.base/java.util.concurrent.ForkJoinTask.get(ForkJoinTask.java:1064)\\n\\tat com.quartetfs.biz.pivot.impl.ActivePivotVersion$QueryExecutionTask.getWithQueriesTimeLimit(ActivePivotVersion.java:1471)\\n\\t... 103 more\\nCaused by: java.lang.OutOfMemoryError: Java heap space\\n\\tat com.qfs.dic.impl.IntegerArrayDictionaryWithHash$InnerDictionary.<init>(IntegerArrayDictionaryWithHash.java:616)\\n\\tat com.qfs.dic.impl.IntegerArrayDictionaryWithHash.resize(IntegerArrayDictionaryWithHash.java:128)\\n\\tat com.qfs.dic.impl.IntegerArrayDictionaryWithHash$InnerDictionary.mapWithFlags(IntegerArrayDictionaryWithHash.java:723)\\n\\tat com.qfs.dic.impl.IntegerArrayDictionaryWithHash.mapWithFlags(IntegerArrayDictionaryWithHash.java:365)\\n\\tat com.quartetfs.biz.pivot.impl.PointLocationList.mapLocationInScope(PointLocationList.java:321)\\n\\tat com.quartetfs.biz.pivot.cellset.impl.PointListRetrievalResult$FinalJoinConsumer.perform(PointListRetrievalResult.java:2193)\\n\\tat com.quartetfs.biz.pivot.cellset.impl.PointListRetrievalResult$FinalJoinConsumer.accept(PointListRetrievalResult.java:2177)\\n\\tat com.quartetfs.biz.pivot.cube.hierarchy.axis.impl.JoinContext.lambda$forEach$1(JoinContext.java:167)\\n\\tat com.quartetfs.biz.pivot.cube.hierarchy.axis.impl.JoinContext$$Lambda$1311/0x0000000800e82c40.accept(Unknown Source)\\n\\tat com.quartetfs.biz.pivot.query.aggregates.impl.ExternalDatastoreRetrieval$CompiledDatastoreRetrievalResultQuery.lambda$forEach$0(ExternalDatastoreRetrieval.java:476)\\n\\tat com.quartetfs.biz.pivot.query.aggregates.impl.ExternalDatastoreRetrieval$CompiledDatastoreRetrievalResultQuery$$Lambda$1312/0x0000000800e82040.test(Unknown Source)\\n\\tat com.quartetfs.biz.pivot.query.aggregates.impl.SubPointIntegerArrayDictionaryIndex.forEachMatchingPoints(SubPointIntegerArrayDictionaryIndex.java:83)\\n\\tat com.quartetfs.biz.pivot.query.aggregates.impl.ExternalDatastoreRetrieval$CompiledDatastoreRetrievalResultQuery.forEach(ExternalDatastoreRetrieval.java:471)\\n\\tat com.quartetfs.biz.pivot.cube.hierarchy.axis.impl.JoinContext.forEach(JoinContext.java:163)\\n\\tat com.activeviam.copper.agg.AJoinAnalysisAggregationProcedure.mapToFullLocation(AJoinAnalysisAggregationProcedure.java:242)\\n\\tat com.activeviam.copper.agg.AJoinAnalysisAggregationProcedure.mapToFullLocation(AJoinAnalysisAggregationProcedure.java:67)\\n\\tat com.quartetfs.biz.pivot.cellset.impl.PointListRetrievalResult$IntermediateConsumer.accept(PointListRetrievalResult.java:2080)\\n\\tat com.quartetfs.biz.pivot.cube.hierarchy.axis.impl.JoinContext.lambda$forEach$1(JoinContext.java:167)\\n\\tat com.quartetfs.biz.pivot.cube.hierarchy.axis.impl.JoinContext$$Lambda$1311/0x0000000800e82c40.accept(Unknown Source)\\n\\tat com.quartetfs.biz.pivot.query.aggregates.impl.ExternalDatastoreRetrieval$CompiledDatastoreRetrievalResultQuery.lambda$forEach$0(ExternalDatastoreRetrieval.java:476)\\n\\tat com.quartetfs.biz.pivot.query.aggregates.impl.ExternalDatastoreRetrieval$CompiledDatastoreRetrievalResultQuery$$Lambda$1312/0x0000000800e82040.test(Unknown Source)\\n\\tat com.quartetfs.biz.pivot.query.aggregates.impl.SubPointIntegerArrayDictionaryIndex.forEachMatchingPoints(SubPointIntegerArrayDictionaryIndex.java:83)\\n\\tat com.quartetfs.biz.pivot.query.aggregates.impl.ExternalDatastoreRetrieval$CompiledDatastoreRetrievalResultQuery.forEach(ExternalDatastoreRetrieval.java:471)\\n\\tat com.quartetfs.biz.pivot.cube.hierarchy.axis.impl.JoinContext.forEach(JoinContext.java:163)\\n\\tat com.activeviam.copper.agg.AJoinAnalysisAggregationProcedure.mapToFullLocation(AJoinAnalysisAggregationProcedure.java:242)\\n\\tat com.activeviam.copper.agg.AJoinAnalysisAggregationProcedure.mapToFullLocation(AJoinAnalysisAggregationProcedure.java:67)\\n\\tat com.quartetfs.biz.pivot.cellset.impl.PointListRetrievalResult.lambda$join$0(PointListRetrievalResult.java:2376)\\n\\tat com.quartetfs.biz.pivot.cellset.impl.PointListRetrievalResult$$Lambda$1310/0x0000000800e83840.execute(Unknown Source)\\n\\tat com.quartetfs.biz.pivot.impl.PointLocationList.forEachPoint(PointLocationList.java:241)\\n\\tat com.quartetfs.biz.pivot.cellset.impl.PointListRetrievalResult.forEachPoint(PointListRetrievalResult.java:921)\\n\\tat com.quartetfs.biz.pivot.cellset.impl.PointListRetrievalResult.join(PointListRetrievalResult.java:2360)\\n\\tat com.quartetfs.biz.pivot.cellset.impl.PointListRetrievalResult.join(PointListRetrievalResult.java:115)\\n'}})",
     "output_type": "error",
     "traceback": [
      "\u001b[0;31m---------------------------------------------------------------------------\u001b[0m",
      "\u001b[0;31mHTTPError\u001b[0m                                 Traceback (most recent call last)",
      "\u001b[0;32m~/miniconda3/envs/plus-0.3.0.20200326213325/lib/python3.7/site-packages/atoti/query/session.py\u001b[0m in \u001b[0;36m_execute_json_request\u001b[0;34m(self, url, body)\u001b[0m\n\u001b[1;32m     62\u001b[0m         \u001b[0;32mtry\u001b[0m\u001b[0;34m:\u001b[0m\u001b[0;34m\u001b[0m\u001b[0;34m\u001b[0m\u001b[0m\n\u001b[0;32m---> 63\u001b[0;31m             \u001b[0mresponse\u001b[0m \u001b[0;34m=\u001b[0m \u001b[0murlopen\u001b[0m\u001b[0;34m(\u001b[0m\u001b[0mrequest\u001b[0m\u001b[0;34m)\u001b[0m  \u001b[0;31m# nosec\u001b[0m\u001b[0;34m\u001b[0m\u001b[0;34m\u001b[0m\u001b[0m\n\u001b[0m\u001b[1;32m     64\u001b[0m             \u001b[0;32mreturn\u001b[0m \u001b[0mjson\u001b[0m\u001b[0;34m.\u001b[0m\u001b[0mloads\u001b[0m\u001b[0;34m(\u001b[0m\u001b[0mresponse\u001b[0m\u001b[0;34m.\u001b[0m\u001b[0mread\u001b[0m\u001b[0;34m(\u001b[0m\u001b[0;34m)\u001b[0m\u001b[0;34m.\u001b[0m\u001b[0mdecode\u001b[0m\u001b[0;34m(\u001b[0m\u001b[0;34m\"utf8\"\u001b[0m\u001b[0;34m)\u001b[0m\u001b[0;34m)\u001b[0m\u001b[0;34m\u001b[0m\u001b[0;34m\u001b[0m\u001b[0m\n",
      "\u001b[0;32m~/miniconda3/envs/plus-0.3.0.20200326213325/lib/python3.7/urllib/request.py\u001b[0m in \u001b[0;36murlopen\u001b[0;34m(url, data, timeout, cafile, capath, cadefault, context)\u001b[0m\n\u001b[1;32m    221\u001b[0m         \u001b[0mopener\u001b[0m \u001b[0;34m=\u001b[0m \u001b[0m_opener\u001b[0m\u001b[0;34m\u001b[0m\u001b[0;34m\u001b[0m\u001b[0m\n\u001b[0;32m--> 222\u001b[0;31m     \u001b[0;32mreturn\u001b[0m \u001b[0mopener\u001b[0m\u001b[0;34m.\u001b[0m\u001b[0mopen\u001b[0m\u001b[0;34m(\u001b[0m\u001b[0murl\u001b[0m\u001b[0;34m,\u001b[0m \u001b[0mdata\u001b[0m\u001b[0;34m,\u001b[0m \u001b[0mtimeout\u001b[0m\u001b[0;34m)\u001b[0m\u001b[0;34m\u001b[0m\u001b[0;34m\u001b[0m\u001b[0m\n\u001b[0m\u001b[1;32m    223\u001b[0m \u001b[0;34m\u001b[0m\u001b[0m\n",
      "\u001b[0;32m~/miniconda3/envs/plus-0.3.0.20200326213325/lib/python3.7/urllib/request.py\u001b[0m in \u001b[0;36mopen\u001b[0;34m(self, fullurl, data, timeout)\u001b[0m\n\u001b[1;32m    530\u001b[0m             \u001b[0mmeth\u001b[0m \u001b[0;34m=\u001b[0m \u001b[0mgetattr\u001b[0m\u001b[0;34m(\u001b[0m\u001b[0mprocessor\u001b[0m\u001b[0;34m,\u001b[0m \u001b[0mmeth_name\u001b[0m\u001b[0;34m)\u001b[0m\u001b[0;34m\u001b[0m\u001b[0;34m\u001b[0m\u001b[0m\n\u001b[0;32m--> 531\u001b[0;31m             \u001b[0mresponse\u001b[0m \u001b[0;34m=\u001b[0m \u001b[0mmeth\u001b[0m\u001b[0;34m(\u001b[0m\u001b[0mreq\u001b[0m\u001b[0;34m,\u001b[0m \u001b[0mresponse\u001b[0m\u001b[0;34m)\u001b[0m\u001b[0;34m\u001b[0m\u001b[0;34m\u001b[0m\u001b[0m\n\u001b[0m\u001b[1;32m    532\u001b[0m \u001b[0;34m\u001b[0m\u001b[0m\n",
      "\u001b[0;32m~/miniconda3/envs/plus-0.3.0.20200326213325/lib/python3.7/urllib/request.py\u001b[0m in \u001b[0;36mhttp_response\u001b[0;34m(self, request, response)\u001b[0m\n\u001b[1;32m    640\u001b[0m             response = self.parent.error(\n\u001b[0;32m--> 641\u001b[0;31m                 'http', request, response, code, msg, hdrs)\n\u001b[0m\u001b[1;32m    642\u001b[0m \u001b[0;34m\u001b[0m\u001b[0m\n",
      "\u001b[0;32m~/miniconda3/envs/plus-0.3.0.20200326213325/lib/python3.7/urllib/request.py\u001b[0m in \u001b[0;36merror\u001b[0;34m(self, proto, *args)\u001b[0m\n\u001b[1;32m    568\u001b[0m             \u001b[0margs\u001b[0m \u001b[0;34m=\u001b[0m \u001b[0;34m(\u001b[0m\u001b[0mdict\u001b[0m\u001b[0;34m,\u001b[0m \u001b[0;34m'default'\u001b[0m\u001b[0;34m,\u001b[0m \u001b[0;34m'http_error_default'\u001b[0m\u001b[0;34m)\u001b[0m \u001b[0;34m+\u001b[0m \u001b[0morig_args\u001b[0m\u001b[0;34m\u001b[0m\u001b[0;34m\u001b[0m\u001b[0m\n\u001b[0;32m--> 569\u001b[0;31m             \u001b[0;32mreturn\u001b[0m \u001b[0mself\u001b[0m\u001b[0;34m.\u001b[0m\u001b[0m_call_chain\u001b[0m\u001b[0;34m(\u001b[0m\u001b[0;34m*\u001b[0m\u001b[0margs\u001b[0m\u001b[0;34m)\u001b[0m\u001b[0;34m\u001b[0m\u001b[0;34m\u001b[0m\u001b[0m\n\u001b[0m\u001b[1;32m    570\u001b[0m \u001b[0;34m\u001b[0m\u001b[0m\n",
      "\u001b[0;32m~/miniconda3/envs/plus-0.3.0.20200326213325/lib/python3.7/urllib/request.py\u001b[0m in \u001b[0;36m_call_chain\u001b[0;34m(self, chain, kind, meth_name, *args)\u001b[0m\n\u001b[1;32m    502\u001b[0m             \u001b[0mfunc\u001b[0m \u001b[0;34m=\u001b[0m \u001b[0mgetattr\u001b[0m\u001b[0;34m(\u001b[0m\u001b[0mhandler\u001b[0m\u001b[0;34m,\u001b[0m \u001b[0mmeth_name\u001b[0m\u001b[0;34m)\u001b[0m\u001b[0;34m\u001b[0m\u001b[0;34m\u001b[0m\u001b[0m\n\u001b[0;32m--> 503\u001b[0;31m             \u001b[0mresult\u001b[0m \u001b[0;34m=\u001b[0m \u001b[0mfunc\u001b[0m\u001b[0;34m(\u001b[0m\u001b[0;34m*\u001b[0m\u001b[0margs\u001b[0m\u001b[0;34m)\u001b[0m\u001b[0;34m\u001b[0m\u001b[0;34m\u001b[0m\u001b[0m\n\u001b[0m\u001b[1;32m    504\u001b[0m             \u001b[0;32mif\u001b[0m \u001b[0mresult\u001b[0m \u001b[0;32mis\u001b[0m \u001b[0;32mnot\u001b[0m \u001b[0;32mNone\u001b[0m\u001b[0;34m:\u001b[0m\u001b[0;34m\u001b[0m\u001b[0;34m\u001b[0m\u001b[0m\n",
      "\u001b[0;32m~/miniconda3/envs/plus-0.3.0.20200326213325/lib/python3.7/urllib/request.py\u001b[0m in \u001b[0;36mhttp_error_default\u001b[0;34m(self, req, fp, code, msg, hdrs)\u001b[0m\n\u001b[1;32m    648\u001b[0m     \u001b[0;32mdef\u001b[0m \u001b[0mhttp_error_default\u001b[0m\u001b[0;34m(\u001b[0m\u001b[0mself\u001b[0m\u001b[0;34m,\u001b[0m \u001b[0mreq\u001b[0m\u001b[0;34m,\u001b[0m \u001b[0mfp\u001b[0m\u001b[0;34m,\u001b[0m \u001b[0mcode\u001b[0m\u001b[0;34m,\u001b[0m \u001b[0mmsg\u001b[0m\u001b[0;34m,\u001b[0m \u001b[0mhdrs\u001b[0m\u001b[0;34m)\u001b[0m\u001b[0;34m:\u001b[0m\u001b[0;34m\u001b[0m\u001b[0;34m\u001b[0m\u001b[0m\n\u001b[0;32m--> 649\u001b[0;31m         \u001b[0;32mraise\u001b[0m \u001b[0mHTTPError\u001b[0m\u001b[0;34m(\u001b[0m\u001b[0mreq\u001b[0m\u001b[0;34m.\u001b[0m\u001b[0mfull_url\u001b[0m\u001b[0;34m,\u001b[0m \u001b[0mcode\u001b[0m\u001b[0;34m,\u001b[0m \u001b[0mmsg\u001b[0m\u001b[0;34m,\u001b[0m \u001b[0mhdrs\u001b[0m\u001b[0;34m,\u001b[0m \u001b[0mfp\u001b[0m\u001b[0;34m)\u001b[0m\u001b[0;34m\u001b[0m\u001b[0;34m\u001b[0m\u001b[0m\n\u001b[0m\u001b[1;32m    650\u001b[0m \u001b[0;34m\u001b[0m\u001b[0m\n",
      "\u001b[0;31mHTTPError\u001b[0m: HTTP Error 400: ",
      "\nDuring handling of the above exception, another exception occurred:\n",
      "\u001b[0;31mRuntimeError\u001b[0m                              Traceback (most recent call last)",
      "\u001b[0;32m<ipython-input-26-1e5876e264f3>\u001b[0m in \u001b[0;36m<module>\u001b[0;34m\u001b[0m\n\u001b[0;32m----> 1\u001b[0;31m \u001b[0mcube\u001b[0m\u001b[0;34m.\u001b[0m\u001b[0mquery\u001b[0m\u001b[0;34m(\u001b[0m\u001b[0mm\u001b[0m\u001b[0;34m[\u001b[0m\u001b[0;34m'Delta Margin'\u001b[0m\u001b[0;34m]\u001b[0m\u001b[0;34m,\u001b[0m \u001b[0mlevels\u001b[0m \u001b[0;34m=\u001b[0m \u001b[0;34m[\u001b[0m\u001b[0mlvl\u001b[0m\u001b[0;34m[\u001b[0m\u001b[0;34m'PortfolioID'\u001b[0m\u001b[0;34m]\u001b[0m\u001b[0;34m]\u001b[0m\u001b[0;34m,\u001b[0m \u001b[0mtimeout\u001b[0m\u001b[0;34m=\u001b[0m\u001b[0;36m90\u001b[0m\u001b[0;34m)\u001b[0m\u001b[0;34m\u001b[0m\u001b[0;34m\u001b[0m\u001b[0m\n\u001b[0m",
      "\u001b[0;32m~/miniconda3/envs/plus-0.3.0.20200326213325/lib/python3.7/site-packages/atoti/cube.py\u001b[0m in \u001b[0;36mquery\u001b[0;34m(self, levels, condition, scenario, timeout, *measures)\u001b[0m\n\u001b[1;32m    176\u001b[0m         \"\"\"\n\u001b[1;32m    177\u001b[0m         \u001b[0mmdx\u001b[0m \u001b[0;34m=\u001b[0m \u001b[0mself\u001b[0m\u001b[0;34m.\u001b[0m\u001b[0m_generate_mdx\u001b[0m\u001b[0;34m(\u001b[0m\u001b[0mmeasures\u001b[0m\u001b[0;34m,\u001b[0m \u001b[0mScenarioName\u001b[0m\u001b[0;34m(\u001b[0m\u001b[0mscenario\u001b[0m\u001b[0;34m)\u001b[0m\u001b[0;34m,\u001b[0m \u001b[0mlevels\u001b[0m\u001b[0;34m,\u001b[0m \u001b[0mcondition\u001b[0m\u001b[0;34m)\u001b[0m\u001b[0;34m\u001b[0m\u001b[0;34m\u001b[0m\u001b[0m\n\u001b[0;32m--> 178\u001b[0;31m         \u001b[0;32mreturn\u001b[0m \u001b[0mself\u001b[0m\u001b[0;34m.\u001b[0m\u001b[0m_session\u001b[0m\u001b[0;34m.\u001b[0m\u001b[0mquery_mdx\u001b[0m\u001b[0;34m(\u001b[0m\u001b[0mmdx\u001b[0m\u001b[0;34m,\u001b[0m \u001b[0mtimeout\u001b[0m\u001b[0;34m)\u001b[0m\u001b[0;34m\u001b[0m\u001b[0;34m\u001b[0m\u001b[0m\n\u001b[0m\u001b[1;32m    179\u001b[0m \u001b[0;34m\u001b[0m\u001b[0m\n\u001b[1;32m    180\u001b[0m     def explain_query(\n",
      "\u001b[0;32m~/miniconda3/envs/plus-0.3.0.20200326213325/lib/python3.7/site-packages/atoti/session.py\u001b[0m in \u001b[0;36mquery_mdx\u001b[0;34m(self, mdx, timeout)\u001b[0m\n\u001b[1;32m    616\u001b[0m             \u001b[0mmdx\u001b[0m\u001b[0;34m,\u001b[0m\u001b[0;34m\u001b[0m\u001b[0;34m\u001b[0m\u001b[0m\n\u001b[1;32m    617\u001b[0m             \u001b[0mtimeout\u001b[0m\u001b[0;34m,\u001b[0m\u001b[0;34m\u001b[0m\u001b[0;34m\u001b[0m\u001b[0m\n\u001b[0;32m--> 618\u001b[0;31m             get_level_data_types=lambda cube_name, level_coords: self.cubes[  # pylint: disable=protected-access\n\u001b[0m\u001b[1;32m    619\u001b[0m                 \u001b[0mcube_name\u001b[0m\u001b[0;34m\u001b[0m\u001b[0;34m\u001b[0m\u001b[0m\n\u001b[1;32m    620\u001b[0m             \u001b[0;34m]\u001b[0m\u001b[0;34m.\u001b[0m\u001b[0m_get_level_data_types\u001b[0m\u001b[0;34m(\u001b[0m\u001b[0;34m\u001b[0m\u001b[0;34m\u001b[0m\u001b[0m\n",
      "\u001b[0;32m~/miniconda3/envs/plus-0.3.0.20200326213325/lib/python3.7/site-packages/atoti/query/session.py\u001b[0m in \u001b[0;36mquery_mdx\u001b[0;34m(self, mdx, timeout, **kwargs)\u001b[0m\n\u001b[1;32m    106\u001b[0m             \u001b[0mcontext\u001b[0m\u001b[0;34m[\u001b[0m\u001b[0;34m\"queriesTimeLimit\"\u001b[0m\u001b[0;34m]\u001b[0m \u001b[0;34m=\u001b[0m \u001b[0mtimeout\u001b[0m\u001b[0;34m\u001b[0m\u001b[0;34m\u001b[0m\u001b[0m\n\u001b[1;32m    107\u001b[0m         \u001b[0mbody\u001b[0m\u001b[0;34m:\u001b[0m \u001b[0mDict\u001b[0m\u001b[0;34m[\u001b[0m\u001b[0mstr\u001b[0m\u001b[0;34m,\u001b[0m \u001b[0mUnion\u001b[0m\u001b[0;34m[\u001b[0m\u001b[0mstr\u001b[0m\u001b[0;34m,\u001b[0m \u001b[0m_Context\u001b[0m\u001b[0;34m]\u001b[0m\u001b[0;34m]\u001b[0m \u001b[0;34m=\u001b[0m \u001b[0;34m{\u001b[0m\u001b[0;34m\"context\"\u001b[0m\u001b[0;34m:\u001b[0m \u001b[0mcontext\u001b[0m\u001b[0;34m,\u001b[0m \u001b[0;34m\"mdx\"\u001b[0m\u001b[0;34m:\u001b[0m \u001b[0mmdx\u001b[0m\u001b[0;34m}\u001b[0m\u001b[0;34m\u001b[0m\u001b[0;34m\u001b[0m\u001b[0m\n\u001b[0;32m--> 108\u001b[0;31m         \u001b[0mresponse\u001b[0m \u001b[0;34m=\u001b[0m \u001b[0mself\u001b[0m\u001b[0;34m.\u001b[0m\u001b[0m_execute_json_request\u001b[0m\u001b[0;34m(\u001b[0m\u001b[0murl\u001b[0m\u001b[0;34m,\u001b[0m \u001b[0mbody\u001b[0m\u001b[0;34m)\u001b[0m\u001b[0;34m\u001b[0m\u001b[0;34m\u001b[0m\u001b[0m\n\u001b[0m\u001b[1;32m    109\u001b[0m         \u001b[0mcellset\u001b[0m \u001b[0;34m=\u001b[0m \u001b[0mCellset\u001b[0m\u001b[0;34m.\u001b[0m\u001b[0m_from_dict\u001b[0m\u001b[0;34m(\u001b[0m\u001b[0mresponse\u001b[0m\u001b[0;34m[\u001b[0m\u001b[0;34m\"data\"\u001b[0m\u001b[0;34m]\u001b[0m\u001b[0;34m)\u001b[0m\u001b[0;34m\u001b[0m\u001b[0;34m\u001b[0m\u001b[0m\n\u001b[1;32m    110\u001b[0m         \u001b[0mget_level_data_types\u001b[0m \u001b[0;34m=\u001b[0m \u001b[0mkwargs\u001b[0m\u001b[0;34m.\u001b[0m\u001b[0mget\u001b[0m\u001b[0;34m(\u001b[0m\u001b[0;34m\"get_level_data_types\"\u001b[0m\u001b[0;34m)\u001b[0m\u001b[0;34m\u001b[0m\u001b[0;34m\u001b[0m\u001b[0m\n",
      "\u001b[0;32m~/miniconda3/envs/plus-0.3.0.20200326213325/lib/python3.7/site-packages/atoti/query/session.py\u001b[0m in \u001b[0;36m_execute_json_request\u001b[0;34m(self, url, body)\u001b[0m\n\u001b[1;32m     66\u001b[0m             \u001b[0merror_json\u001b[0m \u001b[0;34m=\u001b[0m \u001b[0merror\u001b[0m\u001b[0;34m.\u001b[0m\u001b[0mread\u001b[0m\u001b[0;34m(\u001b[0m\u001b[0;34m)\u001b[0m\u001b[0;34m\u001b[0m\u001b[0;34m\u001b[0m\u001b[0m\n\u001b[1;32m     67\u001b[0m             \u001b[0merror_data\u001b[0m \u001b[0;34m=\u001b[0m \u001b[0mjson\u001b[0m\u001b[0;34m.\u001b[0m\u001b[0mloads\u001b[0m\u001b[0;34m(\u001b[0m\u001b[0merror_json\u001b[0m\u001b[0;34m)\u001b[0m\u001b[0;34m\u001b[0m\u001b[0;34m\u001b[0m\u001b[0m\n\u001b[0;32m---> 68\u001b[0;31m             \u001b[0;32mraise\u001b[0m \u001b[0mRuntimeError\u001b[0m\u001b[0;34m(\u001b[0m\u001b[0;34m\"Request failed\"\u001b[0m\u001b[0;34m,\u001b[0m \u001b[0merror_data\u001b[0m\u001b[0;34m)\u001b[0m\u001b[0;34m\u001b[0m\u001b[0;34m\u001b[0m\u001b[0m\n\u001b[0m\u001b[1;32m     69\u001b[0m \u001b[0;34m\u001b[0m\u001b[0m\n\u001b[1;32m     70\u001b[0m     \u001b[0;32mdef\u001b[0m \u001b[0m_fetch_version\u001b[0m\u001b[0;34m(\u001b[0m\u001b[0mself\u001b[0m\u001b[0;34m)\u001b[0m \u001b[0;34m->\u001b[0m \u001b[0mstr\u001b[0m\u001b[0;34m:\u001b[0m\u001b[0;34m\u001b[0m\u001b[0;34m\u001b[0m\u001b[0m\n",
      "\u001b[0;31mRuntimeError\u001b[0m: ('Request failed', {'status': 'error', 'error': {'errorChain': [{'type': 'OutOfMemoryError', 'message': 'Java heap space'}, {'type': 'OutOfMemoryError'}, {'type': 'QueryException', 'message': 'Could not execute query at epoch 5. : ActivePivotSyncActionQuery: action=MdxAction (mdx=SELECT [Measures].[Delta Margin] ON COLUMNS, NON EMPTY [Hierarchies].[PortfolioID].[PortfolioID].Members ON ROWS FROM [Risks]), argument=com.quartetfs.pivot.mdx.impl.BasicSelectExecutor@2031aa7f'}, {'type': 'MdxException', 'message': 'Error with the following query: SELECT [Measures].[Delta Margin] ON COLUMNS, NON EMPTY [Hierarchies].[PortfolioID].[PortfolioID].Members ON ROWS FROM [Risks]'}, {'type': 'BadArgumentException', 'message': '[400] com.quartetfs.pivot.mdx.MdxException: Error with the following query: SELECT [Measures].[Delta Margin] ON COLUMNS, NON EMPTY [Hierarchies].[PortfolioID].[PortfolioID].Members ON ROWS FROM [Risks]'}], 'stackTrace': 'com.qfs.fwk.services.BadArgumentException: [400] com.quartetfs.pivot.mdx.MdxException: Error with the following query: SELECT [Measures].[Delta Margin] ON COLUMNS, NON EMPTY [Hierarchies].[PortfolioID].[PortfolioID].Members ON ROWS FROM [Risks]\\n\\tat com.qfs.pivot.rest.query.impl.JsonQueryService.executeQuery(JsonQueryService.java:216)\\n\\tat com.qfs.pivot.rest.query.impl.JsonQueryService.executeMdxQuery(JsonQueryService.java:109)\\n\\tat com.qfs.pivot.rest.query.impl.QueriesRestService.mdxQuery(QueriesRestService.java:66)\\n\\tat java.base/jdk.internal.reflect.NativeMethodAccessorImpl.invoke0(Native Method)\\n\\tat java.base/jdk.internal.reflect.NativeMethodAccessorImpl.invoke(NativeMethodAccessorImpl.java:62)\\n\\tat java.base/jdk.internal.reflect.DelegatingMethodAccessorImpl.invoke(DelegatingMethodAccessorImpl.java:43)\\n\\tat java.base/java.lang.reflect.Method.invoke(Method.java:566)\\n\\tat org.apache.cxf.service.invoker.AbstractInvoker.performInvocation(AbstractInvoker.java:179)\\n\\tat org.apache.cxf.service.invoker.AbstractInvoker.invoke(AbstractInvoker.java:96)\\n\\tat org.apache.cxf.jaxrs.JAXRSInvoker.invoke(JAXRSInvoker.java:193)\\n\\tat org.apache.cxf.jaxrs.JAXRSInvoker.invoke(JAXRSInvoker.java:103)\\n\\tat org.apache.cxf.interceptor.ServiceInvokerInterceptor$1.run(ServiceInvokerInterceptor.java:59)\\n\\tat org.apache.cxf.interceptor.ServiceInvokerInterceptor.handleMessage(ServiceInvokerInterceptor.java:96)\\n\\tat org.apache.cxf.phase.PhaseInterceptorChain.doIntercept(PhaseInterceptorChain.java:308)\\n\\tat org.apache.cxf.transport.ChainInitiationObserver.onMessage(ChainInitiationObserver.java:121)\\n\\tat org.apache.cxf.transport.http.AbstractHTTPDestination.invoke(AbstractHTTPDestination.java:267)\\n\\tat org.apache.cxf.transport.servlet.ServletController.invokeDestination(ServletController.java:234)\\n\\tat org.apache.cxf.transport.servlet.ServletController.invoke(ServletController.java:208)\\n\\tat org.apache.cxf.transport.servlet.ServletController.invoke(ServletController.java:160)\\n\\tat org.apache.cxf.transport.servlet.CXFNonSpringServlet.invoke(CXFNonSpringServlet.java:216)\\n\\tat org.apache.cxf.transport.servlet.AbstractHTTPServlet.handleRequest(AbstractHTTPServlet.java:301)\\n\\tat org.apache.cxf.transport.servlet.AbstractHTTPServlet.doPost(AbstractHTTPServlet.java:220)\\n\\tat javax.servlet.http.HttpServlet.service(HttpServlet.java:660)\\n\\tat org.apache.cxf.transport.servlet.AbstractHTTPServlet.service(AbstractHTTPServlet.java:276)\\n\\tat org.springframework.web.servlet.mvc.ServletWrappingController.handleRequestInternal(ServletWrappingController.java:166)\\n\\tat org.springframework.web.servlet.mvc.AbstractController.handleRequest(AbstractController.java:177)\\n\\tat org.springframework.web.servlet.mvc.SimpleControllerHandlerAdapter.handle(SimpleControllerHandlerAdapter.java:52)\\n\\tat org.springframework.web.servlet.DispatcherServlet.doDispatch(DispatcherServlet.java:1040)\\n\\tat org.springframework.web.servlet.DispatcherServlet.doService(DispatcherServlet.java:943)\\n\\tat org.springframework.web.servlet.FrameworkServlet.processRequest(FrameworkServlet.java:1006)\\n\\tat org.springframework.web.servlet.FrameworkServlet.doPost(FrameworkServlet.java:909)\\n\\tat javax.servlet.http.HttpServlet.service(HttpServlet.java:660)\\n\\tat org.springframework.web.servlet.FrameworkServlet.service(FrameworkServlet.java:883)\\n\\tat javax.servlet.http.HttpServlet.service(HttpServlet.java:741)\\n\\tat org.apache.catalina.core.ApplicationFilterChain.internalDoFilter(ApplicationFilterChain.java:231)\\n\\tat org.apache.catalina.core.ApplicationFilterChain.doFilter(ApplicationFilterChain.java:166)\\n\\tat org.apache.tomcat.websocket.server.WsFilter.doFilter(WsFilter.java:53)\\n\\tat org.apache.catalina.core.ApplicationFilterChain.internalDoFilter(ApplicationFilterChain.java:193)\\n\\tat org.apache.catalina.core.ApplicationFilterChain.doFilter(ApplicationFilterChain.java:166)\\n\\tat com.qfs.security.impl.SpringCorsFilter.handleNonCORS(SpringCorsFilter.java:437)\\n\\tat com.qfs.security.impl.SpringCorsFilter.doFilter(SpringCorsFilter.java:168)\\n\\tat org.apache.catalina.core.ApplicationFilterChain.internalDoFilter(ApplicationFilterChain.java:193)\\n\\tat org.apache.catalina.core.ApplicationFilterChain.doFilter(ApplicationFilterChain.java:166)\\n\\tat org.springframework.security.web.FilterChainProxy$VirtualFilterChain.doFilter(FilterChainProxy.java:320)\\n\\tat com.qfs.pivot.servlet.impl.ContextValueFilter.doFilter(ContextValueFilter.java:69)\\n\\tat org.springframework.security.web.FilterChainProxy$VirtualFilterChain.doFilter(FilterChainProxy.java:334)\\n\\tat org.springframework.security.web.access.intercept.FilterSecurityInterceptor.invoke(FilterSecurityInterceptor.java:126)\\n\\tat org.springframework.security.web.access.intercept.FilterSecurityInterceptor.doFilter(FilterSecurityInterceptor.java:90)\\n\\tat org.springframework.security.web.FilterChainProxy$VirtualFilterChain.doFilter(FilterChainProxy.java:334)\\n\\tat org.springframework.security.web.access.ExceptionTranslationFilter.doFilter(ExceptionTranslationFilter.java:118)\\n\\tat org.springframework.security.web.FilterChainProxy$VirtualFilterChain.doFilter(FilterChainProxy.java:334)\\n\\tat org.springframework.security.web.session.SessionManagementFilter.doFilter(SessionManagementFilter.java:137)\\n\\tat org.springframework.security.web.FilterChainProxy$VirtualFilterChain.doFilter(FilterChainProxy.java:334)\\n\\tat org.springframework.security.web.authentication.AnonymousAuthenticationFilter.doFilter(AnonymousAuthenticationFilter.java:111)\\n\\tat org.springframework.security.web.FilterChainProxy$VirtualFilterChain.doFilter(FilterChainProxy.java:334)\\n\\tat org.springframework.security.web.servletapi.SecurityContextHolderAwareRequestFilter.doFilter(SecurityContextHolderAwareRequestFilter.java:158)\\n\\tat org.springframework.security.web.FilterChainProxy$VirtualFilterChain.doFilter(FilterChainProxy.java:334)\\n\\tat org.springframework.security.web.savedrequest.RequestCacheAwareFilter.doFilter(RequestCacheAwareFilter.java:63)\\n\\tat org.springframework.security.web.FilterChainProxy$VirtualFilterChain.doFilter(FilterChainProxy.java:334)\\n\\tat org.springframework.security.web.authentication.logout.LogoutFilter.doFilter(LogoutFilter.java:116)\\n\\tat org.springframework.security.web.FilterChainProxy$VirtualFilterChain.doFilter(FilterChainProxy.java:334)\\n\\tat org.springframework.security.web.header.HeaderWriterFilter.doHeadersAfter(HeaderWriterFilter.java:92)\\n\\tat org.springframework.security.web.header.HeaderWriterFilter.doFilterInternal(HeaderWriterFilter.java:77)\\n\\tat org.springframework.web.filter.OncePerRequestFilter.doFilter(OncePerRequestFilter.java:119)\\n\\tat org.springframework.security.web.FilterChainProxy$VirtualFilterChain.doFilter(FilterChainProxy.java:334)\\n\\tat org.springframework.security.web.context.SecurityContextPersistenceFilter.doFilter(SecurityContextPersistenceFilter.java:105)\\n\\tat org.springframework.security.web.FilterChainProxy$VirtualFilterChain.doFilter(FilterChainProxy.java:334)\\n\\tat org.springframework.security.web.context.request.async.WebAsyncManagerIntegrationFilter.doFilterInternal(WebAsyncManagerIntegrationFilter.java:56)\\n\\tat org.springframework.web.filter.OncePerRequestFilter.doFilter(OncePerRequestFilter.java:119)\\n\\tat org.springframework.security.web.FilterChainProxy$VirtualFilterChain.doFilter(FilterChainProxy.java:334)\\n\\tat org.springframework.security.web.FilterChainProxy.doFilterInternal(FilterChainProxy.java:215)\\n\\tat org.springframework.security.web.FilterChainProxy.doFilter(FilterChainProxy.java:178)\\n\\tat org.springframework.web.filter.DelegatingFilterProxy.invokeDelegate(DelegatingFilterProxy.java:358)\\n\\tat org.springframework.web.filter.DelegatingFilterProxy.doFilter(DelegatingFilterProxy.java:271)\\n\\tat org.apache.catalina.core.ApplicationFilterChain.internalDoFilter(ApplicationFilterChain.java:193)\\n\\tat org.apache.catalina.core.ApplicationFilterChain.doFilter(ApplicationFilterChain.java:166)\\n\\tat org.springframework.web.filter.CharacterEncodingFilter.doFilterInternal(CharacterEncodingFilter.java:201)\\n\\tat org.springframework.web.filter.OncePerRequestFilter.doFilter(OncePerRequestFilter.java:119)\\n\\tat org.apache.catalina.core.ApplicationFilterChain.internalDoFilter(ApplicationFilterChain.java:193)\\n\\tat org.apache.catalina.core.ApplicationFilterChain.doFilter(ApplicationFilterChain.java:166)\\n\\tat org.apache.catalina.core.StandardWrapperValve.invoke(StandardWrapperValve.java:202)\\n\\tat org.apache.catalina.core.StandardContextValve.invoke(StandardContextValve.java:96)\\n\\tat org.apache.catalina.authenticator.AuthenticatorBase.invoke(AuthenticatorBase.java:526)\\n\\tat org.apache.catalina.core.StandardHostValve.invoke(StandardHostValve.java:139)\\n\\tat org.apache.catalina.valves.ErrorReportValve.invoke(ErrorReportValve.java:92)\\n\\tat org.apache.catalina.core.StandardEngineValve.invoke(StandardEngineValve.java:74)\\n\\tat org.apache.catalina.connector.CoyoteAdapter.service(CoyoteAdapter.java:343)\\n\\tat org.apache.coyote.http11.Http11Processor.service(Http11Processor.java:367)\\n\\tat org.apache.coyote.AbstractProcessorLight.process(AbstractProcessorLight.java:65)\\n\\tat org.apache.coyote.AbstractProtocol$ConnectionHandler.process(AbstractProtocol.java:860)\\n\\tat org.apache.tomcat.util.net.NioEndpoint$SocketProcessor.doRun(NioEndpoint.java:1591)\\n\\tat org.apache.tomcat.util.net.SocketProcessorBase.run(SocketProcessorBase.java:49)\\n\\tat java.base/java.util.concurrent.ThreadPoolExecutor.runWorker(ThreadPoolExecutor.java:1128)\\n\\tat java.base/java.util.concurrent.ThreadPoolExecutor$Worker.run(ThreadPoolExecutor.java:628)\\n\\tat org.apache.tomcat.util.threads.TaskThread$WrappingRunnable.run(TaskThread.java:61)\\n\\tat java.base/java.lang.Thread.run(Thread.java:834)\\nCaused by: com.quartetfs.pivot.mdx.MdxException: Error with the following query: SELECT [Measures].[Delta Margin] ON COLUMNS, NON EMPTY [Hierarchies].[PortfolioID].[PortfolioID].Members ON ROWS FROM [Risks]\\n\\tat com.quartetfs.pivot.mdx.impl.ASelectStatementExecutor.executeAfterParse(ASelectStatementExecutor.java:426)\\n\\tat com.quartetfs.pivot.mdx.impl.ASelectStatementExecutor.executeAfterParse(ASelectStatementExecutor.java:408)\\n\\tat com.quartetfs.pivot.mdx.impl.ASelectStatementExecutor.execute(ASelectStatementExecutor.java:397)\\n\\tat com.qfs.pivot.rest.query.impl.JsonQueryService$JsonSelectExecutor.execute(JsonQueryService.java:299)\\n\\tat com.qfs.pivot.rest.query.impl.JsonQueryService$JsonSelectExecutor.execute(JsonQueryService.java:277)\\n\\tat com.qfs.pivot.rest.query.impl.JsonQueryService.executeQuery(JsonQueryService.java:211)\\n\\t... 95 more\\nCaused by: com.quartetfs.fwk.query.QueryException: Could not execute query at epoch 5. : ActivePivotSyncActionQuery: action=MdxAction (mdx=SELECT [Measures].[Delta Margin] ON COLUMNS, NON EMPTY [Hierarchies].[PortfolioID].[PortfolioID].Members ON ROWS FROM [Risks]), argument=com.quartetfs.pivot.mdx.impl.BasicSelectExecutor@2031aa7f\\n\\tat com.quartetfs.biz.pivot.impl.ActivePivotVersion$QueryExecutionTask.getWithQueriesTimeLimit(ActivePivotVersion.java:1500)\\n\\tat com.quartetfs.biz.pivot.impl.ActivePivotVersion.execute(ActivePivotVersion.java:916)\\n\\tat com.quartetfs.biz.pivot.query.impl.ActivePivotSyncUtils.activePivotSyncExec(ActivePivotSyncUtils.java:94)\\n\\tat com.quartetfs.pivot.mdx.impl.ASelectStatementExecutor.executeAfterParse(ASelectStatementExecutor.java:424)\\n\\t... 100 more\\nCaused by: java.lang.OutOfMemoryError\\n\\tat java.base/jdk.internal.reflect.NativeConstructorAccessorImpl.newInstance0(Native Method)\\n\\tat java.base/jdk.internal.reflect.NativeConstructorAccessorImpl.newInstance(NativeConstructorAccessorImpl.java:62)\\n\\tat java.base/jdk.internal.reflect.DelegatingConstructorAccessorImpl.newInstance(DelegatingConstructorAccessorImpl.java:45)\\n\\tat java.base/java.lang.reflect.Constructor.newInstance(Constructor.java:490)\\n\\tat java.base/java.util.concurrent.ForkJoinTask.getThrowableException(ForkJoinTask.java:603)\\n\\tat java.base/java.util.concurrent.ForkJoinTask.get(ForkJoinTask.java:1064)\\n\\tat com.quartetfs.biz.pivot.impl.ActivePivotVersion$QueryExecutionTask.getWithQueriesTimeLimit(ActivePivotVersion.java:1471)\\n\\t... 103 more\\nCaused by: java.lang.OutOfMemoryError: Java heap space\\n\\tat com.qfs.dic.impl.IntegerArrayDictionaryWithHash$InnerDictionary.<init>(IntegerArrayDictionaryWithHash.java:616)\\n\\tat com.qfs.dic.impl.IntegerArrayDictionaryWithHash.resize(IntegerArrayDictionaryWithHash.java:128)\\n\\tat com.qfs.dic.impl.IntegerArrayDictionaryWithHash$InnerDictionary.mapWithFlags(IntegerArrayDictionaryWithHash.java:723)\\n\\tat com.qfs.dic.impl.IntegerArrayDictionaryWithHash.mapWithFlags(IntegerArrayDictionaryWithHash.java:365)\\n\\tat com.quartetfs.biz.pivot.impl.PointLocationList.mapLocationInScope(PointLocationList.java:321)\\n\\tat com.quartetfs.biz.pivot.cellset.impl.PointListRetrievalResult$FinalJoinConsumer.perform(PointListRetrievalResult.java:2193)\\n\\tat com.quartetfs.biz.pivot.cellset.impl.PointListRetrievalResult$FinalJoinConsumer.accept(PointListRetrievalResult.java:2177)\\n\\tat com.quartetfs.biz.pivot.cube.hierarchy.axis.impl.JoinContext.lambda$forEach$1(JoinContext.java:167)\\n\\tat com.quartetfs.biz.pivot.cube.hierarchy.axis.impl.JoinContext$$Lambda$1311/0x0000000800e82c40.accept(Unknown Source)\\n\\tat com.quartetfs.biz.pivot.query.aggregates.impl.ExternalDatastoreRetrieval$CompiledDatastoreRetrievalResultQuery.lambda$forEach$0(ExternalDatastoreRetrieval.java:476)\\n\\tat com.quartetfs.biz.pivot.query.aggregates.impl.ExternalDatastoreRetrieval$CompiledDatastoreRetrievalResultQuery$$Lambda$1312/0x0000000800e82040.test(Unknown Source)\\n\\tat com.quartetfs.biz.pivot.query.aggregates.impl.SubPointIntegerArrayDictionaryIndex.forEachMatchingPoints(SubPointIntegerArrayDictionaryIndex.java:83)\\n\\tat com.quartetfs.biz.pivot.query.aggregates.impl.ExternalDatastoreRetrieval$CompiledDatastoreRetrievalResultQuery.forEach(ExternalDatastoreRetrieval.java:471)\\n\\tat com.quartetfs.biz.pivot.cube.hierarchy.axis.impl.JoinContext.forEach(JoinContext.java:163)\\n\\tat com.activeviam.copper.agg.AJoinAnalysisAggregationProcedure.mapToFullLocation(AJoinAnalysisAggregationProcedure.java:242)\\n\\tat com.activeviam.copper.agg.AJoinAnalysisAggregationProcedure.mapToFullLocation(AJoinAnalysisAggregationProcedure.java:67)\\n\\tat com.quartetfs.biz.pivot.cellset.impl.PointListRetrievalResult$IntermediateConsumer.accept(PointListRetrievalResult.java:2080)\\n\\tat com.quartetfs.biz.pivot.cube.hierarchy.axis.impl.JoinContext.lambda$forEach$1(JoinContext.java:167)\\n\\tat com.quartetfs.biz.pivot.cube.hierarchy.axis.impl.JoinContext$$Lambda$1311/0x0000000800e82c40.accept(Unknown Source)\\n\\tat com.quartetfs.biz.pivot.query.aggregates.impl.ExternalDatastoreRetrieval$CompiledDatastoreRetrievalResultQuery.lambda$forEach$0(ExternalDatastoreRetrieval.java:476)\\n\\tat com.quartetfs.biz.pivot.query.aggregates.impl.ExternalDatastoreRetrieval$CompiledDatastoreRetrievalResultQuery$$Lambda$1312/0x0000000800e82040.test(Unknown Source)\\n\\tat com.quartetfs.biz.pivot.query.aggregates.impl.SubPointIntegerArrayDictionaryIndex.forEachMatchingPoints(SubPointIntegerArrayDictionaryIndex.java:83)\\n\\tat com.quartetfs.biz.pivot.query.aggregates.impl.ExternalDatastoreRetrieval$CompiledDatastoreRetrievalResultQuery.forEach(ExternalDatastoreRetrieval.java:471)\\n\\tat com.quartetfs.biz.pivot.cube.hierarchy.axis.impl.JoinContext.forEach(JoinContext.java:163)\\n\\tat com.activeviam.copper.agg.AJoinAnalysisAggregationProcedure.mapToFullLocation(AJoinAnalysisAggregationProcedure.java:242)\\n\\tat com.activeviam.copper.agg.AJoinAnalysisAggregationProcedure.mapToFullLocation(AJoinAnalysisAggregationProcedure.java:67)\\n\\tat com.quartetfs.biz.pivot.cellset.impl.PointListRetrievalResult.lambda$join$0(PointListRetrievalResult.java:2376)\\n\\tat com.quartetfs.biz.pivot.cellset.impl.PointListRetrievalResult$$Lambda$1310/0x0000000800e83840.execute(Unknown Source)\\n\\tat com.quartetfs.biz.pivot.impl.PointLocationList.forEachPoint(PointLocationList.java:241)\\n\\tat com.quartetfs.biz.pivot.cellset.impl.PointListRetrievalResult.forEachPoint(PointListRetrievalResult.java:921)\\n\\tat com.quartetfs.biz.pivot.cellset.impl.PointListRetrievalResult.join(PointListRetrievalResult.java:2360)\\n\\tat com.quartetfs.biz.pivot.cellset.impl.PointListRetrievalResult.join(PointListRetrievalResult.java:115)\\n'}})"
     ]
    }
   ],
   "source": [
    "cube.query(m['Delta Margin'], levels = [lvl['PortfolioID']], timeout=90)"
   ]
  },
  {
   "cell_type": "code",
   "execution_count": 30,
   "metadata": {},
   "outputs": [
    {
     "data": {
      "text/html": [
       "<div>\n",
       "<style scoped>\n",
       "    .dataframe tbody tr th:only-of-type {\n",
       "        vertical-align: middle;\n",
       "    }\n",
       "\n",
       "    .dataframe tbody tr th {\n",
       "        vertical-align: top;\n",
       "    }\n",
       "\n",
       "    .dataframe thead th {\n",
       "        text-align: right;\n",
       "    }\n",
       "</style>\n",
       "<table border=\"1\" class=\"dataframe\">\n",
       "  <thead>\n",
       "    <tr style=\"text-align: right;\">\n",
       "      <th></th>\n",
       "      <th>Delta Margin</th>\n",
       "    </tr>\n",
       "  </thead>\n",
       "  <tbody>\n",
       "    <tr>\n",
       "      <th>0</th>\n",
       "      <td>8,951,153.7749</td>\n",
       "    </tr>\n",
       "  </tbody>\n",
       "</table>\n",
       "</div>"
      ],
      "text/plain": [
       "    Delta Margin\n",
       "0 8,951,153.7749"
      ]
     },
     "execution_count": 30,
     "metadata": {},
     "output_type": "execute_result"
    }
   ],
   "source": [
    "cube.query(m['Delta Margin'], condition = lvl['PortfolioID']==\"Smaller_Portfolio\", timeout=90)"
   ]
  },
  {
   "cell_type": "code",
   "execution_count": 27,
   "metadata": {},
   "outputs": [],
   "source": [
    "# Optimized calculation\n",
    "\n",
    "# 21.4(5)(a):\n",
    "m['sum Kb2 + sum sum WSb WSc gamma alternative'] = av.agg.square_sum(m['K_b alternative'], av.scope.origin([lvl['Bucket']])) + av.agg.sum(\n",
    "    m['WS_b'] * m['WS_c']*m['gamma.VALUE'], av.scope.origin([lvl['Bucket'], lvl['Other Bucket']]))\n",
    "\n",
    "# 21.4(5)(b):\n",
    "m['S_b alternative'] = av.max(av.min(m['WS_k'], m['K_b alternative']), -1.0 * m['K_b alternative'])\n",
    "m['S_c alternative'] = av.at(m['S_b alternative'], {lvl['Bucket']: lvl['Other Bucket']})\n",
    "m['sum Kb2 + sum sum Sb Sc gamma alternative'] = av.agg.square_sum(m['K_b alternative'], av.scope.origin([lvl['Bucket']])) + av.agg.sum(\n",
    "    m['S_b alternative'] * m['S_c alternative']*m['gamma.VALUE'], av.scope.origin([lvl['Bucket'], lvl['Other Bucket']]))\n",
    "\n",
    "m['Delta Margin alternative'] = av.where(m['sum Kb2 + sum sum WSb WSc gamma alternative'] > 0,\n",
    "                             av.sqrt(m['sum Kb2 + sum sum WSb WSc gamma alternative']),\n",
    "                             av.sqrt(m['sum Kb2 + sum sum Sb Sc gamma alternative']))"
   ]
  },
  {
   "cell_type": "code",
   "execution_count": 28,
   "metadata": {},
   "outputs": [
    {
     "data": {
      "text/html": [
       "<div>\n",
       "<style scoped>\n",
       "    .dataframe tbody tr th:only-of-type {\n",
       "        vertical-align: middle;\n",
       "    }\n",
       "\n",
       "    .dataframe tbody tr th {\n",
       "        vertical-align: top;\n",
       "    }\n",
       "\n",
       "    .dataframe thead th {\n",
       "        text-align: right;\n",
       "    }\n",
       "</style>\n",
       "<table border=\"1\" class=\"dataframe\">\n",
       "  <thead>\n",
       "    <tr style=\"text-align: right;\">\n",
       "      <th></th>\n",
       "      <th>Delta Margin alternative</th>\n",
       "    </tr>\n",
       "    <tr>\n",
       "      <th>PortfolioID</th>\n",
       "      <th></th>\n",
       "    </tr>\n",
       "  </thead>\n",
       "  <tbody>\n",
       "    <tr>\n",
       "      <th>Bigger_Portfolio</th>\n",
       "      <td>7,341,289.6650</td>\n",
       "    </tr>\n",
       "    <tr>\n",
       "      <th>Smaller_Portfolio</th>\n",
       "      <td>6,843,541.6738</td>\n",
       "    </tr>\n",
       "  </tbody>\n",
       "</table>\n",
       "</div>"
      ],
      "text/plain": [
       "                   Delta Margin alternative\n",
       "PortfolioID                                \n",
       "Bigger_Portfolio             7,341,289.6650\n",
       "Smaller_Portfolio            6,843,541.6738"
      ]
     },
     "execution_count": 28,
     "metadata": {},
     "output_type": "execute_result"
    }
   ],
   "source": [
    "cube.query(m['Delta Margin alternative'], levels = [lvl['PortfolioID']], timeout=90)"
   ]
  },
  {
   "cell_type": "markdown",
   "metadata": {},
   "source": [
    "# Timeit"
   ]
  },
  {
   "cell_type": "code",
   "execution_count": null,
   "metadata": {},
   "outputs": [],
   "source": [
    "risks_store.load_pandas(crif)"
   ]
  },
  {
   "cell_type": "code",
   "execution_count": 29,
   "metadata": {},
   "outputs": [
    {
     "name": "stdout",
     "output_type": "stream",
     "text": [
      "76.2 ms ± 4.78 ms per loop (mean ± std. dev. of 7 runs, 1 loop each)\n"
     ]
    }
   ],
   "source": [
    "%%timeit\n",
    "cube.query(m['Delta Margin'], condition = lvl['PortfolioID']==\"Smaller_Portfolio\", timeout=90)"
   ]
  },
  {
   "cell_type": "code",
   "execution_count": 31,
   "metadata": {},
   "outputs": [
    {
     "ename": "RuntimeError",
     "evalue": "('Request failed', {'status': 'error', 'error': {'errorChain': [{'type': 'OutOfMemoryError', 'message': 'Java heap space'}, {'type': 'OutOfMemoryError'}, {'type': 'QueryException', 'message': 'Could not execute query at epoch 5. : ActivePivotSyncActionQuery: action=MdxAction (mdx=SELECT [Measures].[Delta Margin] ON COLUMNS FROM (SELECT ([Hierarchies].[PortfolioID].[ALL].[AllMember].[Bigger_Portfolio]) ON COLUMNS FROM [Risks])), argument=com.quartetfs.pivot.mdx.impl.BasicSelectExecutor@1b7bc63c'}, {'type': 'MdxException', 'message': 'Error with the following query: SELECT [Measures].[Delta Margin] ON COLUMNS FROM (SELECT ([Hierarchies].[PortfolioID].[ALL].[AllMember].[Bigger_Portfolio]) ON COLUMNS FROM [Risks])'}, {'type': 'BadArgumentException', 'message': '[400] com.quartetfs.pivot.mdx.MdxException: Error with the following query: SELECT [Measures].[Delta Margin] ON COLUMNS FROM (SELECT ([Hierarchies].[PortfolioID].[ALL].[AllMember].[Bigger_Portfolio]) ON COLUMNS FROM [Risks])'}], 'stackTrace': 'com.qfs.fwk.services.BadArgumentException: [400] com.quartetfs.pivot.mdx.MdxException: Error with the following query: SELECT [Measures].[Delta Margin] ON COLUMNS FROM (SELECT ([Hierarchies].[PortfolioID].[ALL].[AllMember].[Bigger_Portfolio]) ON COLUMNS FROM [Risks])\\n\\tat com.qfs.pivot.rest.query.impl.JsonQueryService.executeQuery(JsonQueryService.java:216)\\n\\tat com.qfs.pivot.rest.query.impl.JsonQueryService.executeMdxQuery(JsonQueryService.java:109)\\n\\tat com.qfs.pivot.rest.query.impl.QueriesRestService.mdxQuery(QueriesRestService.java:66)\\n\\tat java.base/jdk.internal.reflect.NativeMethodAccessorImpl.invoke0(Native Method)\\n\\tat java.base/jdk.internal.reflect.NativeMethodAccessorImpl.invoke(NativeMethodAccessorImpl.java:62)\\n\\tat java.base/jdk.internal.reflect.DelegatingMethodAccessorImpl.invoke(DelegatingMethodAccessorImpl.java:43)\\n\\tat java.base/java.lang.reflect.Method.invoke(Method.java:566)\\n\\tat org.apache.cxf.service.invoker.AbstractInvoker.performInvocation(AbstractInvoker.java:179)\\n\\tat org.apache.cxf.service.invoker.AbstractInvoker.invoke(AbstractInvoker.java:96)\\n\\tat org.apache.cxf.jaxrs.JAXRSInvoker.invoke(JAXRSInvoker.java:193)\\n\\tat org.apache.cxf.jaxrs.JAXRSInvoker.invoke(JAXRSInvoker.java:103)\\n\\tat org.apache.cxf.interceptor.ServiceInvokerInterceptor$1.run(ServiceInvokerInterceptor.java:59)\\n\\tat org.apache.cxf.interceptor.ServiceInvokerInterceptor.handleMessage(ServiceInvokerInterceptor.java:96)\\n\\tat org.apache.cxf.phase.PhaseInterceptorChain.doIntercept(PhaseInterceptorChain.java:308)\\n\\tat org.apache.cxf.transport.ChainInitiationObserver.onMessage(ChainInitiationObserver.java:121)\\n\\tat org.apache.cxf.transport.http.AbstractHTTPDestination.invoke(AbstractHTTPDestination.java:267)\\n\\tat org.apache.cxf.transport.servlet.ServletController.invokeDestination(ServletController.java:234)\\n\\tat org.apache.cxf.transport.servlet.ServletController.invoke(ServletController.java:208)\\n\\tat org.apache.cxf.transport.servlet.ServletController.invoke(ServletController.java:160)\\n\\tat org.apache.cxf.transport.servlet.CXFNonSpringServlet.invoke(CXFNonSpringServlet.java:216)\\n\\tat org.apache.cxf.transport.servlet.AbstractHTTPServlet.handleRequest(AbstractHTTPServlet.java:301)\\n\\tat org.apache.cxf.transport.servlet.AbstractHTTPServlet.doPost(AbstractHTTPServlet.java:220)\\n\\tat javax.servlet.http.HttpServlet.service(HttpServlet.java:660)\\n\\tat org.apache.cxf.transport.servlet.AbstractHTTPServlet.service(AbstractHTTPServlet.java:276)\\n\\tat org.springframework.web.servlet.mvc.ServletWrappingController.handleRequestInternal(ServletWrappingController.java:166)\\n\\tat org.springframework.web.servlet.mvc.AbstractController.handleRequest(AbstractController.java:177)\\n\\tat org.springframework.web.servlet.mvc.SimpleControllerHandlerAdapter.handle(SimpleControllerHandlerAdapter.java:52)\\n\\tat org.springframework.web.servlet.DispatcherServlet.doDispatch(DispatcherServlet.java:1040)\\n\\tat org.springframework.web.servlet.DispatcherServlet.doService(DispatcherServlet.java:943)\\n\\tat org.springframework.web.servlet.FrameworkServlet.processRequest(FrameworkServlet.java:1006)\\n\\tat org.springframework.web.servlet.FrameworkServlet.doPost(FrameworkServlet.java:909)\\n\\tat javax.servlet.http.HttpServlet.service(HttpServlet.java:660)\\n\\tat org.springframework.web.servlet.FrameworkServlet.service(FrameworkServlet.java:883)\\n\\tat javax.servlet.http.HttpServlet.service(HttpServlet.java:741)\\n\\tat org.apache.catalina.core.ApplicationFilterChain.internalDoFilter(ApplicationFilterChain.java:231)\\n\\tat org.apache.catalina.core.ApplicationFilterChain.doFilter(ApplicationFilterChain.java:166)\\n\\tat org.apache.tomcat.websocket.server.WsFilter.doFilter(WsFilter.java:53)\\n\\tat org.apache.catalina.core.ApplicationFilterChain.internalDoFilter(ApplicationFilterChain.java:193)\\n\\tat org.apache.catalina.core.ApplicationFilterChain.doFilter(ApplicationFilterChain.java:166)\\n\\tat com.qfs.security.impl.SpringCorsFilter.handleNonCORS(SpringCorsFilter.java:437)\\n\\tat com.qfs.security.impl.SpringCorsFilter.doFilter(SpringCorsFilter.java:168)\\n\\tat org.apache.catalina.core.ApplicationFilterChain.internalDoFilter(ApplicationFilterChain.java:193)\\n\\tat org.apache.catalina.core.ApplicationFilterChain.doFilter(ApplicationFilterChain.java:166)\\n\\tat org.springframework.security.web.FilterChainProxy$VirtualFilterChain.doFilter(FilterChainProxy.java:320)\\n\\tat com.qfs.pivot.servlet.impl.ContextValueFilter.doFilter(ContextValueFilter.java:69)\\n\\tat org.springframework.security.web.FilterChainProxy$VirtualFilterChain.doFilter(FilterChainProxy.java:334)\\n\\tat org.springframework.security.web.access.intercept.FilterSecurityInterceptor.invoke(FilterSecurityInterceptor.java:126)\\n\\tat org.springframework.security.web.access.intercept.FilterSecurityInterceptor.doFilter(FilterSecurityInterceptor.java:90)\\n\\tat org.springframework.security.web.FilterChainProxy$VirtualFilterChain.doFilter(FilterChainProxy.java:334)\\n\\tat org.springframework.security.web.access.ExceptionTranslationFilter.doFilter(ExceptionTranslationFilter.java:118)\\n\\tat org.springframework.security.web.FilterChainProxy$VirtualFilterChain.doFilter(FilterChainProxy.java:334)\\n\\tat org.springframework.security.web.session.SessionManagementFilter.doFilter(SessionManagementFilter.java:137)\\n\\tat org.springframework.security.web.FilterChainProxy$VirtualFilterChain.doFilter(FilterChainProxy.java:334)\\n\\tat org.springframework.security.web.authentication.AnonymousAuthenticationFilter.doFilter(AnonymousAuthenticationFilter.java:111)\\n\\tat org.springframework.security.web.FilterChainProxy$VirtualFilterChain.doFilter(FilterChainProxy.java:334)\\n\\tat org.springframework.security.web.servletapi.SecurityContextHolderAwareRequestFilter.doFilter(SecurityContextHolderAwareRequestFilter.java:158)\\n\\tat org.springframework.security.web.FilterChainProxy$VirtualFilterChain.doFilter(FilterChainProxy.java:334)\\n\\tat org.springframework.security.web.savedrequest.RequestCacheAwareFilter.doFilter(RequestCacheAwareFilter.java:63)\\n\\tat org.springframework.security.web.FilterChainProxy$VirtualFilterChain.doFilter(FilterChainProxy.java:334)\\n\\tat org.springframework.security.web.authentication.logout.LogoutFilter.doFilter(LogoutFilter.java:116)\\n\\tat org.springframework.security.web.FilterChainProxy$VirtualFilterChain.doFilter(FilterChainProxy.java:334)\\n\\tat org.springframework.security.web.header.HeaderWriterFilter.doHeadersAfter(HeaderWriterFilter.java:92)\\n\\tat org.springframework.security.web.header.HeaderWriterFilter.doFilterInternal(HeaderWriterFilter.java:77)\\n\\tat org.springframework.web.filter.OncePerRequestFilter.doFilter(OncePerRequestFilter.java:119)\\n\\tat org.springframework.security.web.FilterChainProxy$VirtualFilterChain.doFilter(FilterChainProxy.java:334)\\n\\tat org.springframework.security.web.context.SecurityContextPersistenceFilter.doFilter(SecurityContextPersistenceFilter.java:105)\\n\\tat org.springframework.security.web.FilterChainProxy$VirtualFilterChain.doFilter(FilterChainProxy.java:334)\\n\\tat org.springframework.security.web.context.request.async.WebAsyncManagerIntegrationFilter.doFilterInternal(WebAsyncManagerIntegrationFilter.java:56)\\n\\tat org.springframework.web.filter.OncePerRequestFilter.doFilter(OncePerRequestFilter.java:119)\\n\\tat org.springframework.security.web.FilterChainProxy$VirtualFilterChain.doFilter(FilterChainProxy.java:334)\\n\\tat org.springframework.security.web.FilterChainProxy.doFilterInternal(FilterChainProxy.java:215)\\n\\tat org.springframework.security.web.FilterChainProxy.doFilter(FilterChainProxy.java:178)\\n\\tat org.springframework.web.filter.DelegatingFilterProxy.invokeDelegate(DelegatingFilterProxy.java:358)\\n\\tat org.springframework.web.filter.DelegatingFilterProxy.doFilter(DelegatingFilterProxy.java:271)\\n\\tat org.apache.catalina.core.ApplicationFilterChain.internalDoFilter(ApplicationFilterChain.java:193)\\n\\tat org.apache.catalina.core.ApplicationFilterChain.doFilter(ApplicationFilterChain.java:166)\\n\\tat org.springframework.web.filter.CharacterEncodingFilter.doFilterInternal(CharacterEncodingFilter.java:201)\\n\\tat org.springframework.web.filter.OncePerRequestFilter.doFilter(OncePerRequestFilter.java:119)\\n\\tat org.apache.catalina.core.ApplicationFilterChain.internalDoFilter(ApplicationFilterChain.java:193)\\n\\tat org.apache.catalina.core.ApplicationFilterChain.doFilter(ApplicationFilterChain.java:166)\\n\\tat org.apache.catalina.core.StandardWrapperValve.invoke(StandardWrapperValve.java:202)\\n\\tat org.apache.catalina.core.StandardContextValve.invoke(StandardContextValve.java:96)\\n\\tat org.apache.catalina.authenticator.AuthenticatorBase.invoke(AuthenticatorBase.java:526)\\n\\tat org.apache.catalina.core.StandardHostValve.invoke(StandardHostValve.java:139)\\n\\tat org.apache.catalina.valves.ErrorReportValve.invoke(ErrorReportValve.java:92)\\n\\tat org.apache.catalina.core.StandardEngineValve.invoke(StandardEngineValve.java:74)\\n\\tat org.apache.catalina.connector.CoyoteAdapter.service(CoyoteAdapter.java:343)\\n\\tat org.apache.coyote.http11.Http11Processor.service(Http11Processor.java:367)\\n\\tat org.apache.coyote.AbstractProcessorLight.process(AbstractProcessorLight.java:65)\\n\\tat org.apache.coyote.AbstractProtocol$ConnectionHandler.process(AbstractProtocol.java:860)\\n\\tat org.apache.tomcat.util.net.NioEndpoint$SocketProcessor.doRun(NioEndpoint.java:1591)\\n\\tat org.apache.tomcat.util.net.SocketProcessorBase.run(SocketProcessorBase.java:49)\\n\\tat java.base/java.util.concurrent.ThreadPoolExecutor.runWorker(ThreadPoolExecutor.java:1128)\\n\\tat java.base/java.util.concurrent.ThreadPoolExecutor$Worker.run(ThreadPoolExecutor.java:628)\\n\\tat org.apache.tomcat.util.threads.TaskThread$WrappingRunnable.run(TaskThread.java:61)\\n\\tat java.base/java.lang.Thread.run(Thread.java:834)\\nCaused by: com.quartetfs.pivot.mdx.MdxException: Error with the following query: SELECT [Measures].[Delta Margin] ON COLUMNS FROM (SELECT ([Hierarchies].[PortfolioID].[ALL].[AllMember].[Bigger_Portfolio]) ON COLUMNS FROM [Risks])\\n\\tat com.quartetfs.pivot.mdx.impl.ASelectStatementExecutor.executeAfterParse(ASelectStatementExecutor.java:426)\\n\\tat com.quartetfs.pivot.mdx.impl.ASelectStatementExecutor.executeAfterParse(ASelectStatementExecutor.java:408)\\n\\tat com.quartetfs.pivot.mdx.impl.ASelectStatementExecutor.execute(ASelectStatementExecutor.java:397)\\n\\tat com.qfs.pivot.rest.query.impl.JsonQueryService$JsonSelectExecutor.execute(JsonQueryService.java:299)\\n\\tat com.qfs.pivot.rest.query.impl.JsonQueryService$JsonSelectExecutor.execute(JsonQueryService.java:277)\\n\\tat com.qfs.pivot.rest.query.impl.JsonQueryService.executeQuery(JsonQueryService.java:211)\\n\\t... 95 more\\nCaused by: com.quartetfs.fwk.query.QueryException: Could not execute query at epoch 5. : ActivePivotSyncActionQuery: action=MdxAction (mdx=SELECT [Measures].[Delta Margin] ON COLUMNS FROM (SELECT ([Hierarchies].[PortfolioID].[ALL].[AllMember].[Bigger_Portfolio]) ON COLUMNS FROM [Risks])), argument=com.quartetfs.pivot.mdx.impl.BasicSelectExecutor@1b7bc63c\\n\\tat com.quartetfs.biz.pivot.impl.ActivePivotVersion$QueryExecutionTask.getWithQueriesTimeLimit(ActivePivotVersion.java:1500)\\n\\tat com.quartetfs.biz.pivot.impl.ActivePivotVersion.execute(ActivePivotVersion.java:916)\\n\\tat com.quartetfs.biz.pivot.query.impl.ActivePivotSyncUtils.activePivotSyncExec(ActivePivotSyncUtils.java:94)\\n\\tat com.quartetfs.pivot.mdx.impl.ASelectStatementExecutor.executeAfterParse(ASelectStatementExecutor.java:424)\\n\\t... 100 more\\nCaused by: java.lang.OutOfMemoryError\\n\\tat java.base/jdk.internal.reflect.NativeConstructorAccessorImpl.newInstance0(Native Method)\\n\\tat java.base/jdk.internal.reflect.NativeConstructorAccessorImpl.newInstance(NativeConstructorAccessorImpl.java:62)\\n\\tat java.base/jdk.internal.reflect.DelegatingConstructorAccessorImpl.newInstance(DelegatingConstructorAccessorImpl.java:45)\\n\\tat java.base/java.lang.reflect.Constructor.newInstance(Constructor.java:490)\\n\\tat java.base/java.util.concurrent.ForkJoinTask.getThrowableException(ForkJoinTask.java:603)\\n\\tat java.base/java.util.concurrent.ForkJoinTask.get(ForkJoinTask.java:1064)\\n\\tat com.quartetfs.biz.pivot.impl.ActivePivotVersion$QueryExecutionTask.getWithQueriesTimeLimit(ActivePivotVersion.java:1471)\\n\\t... 103 more\\nCaused by: java.lang.OutOfMemoryError: Java heap space\\n'}})",
     "output_type": "error",
     "traceback": [
      "\u001b[0;31m---------------------------------------------------------------------------\u001b[0m",
      "\u001b[0;31mHTTPError\u001b[0m                                 Traceback (most recent call last)",
      "\u001b[0;32m~/miniconda3/envs/plus-0.3.0.20200326213325/lib/python3.7/site-packages/atoti/query/session.py\u001b[0m in \u001b[0;36m_execute_json_request\u001b[0;34m(self, url, body)\u001b[0m\n\u001b[1;32m     62\u001b[0m         \u001b[0;32mtry\u001b[0m\u001b[0;34m:\u001b[0m\u001b[0;34m\u001b[0m\u001b[0;34m\u001b[0m\u001b[0m\n\u001b[0;32m---> 63\u001b[0;31m             \u001b[0mresponse\u001b[0m \u001b[0;34m=\u001b[0m \u001b[0murlopen\u001b[0m\u001b[0;34m(\u001b[0m\u001b[0mrequest\u001b[0m\u001b[0;34m)\u001b[0m  \u001b[0;31m# nosec\u001b[0m\u001b[0;34m\u001b[0m\u001b[0;34m\u001b[0m\u001b[0m\n\u001b[0m\u001b[1;32m     64\u001b[0m             \u001b[0;32mreturn\u001b[0m \u001b[0mjson\u001b[0m\u001b[0;34m.\u001b[0m\u001b[0mloads\u001b[0m\u001b[0;34m(\u001b[0m\u001b[0mresponse\u001b[0m\u001b[0;34m.\u001b[0m\u001b[0mread\u001b[0m\u001b[0;34m(\u001b[0m\u001b[0;34m)\u001b[0m\u001b[0;34m.\u001b[0m\u001b[0mdecode\u001b[0m\u001b[0;34m(\u001b[0m\u001b[0;34m\"utf8\"\u001b[0m\u001b[0;34m)\u001b[0m\u001b[0;34m)\u001b[0m\u001b[0;34m\u001b[0m\u001b[0;34m\u001b[0m\u001b[0m\n",
      "\u001b[0;32m~/miniconda3/envs/plus-0.3.0.20200326213325/lib/python3.7/urllib/request.py\u001b[0m in \u001b[0;36murlopen\u001b[0;34m(url, data, timeout, cafile, capath, cadefault, context)\u001b[0m\n\u001b[1;32m    221\u001b[0m         \u001b[0mopener\u001b[0m \u001b[0;34m=\u001b[0m \u001b[0m_opener\u001b[0m\u001b[0;34m\u001b[0m\u001b[0;34m\u001b[0m\u001b[0m\n\u001b[0;32m--> 222\u001b[0;31m     \u001b[0;32mreturn\u001b[0m \u001b[0mopener\u001b[0m\u001b[0;34m.\u001b[0m\u001b[0mopen\u001b[0m\u001b[0;34m(\u001b[0m\u001b[0murl\u001b[0m\u001b[0;34m,\u001b[0m \u001b[0mdata\u001b[0m\u001b[0;34m,\u001b[0m \u001b[0mtimeout\u001b[0m\u001b[0;34m)\u001b[0m\u001b[0;34m\u001b[0m\u001b[0;34m\u001b[0m\u001b[0m\n\u001b[0m\u001b[1;32m    223\u001b[0m \u001b[0;34m\u001b[0m\u001b[0m\n",
      "\u001b[0;32m~/miniconda3/envs/plus-0.3.0.20200326213325/lib/python3.7/urllib/request.py\u001b[0m in \u001b[0;36mopen\u001b[0;34m(self, fullurl, data, timeout)\u001b[0m\n\u001b[1;32m    530\u001b[0m             \u001b[0mmeth\u001b[0m \u001b[0;34m=\u001b[0m \u001b[0mgetattr\u001b[0m\u001b[0;34m(\u001b[0m\u001b[0mprocessor\u001b[0m\u001b[0;34m,\u001b[0m \u001b[0mmeth_name\u001b[0m\u001b[0;34m)\u001b[0m\u001b[0;34m\u001b[0m\u001b[0;34m\u001b[0m\u001b[0m\n\u001b[0;32m--> 531\u001b[0;31m             \u001b[0mresponse\u001b[0m \u001b[0;34m=\u001b[0m \u001b[0mmeth\u001b[0m\u001b[0;34m(\u001b[0m\u001b[0mreq\u001b[0m\u001b[0;34m,\u001b[0m \u001b[0mresponse\u001b[0m\u001b[0;34m)\u001b[0m\u001b[0;34m\u001b[0m\u001b[0;34m\u001b[0m\u001b[0m\n\u001b[0m\u001b[1;32m    532\u001b[0m \u001b[0;34m\u001b[0m\u001b[0m\n",
      "\u001b[0;32m~/miniconda3/envs/plus-0.3.0.20200326213325/lib/python3.7/urllib/request.py\u001b[0m in \u001b[0;36mhttp_response\u001b[0;34m(self, request, response)\u001b[0m\n\u001b[1;32m    640\u001b[0m             response = self.parent.error(\n\u001b[0;32m--> 641\u001b[0;31m                 'http', request, response, code, msg, hdrs)\n\u001b[0m\u001b[1;32m    642\u001b[0m \u001b[0;34m\u001b[0m\u001b[0m\n",
      "\u001b[0;32m~/miniconda3/envs/plus-0.3.0.20200326213325/lib/python3.7/urllib/request.py\u001b[0m in \u001b[0;36merror\u001b[0;34m(self, proto, *args)\u001b[0m\n\u001b[1;32m    568\u001b[0m             \u001b[0margs\u001b[0m \u001b[0;34m=\u001b[0m \u001b[0;34m(\u001b[0m\u001b[0mdict\u001b[0m\u001b[0;34m,\u001b[0m \u001b[0;34m'default'\u001b[0m\u001b[0;34m,\u001b[0m \u001b[0;34m'http_error_default'\u001b[0m\u001b[0;34m)\u001b[0m \u001b[0;34m+\u001b[0m \u001b[0morig_args\u001b[0m\u001b[0;34m\u001b[0m\u001b[0;34m\u001b[0m\u001b[0m\n\u001b[0;32m--> 569\u001b[0;31m             \u001b[0;32mreturn\u001b[0m \u001b[0mself\u001b[0m\u001b[0;34m.\u001b[0m\u001b[0m_call_chain\u001b[0m\u001b[0;34m(\u001b[0m\u001b[0;34m*\u001b[0m\u001b[0margs\u001b[0m\u001b[0;34m)\u001b[0m\u001b[0;34m\u001b[0m\u001b[0;34m\u001b[0m\u001b[0m\n\u001b[0m\u001b[1;32m    570\u001b[0m \u001b[0;34m\u001b[0m\u001b[0m\n",
      "\u001b[0;32m~/miniconda3/envs/plus-0.3.0.20200326213325/lib/python3.7/urllib/request.py\u001b[0m in \u001b[0;36m_call_chain\u001b[0;34m(self, chain, kind, meth_name, *args)\u001b[0m\n\u001b[1;32m    502\u001b[0m             \u001b[0mfunc\u001b[0m \u001b[0;34m=\u001b[0m \u001b[0mgetattr\u001b[0m\u001b[0;34m(\u001b[0m\u001b[0mhandler\u001b[0m\u001b[0;34m,\u001b[0m \u001b[0mmeth_name\u001b[0m\u001b[0;34m)\u001b[0m\u001b[0;34m\u001b[0m\u001b[0;34m\u001b[0m\u001b[0m\n\u001b[0;32m--> 503\u001b[0;31m             \u001b[0mresult\u001b[0m \u001b[0;34m=\u001b[0m \u001b[0mfunc\u001b[0m\u001b[0;34m(\u001b[0m\u001b[0;34m*\u001b[0m\u001b[0margs\u001b[0m\u001b[0;34m)\u001b[0m\u001b[0;34m\u001b[0m\u001b[0;34m\u001b[0m\u001b[0m\n\u001b[0m\u001b[1;32m    504\u001b[0m             \u001b[0;32mif\u001b[0m \u001b[0mresult\u001b[0m \u001b[0;32mis\u001b[0m \u001b[0;32mnot\u001b[0m \u001b[0;32mNone\u001b[0m\u001b[0;34m:\u001b[0m\u001b[0;34m\u001b[0m\u001b[0;34m\u001b[0m\u001b[0m\n",
      "\u001b[0;32m~/miniconda3/envs/plus-0.3.0.20200326213325/lib/python3.7/urllib/request.py\u001b[0m in \u001b[0;36mhttp_error_default\u001b[0;34m(self, req, fp, code, msg, hdrs)\u001b[0m\n\u001b[1;32m    648\u001b[0m     \u001b[0;32mdef\u001b[0m \u001b[0mhttp_error_default\u001b[0m\u001b[0;34m(\u001b[0m\u001b[0mself\u001b[0m\u001b[0;34m,\u001b[0m \u001b[0mreq\u001b[0m\u001b[0;34m,\u001b[0m \u001b[0mfp\u001b[0m\u001b[0;34m,\u001b[0m \u001b[0mcode\u001b[0m\u001b[0;34m,\u001b[0m \u001b[0mmsg\u001b[0m\u001b[0;34m,\u001b[0m \u001b[0mhdrs\u001b[0m\u001b[0;34m)\u001b[0m\u001b[0;34m:\u001b[0m\u001b[0;34m\u001b[0m\u001b[0;34m\u001b[0m\u001b[0m\n\u001b[0;32m--> 649\u001b[0;31m         \u001b[0;32mraise\u001b[0m \u001b[0mHTTPError\u001b[0m\u001b[0;34m(\u001b[0m\u001b[0mreq\u001b[0m\u001b[0;34m.\u001b[0m\u001b[0mfull_url\u001b[0m\u001b[0;34m,\u001b[0m \u001b[0mcode\u001b[0m\u001b[0;34m,\u001b[0m \u001b[0mmsg\u001b[0m\u001b[0;34m,\u001b[0m \u001b[0mhdrs\u001b[0m\u001b[0;34m,\u001b[0m \u001b[0mfp\u001b[0m\u001b[0;34m)\u001b[0m\u001b[0;34m\u001b[0m\u001b[0;34m\u001b[0m\u001b[0m\n\u001b[0m\u001b[1;32m    650\u001b[0m \u001b[0;34m\u001b[0m\u001b[0m\n",
      "\u001b[0;31mHTTPError\u001b[0m: HTTP Error 400: ",
      "\nDuring handling of the above exception, another exception occurred:\n",
      "\u001b[0;31mRuntimeError\u001b[0m                              Traceback (most recent call last)",
      "\u001b[0;32m<ipython-input-31-5d2c33c24266>\u001b[0m in \u001b[0;36m<module>\u001b[0;34m\u001b[0m\n\u001b[0;32m----> 1\u001b[0;31m \u001b[0mget_ipython\u001b[0m\u001b[0;34m(\u001b[0m\u001b[0;34m)\u001b[0m\u001b[0;34m.\u001b[0m\u001b[0mrun_cell_magic\u001b[0m\u001b[0;34m(\u001b[0m\u001b[0;34m'timeit'\u001b[0m\u001b[0;34m,\u001b[0m \u001b[0;34m''\u001b[0m\u001b[0;34m,\u001b[0m \u001b[0;34m'cube.query(m[\\'Delta Margin\\'], condition = lvl[\\'PortfolioID\\']==\"Bigger_Portfolio\", timeout=90)\\n'\u001b[0m\u001b[0;34m)\u001b[0m\u001b[0;34m\u001b[0m\u001b[0;34m\u001b[0m\u001b[0m\n\u001b[0m",
      "\u001b[0;32m~/miniconda3/envs/plus-0.3.0.20200326213325/lib/python3.7/site-packages/IPython/core/interactiveshell.py\u001b[0m in \u001b[0;36mrun_cell_magic\u001b[0;34m(self, magic_name, line, cell)\u001b[0m\n\u001b[1;32m   2360\u001b[0m             \u001b[0;32mwith\u001b[0m \u001b[0mself\u001b[0m\u001b[0;34m.\u001b[0m\u001b[0mbuiltin_trap\u001b[0m\u001b[0;34m:\u001b[0m\u001b[0;34m\u001b[0m\u001b[0;34m\u001b[0m\u001b[0m\n\u001b[1;32m   2361\u001b[0m                 \u001b[0margs\u001b[0m \u001b[0;34m=\u001b[0m \u001b[0;34m(\u001b[0m\u001b[0mmagic_arg_s\u001b[0m\u001b[0;34m,\u001b[0m \u001b[0mcell\u001b[0m\u001b[0;34m)\u001b[0m\u001b[0;34m\u001b[0m\u001b[0;34m\u001b[0m\u001b[0m\n\u001b[0;32m-> 2362\u001b[0;31m                 \u001b[0mresult\u001b[0m \u001b[0;34m=\u001b[0m \u001b[0mfn\u001b[0m\u001b[0;34m(\u001b[0m\u001b[0;34m*\u001b[0m\u001b[0margs\u001b[0m\u001b[0;34m,\u001b[0m \u001b[0;34m**\u001b[0m\u001b[0mkwargs\u001b[0m\u001b[0;34m)\u001b[0m\u001b[0;34m\u001b[0m\u001b[0;34m\u001b[0m\u001b[0m\n\u001b[0m\u001b[1;32m   2363\u001b[0m             \u001b[0;32mreturn\u001b[0m \u001b[0mresult\u001b[0m\u001b[0;34m\u001b[0m\u001b[0;34m\u001b[0m\u001b[0m\n\u001b[1;32m   2364\u001b[0m \u001b[0;34m\u001b[0m\u001b[0m\n",
      "\u001b[0;32m<decorator-gen-60>\u001b[0m in \u001b[0;36mtimeit\u001b[0;34m(self, line, cell, local_ns)\u001b[0m\n",
      "\u001b[0;32m~/miniconda3/envs/plus-0.3.0.20200326213325/lib/python3.7/site-packages/IPython/core/magic.py\u001b[0m in \u001b[0;36m<lambda>\u001b[0;34m(f, *a, **k)\u001b[0m\n\u001b[1;32m    185\u001b[0m     \u001b[0;31m# but it's overkill for just that one bit of state.\u001b[0m\u001b[0;34m\u001b[0m\u001b[0;34m\u001b[0m\u001b[0;34m\u001b[0m\u001b[0m\n\u001b[1;32m    186\u001b[0m     \u001b[0;32mdef\u001b[0m \u001b[0mmagic_deco\u001b[0m\u001b[0;34m(\u001b[0m\u001b[0marg\u001b[0m\u001b[0;34m)\u001b[0m\u001b[0;34m:\u001b[0m\u001b[0;34m\u001b[0m\u001b[0;34m\u001b[0m\u001b[0m\n\u001b[0;32m--> 187\u001b[0;31m         \u001b[0mcall\u001b[0m \u001b[0;34m=\u001b[0m \u001b[0;32mlambda\u001b[0m \u001b[0mf\u001b[0m\u001b[0;34m,\u001b[0m \u001b[0;34m*\u001b[0m\u001b[0ma\u001b[0m\u001b[0;34m,\u001b[0m \u001b[0;34m**\u001b[0m\u001b[0mk\u001b[0m\u001b[0;34m:\u001b[0m \u001b[0mf\u001b[0m\u001b[0;34m(\u001b[0m\u001b[0;34m*\u001b[0m\u001b[0ma\u001b[0m\u001b[0;34m,\u001b[0m \u001b[0;34m**\u001b[0m\u001b[0mk\u001b[0m\u001b[0;34m)\u001b[0m\u001b[0;34m\u001b[0m\u001b[0;34m\u001b[0m\u001b[0m\n\u001b[0m\u001b[1;32m    188\u001b[0m \u001b[0;34m\u001b[0m\u001b[0m\n\u001b[1;32m    189\u001b[0m         \u001b[0;32mif\u001b[0m \u001b[0mcallable\u001b[0m\u001b[0;34m(\u001b[0m\u001b[0marg\u001b[0m\u001b[0;34m)\u001b[0m\u001b[0;34m:\u001b[0m\u001b[0;34m\u001b[0m\u001b[0;34m\u001b[0m\u001b[0m\n",
      "\u001b[0;32m~/miniconda3/envs/plus-0.3.0.20200326213325/lib/python3.7/site-packages/IPython/core/magics/execution.py\u001b[0m in \u001b[0;36mtimeit\u001b[0;34m(self, line, cell, local_ns)\u001b[0m\n\u001b[1;32m   1158\u001b[0m             \u001b[0;32mfor\u001b[0m \u001b[0mindex\u001b[0m \u001b[0;32min\u001b[0m \u001b[0mrange\u001b[0m\u001b[0;34m(\u001b[0m\u001b[0;36m0\u001b[0m\u001b[0;34m,\u001b[0m \u001b[0;36m10\u001b[0m\u001b[0;34m)\u001b[0m\u001b[0;34m:\u001b[0m\u001b[0;34m\u001b[0m\u001b[0;34m\u001b[0m\u001b[0m\n\u001b[1;32m   1159\u001b[0m                 \u001b[0mnumber\u001b[0m \u001b[0;34m=\u001b[0m \u001b[0;36m10\u001b[0m \u001b[0;34m**\u001b[0m \u001b[0mindex\u001b[0m\u001b[0;34m\u001b[0m\u001b[0;34m\u001b[0m\u001b[0m\n\u001b[0;32m-> 1160\u001b[0;31m                 \u001b[0mtime_number\u001b[0m \u001b[0;34m=\u001b[0m \u001b[0mtimer\u001b[0m\u001b[0;34m.\u001b[0m\u001b[0mtimeit\u001b[0m\u001b[0;34m(\u001b[0m\u001b[0mnumber\u001b[0m\u001b[0;34m)\u001b[0m\u001b[0;34m\u001b[0m\u001b[0;34m\u001b[0m\u001b[0m\n\u001b[0m\u001b[1;32m   1161\u001b[0m                 \u001b[0;32mif\u001b[0m \u001b[0mtime_number\u001b[0m \u001b[0;34m>=\u001b[0m \u001b[0;36m0.2\u001b[0m\u001b[0;34m:\u001b[0m\u001b[0;34m\u001b[0m\u001b[0;34m\u001b[0m\u001b[0m\n\u001b[1;32m   1162\u001b[0m                     \u001b[0;32mbreak\u001b[0m\u001b[0;34m\u001b[0m\u001b[0;34m\u001b[0m\u001b[0m\n",
      "\u001b[0;32m~/miniconda3/envs/plus-0.3.0.20200326213325/lib/python3.7/site-packages/IPython/core/magics/execution.py\u001b[0m in \u001b[0;36mtimeit\u001b[0;34m(self, number)\u001b[0m\n\u001b[1;32m    167\u001b[0m         \u001b[0mgc\u001b[0m\u001b[0;34m.\u001b[0m\u001b[0mdisable\u001b[0m\u001b[0;34m(\u001b[0m\u001b[0;34m)\u001b[0m\u001b[0;34m\u001b[0m\u001b[0;34m\u001b[0m\u001b[0m\n\u001b[1;32m    168\u001b[0m         \u001b[0;32mtry\u001b[0m\u001b[0;34m:\u001b[0m\u001b[0;34m\u001b[0m\u001b[0;34m\u001b[0m\u001b[0m\n\u001b[0;32m--> 169\u001b[0;31m             \u001b[0mtiming\u001b[0m \u001b[0;34m=\u001b[0m \u001b[0mself\u001b[0m\u001b[0;34m.\u001b[0m\u001b[0minner\u001b[0m\u001b[0;34m(\u001b[0m\u001b[0mit\u001b[0m\u001b[0;34m,\u001b[0m \u001b[0mself\u001b[0m\u001b[0;34m.\u001b[0m\u001b[0mtimer\u001b[0m\u001b[0;34m)\u001b[0m\u001b[0;34m\u001b[0m\u001b[0;34m\u001b[0m\u001b[0m\n\u001b[0m\u001b[1;32m    170\u001b[0m         \u001b[0;32mfinally\u001b[0m\u001b[0;34m:\u001b[0m\u001b[0;34m\u001b[0m\u001b[0;34m\u001b[0m\u001b[0m\n\u001b[1;32m    171\u001b[0m             \u001b[0;32mif\u001b[0m \u001b[0mgcold\u001b[0m\u001b[0;34m:\u001b[0m\u001b[0;34m\u001b[0m\u001b[0;34m\u001b[0m\u001b[0m\n",
      "\u001b[0;32m<magic-timeit>\u001b[0m in \u001b[0;36minner\u001b[0;34m(_it, _timer)\u001b[0m\n",
      "\u001b[0;32m~/miniconda3/envs/plus-0.3.0.20200326213325/lib/python3.7/site-packages/atoti/cube.py\u001b[0m in \u001b[0;36mquery\u001b[0;34m(self, levels, condition, scenario, timeout, *measures)\u001b[0m\n\u001b[1;32m    176\u001b[0m         \"\"\"\n\u001b[1;32m    177\u001b[0m         \u001b[0mmdx\u001b[0m \u001b[0;34m=\u001b[0m \u001b[0mself\u001b[0m\u001b[0;34m.\u001b[0m\u001b[0m_generate_mdx\u001b[0m\u001b[0;34m(\u001b[0m\u001b[0mmeasures\u001b[0m\u001b[0;34m,\u001b[0m \u001b[0mScenarioName\u001b[0m\u001b[0;34m(\u001b[0m\u001b[0mscenario\u001b[0m\u001b[0;34m)\u001b[0m\u001b[0;34m,\u001b[0m \u001b[0mlevels\u001b[0m\u001b[0;34m,\u001b[0m \u001b[0mcondition\u001b[0m\u001b[0;34m)\u001b[0m\u001b[0;34m\u001b[0m\u001b[0;34m\u001b[0m\u001b[0m\n\u001b[0;32m--> 178\u001b[0;31m         \u001b[0;32mreturn\u001b[0m \u001b[0mself\u001b[0m\u001b[0;34m.\u001b[0m\u001b[0m_session\u001b[0m\u001b[0;34m.\u001b[0m\u001b[0mquery_mdx\u001b[0m\u001b[0;34m(\u001b[0m\u001b[0mmdx\u001b[0m\u001b[0;34m,\u001b[0m \u001b[0mtimeout\u001b[0m\u001b[0;34m)\u001b[0m\u001b[0;34m\u001b[0m\u001b[0;34m\u001b[0m\u001b[0m\n\u001b[0m\u001b[1;32m    179\u001b[0m \u001b[0;34m\u001b[0m\u001b[0m\n\u001b[1;32m    180\u001b[0m     def explain_query(\n",
      "\u001b[0;32m~/miniconda3/envs/plus-0.3.0.20200326213325/lib/python3.7/site-packages/atoti/session.py\u001b[0m in \u001b[0;36mquery_mdx\u001b[0;34m(self, mdx, timeout)\u001b[0m\n\u001b[1;32m    616\u001b[0m             \u001b[0mmdx\u001b[0m\u001b[0;34m,\u001b[0m\u001b[0;34m\u001b[0m\u001b[0;34m\u001b[0m\u001b[0m\n\u001b[1;32m    617\u001b[0m             \u001b[0mtimeout\u001b[0m\u001b[0;34m,\u001b[0m\u001b[0;34m\u001b[0m\u001b[0;34m\u001b[0m\u001b[0m\n\u001b[0;32m--> 618\u001b[0;31m             get_level_data_types=lambda cube_name, level_coords: self.cubes[  # pylint: disable=protected-access\n\u001b[0m\u001b[1;32m    619\u001b[0m                 \u001b[0mcube_name\u001b[0m\u001b[0;34m\u001b[0m\u001b[0;34m\u001b[0m\u001b[0m\n\u001b[1;32m    620\u001b[0m             \u001b[0;34m]\u001b[0m\u001b[0;34m.\u001b[0m\u001b[0m_get_level_data_types\u001b[0m\u001b[0;34m(\u001b[0m\u001b[0;34m\u001b[0m\u001b[0;34m\u001b[0m\u001b[0m\n",
      "\u001b[0;32m~/miniconda3/envs/plus-0.3.0.20200326213325/lib/python3.7/site-packages/atoti/query/session.py\u001b[0m in \u001b[0;36mquery_mdx\u001b[0;34m(self, mdx, timeout, **kwargs)\u001b[0m\n\u001b[1;32m    106\u001b[0m             \u001b[0mcontext\u001b[0m\u001b[0;34m[\u001b[0m\u001b[0;34m\"queriesTimeLimit\"\u001b[0m\u001b[0;34m]\u001b[0m \u001b[0;34m=\u001b[0m \u001b[0mtimeout\u001b[0m\u001b[0;34m\u001b[0m\u001b[0;34m\u001b[0m\u001b[0m\n\u001b[1;32m    107\u001b[0m         \u001b[0mbody\u001b[0m\u001b[0;34m:\u001b[0m \u001b[0mDict\u001b[0m\u001b[0;34m[\u001b[0m\u001b[0mstr\u001b[0m\u001b[0;34m,\u001b[0m \u001b[0mUnion\u001b[0m\u001b[0;34m[\u001b[0m\u001b[0mstr\u001b[0m\u001b[0;34m,\u001b[0m \u001b[0m_Context\u001b[0m\u001b[0;34m]\u001b[0m\u001b[0;34m]\u001b[0m \u001b[0;34m=\u001b[0m \u001b[0;34m{\u001b[0m\u001b[0;34m\"context\"\u001b[0m\u001b[0;34m:\u001b[0m \u001b[0mcontext\u001b[0m\u001b[0;34m,\u001b[0m \u001b[0;34m\"mdx\"\u001b[0m\u001b[0;34m:\u001b[0m \u001b[0mmdx\u001b[0m\u001b[0;34m}\u001b[0m\u001b[0;34m\u001b[0m\u001b[0;34m\u001b[0m\u001b[0m\n\u001b[0;32m--> 108\u001b[0;31m         \u001b[0mresponse\u001b[0m \u001b[0;34m=\u001b[0m \u001b[0mself\u001b[0m\u001b[0;34m.\u001b[0m\u001b[0m_execute_json_request\u001b[0m\u001b[0;34m(\u001b[0m\u001b[0murl\u001b[0m\u001b[0;34m,\u001b[0m \u001b[0mbody\u001b[0m\u001b[0;34m)\u001b[0m\u001b[0;34m\u001b[0m\u001b[0;34m\u001b[0m\u001b[0m\n\u001b[0m\u001b[1;32m    109\u001b[0m         \u001b[0mcellset\u001b[0m \u001b[0;34m=\u001b[0m \u001b[0mCellset\u001b[0m\u001b[0;34m.\u001b[0m\u001b[0m_from_dict\u001b[0m\u001b[0;34m(\u001b[0m\u001b[0mresponse\u001b[0m\u001b[0;34m[\u001b[0m\u001b[0;34m\"data\"\u001b[0m\u001b[0;34m]\u001b[0m\u001b[0;34m)\u001b[0m\u001b[0;34m\u001b[0m\u001b[0;34m\u001b[0m\u001b[0m\n\u001b[1;32m    110\u001b[0m         \u001b[0mget_level_data_types\u001b[0m \u001b[0;34m=\u001b[0m \u001b[0mkwargs\u001b[0m\u001b[0;34m.\u001b[0m\u001b[0mget\u001b[0m\u001b[0;34m(\u001b[0m\u001b[0;34m\"get_level_data_types\"\u001b[0m\u001b[0;34m)\u001b[0m\u001b[0;34m\u001b[0m\u001b[0;34m\u001b[0m\u001b[0m\n",
      "\u001b[0;32m~/miniconda3/envs/plus-0.3.0.20200326213325/lib/python3.7/site-packages/atoti/query/session.py\u001b[0m in \u001b[0;36m_execute_json_request\u001b[0;34m(self, url, body)\u001b[0m\n\u001b[1;32m     66\u001b[0m             \u001b[0merror_json\u001b[0m \u001b[0;34m=\u001b[0m \u001b[0merror\u001b[0m\u001b[0;34m.\u001b[0m\u001b[0mread\u001b[0m\u001b[0;34m(\u001b[0m\u001b[0;34m)\u001b[0m\u001b[0;34m\u001b[0m\u001b[0;34m\u001b[0m\u001b[0m\n\u001b[1;32m     67\u001b[0m             \u001b[0merror_data\u001b[0m \u001b[0;34m=\u001b[0m \u001b[0mjson\u001b[0m\u001b[0;34m.\u001b[0m\u001b[0mloads\u001b[0m\u001b[0;34m(\u001b[0m\u001b[0merror_json\u001b[0m\u001b[0;34m)\u001b[0m\u001b[0;34m\u001b[0m\u001b[0;34m\u001b[0m\u001b[0m\n\u001b[0;32m---> 68\u001b[0;31m             \u001b[0;32mraise\u001b[0m \u001b[0mRuntimeError\u001b[0m\u001b[0;34m(\u001b[0m\u001b[0;34m\"Request failed\"\u001b[0m\u001b[0;34m,\u001b[0m \u001b[0merror_data\u001b[0m\u001b[0;34m)\u001b[0m\u001b[0;34m\u001b[0m\u001b[0;34m\u001b[0m\u001b[0m\n\u001b[0m\u001b[1;32m     69\u001b[0m \u001b[0;34m\u001b[0m\u001b[0m\n\u001b[1;32m     70\u001b[0m     \u001b[0;32mdef\u001b[0m \u001b[0m_fetch_version\u001b[0m\u001b[0;34m(\u001b[0m\u001b[0mself\u001b[0m\u001b[0;34m)\u001b[0m \u001b[0;34m->\u001b[0m \u001b[0mstr\u001b[0m\u001b[0;34m:\u001b[0m\u001b[0;34m\u001b[0m\u001b[0;34m\u001b[0m\u001b[0m\n",
      "\u001b[0;31mRuntimeError\u001b[0m: ('Request failed', {'status': 'error', 'error': {'errorChain': [{'type': 'OutOfMemoryError', 'message': 'Java heap space'}, {'type': 'OutOfMemoryError'}, {'type': 'QueryException', 'message': 'Could not execute query at epoch 5. : ActivePivotSyncActionQuery: action=MdxAction (mdx=SELECT [Measures].[Delta Margin] ON COLUMNS FROM (SELECT ([Hierarchies].[PortfolioID].[ALL].[AllMember].[Bigger_Portfolio]) ON COLUMNS FROM [Risks])), argument=com.quartetfs.pivot.mdx.impl.BasicSelectExecutor@1b7bc63c'}, {'type': 'MdxException', 'message': 'Error with the following query: SELECT [Measures].[Delta Margin] ON COLUMNS FROM (SELECT ([Hierarchies].[PortfolioID].[ALL].[AllMember].[Bigger_Portfolio]) ON COLUMNS FROM [Risks])'}, {'type': 'BadArgumentException', 'message': '[400] com.quartetfs.pivot.mdx.MdxException: Error with the following query: SELECT [Measures].[Delta Margin] ON COLUMNS FROM (SELECT ([Hierarchies].[PortfolioID].[ALL].[AllMember].[Bigger_Portfolio]) ON COLUMNS FROM [Risks])'}], 'stackTrace': 'com.qfs.fwk.services.BadArgumentException: [400] com.quartetfs.pivot.mdx.MdxException: Error with the following query: SELECT [Measures].[Delta Margin] ON COLUMNS FROM (SELECT ([Hierarchies].[PortfolioID].[ALL].[AllMember].[Bigger_Portfolio]) ON COLUMNS FROM [Risks])\\n\\tat com.qfs.pivot.rest.query.impl.JsonQueryService.executeQuery(JsonQueryService.java:216)\\n\\tat com.qfs.pivot.rest.query.impl.JsonQueryService.executeMdxQuery(JsonQueryService.java:109)\\n\\tat com.qfs.pivot.rest.query.impl.QueriesRestService.mdxQuery(QueriesRestService.java:66)\\n\\tat java.base/jdk.internal.reflect.NativeMethodAccessorImpl.invoke0(Native Method)\\n\\tat java.base/jdk.internal.reflect.NativeMethodAccessorImpl.invoke(NativeMethodAccessorImpl.java:62)\\n\\tat java.base/jdk.internal.reflect.DelegatingMethodAccessorImpl.invoke(DelegatingMethodAccessorImpl.java:43)\\n\\tat java.base/java.lang.reflect.Method.invoke(Method.java:566)\\n\\tat org.apache.cxf.service.invoker.AbstractInvoker.performInvocation(AbstractInvoker.java:179)\\n\\tat org.apache.cxf.service.invoker.AbstractInvoker.invoke(AbstractInvoker.java:96)\\n\\tat org.apache.cxf.jaxrs.JAXRSInvoker.invoke(JAXRSInvoker.java:193)\\n\\tat org.apache.cxf.jaxrs.JAXRSInvoker.invoke(JAXRSInvoker.java:103)\\n\\tat org.apache.cxf.interceptor.ServiceInvokerInterceptor$1.run(ServiceInvokerInterceptor.java:59)\\n\\tat org.apache.cxf.interceptor.ServiceInvokerInterceptor.handleMessage(ServiceInvokerInterceptor.java:96)\\n\\tat org.apache.cxf.phase.PhaseInterceptorChain.doIntercept(PhaseInterceptorChain.java:308)\\n\\tat org.apache.cxf.transport.ChainInitiationObserver.onMessage(ChainInitiationObserver.java:121)\\n\\tat org.apache.cxf.transport.http.AbstractHTTPDestination.invoke(AbstractHTTPDestination.java:267)\\n\\tat org.apache.cxf.transport.servlet.ServletController.invokeDestination(ServletController.java:234)\\n\\tat org.apache.cxf.transport.servlet.ServletController.invoke(ServletController.java:208)\\n\\tat org.apache.cxf.transport.servlet.ServletController.invoke(ServletController.java:160)\\n\\tat org.apache.cxf.transport.servlet.CXFNonSpringServlet.invoke(CXFNonSpringServlet.java:216)\\n\\tat org.apache.cxf.transport.servlet.AbstractHTTPServlet.handleRequest(AbstractHTTPServlet.java:301)\\n\\tat org.apache.cxf.transport.servlet.AbstractHTTPServlet.doPost(AbstractHTTPServlet.java:220)\\n\\tat javax.servlet.http.HttpServlet.service(HttpServlet.java:660)\\n\\tat org.apache.cxf.transport.servlet.AbstractHTTPServlet.service(AbstractHTTPServlet.java:276)\\n\\tat org.springframework.web.servlet.mvc.ServletWrappingController.handleRequestInternal(ServletWrappingController.java:166)\\n\\tat org.springframework.web.servlet.mvc.AbstractController.handleRequest(AbstractController.java:177)\\n\\tat org.springframework.web.servlet.mvc.SimpleControllerHandlerAdapter.handle(SimpleControllerHandlerAdapter.java:52)\\n\\tat org.springframework.web.servlet.DispatcherServlet.doDispatch(DispatcherServlet.java:1040)\\n\\tat org.springframework.web.servlet.DispatcherServlet.doService(DispatcherServlet.java:943)\\n\\tat org.springframework.web.servlet.FrameworkServlet.processRequest(FrameworkServlet.java:1006)\\n\\tat org.springframework.web.servlet.FrameworkServlet.doPost(FrameworkServlet.java:909)\\n\\tat javax.servlet.http.HttpServlet.service(HttpServlet.java:660)\\n\\tat org.springframework.web.servlet.FrameworkServlet.service(FrameworkServlet.java:883)\\n\\tat javax.servlet.http.HttpServlet.service(HttpServlet.java:741)\\n\\tat org.apache.catalina.core.ApplicationFilterChain.internalDoFilter(ApplicationFilterChain.java:231)\\n\\tat org.apache.catalina.core.ApplicationFilterChain.doFilter(ApplicationFilterChain.java:166)\\n\\tat org.apache.tomcat.websocket.server.WsFilter.doFilter(WsFilter.java:53)\\n\\tat org.apache.catalina.core.ApplicationFilterChain.internalDoFilter(ApplicationFilterChain.java:193)\\n\\tat org.apache.catalina.core.ApplicationFilterChain.doFilter(ApplicationFilterChain.java:166)\\n\\tat com.qfs.security.impl.SpringCorsFilter.handleNonCORS(SpringCorsFilter.java:437)\\n\\tat com.qfs.security.impl.SpringCorsFilter.doFilter(SpringCorsFilter.java:168)\\n\\tat org.apache.catalina.core.ApplicationFilterChain.internalDoFilter(ApplicationFilterChain.java:193)\\n\\tat org.apache.catalina.core.ApplicationFilterChain.doFilter(ApplicationFilterChain.java:166)\\n\\tat org.springframework.security.web.FilterChainProxy$VirtualFilterChain.doFilter(FilterChainProxy.java:320)\\n\\tat com.qfs.pivot.servlet.impl.ContextValueFilter.doFilter(ContextValueFilter.java:69)\\n\\tat org.springframework.security.web.FilterChainProxy$VirtualFilterChain.doFilter(FilterChainProxy.java:334)\\n\\tat org.springframework.security.web.access.intercept.FilterSecurityInterceptor.invoke(FilterSecurityInterceptor.java:126)\\n\\tat org.springframework.security.web.access.intercept.FilterSecurityInterceptor.doFilter(FilterSecurityInterceptor.java:90)\\n\\tat org.springframework.security.web.FilterChainProxy$VirtualFilterChain.doFilter(FilterChainProxy.java:334)\\n\\tat org.springframework.security.web.access.ExceptionTranslationFilter.doFilter(ExceptionTranslationFilter.java:118)\\n\\tat org.springframework.security.web.FilterChainProxy$VirtualFilterChain.doFilter(FilterChainProxy.java:334)\\n\\tat org.springframework.security.web.session.SessionManagementFilter.doFilter(SessionManagementFilter.java:137)\\n\\tat org.springframework.security.web.FilterChainProxy$VirtualFilterChain.doFilter(FilterChainProxy.java:334)\\n\\tat org.springframework.security.web.authentication.AnonymousAuthenticationFilter.doFilter(AnonymousAuthenticationFilter.java:111)\\n\\tat org.springframework.security.web.FilterChainProxy$VirtualFilterChain.doFilter(FilterChainProxy.java:334)\\n\\tat org.springframework.security.web.servletapi.SecurityContextHolderAwareRequestFilter.doFilter(SecurityContextHolderAwareRequestFilter.java:158)\\n\\tat org.springframework.security.web.FilterChainProxy$VirtualFilterChain.doFilter(FilterChainProxy.java:334)\\n\\tat org.springframework.security.web.savedrequest.RequestCacheAwareFilter.doFilter(RequestCacheAwareFilter.java:63)\\n\\tat org.springframework.security.web.FilterChainProxy$VirtualFilterChain.doFilter(FilterChainProxy.java:334)\\n\\tat org.springframework.security.web.authentication.logout.LogoutFilter.doFilter(LogoutFilter.java:116)\\n\\tat org.springframework.security.web.FilterChainProxy$VirtualFilterChain.doFilter(FilterChainProxy.java:334)\\n\\tat org.springframework.security.web.header.HeaderWriterFilter.doHeadersAfter(HeaderWriterFilter.java:92)\\n\\tat org.springframework.security.web.header.HeaderWriterFilter.doFilterInternal(HeaderWriterFilter.java:77)\\n\\tat org.springframework.web.filter.OncePerRequestFilter.doFilter(OncePerRequestFilter.java:119)\\n\\tat org.springframework.security.web.FilterChainProxy$VirtualFilterChain.doFilter(FilterChainProxy.java:334)\\n\\tat org.springframework.security.web.context.SecurityContextPersistenceFilter.doFilter(SecurityContextPersistenceFilter.java:105)\\n\\tat org.springframework.security.web.FilterChainProxy$VirtualFilterChain.doFilter(FilterChainProxy.java:334)\\n\\tat org.springframework.security.web.context.request.async.WebAsyncManagerIntegrationFilter.doFilterInternal(WebAsyncManagerIntegrationFilter.java:56)\\n\\tat org.springframework.web.filter.OncePerRequestFilter.doFilter(OncePerRequestFilter.java:119)\\n\\tat org.springframework.security.web.FilterChainProxy$VirtualFilterChain.doFilter(FilterChainProxy.java:334)\\n\\tat org.springframework.security.web.FilterChainProxy.doFilterInternal(FilterChainProxy.java:215)\\n\\tat org.springframework.security.web.FilterChainProxy.doFilter(FilterChainProxy.java:178)\\n\\tat org.springframework.web.filter.DelegatingFilterProxy.invokeDelegate(DelegatingFilterProxy.java:358)\\n\\tat org.springframework.web.filter.DelegatingFilterProxy.doFilter(DelegatingFilterProxy.java:271)\\n\\tat org.apache.catalina.core.ApplicationFilterChain.internalDoFilter(ApplicationFilterChain.java:193)\\n\\tat org.apache.catalina.core.ApplicationFilterChain.doFilter(ApplicationFilterChain.java:166)\\n\\tat org.springframework.web.filter.CharacterEncodingFilter.doFilterInternal(CharacterEncodingFilter.java:201)\\n\\tat org.springframework.web.filter.OncePerRequestFilter.doFilter(OncePerRequestFilter.java:119)\\n\\tat org.apache.catalina.core.ApplicationFilterChain.internalDoFilter(ApplicationFilterChain.java:193)\\n\\tat org.apache.catalina.core.ApplicationFilterChain.doFilter(ApplicationFilterChain.java:166)\\n\\tat org.apache.catalina.core.StandardWrapperValve.invoke(StandardWrapperValve.java:202)\\n\\tat org.apache.catalina.core.StandardContextValve.invoke(StandardContextValve.java:96)\\n\\tat org.apache.catalina.authenticator.AuthenticatorBase.invoke(AuthenticatorBase.java:526)\\n\\tat org.apache.catalina.core.StandardHostValve.invoke(StandardHostValve.java:139)\\n\\tat org.apache.catalina.valves.ErrorReportValve.invoke(ErrorReportValve.java:92)\\n\\tat org.apache.catalina.core.StandardEngineValve.invoke(StandardEngineValve.java:74)\\n\\tat org.apache.catalina.connector.CoyoteAdapter.service(CoyoteAdapter.java:343)\\n\\tat org.apache.coyote.http11.Http11Processor.service(Http11Processor.java:367)\\n\\tat org.apache.coyote.AbstractProcessorLight.process(AbstractProcessorLight.java:65)\\n\\tat org.apache.coyote.AbstractProtocol$ConnectionHandler.process(AbstractProtocol.java:860)\\n\\tat org.apache.tomcat.util.net.NioEndpoint$SocketProcessor.doRun(NioEndpoint.java:1591)\\n\\tat org.apache.tomcat.util.net.SocketProcessorBase.run(SocketProcessorBase.java:49)\\n\\tat java.base/java.util.concurrent.ThreadPoolExecutor.runWorker(ThreadPoolExecutor.java:1128)\\n\\tat java.base/java.util.concurrent.ThreadPoolExecutor$Worker.run(ThreadPoolExecutor.java:628)\\n\\tat org.apache.tomcat.util.threads.TaskThread$WrappingRunnable.run(TaskThread.java:61)\\n\\tat java.base/java.lang.Thread.run(Thread.java:834)\\nCaused by: com.quartetfs.pivot.mdx.MdxException: Error with the following query: SELECT [Measures].[Delta Margin] ON COLUMNS FROM (SELECT ([Hierarchies].[PortfolioID].[ALL].[AllMember].[Bigger_Portfolio]) ON COLUMNS FROM [Risks])\\n\\tat com.quartetfs.pivot.mdx.impl.ASelectStatementExecutor.executeAfterParse(ASelectStatementExecutor.java:426)\\n\\tat com.quartetfs.pivot.mdx.impl.ASelectStatementExecutor.executeAfterParse(ASelectStatementExecutor.java:408)\\n\\tat com.quartetfs.pivot.mdx.impl.ASelectStatementExecutor.execute(ASelectStatementExecutor.java:397)\\n\\tat com.qfs.pivot.rest.query.impl.JsonQueryService$JsonSelectExecutor.execute(JsonQueryService.java:299)\\n\\tat com.qfs.pivot.rest.query.impl.JsonQueryService$JsonSelectExecutor.execute(JsonQueryService.java:277)\\n\\tat com.qfs.pivot.rest.query.impl.JsonQueryService.executeQuery(JsonQueryService.java:211)\\n\\t... 95 more\\nCaused by: com.quartetfs.fwk.query.QueryException: Could not execute query at epoch 5. : ActivePivotSyncActionQuery: action=MdxAction (mdx=SELECT [Measures].[Delta Margin] ON COLUMNS FROM (SELECT ([Hierarchies].[PortfolioID].[ALL].[AllMember].[Bigger_Portfolio]) ON COLUMNS FROM [Risks])), argument=com.quartetfs.pivot.mdx.impl.BasicSelectExecutor@1b7bc63c\\n\\tat com.quartetfs.biz.pivot.impl.ActivePivotVersion$QueryExecutionTask.getWithQueriesTimeLimit(ActivePivotVersion.java:1500)\\n\\tat com.quartetfs.biz.pivot.impl.ActivePivotVersion.execute(ActivePivotVersion.java:916)\\n\\tat com.quartetfs.biz.pivot.query.impl.ActivePivotSyncUtils.activePivotSyncExec(ActivePivotSyncUtils.java:94)\\n\\tat com.quartetfs.pivot.mdx.impl.ASelectStatementExecutor.executeAfterParse(ASelectStatementExecutor.java:424)\\n\\t... 100 more\\nCaused by: java.lang.OutOfMemoryError\\n\\tat java.base/jdk.internal.reflect.NativeConstructorAccessorImpl.newInstance0(Native Method)\\n\\tat java.base/jdk.internal.reflect.NativeConstructorAccessorImpl.newInstance(NativeConstructorAccessorImpl.java:62)\\n\\tat java.base/jdk.internal.reflect.DelegatingConstructorAccessorImpl.newInstance(DelegatingConstructorAccessorImpl.java:45)\\n\\tat java.base/java.lang.reflect.Constructor.newInstance(Constructor.java:490)\\n\\tat java.base/java.util.concurrent.ForkJoinTask.getThrowableException(ForkJoinTask.java:603)\\n\\tat java.base/java.util.concurrent.ForkJoinTask.get(ForkJoinTask.java:1064)\\n\\tat com.quartetfs.biz.pivot.impl.ActivePivotVersion$QueryExecutionTask.getWithQueriesTimeLimit(ActivePivotVersion.java:1471)\\n\\t... 103 more\\nCaused by: java.lang.OutOfMemoryError: Java heap space\\n'}})"
     ]
    }
   ],
   "source": [
    "%%timeit\n",
    "cube.query(m['Delta Margin'], condition = lvl['PortfolioID']==\"Bigger_Portfolio\", timeout=90)"
   ]
  },
  {
   "cell_type": "code",
   "execution_count": 32,
   "metadata": {},
   "outputs": [
    {
     "name": "stdout",
     "output_type": "stream",
     "text": [
      "61.1 ms ± 4.54 ms per loop (mean ± std. dev. of 7 runs, 10 loops each)\n"
     ]
    }
   ],
   "source": [
    "%%timeit\n",
    "cube.query(m['Delta Margin alternative'], condition = lvl['PortfolioID']==\"Smaller_Portfolio\")"
   ]
  },
  {
   "cell_type": "code",
   "execution_count": 33,
   "metadata": {},
   "outputs": [
    {
     "name": "stdout",
     "output_type": "stream",
     "text": [
      "54.2 ms ± 5.22 ms per loop (mean ± std. dev. of 7 runs, 10 loops each)\n"
     ]
    }
   ],
   "source": [
    "%%timeit\n",
    "cube.query(m['Delta Margin alternative'], condition = lvl['PortfolioID']==\"Bigger_Portfolio\")"
   ]
  }
 ],
 "metadata": {
  "kernelspec": {
   "display_name": "Python 3",
   "language": "python",
   "name": "python3"
  },
  "language_info": {
   "codemirror_mode": {
    "name": "ipython",
    "version": 3
   },
   "file_extension": ".py",
   "mimetype": "text/x-python",
   "name": "python",
   "nbconvert_exporter": "python",
   "pygments_lexer": "ipython3",
   "version": "3.7.6"
  },
  "latex_envs": {
   "LaTeX_envs_menu_present": true,
   "autoclose": false,
   "autocomplete": true,
   "bibliofile": "biblio.bib",
   "cite_by": "apalike",
   "current_citInitial": 1,
   "eqLabelWithNumbers": true,
   "eqNumInitial": 1,
   "hotkeys": {
    "equation": "Ctrl-E",
    "itemize": "Ctrl-I"
   },
   "labels_anchors": false,
   "latex_user_defs": false,
   "report_style_numbering": false,
   "user_envs_cfg": false
  },
  "toc": {
   "base_numbering": 1,
   "nav_menu": {},
   "number_sections": true,
   "sideBar": true,
   "skip_h1_title": false,
   "title_cell": "Table of Contents",
   "title_sidebar": "Contents",
   "toc_cell": false,
   "toc_position": {
    "height": "calc(100% - 180px)",
    "left": "10px",
    "top": "150px",
    "width": "305.517px"
   },
   "toc_section_display": true,
   "toc_window_display": true
  },
  "varInspector": {
   "cols": {
    "lenName": 16,
    "lenType": 16,
    "lenVar": 40
   },
   "kernels_config": {
    "python": {
     "delete_cmd_postfix": "",
     "delete_cmd_prefix": "del ",
     "library": "var_list.py",
     "varRefreshCmd": "print(var_dic_list())"
    },
    "r": {
     "delete_cmd_postfix": ") ",
     "delete_cmd_prefix": "rm(",
     "library": "var_list.r",
     "varRefreshCmd": "cat(var_dic_list()) "
    }
   },
   "types_to_exclude": [
    "module",
    "function",
    "builtin_function_or_method",
    "instance",
    "_Feature"
   ],
   "window_display": false
  }
 },
 "nbformat": 4,
 "nbformat_minor": 4
}
