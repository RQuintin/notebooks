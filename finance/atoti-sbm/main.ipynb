{
 "cells": [
  {
   "cell_type": "markdown",
   "metadata": {
    "toc-hr-collapsed": true,
    "toc-nb-collapsed": true
   },
   "source": [
    "# Introduction\n",
    "\n",
    "#market-risk, #var, #variance-covariance, #sbm, #frtb, #cva-frtb, #simm\n",
    "\n",
    "Run this notebook to create an analytical application for the SBM charge. The input data will be stored in-memory and Atoti will perform the computation \"on-the-fly\" based on user query. You can filter, drill down and explore your data and the SBM metrics.\n",
    "\n",
    "## About SBM\n",
    "\n",
    "You will find below how the SBM logic can be described in python and injected into Atoti. We'll narrow down the use case to Equity Delta charge for simplicity. The other aggregation chains can be added in a similar manner.\n",
    "\n",
    "Sensitivity-based mathod is one of the parametric market risk methodologies. It can be used to compute a VaR-like metric from sensitivities using pre-calibrated risk weights and correlations, through a sequence of nested variance covariance formulae. Due to its multiple benefits (see [2]), the method is widely used both internally by orgazations to manage market risk, as well as by Regulators for capital requirements purposes (FRTB) as well as margining (SIMM). \n",
    "\n",
    "The notebook assumes that the reader is familiar with the sensitivity-based method and terminology.\n",
    "\n",
    "## What to expect\n",
    "\n",
    "In this notebook, we'll read the required sensitivities and calculation parameters and create a chain of measures aggregating data:\n",
    "\n",
    "sensitivities by trade -> weighted sensitivities by risk factor -> charges by bucket -> equity delta margin\n",
    "\n",
    "\n",
    "## Input data\n",
    "\n",
    "Input data is sourced in a CRIF-like format - see [3].\n",
    "\n",
    "## References \n",
    "\n",
    "- [1]: Consolidated Basel Framework Chapter MAR21: https://www.bis.org/basel_framework/chapter/MAR/21.htm?inforce=20220101. \n",
    "- [2]: ISDA SIMM(TM): From Principles to Model Specification: https://www.isda.org/a/vAiDE/simm-from-principles-to-model-specification-4-mar-2016-v4-public.pdf\n",
    "- [3]: ISDA Risk Data Standard: https://www.isda.org/a/owEDE/risk-data-standards-v1-36-public.pdf"
   ]
  },
  {
   "cell_type": "markdown",
   "metadata": {
    "toc-hr-collapsed": true,
    "toc-nb-collapsed": true
   },
   "source": [
    "# Getting started\n",
    "\n",
    "## Imports"
   ]
  },
  {
   "cell_type": "code",
   "execution_count": 1,
   "metadata": {},
   "outputs": [],
   "source": [
    "from IPython.display import display, Markdown, Latex, Image\n",
    "import numpy as np\n",
    "import pandas as pd\n",
    "import os\n",
    "\n",
    "pd.set_option(\"display.max_rows\", 500)\n",
    "pd.set_option(\"display.max_columns\", 500)\n",
    "pd.set_option(\"display.max_colwidth\", 300)\n",
    "pd.options.display.float_format = \"{:,.4f}\".format"
   ]
  },
  {
   "cell_type": "markdown",
   "metadata": {},
   "source": [
    "## Atoti"
   ]
  },
  {
   "cell_type": "code",
   "execution_count": 2,
   "metadata": {},
   "outputs": [
    {
     "name": "stdout",
     "output_type": "stream",
     "text": [
      "Welcome to Atoti 0.3.1!\n",
      "\n",
      "By using this community edition, you agree with the license available at https://www.atoti.io/eula.\n",
      "Browse the official documentation at https://docs.atoti.io.\n",
      "Join the community at https://www.atoti.io/register.\n",
      "\n",
      "You can hide this message by setting the ATOTI_HIDE_EULA_MESSAGE environment variable to True.\n"
     ]
    }
   ],
   "source": [
    "import atoti as tt\n",
    "from atoti.config import create_config\n",
    "\n",
    "session = tt.create_session(\n",
    "    config=\"./configuration.yaml\", port=\"53972\", sampling_mode=tt.sampling.FULL\n",
    ")"
   ]
  },
  {
   "cell_type": "markdown",
   "metadata": {},
   "source": [
    "## Url"
   ]
  },
  {
   "cell_type": "code",
   "execution_count": 3,
   "metadata": {},
   "outputs": [
    {
     "data": {
      "text/plain": [
       "'http://localhost:53972'"
      ]
     },
     "execution_count": 3,
     "metadata": {},
     "output_type": "execute_result"
    }
   ],
   "source": [
    "session.url"
   ]
  },
  {
   "cell_type": "markdown",
   "metadata": {},
   "source": [
    "# Input data files\n",
    "\n",
    "These are the csv-files that we need to illustrate the Equity Delta aggregation:\n",
    "\n",
    "- \"smaller_data.csv\" - sensitivities in a CRIF-like format\n",
    "- \"eq_delta_gamma.csv\" - cross-bucket correlations, set for each pair of buckets\n",
    "- \"eq_delta_rho.csv\" - risk factor correlations, set per bucket, i.e. all pairs of risk factors in a given bucket have the same correlation\n",
    "- \"eq_delta_rw.csv\" - risk weights, set per bucket and per risk factor type (stored in Label2 crif field)\n",
    "\n",
    "The example data files are stored in a cloud and I'm dowloading them to the working directory."
   ]
  },
  {
   "cell_type": "code",
   "execution_count": 4,
   "metadata": {},
   "outputs": [],
   "source": [
    "import sys\n",
    "\n",
    "sys.path.append(\"../../utils\")\n",
    "\n",
    "\n",
    "from notebook_utils import download_source\n",
    "\n",
    "download_source(\"https://data.atoti.io/notebooks/sbm/smaller_data.csv\")\n",
    "download_source(\"https://data.atoti.io/notebooks/sbm/bigger_data.csv\")\n",
    "download_source(\"https://data.atoti.io/notebooks/sbm/parameters/eq_delta_gamma.csv\")\n",
    "download_source(\"https://data.atoti.io/notebooks/sbm/parameters/eq_delta_rho.csv\")\n",
    "download_source(\"https://data.atoti.io/notebooks/sbm/parameters/eq_delta_rw.csv\")"
   ]
  },
  {
   "cell_type": "markdown",
   "metadata": {},
   "source": [
    "# Sensitivities datastore"
   ]
  },
  {
   "cell_type": "code",
   "execution_count": 5,
   "metadata": {},
   "outputs": [
    {
     "data": {
      "text/html": [
       "<div>\n",
       "<style scoped>\n",
       "    .dataframe tbody tr th:only-of-type {\n",
       "        vertical-align: middle;\n",
       "    }\n",
       "\n",
       "    .dataframe tbody tr th {\n",
       "        vertical-align: top;\n",
       "    }\n",
       "\n",
       "    .dataframe thead th {\n",
       "        text-align: right;\n",
       "    }\n",
       "</style>\n",
       "<table border=\"1\" class=\"dataframe\">\n",
       "  <thead>\n",
       "    <tr style=\"text-align: right;\">\n",
       "      <th></th>\n",
       "      <th>TradeID</th>\n",
       "      <th>RiskType</th>\n",
       "      <th>Qualifier</th>\n",
       "      <th>Label2</th>\n",
       "      <th>AmountUSD</th>\n",
       "      <th>Bucket</th>\n",
       "      <th>PortfolioID</th>\n",
       "    </tr>\n",
       "  </thead>\n",
       "  <tbody>\n",
       "    <tr>\n",
       "      <th>0</th>\n",
       "      <td>0</td>\n",
       "      <td>Risk_Equity</td>\n",
       "      <td>Wilmar International</td>\n",
       "      <td>REPO</td>\n",
       "      <td>-10,332.0900</td>\n",
       "      <td>1</td>\n",
       "      <td>Smaller_Portfolio</td>\n",
       "    </tr>\n",
       "    <tr>\n",
       "      <th>1</th>\n",
       "      <td>1</td>\n",
       "      <td>Risk_Equity</td>\n",
       "      <td>Wilmar International</td>\n",
       "      <td>SPOT</td>\n",
       "      <td>-3,641,606.4500</td>\n",
       "      <td>1</td>\n",
       "      <td>Smaller_Portfolio</td>\n",
       "    </tr>\n",
       "    <tr>\n",
       "      <th>2</th>\n",
       "      <td>2</td>\n",
       "      <td>Risk_Equity</td>\n",
       "      <td>China Minmetals</td>\n",
       "      <td>REPO</td>\n",
       "      <td>-2,337.9000</td>\n",
       "      <td>3</td>\n",
       "      <td>Smaller_Portfolio</td>\n",
       "    </tr>\n",
       "    <tr>\n",
       "      <th>3</th>\n",
       "      <td>3</td>\n",
       "      <td>Risk_Equity</td>\n",
       "      <td>China Minmetals</td>\n",
       "      <td>SPOT</td>\n",
       "      <td>-10,549.5400</td>\n",
       "      <td>3</td>\n",
       "      <td>Smaller_Portfolio</td>\n",
       "    </tr>\n",
       "    <tr>\n",
       "      <th>4</th>\n",
       "      <td>4</td>\n",
       "      <td>Risk_Equity</td>\n",
       "      <td>China Life Insurance</td>\n",
       "      <td>REPO</td>\n",
       "      <td>-7,874.9400</td>\n",
       "      <td>4</td>\n",
       "      <td>Smaller_Portfolio</td>\n",
       "    </tr>\n",
       "  </tbody>\n",
       "</table>\n",
       "</div>"
      ],
      "text/plain": [
       "  TradeID     RiskType             Qualifier Label2       AmountUSD  Bucket  \\\n",
       "0       0  Risk_Equity  Wilmar International   REPO    -10,332.0900       1   \n",
       "1       1  Risk_Equity  Wilmar International   SPOT -3,641,606.4500       1   \n",
       "2       2  Risk_Equity       China Minmetals   REPO     -2,337.9000       3   \n",
       "3       3  Risk_Equity       China Minmetals   SPOT    -10,549.5400       3   \n",
       "4       4  Risk_Equity  China Life Insurance   REPO     -7,874.9400       4   \n",
       "\n",
       "         PortfolioID  \n",
       "0  Smaller_Portfolio  \n",
       "1  Smaller_Portfolio  \n",
       "2  Smaller_Portfolio  \n",
       "3  Smaller_Portfolio  \n",
       "4  Smaller_Portfolio  "
      ]
     },
     "execution_count": 5,
     "metadata": {},
     "output_type": "execute_result"
    }
   ],
   "source": [
    "# in this example, the data is initially read into a pandas dataframe,\n",
    "# which is subsequently used to create a datastore.\n",
    "crif = pd.read_csv(\"smaller_data.csv\")\n",
    "crif = crif.append(pd.read_csv(\"bigger_data.csv\"), ignore_index=True)\n",
    "crif.head(5)"
   ]
  },
  {
   "cell_type": "code",
   "execution_count": 6,
   "metadata": {
    "scrolled": true
   },
   "outputs": [],
   "source": [
    "risks_store = session.read_pandas(\n",
    "    crif,\n",
    "    keys=[\"TradeID\", \"PortfolioID\", \"RiskType\", \"Qualifier\", \"Label2\"],\n",
    "    store_name=\"Risks\",\n",
    "    types={\"Bucket\": tt.types.STRING},\n",
    ")\n",
    "\n",
    "cube = session.create_cube(risks_store)\n",
    "lvl = cube.levels\n",
    "m = cube.measures\n",
    "h = cube.hierarchies"
   ]
  },
  {
   "cell_type": "code",
   "execution_count": 8,
   "metadata": {},
   "outputs": [],
   "source": [
    "# creating a comparator to sort buckets as numbers:\n",
    "# NOT WORKING AT THE MOMENT\n",
    "# lvl[\"Bucket\"].comparator = tt.comparator.first_members([str(i) for i in range(1,13)])"
   ]
  },
  {
   "cell_type": "markdown",
   "metadata": {},
   "source": [
    "At this point, a cube has been created, and we can start browsing the sensitivities:"
   ]
  },
  {
   "cell_type": "code",
   "execution_count": 8,
   "metadata": {
    "atoti": {
     "state": {
      "name": "",
      "type": "container",
      "value": {
       "body": {
        "configuration": {
         "tabular": {
          "addButtonFilter": "numeric",
          "columns": [],
          "columnsGroups": [
           {
            "captionProducer": "firstColumn",
            "cellFactory": "kpi-status",
            "selector": "kpi-status"
           },
           {
            "captionProducer": "firstColumn",
            "cellFactory": "lookup",
            "selector": "lookup"
           },
           {
            "captionProducer": "expiry",
            "cellFactory": "expiry",
            "selector": "kpi-expiry"
           },
           {
            "captionProducer": "columnMerge",
            "cellFactory": {
             "args": {
              "automaticExpansion": true
             },
             "key": "treeCells"
            },
            "selector": "member"
           }
          ],
          "defaultOptions": {},
          "hideAddButton": true,
          "lineNumbers": true,
          "pinnedHeaderSelector": "member",
          "sortingMode": "non-breaking",
          "statisticsShown": true
         }
        },
        "contextValues": {},
        "mdx": "SELECT NON EMPTY [Measures].[AmountUSD.SUM] ON COLUMNS, NON EMPTY Crossjoin(Hierarchize(DrilldownLevel([Hierarchies].[RiskType].[ALL].[AllMember])), Hierarchize(DrilldownLevel([Hierarchies].[Bucket].[ALL].[AllMember]))) ON ROWS FROM [Risks] CELL PROPERTIES VALUE, FORMATTED_VALUE, BACK_COLOR, FORE_COLOR, FONT_FLAGS",
        "ranges": {
         "column": {
          "chunkSize": 50,
          "thresholdPercentage": 0.2
         },
         "row": {
          "chunkSize": 2000,
          "thresholdPercentage": 0.1
         }
        },
        "serverUrl": "",
        "updateMode": "once"
       },
       "containerKey": "pivot-table",
       "showTitleBar": false,
       "style": {}
      }
     }
    }
   },
   "outputs": [
    {
     "data": {
      "application/vnd.atoti.v0+json": {
       "cube": "Risks",
       "name": null,
       "session": "Unnamed"
      },
      "text/plain": [
       "Install the Atoti JupyterLab extension to see this widget."
      ]
     },
     "metadata": {},
     "output_type": "display_data"
    }
   ],
   "source": [
    "cube.visualize()"
   ]
  },
  {
   "cell_type": "markdown",
   "metadata": {},
   "source": [
    "Run this command to create a new data vizualisation:"
   ]
  },
  {
   "cell_type": "code",
   "execution_count": 10,
   "metadata": {},
   "outputs": [
    {
     "data": {
      "application/vnd.atoti.v0+json": {
       "cube": "Risks",
       "name": null,
       "session": "Unnamed"
      },
      "text/plain": [
       "Install the Atoti JupyterLab extension to see this widget."
      ]
     },
     "metadata": {},
     "output_type": "display_data"
    }
   ],
   "source": [
    "cube.visualize()"
   ]
  },
  {
   "cell_type": "markdown",
   "metadata": {},
   "source": [
    "# Risk weights datastore"
   ]
  },
  {
   "cell_type": "code",
   "execution_count": 11,
   "metadata": {},
   "outputs": [],
   "source": [
    "# the risk weights data store is created from a csv:\n",
    "eq_delta_risk_weights_store = session.read_csv(\n",
    "    \"eq_delta_rw.csv\",\n",
    "    keys=[\"Bucket\", \"Label2\"],\n",
    "    types={\"Bucket\": tt.types.STRING},\n",
    "    store_name=\"RiskWeights\",\n",
    ")\n",
    "\n",
    "# risks store is joined with the risk weights store\n",
    "risks_store.join(eq_delta_risk_weights_store)"
   ]
  },
  {
   "cell_type": "code",
   "execution_count": 12,
   "metadata": {},
   "outputs": [
    {
     "data": {
      "text/html": [
       "<div>\n",
       "<style scoped>\n",
       "    .dataframe tbody tr th:only-of-type {\n",
       "        vertical-align: middle;\n",
       "    }\n",
       "\n",
       "    .dataframe tbody tr th {\n",
       "        vertical-align: top;\n",
       "    }\n",
       "\n",
       "    .dataframe thead th {\n",
       "        text-align: right;\n",
       "    }\n",
       "</style>\n",
       "<table border=\"1\" class=\"dataframe\">\n",
       "  <thead>\n",
       "    <tr style=\"text-align: right;\">\n",
       "      <th></th>\n",
       "      <th></th>\n",
       "      <th>RW</th>\n",
       "    </tr>\n",
       "    <tr>\n",
       "      <th>Bucket</th>\n",
       "      <th>Label2</th>\n",
       "      <th></th>\n",
       "    </tr>\n",
       "  </thead>\n",
       "  <tbody>\n",
       "    <tr>\n",
       "      <th>1</th>\n",
       "      <th>SPOT</th>\n",
       "      <td>0.5500</td>\n",
       "    </tr>\n",
       "    <tr>\n",
       "      <th>2</th>\n",
       "      <th>SPOT</th>\n",
       "      <td>0.6000</td>\n",
       "    </tr>\n",
       "    <tr>\n",
       "      <th>3</th>\n",
       "      <th>SPOT</th>\n",
       "      <td>0.4500</td>\n",
       "    </tr>\n",
       "    <tr>\n",
       "      <th>4</th>\n",
       "      <th>SPOT</th>\n",
       "      <td>0.5500</td>\n",
       "    </tr>\n",
       "    <tr>\n",
       "      <th>5</th>\n",
       "      <th>SPOT</th>\n",
       "      <td>0.3000</td>\n",
       "    </tr>\n",
       "  </tbody>\n",
       "</table>\n",
       "</div>"
      ],
      "text/plain": [
       "                  RW\n",
       "Bucket Label2       \n",
       "1      SPOT   0.5500\n",
       "2      SPOT   0.6000\n",
       "3      SPOT   0.4500\n",
       "4      SPOT   0.5500\n",
       "5      SPOT   0.3000"
      ]
     },
     "execution_count": 12,
     "metadata": {},
     "output_type": "execute_result"
    }
   ],
   "source": [
    "eq_delta_risk_weights_store.head(5)"
   ]
  },
  {
   "cell_type": "code",
   "execution_count": 15,
   "metadata": {},
   "outputs": [],
   "source": [
    "# The risk weights are now available in the cube as a measure.\n",
    "# The measure is defined for Bucket and Label2 - these hierarchies need to be present into the view."
   ]
  },
  {
   "cell_type": "code",
   "execution_count": 14,
   "metadata": {
    "atoti": {
     "state": {
      "name": "",
      "type": "container",
      "value": {
       "body": {
        "configuration": {
         "tabular": {
          "addButtonFilter": "numeric",
          "columnsGroups": [
           {
            "captionProducer": "firstColumn",
            "cellFactory": "kpi-status",
            "selector": "kpi-status"
           },
           {
            "captionProducer": "firstColumn",
            "cellFactory": "lookup",
            "selector": "lookup"
           },
           {
            "captionProducer": "expiry",
            "cellFactory": "expiry",
            "selector": "kpi-expiry"
           },
           {
            "captionProducer": "columnMerge",
            "cellFactory": {
             "args": {
              "automaticExpansion": true
             },
             "key": "treeCells"
            },
            "selector": "member"
           }
          ],
          "defaultOptions": {},
          "hideAddButton": true,
          "lineNumbers": true,
          "pinnedHeaderSelector": "member",
          "sortingMode": "non-breaking",
          "statisticsShown": true
         }
        },
        "contextValues": {},
        "mdx": "SELECT NON EMPTY [Measures].[RW.VALUE] ON COLUMNS, NON EMPTY Crossjoin(Hierarchize(DrilldownLevel([Hierarchies].[Bucket].[ALL].[AllMember])), Hierarchize(DrilldownLevel([Hierarchies].[Label2].[ALL].[AllMember]))) ON ROWS FROM [Risks] CELL PROPERTIES VALUE, FORMATTED_VALUE, BACK_COLOR, FORE_COLOR, FONT_FLAGS",
        "ranges": {
         "column": {
          "chunkSize": 50,
          "thresholdPercentage": 0.2
         },
         "row": {
          "chunkSize": 2000,
          "thresholdPercentage": 0.1
         }
        },
        "serverUrl": "",
        "updateMode": "once"
       },
       "containerKey": "pivot-table",
       "showTitleBar": false,
       "style": {}
      }
     }
    }
   },
   "outputs": [
    {
     "data": {
      "application/vnd.atoti.v0+json": {
       "cube": "Risks",
       "name": null,
       "session": "Unnamed"
      },
      "text/plain": [
       "Install the Atoti JupyterLab extension to see this widget."
      ]
     },
     "metadata": {},
     "output_type": "display_data"
    }
   ],
   "source": [
    "cube.visualize()"
   ]
  },
  {
   "cell_type": "code",
   "execution_count": 16,
   "metadata": {},
   "outputs": [],
   "source": [
    "# Let's put it into a folder and format as percentages:\n",
    "m[\"RW.VALUE\"].folder = \"Parameters\"\n",
    "m[\"RW.VALUE\"].formatter = \"DOUBLE[#%]\""
   ]
  },
  {
   "cell_type": "code",
   "execution_count": 18,
   "metadata": {
    "atoti": {
     "state": {
      "name": "",
      "type": "container",
      "value": {
       "body": {
        "configuration": {
         "tabular": {
          "addButtonFilter": "numeric",
          "columnsGroups": [
           {
            "captionProducer": "firstColumn",
            "cellFactory": "kpi-status",
            "selector": "kpi-status"
           },
           {
            "captionProducer": "firstColumn",
            "cellFactory": "lookup",
            "selector": "lookup"
           },
           {
            "captionProducer": "expiry",
            "cellFactory": "expiry",
            "selector": "kpi-expiry"
           },
           {
            "captionProducer": "columnMerge",
            "cellFactory": {
             "args": {
              "automaticExpansion": true
             },
             "key": "treeCells"
            },
            "selector": "member"
           }
          ],
          "defaultOptions": {},
          "hideAddButton": true,
          "lineNumbers": true,
          "pinnedHeaderSelector": "member",
          "sortingMode": "non-breaking",
          "statisticsShown": true
         }
        },
        "contextValues": {},
        "mdx": "SELECT NON EMPTY [Measures].[RW.VALUE] ON COLUMNS, NON EMPTY Crossjoin(Hierarchize(DrilldownLevel([Hierarchies].[Bucket].[ALL].[AllMember])), Hierarchize(DrilldownLevel([Hierarchies].[Label2].[ALL].[AllMember]))) ON ROWS FROM [Risks] CELL PROPERTIES VALUE, FORMATTED_VALUE, BACK_COLOR, FORE_COLOR, FONT_FLAGS",
        "ranges": {
         "column": {
          "chunkSize": 50,
          "thresholdPercentage": 0.2
         },
         "row": {
          "chunkSize": 2000,
          "thresholdPercentage": 0.1
         }
        },
        "serverUrl": "",
        "updateMode": "once"
       },
       "containerKey": "pivot-table",
       "showTitleBar": false,
       "style": {}
      }
     }
    }
   },
   "outputs": [
    {
     "data": {
      "application/vnd.atoti.v0+json": {
       "cube": "Risks",
       "name": null,
       "session": "Unnamed"
      },
      "text/plain": [
       "Install the Atoti JupyterLab extension to see this widget."
      ]
     },
     "metadata": {},
     "output_type": "display_data"
    }
   ],
   "source": [
    "cube.visualize()"
   ]
  },
  {
   "cell_type": "markdown",
   "metadata": {},
   "source": [
    "# Weighted sensitivities\n",
    "\n",
    "In this section, we'll create a measure to compute weighted sensitivities defined in\n",
    "[MAR21.4](https://www.bis.org/basel_framework/chapter/MAR/21.htm?inforce=20220101#paragraph_MAR_21_20220101_21_4):\n",
    "\n",
    "$$WS_k=RW_k \\cdot s_k$$\n",
    "\n",
    "As the risk weights are defined for each Bucket and Label2, this is the level where sensitivities need to be multiplied by the risk weight.\n"
   ]
  },
  {
   "cell_type": "code",
   "execution_count": 19,
   "metadata": {},
   "outputs": [],
   "source": [
    "# The input sensitivities are multplied by the risk weight for each Bucket and Label2,\n",
    "# and then summed up to obtain weighted sensitivities:\n",
    "m[\"WS\"] = tt.agg.sum(\n",
    "    m[\"AmountUSD.SUM\"] * m[\"RW.VALUE\"], scope=tt.scope.origin(\"Bucket\", \"Label2\")\n",
    ")"
   ]
  },
  {
   "cell_type": "code",
   "execution_count": 21,
   "metadata": {
    "atoti": {
     "state": {
      "name": "",
      "type": "container",
      "value": {
       "body": {
        "configuration": {
         "tabular": {
          "addButtonFilter": "numeric",
          "columnsGroups": [
           {
            "captionProducer": "firstColumn",
            "cellFactory": "kpi-status",
            "selector": "kpi-status"
           },
           {
            "captionProducer": "firstColumn",
            "cellFactory": "lookup",
            "selector": "lookup"
           },
           {
            "captionProducer": "expiry",
            "cellFactory": "expiry",
            "selector": "kpi-expiry"
           },
           {
            "captionProducer": "columnMerge",
            "cellFactory": {
             "args": {
              "automaticExpansion": true
             },
             "key": "treeCells"
            },
            "selector": "member"
           }
          ],
          "defaultOptions": {},
          "hideAddButton": true,
          "lineNumbers": true,
          "pinnedHeaderSelector": "member",
          "sortingMode": "non-breaking",
          "statisticsShown": true
         }
        },
        "contextValues": {},
        "mdx": "SELECT NON EMPTY [Measures].[WS] ON COLUMNS, NON EMPTY Hierarchize(DrilldownLevel([Hierarchies].[Bucket].[ALL].[AllMember])) ON ROWS FROM [Risks] CELL PROPERTIES VALUE, FORMATTED_VALUE, BACK_COLOR, FORE_COLOR, FONT_FLAGS",
        "ranges": {
         "column": {
          "chunkSize": 50,
          "thresholdPercentage": 0.2
         },
         "row": {
          "chunkSize": 2000,
          "thresholdPercentage": 0.1
         }
        },
        "serverUrl": "",
        "updateMode": "once"
       },
       "containerKey": "pivot-table",
       "showTitleBar": false,
       "style": {}
      }
     }
    }
   },
   "outputs": [
    {
     "data": {
      "application/vnd.atoti.v0+json": {
       "cube": "Risks",
       "name": null,
       "session": "Unnamed"
      },
      "text/plain": [
       "Install the Atoti JupyterLab extension to see this widget."
      ]
     },
     "metadata": {},
     "output_type": "display_data"
    }
   ],
   "source": [
    "cube.visualize()"
   ]
  },
  {
   "cell_type": "markdown",
   "metadata": {},
   "source": [
    "# Bucket-level aggregation\n",
    "\n",
    "The weighted sensitivities by risk factor are rolled up into charges by bucket (\"bucket-level charges\"), using a variance-covariance-type of formula that can be found in the [MAR21.4](https://www.bis.org/basel_framework/chapter/MAR/21.htm?inforce=20220101#paragraph_MAR_21_20220101_21_4):\n",
    "\n",
    "$$K_{b} =\\sqrt{max \\left( 0, \\sum _{k\\in b} WS_{k}^{2} +\\sum _{k\\in b}\\sum\n",
    "  _{l\\in b, l\\neq k}\\rho_{kl}\\cdot WS_k \\cdot WS_l\\right)}$$\n",
    "  \n",
    "In this section we'll create measures visualizing bucket-level charges. \n",
    "\n",
    "We will provide two methods to compute them:\n",
    "\n",
    "1. Method 1: materializing both risk factors in a pair and looping over all the pais of the risk factors - $\\color{red}{\\text{this is not efficient, }O(N^2)}$.\n",
    "2. Method 2: more computationally efficient: leveraging the fact, that some of the risk factor pairs are correlated with the same correlation parameter, we provide a more computationally efficient calculation. "
   ]
  },
  {
   "cell_type": "markdown",
   "metadata": {},
   "source": [
    "## Risk factor correlations"
   ]
  },
  {
   "cell_type": "markdown",
   "metadata": {},
   "source": [
    "The parameter $\\rho_{kl}$ denotes correlation between two risk factors $k$ and $l$ in a pair of risk factors. The rules defining the equity delta correlations are set in [MAR21.78](https://www.bis.org/basel_framework/chapter/MAR/21.htm?inforce=20220101#paragraph_MAR_21_20220101_21_78).\n",
    "\n",
    "The rules can be summarised for each pair of risk factors as follows:\n",
    "\n",
    "- Case 1: same name, different type: a single value -> 0.999\n",
    "- Case 2: different name, same type: a single value depending on bucket, for example, 0.15\n",
    "- Case 3: different name, different type: value depending on risk factor multiplier by 0.999, for example, 0.15 x 0.999\n",
    "\n",
    "Stylized example:\n",
    "\n",
    "\n",
    "| risk factors | name1-spot | name1-repo | name2-spot | name2-repo |\n",
    "|------------|-------------|-------------|-------------|-------------|\n",
    "| name1-spot | 1 |  |  |  |\n",
    "| name1-repo | same_name_diff_type | 1 |  |  |\n",
    "| name2-spot | rho_by_name | rho_by_name x type_multiplier | 1 |  |\n",
    "| name2-repo | rho_by_name x type_multiplier | rho_by_name x type_multiplier | same_name_diff_type | 1 |"
   ]
  },
  {
   "cell_type": "code",
   "execution_count": 22,
   "metadata": {},
   "outputs": [],
   "source": [
    "# Equity delta risk factor is defined as a combination of fields - \"Qualifier\" and \"Label2\", i.e. equity name and risk factor type.\n",
    "# Creating variables:\n",
    "same_risk_factor = 1.0\n",
    "same_name_diff_type = 0.999\n",
    "diff_type_multiplier = 0.999"
   ]
  },
  {
   "cell_type": "code",
   "execution_count": 23,
   "metadata": {
    "scrolled": true
   },
   "outputs": [
    {
     "data": {
      "text/html": [
       "<div>\n",
       "<style scoped>\n",
       "    .dataframe tbody tr th:only-of-type {\n",
       "        vertical-align: middle;\n",
       "    }\n",
       "\n",
       "    .dataframe tbody tr th {\n",
       "        vertical-align: top;\n",
       "    }\n",
       "\n",
       "    .dataframe thead th {\n",
       "        text-align: right;\n",
       "    }\n",
       "</style>\n",
       "<table border=\"1\" class=\"dataframe\">\n",
       "  <thead>\n",
       "    <tr style=\"text-align: right;\">\n",
       "      <th></th>\n",
       "      <th>names_correlation</th>\n",
       "    </tr>\n",
       "    <tr>\n",
       "      <th>Bucket</th>\n",
       "      <th></th>\n",
       "    </tr>\n",
       "  </thead>\n",
       "  <tbody>\n",
       "    <tr>\n",
       "      <th>1</th>\n",
       "      <td>0.1500</td>\n",
       "    </tr>\n",
       "    <tr>\n",
       "      <th>2</th>\n",
       "      <td>0.1500</td>\n",
       "    </tr>\n",
       "    <tr>\n",
       "      <th>3</th>\n",
       "      <td>0.1500</td>\n",
       "    </tr>\n",
       "    <tr>\n",
       "      <th>4</th>\n",
       "      <td>0.1500</td>\n",
       "    </tr>\n",
       "    <tr>\n",
       "      <th>5</th>\n",
       "      <td>0.2500</td>\n",
       "    </tr>\n",
       "  </tbody>\n",
       "</table>\n",
       "</div>"
      ],
      "text/plain": [
       "        names_correlation\n",
       "Bucket                   \n",
       "1                  0.1500\n",
       "2                  0.1500\n",
       "3                  0.1500\n",
       "4                  0.1500\n",
       "5                  0.2500"
      ]
     },
     "execution_count": 23,
     "metadata": {},
     "output_type": "execute_result"
    }
   ],
   "source": [
    "# Creating a datastore holding correlations defined per bucket ([MAR21.78](2)):\n",
    "eq_delta_rho = session.read_csv(\n",
    "    \"eq_delta_rho.csv\",\n",
    "    keys=[\"Bucket\"],\n",
    "    types={\"Bucket\": tt.types.STRING},\n",
    "    store_name=\"RiskFactorCorrelations\",\n",
    ")\n",
    "risks_store.join(eq_delta_rho)\n",
    "eq_delta_rho.head(5)"
   ]
  },
  {
   "cell_type": "code",
   "execution_count": 24,
   "metadata": {},
   "outputs": [],
   "source": [
    "# Let's put it into a folder and format as percentages:\n",
    "m[\"names_correlation.VALUE\"].folder = \"Parameters\"\n",
    "m[\"names_correlation.VALUE\"].formatter = \"DOUBLE[0.00]\""
   ]
  },
  {
   "cell_type": "code",
   "execution_count": 26,
   "metadata": {
    "atoti": {
     "state": {
      "name": "",
      "type": "container",
      "value": {
       "body": {
        "configuration": {
         "tabular": {
          "addButtonFilter": "numeric",
          "columnsGroups": [
           {
            "captionProducer": "firstColumn",
            "cellFactory": "kpi-status",
            "selector": "kpi-status"
           },
           {
            "captionProducer": "firstColumn",
            "cellFactory": "lookup",
            "selector": "lookup"
           },
           {
            "captionProducer": "expiry",
            "cellFactory": "expiry",
            "selector": "kpi-expiry"
           },
           {
            "captionProducer": "columnMerge",
            "cellFactory": {
             "args": {
              "automaticExpansion": true
             },
             "key": "treeCells"
            },
            "selector": "member"
           }
          ],
          "defaultOptions": {},
          "hideAddButton": true,
          "lineNumbers": true,
          "pinnedHeaderSelector": "member",
          "sortingMode": "non-breaking",
          "statisticsShown": true
         }
        },
        "contextValues": {},
        "mdx": "SELECT NON EMPTY [Measures].[names_correlation.VALUE] ON COLUMNS, NON EMPTY Hierarchize(DrilldownLevel([Hierarchies].[Bucket].[ALL].[AllMember])) ON ROWS FROM [Risks] CELL PROPERTIES VALUE, FORMATTED_VALUE, BACK_COLOR, FORE_COLOR, FONT_FLAGS",
        "ranges": {
         "column": {
          "chunkSize": 50,
          "thresholdPercentage": 0.2
         },
         "row": {
          "chunkSize": 2000,
          "thresholdPercentage": 0.1
         }
        },
        "serverUrl": "",
        "updateMode": "once"
       },
       "containerKey": "pivot-table",
       "showTitleBar": false,
       "style": {}
      }
     }
    }
   },
   "outputs": [
    {
     "data": {
      "application/vnd.atoti.v0+json": {
       "cube": "Risks",
       "name": null,
       "session": "Unnamed"
      },
      "text/plain": [
       "Install the Atoti JupyterLab extension to see this widget."
      ]
     },
     "metadata": {},
     "output_type": "display_data"
    }
   ],
   "source": [
    "cube.visualize()"
   ]
  },
  {
   "cell_type": "markdown",
   "metadata": {},
   "source": [
    "## Method 1: materializing risk factor pairs"
   ]
  },
  {
   "cell_type": "code",
   "execution_count": 28,
   "metadata": {},
   "outputs": [],
   "source": [
    "# Important:\n",
    "# We join by PortfolioID - hence\n",
    "# the combinations of risk factors are restricted to those that are defined below PortfolioID."
   ]
  },
  {
   "cell_type": "code",
   "execution_count": 29,
   "metadata": {},
   "outputs": [],
   "source": [
    "# Now, for each risk factor - \"Qualifier\" + \"Label2\" - there's a list of all risk factors in portfolio and bucket.\n",
    "# The hierarchies representing risk factors: \"Other Qualifier\", \"Other Label2\".\n",
    "other_risk_factor_store = session.read_pandas(\n",
    "    crif[[\"PortfolioID\", \"Bucket\", \"Qualifier\", \"Label2\"]].rename(\n",
    "        columns={\"Qualifier\": \"Other Qualifier\", \"Label2\": \"Other Label2\"}\n",
    "    ),\n",
    "    keys=[\"PortfolioID\", \"Bucket\", \"Other Qualifier\", \"Other Label2\"],\n",
    "    types={\"Bucket\": tt.types.STRING},\n",
    "    store_name=\"OtherRiskFactor\",\n",
    ")\n",
    "risks_store.join(\n",
    "    other_risk_factor_store, mapping={\"PortfolioID\": \"PortfolioID\", \"Bucket\": \"Bucket\"}\n",
    ")"
   ]
  },
  {
   "cell_type": "code",
   "execution_count": 30,
   "metadata": {},
   "outputs": [],
   "source": [
    "# After creating the \"other_risk_factor_store\", for each portfolio, bucket and risk factor ->\n",
    "# the cube contains the list of all risk factors that belong to the same bucket."
   ]
  },
  {
   "cell_type": "code",
   "execution_count": 31,
   "metadata": {},
   "outputs": [],
   "source": [
    "# Setting up a measure returning correlation for any pair of risk factors.\n",
    "# Risk factors are represented by the hierarchies (\"Qualifier\", \"Label2\") and (\"Other Qualifier\", \"Other Label2\")\n",
    "m[\"rho_kl\"] = tt.where(\n",
    "    lvl[\"Qualifier\"] == lvl[\"Other Qualifier\"],\n",
    "    tt.where(\n",
    "        lvl[\"Label2\"] == lvl[\"Other Label2\"], same_risk_factor, same_name_diff_type\n",
    "    ),\n",
    "    tt.where(\n",
    "        lvl[\"Label2\"] == lvl[\"Other Label2\"],\n",
    "        m[\"names_correlation.VALUE\"],\n",
    "        m[\"names_correlation.VALUE\"] * diff_type_multiplier,\n",
    "    ),\n",
    ")"
   ]
  },
  {
   "cell_type": "markdown",
   "metadata": {},
   "source": [
    "The following measures will represent $WS_k$ and $WS_l$ in the Bucket-level aggregation formula:"
   ]
  },
  {
   "cell_type": "code",
   "execution_count": 32,
   "metadata": {},
   "outputs": [],
   "source": [
    "m[\"WSk\"] = m[\"WS\"]\n",
    "m[\"WSl\"] = tt.at(\n",
    "    m[\"WS\"],\n",
    "    {lvl[\"Qualifier\"]: lvl[\"Other Qualifier\"], lvl[\"Label2\"]: lvl[\"Other Label2\"]},\n",
    ")\n",
    "\n",
    "# Please note, that for the bucket 11, bucket-level charge is defined as sum of absoluted\n",
    "# weighted sensitivities by risk factor [MAR21.79](https://www.bis.org/basel_framework/chapter/MAR/21.htm?inforce=20220101#paragraph_MAR_21_20220101_21_79)\n",
    "\n",
    "m[\"Kb\"] = tt.agg.stop(\n",
    "    tt.where(\n",
    "        lvl[\"Bucket\"] == \"11\",\n",
    "        tt.agg.sum(tt.abs(m[\"WSk\"]), tt.scope.origin(\"Qualifier\", \"Label2\")),\n",
    "        tt.sqrt(\n",
    "            tt.max(\n",
    "                0,\n",
    "                tt.agg.sum(\n",
    "                    m[\"WSk\"] * m[\"WSl\"] * m[\"rho_kl\"],\n",
    "                    scope=tt.scope.origin(\n",
    "                        \"Qualifier\", \"Other Qualifier\", \"Label2\", \"Other Label2\"\n",
    "                    ),\n",
    "                ),\n",
    "            )\n",
    "        ),\n",
    "    ),\n",
    "    at=[lvl[\"Bucket\"]],\n",
    ")"
   ]
  },
  {
   "cell_type": "code",
   "execution_count": 61,
   "metadata": {},
   "outputs": [
    {
     "data": {
      "text/html": [
       "<div>\n",
       "<style scoped>\n",
       "    .dataframe tbody tr th:only-of-type {\n",
       "        vertical-align: middle;\n",
       "    }\n",
       "\n",
       "    .dataframe tbody tr th {\n",
       "        vertical-align: top;\n",
       "    }\n",
       "\n",
       "    .dataframe thead th {\n",
       "        text-align: right;\n",
       "    }\n",
       "</style>\n",
       "<table border=\"1\" class=\"dataframe\">\n",
       "  <thead>\n",
       "    <tr style=\"text-align: right;\">\n",
       "      <th></th>\n",
       "      <th></th>\n",
       "      <th></th>\n",
       "      <th></th>\n",
       "      <th></th>\n",
       "      <th>WS</th>\n",
       "      <th>WSk</th>\n",
       "      <th>WSl</th>\n",
       "    </tr>\n",
       "    <tr>\n",
       "      <th>Bucket</th>\n",
       "      <th>Qualifier</th>\n",
       "      <th>Label2</th>\n",
       "      <th>Other Qualifier</th>\n",
       "      <th>Other Label2</th>\n",
       "      <th></th>\n",
       "      <th></th>\n",
       "      <th></th>\n",
       "    </tr>\n",
       "  </thead>\n",
       "  <tbody>\n",
       "    <tr>\n",
       "      <th rowspan=\"4\" valign=\"top\">1</th>\n",
       "      <th rowspan=\"4\" valign=\"top\">Wilmar International</th>\n",
       "      <th rowspan=\"2\" valign=\"top\">REPO</th>\n",
       "      <th rowspan=\"2\" valign=\"top\">Wilmar International</th>\n",
       "      <th>REPO</th>\n",
       "      <td>-56.8265</td>\n",
       "      <td>-56.8265</td>\n",
       "      <td>-56.8265</td>\n",
       "    </tr>\n",
       "    <tr>\n",
       "      <th>SPOT</th>\n",
       "      <td>-56.8265</td>\n",
       "      <td>-56.8265</td>\n",
       "      <td>-2,002,883.5475</td>\n",
       "    </tr>\n",
       "    <tr>\n",
       "      <th rowspan=\"2\" valign=\"top\">SPOT</th>\n",
       "      <th rowspan=\"2\" valign=\"top\">Wilmar International</th>\n",
       "      <th>REPO</th>\n",
       "      <td>-2,002,883.5475</td>\n",
       "      <td>-2,002,883.5475</td>\n",
       "      <td>-56.8265</td>\n",
       "    </tr>\n",
       "    <tr>\n",
       "      <th>SPOT</th>\n",
       "      <td>-2,002,883.5475</td>\n",
       "      <td>-2,002,883.5475</td>\n",
       "      <td>-2,002,883.5475</td>\n",
       "    </tr>\n",
       "    <tr>\n",
       "      <th>10</th>\n",
       "      <th>AB Volvo</th>\n",
       "      <th>REPO</th>\n",
       "      <th>AB Volvo</th>\n",
       "      <th>REPO</th>\n",
       "      <td>3.5524</td>\n",
       "      <td>3.5524</td>\n",
       "      <td>3.5524</td>\n",
       "    </tr>\n",
       "    <tr>\n",
       "      <th>...</th>\n",
       "      <th>...</th>\n",
       "      <th>...</th>\n",
       "      <th>...</th>\n",
       "      <th>...</th>\n",
       "      <td>...</td>\n",
       "      <td>...</td>\n",
       "      <td>...</td>\n",
       "    </tr>\n",
       "    <tr>\n",
       "      <th rowspan=\"5\" valign=\"top\">9</th>\n",
       "      <th rowspan=\"5\" valign=\"top\">Severstal</th>\n",
       "      <th rowspan=\"5\" valign=\"top\">SPOT</th>\n",
       "      <th>Lukoil</th>\n",
       "      <th>SPOT</th>\n",
       "      <td>54,174.2250</td>\n",
       "      <td>54,174.2250</td>\n",
       "      <td>78,087.5760</td>\n",
       "    </tr>\n",
       "    <tr>\n",
       "      <th rowspan=\"2\" valign=\"top\">SAIC Motor</th>\n",
       "      <th>REPO</th>\n",
       "      <td>54,174.2250</td>\n",
       "      <td>54,174.2250</td>\n",
       "      <td>106.0724</td>\n",
       "    </tr>\n",
       "    <tr>\n",
       "      <th>SPOT</th>\n",
       "      <td>54,174.2250</td>\n",
       "      <td>54,174.2250</td>\n",
       "      <td>547,661.1000</td>\n",
       "    </tr>\n",
       "    <tr>\n",
       "      <th rowspan=\"2\" valign=\"top\">Severstal</th>\n",
       "      <th>REPO</th>\n",
       "      <td>54,174.2250</td>\n",
       "      <td>54,174.2250</td>\n",
       "      <td>-7.5913</td>\n",
       "    </tr>\n",
       "    <tr>\n",
       "      <th>SPOT</th>\n",
       "      <td>54,174.2250</td>\n",
       "      <td>54,174.2250</td>\n",
       "      <td>54,174.2250</td>\n",
       "    </tr>\n",
       "  </tbody>\n",
       "</table>\n",
       "<p>1068 rows × 3 columns</p>\n",
       "</div>"
      ],
      "text/plain": [
       "                                                                                  WS  \\\n",
       "Bucket Qualifier            Label2 Other Qualifier      Other Label2                   \n",
       "1      Wilmar International REPO   Wilmar International REPO                -56.8265   \n",
       "                                                        SPOT                -56.8265   \n",
       "                            SPOT   Wilmar International REPO         -2,002,883.5475   \n",
       "                                                        SPOT         -2,002,883.5475   \n",
       "10     AB Volvo             REPO   AB Volvo             REPO                  3.5524   \n",
       "...                                                                              ...   \n",
       "9      Severstal            SPOT   Lukoil               SPOT             54,174.2250   \n",
       "                                   SAIC Motor           REPO             54,174.2250   \n",
       "                                                        SPOT             54,174.2250   \n",
       "                                   Severstal            REPO             54,174.2250   \n",
       "                                                        SPOT             54,174.2250   \n",
       "\n",
       "                                                                                 WSk  \\\n",
       "Bucket Qualifier            Label2 Other Qualifier      Other Label2                   \n",
       "1      Wilmar International REPO   Wilmar International REPO                -56.8265   \n",
       "                                                        SPOT                -56.8265   \n",
       "                            SPOT   Wilmar International REPO         -2,002,883.5475   \n",
       "                                                        SPOT         -2,002,883.5475   \n",
       "10     AB Volvo             REPO   AB Volvo             REPO                  3.5524   \n",
       "...                                                                              ...   \n",
       "9      Severstal            SPOT   Lukoil               SPOT             54,174.2250   \n",
       "                                   SAIC Motor           REPO             54,174.2250   \n",
       "                                                        SPOT             54,174.2250   \n",
       "                                   Severstal            REPO             54,174.2250   \n",
       "                                                        SPOT             54,174.2250   \n",
       "\n",
       "                                                                                 WSl  \n",
       "Bucket Qualifier            Label2 Other Qualifier      Other Label2                  \n",
       "1      Wilmar International REPO   Wilmar International REPO                -56.8265  \n",
       "                                                        SPOT         -2,002,883.5475  \n",
       "                            SPOT   Wilmar International REPO                -56.8265  \n",
       "                                                        SPOT         -2,002,883.5475  \n",
       "10     AB Volvo             REPO   AB Volvo             REPO                  3.5524  \n",
       "...                                                                              ...  \n",
       "9      Severstal            SPOT   Lukoil               SPOT             78,087.5760  \n",
       "                                   SAIC Motor           REPO                106.0724  \n",
       "                                                        SPOT            547,661.1000  \n",
       "                                   Severstal            REPO                 -7.5913  \n",
       "                                                        SPOT             54,174.2250  \n",
       "\n",
       "[1068 rows x 3 columns]"
      ]
     },
     "execution_count": 61,
     "metadata": {},
     "output_type": "execute_result"
    }
   ],
   "source": [
    "cube.query(m['WS'], m['WSk'], m['WSl'], levels = [lvl['Bucket'], lvl['Qualifier'], lvl['Label2'], lvl['Other Qualifier'], lvl['Other Label2']], condition = lvl['PortfolioID']==\"Smaller_Portfolio\")"
   ]
  },
  {
   "cell_type": "code",
   "execution_count": 33,
   "metadata": {},
   "outputs": [
    {
     "data": {
      "text/html": [
       "<div>\n",
       "<style scoped>\n",
       "    .dataframe tbody tr th:only-of-type {\n",
       "        vertical-align: middle;\n",
       "    }\n",
       "\n",
       "    .dataframe tbody tr th {\n",
       "        vertical-align: top;\n",
       "    }\n",
       "\n",
       "    .dataframe thead th {\n",
       "        text-align: right;\n",
       "    }\n",
       "</style>\n",
       "<table border=\"1\" class=\"dataframe\">\n",
       "  <thead>\n",
       "    <tr style=\"text-align: right;\">\n",
       "      <th></th>\n",
       "      <th>AmountUSD.SUM</th>\n",
       "      <th>WS</th>\n",
       "      <th>Kb</th>\n",
       "    </tr>\n",
       "    <tr>\n",
       "      <th>Bucket</th>\n",
       "      <th></th>\n",
       "      <th></th>\n",
       "      <th></th>\n",
       "    </tr>\n",
       "  </thead>\n",
       "  <tbody>\n",
       "    <tr>\n",
       "      <th>1</th>\n",
       "      <td>-3,651,938.5400</td>\n",
       "      <td>-2,002,940.3740</td>\n",
       "      <td>2,002,940.3172</td>\n",
       "    </tr>\n",
       "    <tr>\n",
       "      <th>10</th>\n",
       "      <td>-5,652,387.6950</td>\n",
       "      <td>-2,810,353.8262</td>\n",
       "      <td>1,819,315.9010</td>\n",
       "    </tr>\n",
       "    <tr>\n",
       "      <th>11</th>\n",
       "      <td>9,197,909.9830</td>\n",
       "      <td>6,418,348.7082</td>\n",
       "      <td>6,418,348.7082</td>\n",
       "    </tr>\n",
       "    <tr>\n",
       "      <th>12</th>\n",
       "      <td>-1,913,082.0100</td>\n",
       "      <td>-286,992.4351</td>\n",
       "      <td>286,992.4354</td>\n",
       "    </tr>\n",
       "    <tr>\n",
       "      <th>3</th>\n",
       "      <td>-12,887.4400</td>\n",
       "      <td>-4,757.8136</td>\n",
       "      <td>4,757.8031</td>\n",
       "    </tr>\n",
       "    <tr>\n",
       "      <th>4</th>\n",
       "      <td>-1,030,083.3000</td>\n",
       "      <td>-557,071.4497</td>\n",
       "      <td>758,465.4868</td>\n",
       "    </tr>\n",
       "    <tr>\n",
       "      <th>5</th>\n",
       "      <td>1,443,720.0700</td>\n",
       "      <td>429,349.4284</td>\n",
       "      <td>456,861.0617</td>\n",
       "    </tr>\n",
       "    <tr>\n",
       "      <th>7</th>\n",
       "      <td>239,581.2030</td>\n",
       "      <td>91,493.4106</td>\n",
       "      <td>932,682.8928</td>\n",
       "    </tr>\n",
       "    <tr>\n",
       "      <th>8</th>\n",
       "      <td>-10,423,086.7700</td>\n",
       "      <td>-5,177,444.7259</td>\n",
       "      <td>3,937,788.9195</td>\n",
       "    </tr>\n",
       "    <tr>\n",
       "      <th>9</th>\n",
       "      <td>1,103,113.6600</td>\n",
       "      <td>744,897.8498</td>\n",
       "      <td>2,234,809.9610</td>\n",
       "    </tr>\n",
       "  </tbody>\n",
       "</table>\n",
       "</div>"
      ],
      "text/plain": [
       "          AmountUSD.SUM              WS             Kb\n",
       "Bucket                                                \n",
       "1       -3,651,938.5400 -2,002,940.3740 2,002,940.3172\n",
       "10      -5,652,387.6950 -2,810,353.8262 1,819,315.9010\n",
       "11       9,197,909.9830  6,418,348.7082 6,418,348.7082\n",
       "12      -1,913,082.0100   -286,992.4351   286,992.4354\n",
       "3          -12,887.4400     -4,757.8136     4,757.8031\n",
       "4       -1,030,083.3000   -557,071.4497   758,465.4868\n",
       "5        1,443,720.0700    429,349.4284   456,861.0617\n",
       "7          239,581.2030     91,493.4106   932,682.8928\n",
       "8      -10,423,086.7700 -5,177,444.7259 3,937,788.9195\n",
       "9        1,103,113.6600    744,897.8498 2,234,809.9610"
      ]
     },
     "execution_count": 33,
     "metadata": {},
     "output_type": "execute_result"
    }
   ],
   "source": [
    "cube.query(\n",
    "    m[\"AmountUSD.SUM\"],\n",
    "    m[\"WS\"],\n",
    "    m[\"Kb\"],\n",
    "    levels=[lvl[\"Bucket\"]],\n",
    "    condition=lvl[\"PortfolioID\"] == \"Smaller_Portfolio\",\n",
    ")"
   ]
  },
  {
   "cell_type": "markdown",
   "metadata": {},
   "source": [
    "## Method 2: optimized Kb calculation"
   ]
  },
  {
   "cell_type": "markdown",
   "metadata": {},
   "source": [
    "Since many of the risk factor pairs share the same correlation value, it is possible to optimize the variance-covariance aggregation. The efficiency of this calculation is critical when the data cardinality along risk factor is high.\n",
    "\n",
    "We decompose the formula into the three components:\n",
    "1. contribution of pairs with both risk factors being spot - same correlation $\\rho_{names}$ set per bucket,\n",
    "2. contribution of pairs with both risk factors being repo - same correlation $\\rho_{names}$ set per bucket,\n",
    "3. contribution of pairs where one risk factor is spot, another one is repo - same correlation $\\rho_{names} \\cdot 0.999$. We'd need to account that for some of the pairs where one risk factor is spot, one is repo some the equity names will match and need to be correlated at 0.999\n",
    "\n",
    "\n",
    "Let's start with the pairs where both risk factors are either spot or repo - cases 1. and 2. above. Since for any $k$ and $l$ the correlation $\\rho_{kl}$ will be equal to correlation defined per bucket $\\rho_{names}$, their contribution can be rewritten:\n",
    "\n",
    "$$ \\sum_k WS_k^2 +  \\sum_k \\sum_{l \\neq k} \\rho_{kl} WS_k WS_l = \\\\ \\sum_k WS_k^2 + \\rho_{names} \\cdot \\left(\\left( \\sum_k WS_k \\right)^2 - \\sum_k WS_k^2  \\right) = \\\\ (1-\\rho_{names}) \\cdot \\sum_k WS_k^2 + \\rho_{names} \\cdot \\left( \\sum_k WS_k \\right)^2  \\label{reduced_formula} \\tag{reduced_formula}$$"
   ]
  },
  {
   "cell_type": "code",
   "execution_count": 34,
   "metadata": {},
   "outputs": [],
   "source": [
    "# This measure will display sum of WS_k squared by risk factor (Qualifier + Label2):\n",
    "m[\"sum squares\"] = tt.agg.square_sum(\n",
    "    m[\"WS\"], scope=tt.scope.origin(\"Qualifier\", \"Label2\")\n",
    ")"
   ]
  },
  {
   "cell_type": "code",
   "execution_count": 35,
   "metadata": {},
   "outputs": [],
   "source": [
    "reduced_formula = (1 - m[\"names_correlation.VALUE\"]) * m[\"sum squares\"] + m[\n",
    "    \"names_correlation.VALUE\"\n",
    "] * tt.pow(m[\"WS\"], 2.0)\n",
    "\n",
    "# Total contribution of:\n",
    "# - pairs having only spot risk factors,\n",
    "# - pairs having only repo risk factors,\n",
    "# is the sum of the reduced formula by Label2 members.\n",
    "\n",
    "m[\"spot&repo pairs contribution\"] = tt.agg.sum(\n",
    "    reduced_formula, scope=tt.scope.origin(\"Label2\")\n",
    ")"
   ]
  },
  {
   "cell_type": "markdown",
   "metadata": {},
   "source": [
    "The contribution of the risk factors where one risk factor belongs to \"SPOT\" and the other belongs to \"REPO\" - case 3 above - can be rewritten:\n",
    "$$ \\sum_k WS_k^2 +  \\sum_k \\sum_{l \\neq k} \\rho_{kl} WS_k WS_l = \\\\ \\vec{WS_{repo}^T} \\cdot J_{n_{repo}, n_{spot}} \\cdot \\vec{WS_{spot}} \\cdot \\rho_{names} \\cdot 0.999 + 0.999 \\cdot (1 - \\rho_{names}) \\sum_{n\\in names}{WS_n^{repo} \\cdot WS_n^{spot}} \\label{spot_vs_repo} $$\n",
    "\n",
    "where:\n",
    "- J - is a matrix of ones,\n",
    "- first term in the above formula performs aggregation of all sensitivities, as if they all are correlated at $\\rho_{names}$,\n",
    "- the second term is to correct the first term and to account for the fact that risk factors, where spot and repo risk factors have the same equity name, must be correlated at 0.999.\n"
   ]
  },
  {
   "cell_type": "markdown",
   "metadata": {},
   "source": [
    "**First term**\n",
    "\n",
    "The measure `sum WS_repo |J| WS_spot` will display $\\vec{WS_{repo}^T} \\cdot J_{n_{repo}, n_{spot}} \\cdot \\vec{WS_{spot}} $."
   ]
  },
  {
   "cell_type": "code",
   "execution_count": 36,
   "metadata": {},
   "outputs": [],
   "source": [
    "# filtering for repo and spot risk factors:\n",
    "m[\"WS_spot\"] = tt.filter(m[\"WSk\"], lvl[\"Label2\"] == \"SPOT\")\n",
    "m[\"WS_repo\"] = tt.filter(m[\"WSk\"], lvl[\"Label2\"] == \"REPO\")\n",
    "\n",
    "# Collect WS of the spot risk factors in a vector and show against every qualifier in a bucket:\n",
    "weights_vector = tt.agg._vector(m[\"WS_spot\"], tt.scope.origin(\"Bucket\", \"Qualifier\"))\n",
    "m[\"spot vector\"] = tt.parent_value(\n",
    "    weights_vector, on_hierarchies=[h[\"Qualifier\"], h[\"Label2\"]]\n",
    ")\n",
    "\n",
    "# cross product of weighted sensitivities for the names, having both spot and repo sensitivities:\n",
    "# Multiply vector WS of the spot risk factors by WS of each repo risk factor sum them up\n",
    "repo_scalar_x_spot_vector = m[\"WS_repo\"] * m[\"spot vector\"]\n",
    "m[\"sum WS_repo |J| WS_spot\"] = tt.agg.stop(\n",
    "    tt.agg.sum(\n",
    "        tt.array.sum(repo_scalar_x_spot_vector),\n",
    "        scope=tt.scope.origin(\"Bucket\", \"Qualifier\"),\n",
    "    ),\n",
    "    at=[lvl[\"Bucket\"]],\n",
    ")"
   ]
  },
  {
   "cell_type": "markdown",
   "metadata": {},
   "source": [
    "**Second term**\n",
    "\n",
    "The measure `sum WS repo and spot` will display $\\sum_{n\\in names}{WS_n^{repo} \\cdot WS_n^{spot}}$"
   ]
  },
  {
   "cell_type": "code",
   "execution_count": 37,
   "metadata": {},
   "outputs": [],
   "source": [
    "######### Below formula will multiply by null - might be a bad style??"
   ]
  },
  {
   "cell_type": "code",
   "execution_count": 38,
   "metadata": {},
   "outputs": [],
   "source": [
    "m[\"WS_spot_parent\"] = tt.agg.sum(m[\"WS_spot\"], scope=tt.scope.origin(\"Label2\"))\n",
    "m[\"WS_repo_parent\"] = tt.agg.sum(m[\"WS_repo\"], scope=tt.scope.origin(\"Label2\"))\n",
    "m[\"sum WS repo and spot\"] = tt.agg.stop(\n",
    "    tt.agg.sum(\n",
    "        m[\"WS_spot_parent\"] * m[\"WS_repo_parent\"], scope=tt.scope.origin(\"Qualifier\")\n",
    "    ),\n",
    "    at=[lvl[\"Bucket\"]],\n",
    ")"
   ]
  },
  {
   "cell_type": "markdown",
   "metadata": {},
   "source": [
    "**Combined result cross spot & repo pairs**"
   ]
  },
  {
   "cell_type": "code",
   "execution_count": 39,
   "metadata": {},
   "outputs": [],
   "source": [
    "# final contribution of the pairs where one risk factor is spot, one is repo\n",
    "m[\"cross repo spot contribution\"] = (\n",
    "    m[\"names_correlation.VALUE\"] * m[\"sum WS_repo |J| WS_spot\"] * 0.999\n",
    "    + 0.999 * (1 - m[\"names_correlation.VALUE\"]) * m[\"sum WS repo and spot\"]\n",
    ")"
   ]
  },
  {
   "cell_type": "markdown",
   "metadata": {},
   "source": [
    "**Total Kb**"
   ]
  },
  {
   "cell_type": "code",
   "execution_count": 40,
   "metadata": {},
   "outputs": [],
   "source": [
    "m[\"Kb alternative\"] = tt.where(\n",
    "    lvl[\"Bucket\"] == \"11\",\n",
    "    tt.agg.sum(tt.abs(m[\"WSk\"]), tt.scope.origin(\"Qualifier\", \"Label2\")),\n",
    "    tt.sqrt(\n",
    "        tt.max(\n",
    "            0, m[\"spot&repo pairs contribution\"] + 2 * m[\"cross repo spot contribution\"]\n",
    "        )\n",
    "    ),\n",
    ")"
   ]
  },
  {
   "cell_type": "code",
   "execution_count": 41,
   "metadata": {},
   "outputs": [
    {
     "data": {
      "text/html": [
       "<div>\n",
       "<style scoped>\n",
       "    .dataframe tbody tr th:only-of-type {\n",
       "        vertical-align: middle;\n",
       "    }\n",
       "\n",
       "    .dataframe tbody tr th {\n",
       "        vertical-align: top;\n",
       "    }\n",
       "\n",
       "    .dataframe thead th {\n",
       "        text-align: right;\n",
       "    }\n",
       "</style>\n",
       "<table border=\"1\" class=\"dataframe\">\n",
       "  <thead>\n",
       "    <tr style=\"text-align: right;\">\n",
       "      <th></th>\n",
       "      <th>Kb</th>\n",
       "      <th>Kb alternative</th>\n",
       "    </tr>\n",
       "    <tr>\n",
       "      <th>Bucket</th>\n",
       "      <th></th>\n",
       "      <th></th>\n",
       "    </tr>\n",
       "  </thead>\n",
       "  <tbody>\n",
       "    <tr>\n",
       "      <th>1</th>\n",
       "      <td>2,002,940.3172</td>\n",
       "      <td>2,002,940.3172</td>\n",
       "    </tr>\n",
       "    <tr>\n",
       "      <th>10</th>\n",
       "      <td>1,819,315.9010</td>\n",
       "      <td>1,819,315.9010</td>\n",
       "    </tr>\n",
       "    <tr>\n",
       "      <th>11</th>\n",
       "      <td>6,418,348.7082</td>\n",
       "      <td>6,418,348.7082</td>\n",
       "    </tr>\n",
       "    <tr>\n",
       "      <th>12</th>\n",
       "      <td>286,992.4354</td>\n",
       "      <td>286,992.4354</td>\n",
       "    </tr>\n",
       "    <tr>\n",
       "      <th>3</th>\n",
       "      <td>4,757.8031</td>\n",
       "      <td>4,757.8031</td>\n",
       "    </tr>\n",
       "    <tr>\n",
       "      <th>4</th>\n",
       "      <td>758,465.4868</td>\n",
       "      <td>758,465.4868</td>\n",
       "    </tr>\n",
       "    <tr>\n",
       "      <th>5</th>\n",
       "      <td>456,861.0617</td>\n",
       "      <td>456,861.0617</td>\n",
       "    </tr>\n",
       "    <tr>\n",
       "      <th>7</th>\n",
       "      <td>932,682.8928</td>\n",
       "      <td>932,682.8928</td>\n",
       "    </tr>\n",
       "    <tr>\n",
       "      <th>8</th>\n",
       "      <td>3,937,788.9195</td>\n",
       "      <td>3,937,788.9195</td>\n",
       "    </tr>\n",
       "    <tr>\n",
       "      <th>9</th>\n",
       "      <td>2,234,809.9610</td>\n",
       "      <td>2,234,809.9610</td>\n",
       "    </tr>\n",
       "  </tbody>\n",
       "</table>\n",
       "</div>"
      ],
      "text/plain": [
       "                   Kb  Kb alternative\n",
       "Bucket                               \n",
       "1      2,002,940.3172  2,002,940.3172\n",
       "10     1,819,315.9010  1,819,315.9010\n",
       "11     6,418,348.7082  6,418,348.7082\n",
       "12       286,992.4354    286,992.4354\n",
       "3          4,757.8031      4,757.8031\n",
       "4        758,465.4868    758,465.4868\n",
       "5        456,861.0617    456,861.0617\n",
       "7        932,682.8928    932,682.8928\n",
       "8      3,937,788.9195  3,937,788.9195\n",
       "9      2,234,809.9610  2,234,809.9610"
      ]
     },
     "execution_count": 41,
     "metadata": {},
     "output_type": "execute_result"
    }
   ],
   "source": [
    "cube.query(\n",
    "    m[\"Kb\"],\n",
    "    m[\"Kb alternative\"],\n",
    "    levels=lvl[\"Bucket\"],\n",
    "    condition=lvl[\"PortfolioID\"] == \"Smaller_Portfolio\",\n",
    ")"
   ]
  },
  {
   "cell_type": "markdown",
   "metadata": {},
   "source": [
    "# Cross-bucket aggregation"
   ]
  },
  {
   "cell_type": "markdown",
   "metadata": {},
   "source": [
    "## Bucket correlations"
   ]
  },
  {
   "cell_type": "code",
   "execution_count": 42,
   "metadata": {},
   "outputs": [],
   "source": [
    "eq_delta_buckets_correlations = session.read_csv(\n",
    "    \"eq_delta_gamma.csv\",\n",
    "    keys=[\"Bucket\", \"Other Bucket\"],\n",
    "    types={\"Bucket\": tt.types.STRING, \"Other Bucket\": tt.types.STRING},\n",
    "    store_name=\"eq_delta_corr_outer\",\n",
    ")\n",
    "risks_store.join(eq_delta_buckets_correlations)"
   ]
  },
  {
   "cell_type": "code",
   "execution_count": 65,
   "metadata": {
    "atoti": {
     "state": {
      "name": "",
      "type": "container",
      "value": {
       "body": {
        "configuration": {
         "tabular": {
          "addButtonFilter": "numeric",
          "columnsGroups": [
           {
            "captionProducer": "firstColumn",
            "cellFactory": "kpi-status",
            "selector": "kpi-status"
           },
           {
            "captionProducer": "firstColumn",
            "cellFactory": "lookup",
            "selector": "lookup"
           },
           {
            "captionProducer": "expiry",
            "cellFactory": "expiry",
            "selector": "kpi-expiry"
           },
           {
            "captionProducer": "columnMerge",
            "cellFactory": {
             "args": {
              "automaticExpansion": true
             },
             "key": "treeCells"
            },
            "selector": "member"
           }
          ],
          "defaultOptions": {},
          "hideAddButton": true,
          "lineNumbers": true,
          "pinnedHeaderSelector": "member",
          "sortingMode": "non-breaking",
          "statisticsShown": true
         }
        },
        "contextValues": {},
        "mdx": "SELECT NON EMPTY Crossjoin([Measures].[gamma.VALUE], [Hierarchies].[Other Bucket].[Other Bucket].Members) ON COLUMNS, NON EMPTY Hierarchize(DrilldownLevel([Hierarchies].[Bucket].[ALL].[AllMember])) ON ROWS FROM [Risks] CELL PROPERTIES VALUE, FORMATTED_VALUE, BACK_COLOR, FORE_COLOR, FONT_FLAGS",
        "ranges": {
         "column": {
          "chunkSize": 50,
          "thresholdPercentage": 0.2
         },
         "row": {
          "chunkSize": 2000,
          "thresholdPercentage": 0.1
         }
        },
        "serverUrl": "",
        "updateMode": "once"
       },
       "containerKey": "pivot-table",
       "showTitleBar": false,
       "style": {}
      }
     }
    }
   },
   "outputs": [
    {
     "data": {
      "application/vnd.atoti.v0+json": {
       "cube": "Risks",
       "name": null,
       "session": "Unnamed"
      },
      "text/plain": [
       "Install the Atoti JupyterLab extension to see this widget."
      ]
     },
     "metadata": {},
     "output_type": "display_data"
    }
   ],
   "source": [
    "cube.visualize()"
   ]
  },
  {
   "cell_type": "markdown",
   "metadata": {},
   "source": [
    "## Aggregating across buckets"
   ]
  },
  {
   "cell_type": "code",
   "execution_count": 43,
   "metadata": {},
   "outputs": [],
   "source": [
    "# 21.4(5)(a):\n",
    "m[\"WSb\"] = m[\"WS\"]\n",
    "m[\"WSc\"] = tt.at(m[\"WS\"], {lvl[\"Bucket\"]: lvl[\"Other Bucket\"]})\n",
    "m[\"sum Kb2 + sum sum WSb WSc gamma\"] = tt.agg.square_sum(\n",
    "    m[\"Kb\"], tt.scope.origin(\"Bucket\")\n",
    ") + tt.agg.sum(\n",
    "    m[\"WSb\"] * m[\"WSc\"] * m[\"gamma.VALUE\"],\n",
    "    scope=tt.scope.origin(\"Bucket\", \"Other Bucket\"),\n",
    ")\n",
    "\n",
    "# 21.4(5)(b):\n",
    "m[\"Sb\"] = tt.max(tt.min(m[\"WS\"], m[\"Kb\"]), -1.0 * m[\"Kb\"])\n",
    "m[\"Sc\"] = tt.at(m[\"Sb\"], {lvl[\"Bucket\"]: lvl[\"Other Bucket\"]})\n",
    "m[\"sum Kb2 + sum sum Sb Sc gamma\"] = tt.agg.square_sum(\n",
    "    m[\"Kb\"], tt.scope.origin(lvl[\"Bucket\"])\n",
    ") + tt.agg.sum(\n",
    "    m[\"Sb\"] * m[\"Sc\"] * m[\"gamma.VALUE\"],\n",
    "    scope=tt.scope.origin(\"Bucket\", \"Other Bucket\"),\n",
    ")\n",
    "\n",
    "m[\"Delta Margin\"] = tt.where(\n",
    "    m[\"sum Kb2 + sum sum WSb WSc gamma\"] > 0,\n",
    "    tt.sqrt(m[\"sum Kb2 + sum sum WSb WSc gamma\"]),\n",
    "    tt.sqrt(m[\"sum Kb2 + sum sum Sb Sc gamma\"]),\n",
    ")"
   ]
  },
  {
   "cell_type": "code",
   "execution_count": 44,
   "metadata": {},
   "outputs": [
    {
     "data": {
      "text/html": [
       "<div>\n",
       "<style scoped>\n",
       "    .dataframe tbody tr th:only-of-type {\n",
       "        vertical-align: middle;\n",
       "    }\n",
       "\n",
       "    .dataframe tbody tr th {\n",
       "        vertical-align: top;\n",
       "    }\n",
       "\n",
       "    .dataframe thead th {\n",
       "        text-align: right;\n",
       "    }\n",
       "</style>\n",
       "<table border=\"1\" class=\"dataframe\">\n",
       "  <thead>\n",
       "    <tr style=\"text-align: right;\">\n",
       "      <th></th>\n",
       "      <th>Delta Margin</th>\n",
       "    </tr>\n",
       "  </thead>\n",
       "  <tbody>\n",
       "    <tr>\n",
       "      <th>0</th>\n",
       "      <td>8,951,153.7749</td>\n",
       "    </tr>\n",
       "  </tbody>\n",
       "</table>\n",
       "</div>"
      ],
      "text/plain": [
       "    Delta Margin\n",
       "0 8,951,153.7749"
      ]
     },
     "execution_count": 44,
     "metadata": {},
     "output_type": "execute_result"
    }
   ],
   "source": [
    "cube.query(\n",
    "    m[\"Delta Margin\"], condition=lvl[\"PortfolioID\"] == \"Smaller_Portfolio\", timeout=90\n",
    ")"
   ]
  },
  {
   "cell_type": "markdown",
   "metadata": {},
   "source": [
    "$\\color{red}{\\text{This calculation goes out of memory}}$"
   ]
  },
  {
   "cell_type": "code",
   "execution_count": null,
   "metadata": {},
   "outputs": [],
   "source": [
    "cube.query(\n",
    "    m[\"Delta Margin\"], condition=lvl[\"PortfolioID\"] == \"Bigger_Portfolio\", timeout=120\n",
    ")"
   ]
  },
  {
   "cell_type": "code",
   "execution_count": 54,
   "metadata": {},
   "outputs": [],
   "source": [
    "# It goes out of memory because there're many risk factors:"
   ]
  },
  {
   "cell_type": "code",
   "execution_count": 66,
   "metadata": {},
   "outputs": [
    {
     "data": {
      "text/plain": [
       "86"
      ]
     },
     "execution_count": 66,
     "metadata": {},
     "output_type": "execute_result"
    }
   ],
   "source": [
    "crif[crif.PortfolioID==\"Smaller_Portfolio\"][['Qualifier', 'Label2']].drop_duplicates().shape[0]"
   ]
  },
  {
   "cell_type": "code",
   "execution_count": 55,
   "metadata": {},
   "outputs": [
    {
     "data": {
      "text/plain": [
       "1571"
      ]
     },
     "execution_count": 55,
     "metadata": {},
     "output_type": "execute_result"
    }
   ],
   "source": [
    "crif[crif.PortfolioID==\"Bigger_Portfolio\"][['Qualifier', 'Label2']].drop_duplicates().shape[0]"
   ]
  },
  {
   "cell_type": "code",
   "execution_count": 56,
   "metadata": {},
   "outputs": [],
   "source": [
    "# Optimized calculation\n",
    "\n",
    "# 21.4(5)(a):\n",
    "m[\"sum Kb2 + sum sum WSb WSc gamma alternative\"] = tt.agg.square_sum(\n",
    "    m[\"Kb alternative\"], scope=tt.scope.origin(\"Bucket\")\n",
    ") + tt.agg.sum(\n",
    "    m[\"WSb\"] * m[\"WSc\"] * m[\"gamma.VALUE\"], tt.scope.origin(\"Bucket\", \"Other Bucket\")\n",
    ")\n",
    "\n",
    "# 21.4(5)(b):\n",
    "m[\"Sb alternative\"] = tt.max(\n",
    "    tt.min(m[\"WSk\"], m[\"Kb alternative\"]), -1.0 * m[\"Kb alternative\"]\n",
    ")\n",
    "m[\"Sc alternative\"] = tt.at(m[\"Sb alternative\"], {lvl[\"Bucket\"]: lvl[\"Other Bucket\"]})\n",
    "m[\"sum Kb2 + sum sum Sb Sc gamma alternative\"] = tt.agg.square_sum(\n",
    "    m[\"Kb alternative\"], scope=tt.scope.origin(\"Bucket\")\n",
    ") + tt.agg.sum(\n",
    "    m[\"Sb alternative\"] * m[\"Sc alternative\"] * m[\"gamma.VALUE\"],\n",
    "    scope=tt.scope.origin(\"Bucket\", \"Other Bucket\"),\n",
    ")\n",
    "\n",
    "m[\"Delta Margin alternative\"] = tt.where(\n",
    "    m[\"sum Kb2 + sum sum WSb WSc gamma alternative\"] > 0,\n",
    "    tt.sqrt(m[\"sum Kb2 + sum sum WSb WSc gamma alternative\"]),\n",
    "    tt.sqrt(m[\"sum Kb2 + sum sum Sb Sc gamma alternative\"]),\n",
    ")"
   ]
  },
  {
   "cell_type": "code",
   "execution_count": 57,
   "metadata": {},
   "outputs": [
    {
     "data": {
      "text/html": [
       "<div>\n",
       "<style scoped>\n",
       "    .dataframe tbody tr th:only-of-type {\n",
       "        vertical-align: middle;\n",
       "    }\n",
       "\n",
       "    .dataframe tbody tr th {\n",
       "        vertical-align: top;\n",
       "    }\n",
       "\n",
       "    .dataframe thead th {\n",
       "        text-align: right;\n",
       "    }\n",
       "</style>\n",
       "<table border=\"1\" class=\"dataframe\">\n",
       "  <thead>\n",
       "    <tr style=\"text-align: right;\">\n",
       "      <th></th>\n",
       "      <th>Delta Margin alternative</th>\n",
       "    </tr>\n",
       "    <tr>\n",
       "      <th>PortfolioID</th>\n",
       "      <th></th>\n",
       "    </tr>\n",
       "  </thead>\n",
       "  <tbody>\n",
       "    <tr>\n",
       "      <th>Bigger_Portfolio</th>\n",
       "      <td>9,357,880.5093</td>\n",
       "    </tr>\n",
       "    <tr>\n",
       "      <th>Smaller_Portfolio</th>\n",
       "      <td>8,951,153.7749</td>\n",
       "    </tr>\n",
       "  </tbody>\n",
       "</table>\n",
       "</div>"
      ],
      "text/plain": [
       "                   Delta Margin alternative\n",
       "PortfolioID                                \n",
       "Bigger_Portfolio             9,357,880.5093\n",
       "Smaller_Portfolio            8,951,153.7749"
      ]
     },
     "execution_count": 57,
     "metadata": {},
     "output_type": "execute_result"
    }
   ],
   "source": [
    "cube.query(m[\"Delta Margin alternative\"], levels=[lvl[\"PortfolioID\"]])"
   ]
  },
  {
   "cell_type": "markdown",
   "metadata": {},
   "source": [
    "# Timeit"
   ]
  },
  {
   "cell_type": "code",
   "execution_count": 58,
   "metadata": {},
   "outputs": [
    {
     "name": "stdout",
     "output_type": "stream",
     "text": [
      "108 ms ± 15.3 ms per loop (mean ± std. dev. of 7 runs, 1 loop each)\n"
     ]
    }
   ],
   "source": [
    "%%timeit\n",
    "cube.query(\n",
    "    m[\"Delta Margin\"], condition=lvl[\"PortfolioID\"] == \"Smaller_Portfolio\", timeout=90\n",
    ")"
   ]
  },
  {
   "cell_type": "code",
   "execution_count": null,
   "metadata": {},
   "outputs": [],
   "source": [
    "%%timeit\n",
    "cube.query(\n",
    "    m[\"Delta Margin\"], condition=lvl[\"PortfolioID\"] == \"Bigger_Portfolio\", timeout=120\n",
    ")"
   ]
  },
  {
   "cell_type": "code",
   "execution_count": 59,
   "metadata": {},
   "outputs": [
    {
     "name": "stdout",
     "output_type": "stream",
     "text": [
      "122 ms ± 66.9 ms per loop (mean ± std. dev. of 7 runs, 1 loop each)\n"
     ]
    }
   ],
   "source": [
    "%%timeit\n",
    "cube.query(\n",
    "    m[\"Delta Margin alternative\"], condition=lvl[\"PortfolioID\"] == \"Smaller_Portfolio\"\n",
    ")"
   ]
  },
  {
   "cell_type": "code",
   "execution_count": 60,
   "metadata": {},
   "outputs": [
    {
     "name": "stdout",
     "output_type": "stream",
     "text": [
      "85.7 ms ± 8.02 ms per loop (mean ± std. dev. of 7 runs, 1 loop each)\n"
     ]
    }
   ],
   "source": [
    "%%timeit\n",
    "cube.query(\n",
    "    m[\"Delta Margin alternative\"], condition=lvl[\"PortfolioID\"] == \"Bigger_Portfolio\"\n",
    ")"
   ]
  }
 ],
 "metadata": {
  "kernelspec": {
   "display_name": "Python 3",
   "language": "python",
   "name": "python3"
  },
  "language_info": {
   "codemirror_mode": {
    "name": "ipython",
    "version": 3
   },
   "file_extension": ".py",
   "mimetype": "text/x-python",
   "name": "python",
   "nbconvert_exporter": "python",
   "pygments_lexer": "ipython3",
   "version": "3.7.6"
  },
  "latex_envs": {
   "LaTeX_envs_menu_present": true,
   "autoclose": false,
   "autocomplete": true,
   "bibliofile": "biblio.bib",
   "cite_by": "apalike",
   "current_citInitial": 1,
   "eqLabelWithNumbers": true,
   "eqNumInitial": 1,
   "hotkeys": {
    "equation": "Ctrl-E",
    "itemize": "Ctrl-I"
   },
   "labels_anchors": false,
   "latex_user_defs": false,
   "report_style_numbering": false,
   "user_envs_cfg": false
  },
  "toc": {
   "base_numbering": 1,
   "nav_menu": {},
   "number_sections": true,
   "sideBar": true,
   "skip_h1_title": false,
   "title_cell": "Table of Contents",
   "title_sidebar": "Contents",
   "toc_cell": false,
   "toc_position": {
    "height": "calc(100% - 180px)",
    "left": "10px",
    "top": "150px",
    "width": "305.517px"
   },
   "toc_section_display": true,
   "toc_window_display": true
  },
  "varInspector": {
   "cols": {
    "lenName": 16,
    "lenType": 16,
    "lenVar": 40
   },
   "kernels_config": {
    "python": {
     "delete_cmd_postfix": "",
     "delete_cmd_prefix": "del ",
     "library": "var_list.py",
     "varRefreshCmd": "print(var_dic_list())"
    },
    "r": {
     "delete_cmd_postfix": ") ",
     "delete_cmd_prefix": "rm(",
     "library": "var_list.r",
     "varRefreshCmd": "cat(var_dic_list()) "
    }
   },
   "types_to_exclude": [
    "module",
    "function",
    "builtin_function_or_method",
    "instance",
    "_Feature"
   ],
   "window_display": false
  }
 },
 "nbformat": 4,
 "nbformat_minor": 4
}
