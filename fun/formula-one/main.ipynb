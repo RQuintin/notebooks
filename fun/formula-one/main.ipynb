{
 "cells": [
  {
   "cell_type": "markdown",
   "metadata": {},
   "source": [
    "# F1 statistics & simulation"
   ]
  },
  {
   "cell_type": "markdown",
   "metadata": {},
   "source": [
    "## Introduction\n",
    "\n",
    "Credit:\n",
    "The original version of this notebook was created by David Chevrier, Diggers.\n",
    "\n",
    "More information: https://www.diggers-consulting.com/blog/articles/how-data-science-could-turn-felipe-massa-a-f1-world-champion"
   ]
  },
  {
   "cell_type": "markdown",
   "metadata": {},
   "source": [
    "## Dataset\n",
    "Data from https://ergast.com/mrd/db/#csv or https://www.kaggle.com/draeg82/exploration-of-f1-dataset/data  \n",
    "F1 data from 1950 to 2019\n"
   ]
  },
  {
   "cell_type": "markdown",
   "metadata": {},
   "source": [
    "## Prerequisites\n",
    "\n",
    "### Changes in data files\n",
    "In files drivers.csv, rename column 'url' to 'driver_url'"
   ]
  },
  {
   "cell_type": "markdown",
   "metadata": {},
   "source": [
    "## 1. Initialization & creation of the activepivot session"
   ]
  },
  {
   "cell_type": "code",
   "execution_count": 1,
   "metadata": {},
   "outputs": [
    {
     "name": "stdout",
     "output_type": "stream",
     "text": [
      "Welcome to Atoti 0.4.0.20200511082531!\n",
      "\n",
      "By using this community edition, you agree with the license available at https://www.atoti.io/eula.\n",
      "Browse the official documentation at https://docs.atoti.io.\n",
      "Join the community at https://www.atoti.io/register.\n",
      "\n",
      "You can hide this message by setting the ATOTI_HIDE_EULA_MESSAGE environment variable to True.\n"
     ]
    }
   ],
   "source": [
    "import atoti as tt\n",
    "import numpy as np\n",
    "import pandas as pd\n",
    "\n",
    "session = tt.create_session()"
   ]
  },
  {
   "cell_type": "markdown",
   "metadata": {},
   "source": [
    "## 2. Creation of Stores"
   ]
  },
  {
   "cell_type": "code",
   "execution_count": 2,
   "metadata": {},
   "outputs": [],
   "source": [
    "driversTypes = {\n",
    "    \"driverId\": tt.types.STRING,\n",
    "}\n",
    "sDrivers = session.read_csv(\"./f1db_csv/drivers.csv\", keys=[\"driverId\"], store_name=\"F1 drivers\", types=driversTypes)"
   ]
  },
  {
   "cell_type": "code",
   "execution_count": 3,
   "metadata": {},
   "outputs": [
    {
     "data": {
      "application/json": {
       "code": {
        "key": false,
        "nullable": true,
        "type": "string"
       },
       "dob": {
        "key": false,
        "nullable": true,
        "type": "LocalDate[yyyy-MM-dd]"
       },
       "driverId": {
        "key": true,
        "nullable": true,
        "type": "string"
       },
       "driverRef": {
        "key": false,
        "nullable": true,
        "type": "string"
       },
       "driver_url": {
        "key": false,
        "nullable": true,
        "type": "string"
       },
       "forename": {
        "key": false,
        "nullable": true,
        "type": "string"
       },
       "nationality": {
        "key": false,
        "nullable": true,
        "type": "string"
       },
       "number": {
        "key": false,
        "nullable": true,
        "type": "string"
       },
       "surname": {
        "key": false,
        "nullable": true,
        "type": "string"
       }
      },
      "text/html": [
       "<ul>\n",
       "<li>F1 drivers\n",
       "  <ul>\n",
       "  <li>driverId\n",
       "    <ul>\n",
       "    <li>key: True</li>\n",
       "    <li>nullable: True</li>\n",
       "    <li>type: string</li>\n",
       "    </ul>\n",
       "  </li>\n",
       "  <li>driverRef\n",
       "    <ul>\n",
       "    <li>key: False</li>\n",
       "    <li>nullable: True</li>\n",
       "    <li>type: string</li>\n",
       "    </ul>\n",
       "  </li>\n",
       "  <li>number\n",
       "    <ul>\n",
       "    <li>key: False</li>\n",
       "    <li>nullable: True</li>\n",
       "    <li>type: string</li>\n",
       "    </ul>\n",
       "  </li>\n",
       "  <li>code\n",
       "    <ul>\n",
       "    <li>key: False</li>\n",
       "    <li>nullable: True</li>\n",
       "    <li>type: string</li>\n",
       "    </ul>\n",
       "  </li>\n",
       "  <li>forename\n",
       "    <ul>\n",
       "    <li>key: False</li>\n",
       "    <li>nullable: True</li>\n",
       "    <li>type: string</li>\n",
       "    </ul>\n",
       "  </li>\n",
       "  <li>surname\n",
       "    <ul>\n",
       "    <li>key: False</li>\n",
       "    <li>nullable: True</li>\n",
       "    <li>type: string</li>\n",
       "    </ul>\n",
       "  </li>\n",
       "  <li>dob\n",
       "    <ul>\n",
       "    <li>key: False</li>\n",
       "    <li>nullable: True</li>\n",
       "    <li>type: LocalDate[yyyy-MM-dd]</li>\n",
       "    </ul>\n",
       "  </li>\n",
       "  <li>nationality\n",
       "    <ul>\n",
       "    <li>key: False</li>\n",
       "    <li>nullable: True</li>\n",
       "    <li>type: string</li>\n",
       "    </ul>\n",
       "  </li>\n",
       "  <li>driver_url\n",
       "    <ul>\n",
       "    <li>key: False</li>\n",
       "    <li>nullable: True</li>\n",
       "    <li>type: string</li>\n",
       "    </ul>\n",
       "  </li>\n",
       "  </ul>\n",
       "</li>\n",
       "</ul>\n"
      ],
      "text/plain": [
       "Store(_name='F1 drivers', _scenario='Base', _columns={'driverId': Column(name='driverId', data_type=AtotiType(java_type='string', nullable=True)), 'driverRef': Column(name='driverRef', data_type=AtotiType(java_type='string', nullable=True)), 'number': Column(name='number', data_type=AtotiType(java_type='string', nullable=True)), 'code': Column(name='code', data_type=AtotiType(java_type='string', nullable=True)), 'forename': Column(name='forename', data_type=AtotiType(java_type='string', nullable=True)), 'surname': Column(name='surname', data_type=AtotiType(java_type='string', nullable=True)), 'dob': Column(name='dob', data_type=AtotiType(java_type='LocalDate[yyyy-MM-dd]', nullable=True)), 'nationality': Column(name='nationality', data_type=AtotiType(java_type='string', nullable=True)), 'driver_url': Column(name='driver_url', data_type=AtotiType(java_type='string', nullable=True))})"
      ]
     },
     "execution_count": 3,
     "metadata": {
      "application/json": {
       "expanded": true,
       "root": "F1 drivers"
      }
     },
     "output_type": "execute_result"
    }
   ],
   "source": [
    "sDrivers"
   ]
  },
  {
   "cell_type": "code",
   "execution_count": 4,
   "metadata": {},
   "outputs": [],
   "source": [
    "racesTypes = {\n",
    "    \"raceId\": tt.types.STRING,\n",
    "}\n",
    "sRaces = session.read_csv(\"./f1db_csv/races.csv\", keys=['raceId'], store_name=\"F1 races\", types=racesTypes)"
   ]
  },
  {
   "cell_type": "code",
   "execution_count": 5,
   "metadata": {},
   "outputs": [
    {
     "data": {
      "application/json": {
       "circuitId": {
        "key": false,
        "nullable": true,
        "type": "int"
       },
       "date": {
        "key": false,
        "nullable": true,
        "type": "LocalDate[yyyy-MM-dd]"
       },
       "name": {
        "key": false,
        "nullable": true,
        "type": "string"
       },
       "raceId": {
        "key": true,
        "nullable": true,
        "type": "string"
       },
       "round": {
        "key": false,
        "nullable": true,
        "type": "int"
       },
       "time": {
        "key": false,
        "nullable": true,
        "type": "string"
       },
       "url": {
        "key": false,
        "nullable": true,
        "type": "string"
       },
       "year": {
        "key": false,
        "nullable": true,
        "type": "int"
       }
      },
      "text/html": [
       "<ul>\n",
       "<li>F1 races\n",
       "  <ul>\n",
       "  <li>raceId\n",
       "    <ul>\n",
       "    <li>key: True</li>\n",
       "    <li>nullable: True</li>\n",
       "    <li>type: string</li>\n",
       "    </ul>\n",
       "  </li>\n",
       "  <li>year\n",
       "    <ul>\n",
       "    <li>key: False</li>\n",
       "    <li>nullable: True</li>\n",
       "    <li>type: int</li>\n",
       "    </ul>\n",
       "  </li>\n",
       "  <li>round\n",
       "    <ul>\n",
       "    <li>key: False</li>\n",
       "    <li>nullable: True</li>\n",
       "    <li>type: int</li>\n",
       "    </ul>\n",
       "  </li>\n",
       "  <li>circuitId\n",
       "    <ul>\n",
       "    <li>key: False</li>\n",
       "    <li>nullable: True</li>\n",
       "    <li>type: int</li>\n",
       "    </ul>\n",
       "  </li>\n",
       "  <li>name\n",
       "    <ul>\n",
       "    <li>key: False</li>\n",
       "    <li>nullable: True</li>\n",
       "    <li>type: string</li>\n",
       "    </ul>\n",
       "  </li>\n",
       "  <li>date\n",
       "    <ul>\n",
       "    <li>key: False</li>\n",
       "    <li>nullable: True</li>\n",
       "    <li>type: LocalDate[yyyy-MM-dd]</li>\n",
       "    </ul>\n",
       "  </li>\n",
       "  <li>time\n",
       "    <ul>\n",
       "    <li>key: False</li>\n",
       "    <li>nullable: True</li>\n",
       "    <li>type: string</li>\n",
       "    </ul>\n",
       "  </li>\n",
       "  <li>url\n",
       "    <ul>\n",
       "    <li>key: False</li>\n",
       "    <li>nullable: True</li>\n",
       "    <li>type: string</li>\n",
       "    </ul>\n",
       "  </li>\n",
       "  </ul>\n",
       "</li>\n",
       "</ul>\n"
      ],
      "text/plain": [
       "Store(_name='F1 races', _scenario='Base', _columns={'raceId': Column(name='raceId', data_type=AtotiType(java_type='string', nullable=True)), 'year': Column(name='year', data_type=AtotiType(java_type='int', nullable=True)), 'round': Column(name='round', data_type=AtotiType(java_type='int', nullable=True)), 'circuitId': Column(name='circuitId', data_type=AtotiType(java_type='int', nullable=True)), 'name': Column(name='name', data_type=AtotiType(java_type='string', nullable=True)), 'date': Column(name='date', data_type=AtotiType(java_type='LocalDate[yyyy-MM-dd]', nullable=True)), 'time': Column(name='time', data_type=AtotiType(java_type='string', nullable=True)), 'url': Column(name='url', data_type=AtotiType(java_type='string', nullable=True))})"
      ]
     },
     "execution_count": 5,
     "metadata": {
      "application/json": {
       "expanded": true,
       "root": "F1 races"
      }
     },
     "output_type": "execute_result"
    }
   ],
   "source": [
    "sRaces"
   ]
  },
  {
   "cell_type": "code",
   "execution_count": 6,
   "metadata": {},
   "outputs": [
    {
     "name": "stderr",
     "output_type": "stream",
     "text": [
      "The store has been sampled because there is more than 10000 lines in the files to load.Call Session.load_all_data()  to trigger the full load of the data.\n"
     ]
    }
   ],
   "source": [
    "resultsTypes = {\n",
    "    \"points\": tt.types.DOUBLE,\n",
    "    \"raceId\": tt.types.STRING,\n",
    "    \"driverId\": tt.types.STRING,\n",
    "}\n",
    "\n",
    "sResults = session.read_csv(\"./f1db_csv/results.csv\", keys=['resultId'], store_name=\"F1 results\", types=resultsTypes)"
   ]
  },
  {
   "cell_type": "code",
   "execution_count": 7,
   "metadata": {},
   "outputs": [
    {
     "data": {
      "application/json": {
       "constructorId": {
        "key": false,
        "nullable": true,
        "type": "int"
       },
       "driverId": {
        "key": false,
        "nullable": true,
        "type": "string"
       },
       "fastestLap": {
        "key": false,
        "nullable": true,
        "type": "string"
       },
       "fastestLapSpeed": {
        "key": false,
        "nullable": true,
        "type": "string"
       },
       "fastestLapTime": {
        "key": false,
        "nullable": true,
        "type": "string"
       },
       "grid": {
        "key": false,
        "nullable": true,
        "type": "int"
       },
       "laps": {
        "key": false,
        "nullable": true,
        "type": "int"
       },
       "milliseconds": {
        "key": false,
        "nullable": true,
        "type": "string"
       },
       "number": {
        "key": false,
        "nullable": true,
        "type": "int"
       },
       "points": {
        "key": false,
        "nullable": false,
        "type": "double"
       },
       "position": {
        "key": false,
        "nullable": true,
        "type": "string"
       },
       "positionOrder": {
        "key": false,
        "nullable": true,
        "type": "int"
       },
       "positionText": {
        "key": false,
        "nullable": true,
        "type": "string"
       },
       "raceId": {
        "key": false,
        "nullable": true,
        "type": "string"
       },
       "rank": {
        "key": false,
        "nullable": true,
        "type": "string"
       },
       "resultId": {
        "key": true,
        "nullable": true,
        "type": "int"
       },
       "statusId": {
        "key": false,
        "nullable": true,
        "type": "int"
       },
       "time": {
        "key": false,
        "nullable": true,
        "type": "string"
       }
      },
      "text/html": [
       "<ul>\n",
       "<li>F1 results\n",
       "  <ul>\n",
       "  <li>resultId\n",
       "    <ul>\n",
       "    <li>key: True</li>\n",
       "    <li>nullable: True</li>\n",
       "    <li>type: int</li>\n",
       "    </ul>\n",
       "  </li>\n",
       "  <li>raceId\n",
       "    <ul>\n",
       "    <li>key: False</li>\n",
       "    <li>nullable: True</li>\n",
       "    <li>type: string</li>\n",
       "    </ul>\n",
       "  </li>\n",
       "  <li>driverId\n",
       "    <ul>\n",
       "    <li>key: False</li>\n",
       "    <li>nullable: True</li>\n",
       "    <li>type: string</li>\n",
       "    </ul>\n",
       "  </li>\n",
       "  <li>constructorId\n",
       "    <ul>\n",
       "    <li>key: False</li>\n",
       "    <li>nullable: True</li>\n",
       "    <li>type: int</li>\n",
       "    </ul>\n",
       "  </li>\n",
       "  <li>number\n",
       "    <ul>\n",
       "    <li>key: False</li>\n",
       "    <li>nullable: True</li>\n",
       "    <li>type: int</li>\n",
       "    </ul>\n",
       "  </li>\n",
       "  <li>grid\n",
       "    <ul>\n",
       "    <li>key: False</li>\n",
       "    <li>nullable: True</li>\n",
       "    <li>type: int</li>\n",
       "    </ul>\n",
       "  </li>\n",
       "  <li>position\n",
       "    <ul>\n",
       "    <li>key: False</li>\n",
       "    <li>nullable: True</li>\n",
       "    <li>type: string</li>\n",
       "    </ul>\n",
       "  </li>\n",
       "  <li>positionText\n",
       "    <ul>\n",
       "    <li>key: False</li>\n",
       "    <li>nullable: True</li>\n",
       "    <li>type: string</li>\n",
       "    </ul>\n",
       "  </li>\n",
       "  <li>positionOrder\n",
       "    <ul>\n",
       "    <li>key: False</li>\n",
       "    <li>nullable: True</li>\n",
       "    <li>type: int</li>\n",
       "    </ul>\n",
       "  </li>\n",
       "  <li>points\n",
       "    <ul>\n",
       "    <li>key: False</li>\n",
       "    <li>nullable: False</li>\n",
       "    <li>type: double</li>\n",
       "    </ul>\n",
       "  </li>\n",
       "  <li>laps\n",
       "    <ul>\n",
       "    <li>key: False</li>\n",
       "    <li>nullable: True</li>\n",
       "    <li>type: int</li>\n",
       "    </ul>\n",
       "  </li>\n",
       "  <li>time\n",
       "    <ul>\n",
       "    <li>key: False</li>\n",
       "    <li>nullable: True</li>\n",
       "    <li>type: string</li>\n",
       "    </ul>\n",
       "  </li>\n",
       "  <li>milliseconds\n",
       "    <ul>\n",
       "    <li>key: False</li>\n",
       "    <li>nullable: True</li>\n",
       "    <li>type: string</li>\n",
       "    </ul>\n",
       "  </li>\n",
       "  <li>fastestLap\n",
       "    <ul>\n",
       "    <li>key: False</li>\n",
       "    <li>nullable: True</li>\n",
       "    <li>type: string</li>\n",
       "    </ul>\n",
       "  </li>\n",
       "  <li>rank\n",
       "    <ul>\n",
       "    <li>key: False</li>\n",
       "    <li>nullable: True</li>\n",
       "    <li>type: string</li>\n",
       "    </ul>\n",
       "  </li>\n",
       "  <li>fastestLapTime\n",
       "    <ul>\n",
       "    <li>key: False</li>\n",
       "    <li>nullable: True</li>\n",
       "    <li>type: string</li>\n",
       "    </ul>\n",
       "  </li>\n",
       "  <li>fastestLapSpeed\n",
       "    <ul>\n",
       "    <li>key: False</li>\n",
       "    <li>nullable: True</li>\n",
       "    <li>type: string</li>\n",
       "    </ul>\n",
       "  </li>\n",
       "  <li>statusId\n",
       "    <ul>\n",
       "    <li>key: False</li>\n",
       "    <li>nullable: True</li>\n",
       "    <li>type: int</li>\n",
       "    </ul>\n",
       "  </li>\n",
       "  </ul>\n",
       "</li>\n",
       "</ul>\n"
      ],
      "text/plain": [
       "Store(_name='F1 results', _scenario='Base', _columns={'resultId': Column(name='resultId', data_type=AtotiType(java_type='int', nullable=True)), 'raceId': Column(name='raceId', data_type=AtotiType(java_type='string', nullable=True)), 'driverId': Column(name='driverId', data_type=AtotiType(java_type='string', nullable=True)), 'constructorId': Column(name='constructorId', data_type=AtotiType(java_type='int', nullable=True)), 'number': Column(name='number', data_type=AtotiType(java_type='int', nullable=True)), 'grid': Column(name='grid', data_type=AtotiType(java_type='int', nullable=True)), 'position': Column(name='position', data_type=AtotiType(java_type='string', nullable=True)), 'positionText': Column(name='positionText', data_type=AtotiType(java_type='string', nullable=True)), 'positionOrder': Column(name='positionOrder', data_type=AtotiType(java_type='int', nullable=True)), 'points': Column(name='points', data_type=AtotiType(java_type='double', nullable=False)), 'laps': Column(name='laps', data_type=AtotiType(java_type='int', nullable=True)), 'time': Column(name='time', data_type=AtotiType(java_type='string', nullable=True)), 'milliseconds': Column(name='milliseconds', data_type=AtotiType(java_type='string', nullable=True)), 'fastestLap': Column(name='fastestLap', data_type=AtotiType(java_type='string', nullable=True)), 'rank': Column(name='rank', data_type=AtotiType(java_type='string', nullable=True)), 'fastestLapTime': Column(name='fastestLapTime', data_type=AtotiType(java_type='string', nullable=True)), 'fastestLapSpeed': Column(name='fastestLapSpeed', data_type=AtotiType(java_type='string', nullable=True)), 'statusId': Column(name='statusId', data_type=AtotiType(java_type='int', nullable=True))})"
      ]
     },
     "execution_count": 7,
     "metadata": {
      "application/json": {
       "expanded": true,
       "root": "F1 results"
      }
     },
     "output_type": "execute_result"
    }
   ],
   "source": [
    "sResults"
   ]
  },
  {
   "cell_type": "code",
   "execution_count": 8,
   "metadata": {},
   "outputs": [],
   "source": [
    "sResults.join(sDrivers,mapping={\"driverId\":\"driverId\"})\n",
    "sResults.join(sRaces, mapping={\"raceId\": \"raceId\"})"
   ]
  },
  {
   "cell_type": "code",
   "execution_count": 9,
   "metadata": {},
   "outputs": [],
   "source": [
    "#load_all_data necessary otherwise stores are loaded with 10000 lines max\n",
    "session.load_all_data()"
   ]
  },
  {
   "cell_type": "markdown",
   "metadata": {},
   "source": [
    "## 3. Cube"
   ]
  },
  {
   "cell_type": "markdown",
   "metadata": {},
   "source": [
    "### Cube for Race results"
   ]
  },
  {
   "cell_type": "code",
   "execution_count": 10,
   "metadata": {},
   "outputs": [],
   "source": [
    "f1cube= session.create_cube(sResults,\"F1Cube\")"
   ]
  },
  {
   "cell_type": "code",
   "execution_count": 11,
   "metadata": {},
   "outputs": [
    {
     "data": {
      "image/svg+xml": [
       "<svg xmlns=\"http://www.w3.org/2000/svg\" xmlns:xlink=\"http://www.w3.org/1999/xlink\" width=\"494px\" height=\"746px\" viewBox=\"0.00 0.00 494.00 745.50\">\n",
       "<g id=\"graph0\" class=\"graph\" transform=\"scale(1.0 1.0) rotate(0) translate(4 741.5)\">\n",
       "<title>F1Cube schema</title>\n",
       "<polygon fill=\"white\" stroke=\"transparent\" points=\"-4,4 -4,-741.5 490,-741.5 490,4 -4,4\"/>\n",
       "<!-- F1 results -->\n",
       "<g id=\"node1\" class=\"node\">\n",
       "<title>F1 results</title>\n",
       "<polygon fill=\"none\" stroke=\"black\" points=\"8.5,-673.5 8.5,-710.5 167.5,-710.5 167.5,-673.5 8.5,-673.5\"/>\n",
       "<text text-anchor=\"start\" x=\"58\" y=\"-689.3\" font-family=\"Times,serif\" font-weight=\"bold\" font-size=\"14.00\">F1 results</text>\n",
       "<polygon fill=\"none\" stroke=\"black\" points=\"8.5,-636.5 8.5,-673.5 167.5,-673.5 167.5,-636.5 8.5,-636.5\"/>\n",
       "<text text-anchor=\"start\" x=\"19.5\" y=\"-652.3\" font-family=\"Times,serif\" font-weight=\"bold\" font-size=\"14.00\">Key</text>\n",
       "<text text-anchor=\"start\" x=\"44.5\" y=\"-652.3\" font-family=\"Times,serif\" font-size=\"14.00\">  resultId </text>\n",
       "<text text-anchor=\"start\" x=\"99.5\" y=\"-652.3\" font-family=\"Times,serif\" font-style=\"italic\" font-size=\"14.00\">int</text>\n",
       "<text text-anchor=\"start\" x=\"115.5\" y=\"-652.3\" font-family=\"Times,serif\" font-size=\"14.00\"> </text>\n",
       "<polygon fill=\"none\" stroke=\"black\" points=\"8.5,-599.5 8.5,-636.5 167.5,-636.5 167.5,-599.5 8.5,-599.5\"/>\n",
       "<text text-anchor=\"start\" x=\"19.5\" y=\"-615.3\" font-family=\"Times,serif\" font-size=\"14.00\">raceId </text>\n",
       "<text text-anchor=\"start\" x=\"58.5\" y=\"-615.3\" font-family=\"Times,serif\" font-style=\"italic\" font-size=\"14.00\">String</text>\n",
       "<text text-anchor=\"start\" x=\"94.5\" y=\"-615.3\" font-family=\"Times,serif\" font-size=\"14.00\"> </text>\n",
       "<polygon fill=\"none\" stroke=\"black\" points=\"8.5,-562.5 8.5,-599.5 167.5,-599.5 167.5,-562.5 8.5,-562.5\"/>\n",
       "<text text-anchor=\"start\" x=\"19.5\" y=\"-578.3\" font-family=\"Times,serif\" font-size=\"14.00\">driverId </text>\n",
       "<text text-anchor=\"start\" x=\"69.5\" y=\"-578.3\" font-family=\"Times,serif\" font-style=\"italic\" font-size=\"14.00\">String</text>\n",
       "<text text-anchor=\"start\" x=\"105.5\" y=\"-578.3\" font-family=\"Times,serif\" font-size=\"14.00\"> </text>\n",
       "<polygon fill=\"none\" stroke=\"black\" points=\"8.5,-525.5 8.5,-562.5 167.5,-562.5 167.5,-525.5 8.5,-525.5\"/>\n",
       "<text text-anchor=\"start\" x=\"19.5\" y=\"-541.3\" font-family=\"Times,serif\" font-size=\"14.00\">constructorId </text>\n",
       "<text text-anchor=\"start\" x=\"99.5\" y=\"-541.3\" font-family=\"Times,serif\" font-style=\"italic\" font-size=\"14.00\">int</text>\n",
       "<text text-anchor=\"start\" x=\"115.5\" y=\"-541.3\" font-family=\"Times,serif\" font-size=\"14.00\"> </text>\n",
       "<polygon fill=\"none\" stroke=\"black\" points=\"8.5,-488.5 8.5,-525.5 167.5,-525.5 167.5,-488.5 8.5,-488.5\"/>\n",
       "<text text-anchor=\"start\" x=\"19.5\" y=\"-504.3\" font-family=\"Times,serif\" font-size=\"14.00\">number </text>\n",
       "<text text-anchor=\"start\" x=\"68.5\" y=\"-504.3\" font-family=\"Times,serif\" font-style=\"italic\" font-size=\"14.00\">int</text>\n",
       "<text text-anchor=\"start\" x=\"84.5\" y=\"-504.3\" font-family=\"Times,serif\" font-size=\"14.00\"> </text>\n",
       "<polygon fill=\"none\" stroke=\"black\" points=\"8.5,-451.5 8.5,-488.5 167.5,-488.5 167.5,-451.5 8.5,-451.5\"/>\n",
       "<text text-anchor=\"start\" x=\"19.5\" y=\"-467.3\" font-family=\"Times,serif\" font-size=\"14.00\">grid </text>\n",
       "<text text-anchor=\"start\" x=\"47.5\" y=\"-467.3\" font-family=\"Times,serif\" font-style=\"italic\" font-size=\"14.00\">int</text>\n",
       "<text text-anchor=\"start\" x=\"63.5\" y=\"-467.3\" font-family=\"Times,serif\" font-size=\"14.00\"> </text>\n",
       "<polygon fill=\"none\" stroke=\"black\" points=\"8.5,-414.5 8.5,-451.5 167.5,-451.5 167.5,-414.5 8.5,-414.5\"/>\n",
       "<text text-anchor=\"start\" x=\"19.5\" y=\"-430.3\" font-family=\"Times,serif\" font-size=\"14.00\">position </text>\n",
       "<text text-anchor=\"start\" x=\"70.5\" y=\"-430.3\" font-family=\"Times,serif\" font-style=\"italic\" font-size=\"14.00\">String</text>\n",
       "<text text-anchor=\"start\" x=\"106.5\" y=\"-430.3\" font-family=\"Times,serif\" font-size=\"14.00\"> </text>\n",
       "<polygon fill=\"none\" stroke=\"black\" points=\"8.5,-377.5 8.5,-414.5 167.5,-414.5 167.5,-377.5 8.5,-377.5\"/>\n",
       "<text text-anchor=\"start\" x=\"19.5\" y=\"-393.3\" font-family=\"Times,serif\" font-size=\"14.00\">positionText </text>\n",
       "<text text-anchor=\"start\" x=\"95.5\" y=\"-393.3\" font-family=\"Times,serif\" font-style=\"italic\" font-size=\"14.00\">String</text>\n",
       "<text text-anchor=\"start\" x=\"131.5\" y=\"-393.3\" font-family=\"Times,serif\" font-size=\"14.00\"> </text>\n",
       "<polygon fill=\"none\" stroke=\"black\" points=\"8.5,-340.5 8.5,-377.5 167.5,-377.5 167.5,-340.5 8.5,-340.5\"/>\n",
       "<text text-anchor=\"start\" x=\"19.5\" y=\"-356.3\" font-family=\"Times,serif\" font-size=\"14.00\">positionOrder </text>\n",
       "<text text-anchor=\"start\" x=\"103.5\" y=\"-356.3\" font-family=\"Times,serif\" font-style=\"italic\" font-size=\"14.00\">int</text>\n",
       "<text text-anchor=\"start\" x=\"119.5\" y=\"-356.3\" font-family=\"Times,serif\" font-size=\"14.00\"> </text>\n",
       "<polygon fill=\"none\" stroke=\"black\" points=\"8.5,-303.5 8.5,-340.5 167.5,-340.5 167.5,-303.5 8.5,-303.5\"/>\n",
       "<text text-anchor=\"start\" x=\"19.5\" y=\"-319.3\" font-family=\"Times,serif\" font-size=\"14.00\">points </text>\n",
       "<text text-anchor=\"start\" x=\"59.5\" y=\"-319.3\" font-family=\"Times,serif\" font-style=\"italic\" font-size=\"14.00\">double</text>\n",
       "<text text-anchor=\"start\" x=\"99.5\" y=\"-319.3\" font-family=\"Times,serif\" font-size=\"14.00\"> </text>\n",
       "<polygon fill=\"none\" stroke=\"black\" points=\"8.5,-266.5 8.5,-303.5 167.5,-303.5 167.5,-266.5 8.5,-266.5\"/>\n",
       "<text text-anchor=\"start\" x=\"19.5\" y=\"-282.3\" font-family=\"Times,serif\" font-size=\"14.00\">laps </text>\n",
       "<text text-anchor=\"start\" x=\"46.5\" y=\"-282.3\" font-family=\"Times,serif\" font-style=\"italic\" font-size=\"14.00\">int</text>\n",
       "<text text-anchor=\"start\" x=\"62.5\" y=\"-282.3\" font-family=\"Times,serif\" font-size=\"14.00\"> </text>\n",
       "<polygon fill=\"none\" stroke=\"black\" points=\"8.5,-229.5 8.5,-266.5 167.5,-266.5 167.5,-229.5 8.5,-229.5\"/>\n",
       "<text text-anchor=\"start\" x=\"19.5\" y=\"-245.3\" font-family=\"Times,serif\" font-size=\"14.00\">time </text>\n",
       "<text text-anchor=\"start\" x=\"48.5\" y=\"-245.3\" font-family=\"Times,serif\" font-style=\"italic\" font-size=\"14.00\">String</text>\n",
       "<text text-anchor=\"start\" x=\"84.5\" y=\"-245.3\" font-family=\"Times,serif\" font-size=\"14.00\"> </text>\n",
       "<polygon fill=\"none\" stroke=\"black\" points=\"8.5,-192.5 8.5,-229.5 167.5,-229.5 167.5,-192.5 8.5,-192.5\"/>\n",
       "<text text-anchor=\"start\" x=\"19.5\" y=\"-208.3\" font-family=\"Times,serif\" font-size=\"14.00\">milliseconds </text>\n",
       "<text text-anchor=\"start\" x=\"95.5\" y=\"-208.3\" font-family=\"Times,serif\" font-style=\"italic\" font-size=\"14.00\">String</text>\n",
       "<text text-anchor=\"start\" x=\"131.5\" y=\"-208.3\" font-family=\"Times,serif\" font-size=\"14.00\"> </text>\n",
       "<polygon fill=\"none\" stroke=\"black\" points=\"8.5,-155.5 8.5,-192.5 167.5,-192.5 167.5,-155.5 8.5,-155.5\"/>\n",
       "<text text-anchor=\"start\" x=\"19.5\" y=\"-171.3\" font-family=\"Times,serif\" font-size=\"14.00\">fastestLap </text>\n",
       "<text text-anchor=\"start\" x=\"80.5\" y=\"-171.3\" font-family=\"Times,serif\" font-style=\"italic\" font-size=\"14.00\">String</text>\n",
       "<text text-anchor=\"start\" x=\"116.5\" y=\"-171.3\" font-family=\"Times,serif\" font-size=\"14.00\"> </text>\n",
       "<polygon fill=\"none\" stroke=\"black\" points=\"8.5,-118.5 8.5,-155.5 167.5,-155.5 167.5,-118.5 8.5,-118.5\"/>\n",
       "<text text-anchor=\"start\" x=\"19.5\" y=\"-134.3\" font-family=\"Times,serif\" font-size=\"14.00\">rank </text>\n",
       "<text text-anchor=\"start\" x=\"49.5\" y=\"-134.3\" font-family=\"Times,serif\" font-style=\"italic\" font-size=\"14.00\">String</text>\n",
       "<text text-anchor=\"start\" x=\"85.5\" y=\"-134.3\" font-family=\"Times,serif\" font-size=\"14.00\"> </text>\n",
       "<polygon fill=\"none\" stroke=\"black\" points=\"8.5,-81.5 8.5,-118.5 167.5,-118.5 167.5,-81.5 8.5,-81.5\"/>\n",
       "<text text-anchor=\"start\" x=\"19.5\" y=\"-97.3\" font-family=\"Times,serif\" font-size=\"14.00\">fastestLapTime </text>\n",
       "<text text-anchor=\"start\" x=\"110.5\" y=\"-97.3\" font-family=\"Times,serif\" font-style=\"italic\" font-size=\"14.00\">String</text>\n",
       "<text text-anchor=\"start\" x=\"146.5\" y=\"-97.3\" font-family=\"Times,serif\" font-size=\"14.00\"> </text>\n",
       "<polygon fill=\"none\" stroke=\"black\" points=\"8.5,-44.5 8.5,-81.5 167.5,-81.5 167.5,-44.5 8.5,-44.5\"/>\n",
       "<text text-anchor=\"start\" x=\"19.5\" y=\"-60.3\" font-family=\"Times,serif\" font-size=\"14.00\">fastestLapSpeed </text>\n",
       "<text text-anchor=\"start\" x=\"116.5\" y=\"-60.3\" font-family=\"Times,serif\" font-style=\"italic\" font-size=\"14.00\">String</text>\n",
       "<text text-anchor=\"start\" x=\"152.5\" y=\"-60.3\" font-family=\"Times,serif\" font-size=\"14.00\"> </text>\n",
       "<polygon fill=\"none\" stroke=\"black\" points=\"8.5,-7.5 8.5,-44.5 167.5,-44.5 167.5,-7.5 8.5,-7.5\"/>\n",
       "<text text-anchor=\"start\" x=\"19.5\" y=\"-23.3\" font-family=\"Times,serif\" font-size=\"14.00\">statusId </text>\n",
       "<text text-anchor=\"start\" x=\"67.5\" y=\"-23.3\" font-family=\"Times,serif\" font-style=\"italic\" font-size=\"14.00\">int</text>\n",
       "<text text-anchor=\"start\" x=\"83.5\" y=\"-23.3\" font-family=\"Times,serif\" font-size=\"14.00\"> </text>\n",
       "</g>\n",
       "<!-- F1 drivers -->\n",
       "<g id=\"node2\" class=\"node\">\n",
       "<title>F1 drivers</title>\n",
       "<polygon fill=\"none\" stroke=\"black\" points=\"333.5,-696.5 333.5,-733.5 478.5,-733.5 478.5,-696.5 333.5,-696.5\"/>\n",
       "<text text-anchor=\"start\" x=\"374\" y=\"-712.3\" font-family=\"Times,serif\" font-weight=\"bold\" font-size=\"14.00\">F1 drivers</text>\n",
       "<polygon fill=\"none\" stroke=\"black\" points=\"333.5,-659.5 333.5,-696.5 478.5,-696.5 478.5,-659.5 333.5,-659.5\"/>\n",
       "<text text-anchor=\"start\" x=\"344.5\" y=\"-675.3\" font-family=\"Times,serif\" font-weight=\"bold\" font-size=\"14.00\">Key</text>\n",
       "<text text-anchor=\"start\" x=\"369.5\" y=\"-675.3\" font-family=\"Times,serif\" font-size=\"14.00\">  driverId </text>\n",
       "<text text-anchor=\"start\" x=\"427.5\" y=\"-675.3\" font-family=\"Times,serif\" font-style=\"italic\" font-size=\"14.00\">String</text>\n",
       "<text text-anchor=\"start\" x=\"463.5\" y=\"-675.3\" font-family=\"Times,serif\" font-size=\"14.00\"> </text>\n",
       "<polygon fill=\"none\" stroke=\"black\" points=\"333.5,-622.5 333.5,-659.5 478.5,-659.5 478.5,-622.5 333.5,-622.5\"/>\n",
       "<text text-anchor=\"start\" x=\"344.5\" y=\"-638.3\" font-family=\"Times,serif\" font-size=\"14.00\">driverRef </text>\n",
       "<text text-anchor=\"start\" x=\"402.5\" y=\"-638.3\" font-family=\"Times,serif\" font-style=\"italic\" font-size=\"14.00\">String</text>\n",
       "<text text-anchor=\"start\" x=\"438.5\" y=\"-638.3\" font-family=\"Times,serif\" font-size=\"14.00\"> </text>\n",
       "<polygon fill=\"none\" stroke=\"black\" points=\"333.5,-585.5 333.5,-622.5 478.5,-622.5 478.5,-585.5 333.5,-585.5\"/>\n",
       "<text text-anchor=\"start\" x=\"344.5\" y=\"-601.3\" font-family=\"Times,serif\" font-size=\"14.00\">number </text>\n",
       "<text text-anchor=\"start\" x=\"393.5\" y=\"-601.3\" font-family=\"Times,serif\" font-style=\"italic\" font-size=\"14.00\">String</text>\n",
       "<text text-anchor=\"start\" x=\"429.5\" y=\"-601.3\" font-family=\"Times,serif\" font-size=\"14.00\"> </text>\n",
       "<polygon fill=\"none\" stroke=\"black\" points=\"333.5,-548.5 333.5,-585.5 478.5,-585.5 478.5,-548.5 333.5,-548.5\"/>\n",
       "<text text-anchor=\"start\" x=\"344.5\" y=\"-564.3\" font-family=\"Times,serif\" font-size=\"14.00\">code </text>\n",
       "<text text-anchor=\"start\" x=\"375.5\" y=\"-564.3\" font-family=\"Times,serif\" font-style=\"italic\" font-size=\"14.00\">String</text>\n",
       "<text text-anchor=\"start\" x=\"411.5\" y=\"-564.3\" font-family=\"Times,serif\" font-size=\"14.00\"> </text>\n",
       "<polygon fill=\"none\" stroke=\"black\" points=\"333.5,-511.5 333.5,-548.5 478.5,-548.5 478.5,-511.5 333.5,-511.5\"/>\n",
       "<text text-anchor=\"start\" x=\"344.5\" y=\"-527.3\" font-family=\"Times,serif\" font-size=\"14.00\">forename </text>\n",
       "<text text-anchor=\"start\" x=\"402.5\" y=\"-527.3\" font-family=\"Times,serif\" font-style=\"italic\" font-size=\"14.00\">String</text>\n",
       "<text text-anchor=\"start\" x=\"438.5\" y=\"-527.3\" font-family=\"Times,serif\" font-size=\"14.00\"> </text>\n",
       "<polygon fill=\"none\" stroke=\"black\" points=\"333.5,-474.5 333.5,-511.5 478.5,-511.5 478.5,-474.5 333.5,-474.5\"/>\n",
       "<text text-anchor=\"start\" x=\"344.5\" y=\"-490.3\" font-family=\"Times,serif\" font-size=\"14.00\">surname </text>\n",
       "<text text-anchor=\"start\" x=\"396.5\" y=\"-490.3\" font-family=\"Times,serif\" font-style=\"italic\" font-size=\"14.00\">String</text>\n",
       "<text text-anchor=\"start\" x=\"432.5\" y=\"-490.3\" font-family=\"Times,serif\" font-size=\"14.00\"> </text>\n",
       "<polygon fill=\"none\" stroke=\"black\" points=\"333.5,-437.5 333.5,-474.5 478.5,-474.5 478.5,-437.5 333.5,-437.5\"/>\n",
       "<text text-anchor=\"start\" x=\"344.5\" y=\"-453.3\" font-family=\"Times,serif\" font-size=\"14.00\">dob </text>\n",
       "<text text-anchor=\"start\" x=\"371.5\" y=\"-453.3\" font-family=\"Times,serif\" font-style=\"italic\" font-size=\"14.00\">LocalDate</text>\n",
       "<text text-anchor=\"start\" x=\"432.5\" y=\"-453.3\" font-family=\"Times,serif\" font-size=\"14.00\"> </text>\n",
       "<polygon fill=\"none\" stroke=\"black\" points=\"333.5,-400.5 333.5,-437.5 478.5,-437.5 478.5,-400.5 333.5,-400.5\"/>\n",
       "<text text-anchor=\"start\" x=\"344.5\" y=\"-416.3\" font-family=\"Times,serif\" font-size=\"14.00\">nationality </text>\n",
       "<text text-anchor=\"start\" x=\"409.5\" y=\"-416.3\" font-family=\"Times,serif\" font-style=\"italic\" font-size=\"14.00\">String</text>\n",
       "<text text-anchor=\"start\" x=\"445.5\" y=\"-416.3\" font-family=\"Times,serif\" font-size=\"14.00\"> </text>\n",
       "<polygon fill=\"none\" stroke=\"black\" points=\"333.5,-363.5 333.5,-400.5 478.5,-400.5 478.5,-363.5 333.5,-363.5\"/>\n",
       "<text text-anchor=\"start\" x=\"344.5\" y=\"-379.3\" font-family=\"Times,serif\" font-size=\"14.00\">driver_url </text>\n",
       "<text text-anchor=\"start\" x=\"405.5\" y=\"-379.3\" font-family=\"Times,serif\" font-style=\"italic\" font-size=\"14.00\">String</text>\n",
       "<text text-anchor=\"start\" x=\"441.5\" y=\"-379.3\" font-family=\"Times,serif\" font-size=\"14.00\"> </text>\n",
       "</g>\n",
       "<!-- F1 results&#45;&gt;F1 drivers -->\n",
       "<g id=\"edge2\" class=\"edge\">\n",
       "<title>F1 results-&gt;F1 drivers</title>\n",
       "<path fill=\"none\" stroke=\"black\" d=\"M175.27,-411.4C219.12,-437.62 272.23,-469.39 316.28,-495.74\"/>\n",
       "<polygon fill=\"black\" stroke=\"black\" points=\"314.59,-498.8 324.96,-500.93 318.18,-492.79 314.59,-498.8\"/>\n",
       "<text text-anchor=\"middle\" x=\"250\" y=\"-490.3\" font-family=\"Times,serif\" font-size=\"14.00\">driverId → driverId</text>\n",
       "</g>\n",
       "<!-- F1 races -->\n",
       "<g id=\"node3\" class=\"node\">\n",
       "<title>F1 races</title>\n",
       "<polygon fill=\"none\" stroke=\"black\" points=\"339.5,-299.5 339.5,-336.5 472.5,-336.5 472.5,-299.5 339.5,-299.5\"/>\n",
       "<text text-anchor=\"start\" x=\"380\" y=\"-315.3\" font-family=\"Times,serif\" font-weight=\"bold\" font-size=\"14.00\">F1 races</text>\n",
       "<polygon fill=\"none\" stroke=\"black\" points=\"339.5,-262.5 339.5,-299.5 472.5,-299.5 472.5,-262.5 339.5,-262.5\"/>\n",
       "<text text-anchor=\"start\" x=\"350.5\" y=\"-278.3\" font-family=\"Times,serif\" font-weight=\"bold\" font-size=\"14.00\">Key</text>\n",
       "<text text-anchor=\"start\" x=\"375.5\" y=\"-278.3\" font-family=\"Times,serif\" font-size=\"14.00\">  raceId </text>\n",
       "<text text-anchor=\"start\" x=\"421.5\" y=\"-278.3\" font-family=\"Times,serif\" font-style=\"italic\" font-size=\"14.00\">String</text>\n",
       "<text text-anchor=\"start\" x=\"457.5\" y=\"-278.3\" font-family=\"Times,serif\" font-size=\"14.00\"> </text>\n",
       "<polygon fill=\"none\" stroke=\"black\" points=\"339.5,-225.5 339.5,-262.5 472.5,-262.5 472.5,-225.5 339.5,-225.5\"/>\n",
       "<text text-anchor=\"start\" x=\"350.5\" y=\"-241.3\" font-family=\"Times,serif\" font-size=\"14.00\">year </text>\n",
       "<text text-anchor=\"start\" x=\"378.5\" y=\"-241.3\" font-family=\"Times,serif\" font-style=\"italic\" font-size=\"14.00\">int</text>\n",
       "<text text-anchor=\"start\" x=\"394.5\" y=\"-241.3\" font-family=\"Times,serif\" font-size=\"14.00\"> </text>\n",
       "<polygon fill=\"none\" stroke=\"black\" points=\"339.5,-188.5 339.5,-225.5 472.5,-225.5 472.5,-188.5 339.5,-188.5\"/>\n",
       "<text text-anchor=\"start\" x=\"350.5\" y=\"-204.3\" font-family=\"Times,serif\" font-size=\"14.00\">round </text>\n",
       "<text text-anchor=\"start\" x=\"389.5\" y=\"-204.3\" font-family=\"Times,serif\" font-style=\"italic\" font-size=\"14.00\">int</text>\n",
       "<text text-anchor=\"start\" x=\"405.5\" y=\"-204.3\" font-family=\"Times,serif\" font-size=\"14.00\"> </text>\n",
       "<polygon fill=\"none\" stroke=\"black\" points=\"339.5,-151.5 339.5,-188.5 472.5,-188.5 472.5,-151.5 339.5,-151.5\"/>\n",
       "<text text-anchor=\"start\" x=\"350.5\" y=\"-167.3\" font-family=\"Times,serif\" font-size=\"14.00\">circuitId </text>\n",
       "<text text-anchor=\"start\" x=\"402.5\" y=\"-167.3\" font-family=\"Times,serif\" font-style=\"italic\" font-size=\"14.00\">int</text>\n",
       "<text text-anchor=\"start\" x=\"418.5\" y=\"-167.3\" font-family=\"Times,serif\" font-size=\"14.00\"> </text>\n",
       "<polygon fill=\"none\" stroke=\"black\" points=\"339.5,-114.5 339.5,-151.5 472.5,-151.5 472.5,-114.5 339.5,-114.5\"/>\n",
       "<text text-anchor=\"start\" x=\"350.5\" y=\"-130.3\" font-family=\"Times,serif\" font-size=\"14.00\">name </text>\n",
       "<text text-anchor=\"start\" x=\"385.5\" y=\"-130.3\" font-family=\"Times,serif\" font-style=\"italic\" font-size=\"14.00\">String</text>\n",
       "<text text-anchor=\"start\" x=\"421.5\" y=\"-130.3\" font-family=\"Times,serif\" font-size=\"14.00\"> </text>\n",
       "<polygon fill=\"none\" stroke=\"black\" points=\"339.5,-77.5 339.5,-114.5 472.5,-114.5 472.5,-77.5 339.5,-77.5\"/>\n",
       "<text text-anchor=\"start\" x=\"350.5\" y=\"-93.3\" font-family=\"Times,serif\" font-size=\"14.00\">date </text>\n",
       "<text text-anchor=\"start\" x=\"378.5\" y=\"-93.3\" font-family=\"Times,serif\" font-style=\"italic\" font-size=\"14.00\">LocalDate</text>\n",
       "<text text-anchor=\"start\" x=\"439.5\" y=\"-93.3\" font-family=\"Times,serif\" font-size=\"14.00\"> </text>\n",
       "<polygon fill=\"none\" stroke=\"black\" points=\"339.5,-40.5 339.5,-77.5 472.5,-77.5 472.5,-40.5 339.5,-40.5\"/>\n",
       "<text text-anchor=\"start\" x=\"350.5\" y=\"-56.3\" font-family=\"Times,serif\" font-size=\"14.00\">time </text>\n",
       "<text text-anchor=\"start\" x=\"379.5\" y=\"-56.3\" font-family=\"Times,serif\" font-style=\"italic\" font-size=\"14.00\">String</text>\n",
       "<text text-anchor=\"start\" x=\"415.5\" y=\"-56.3\" font-family=\"Times,serif\" font-size=\"14.00\"> </text>\n",
       "<polygon fill=\"none\" stroke=\"black\" points=\"339.5,-3.5 339.5,-40.5 472.5,-40.5 472.5,-3.5 339.5,-3.5\"/>\n",
       "<text text-anchor=\"start\" x=\"350.5\" y=\"-19.3\" font-family=\"Times,serif\" font-size=\"14.00\">url </text>\n",
       "<text text-anchor=\"start\" x=\"370.5\" y=\"-19.3\" font-family=\"Times,serif\" font-style=\"italic\" font-size=\"14.00\">String</text>\n",
       "<text text-anchor=\"start\" x=\"406.5\" y=\"-19.3\" font-family=\"Times,serif\" font-size=\"14.00\"> </text>\n",
       "</g>\n",
       "<!-- F1 results&#45;&gt;F1 races -->\n",
       "<g id=\"edge1\" class=\"edge\">\n",
       "<title>F1 results-&gt;F1 races</title>\n",
       "<path fill=\"none\" stroke=\"black\" d=\"M175.27,-307.6C221.1,-280.19 277.04,-246.73 322.19,-219.73\"/>\n",
       "<polygon fill=\"black\" stroke=\"black\" points=\"323.99,-222.73 330.78,-214.59 320.4,-216.72 323.99,-222.73\"/>\n",
       "<text text-anchor=\"middle\" x=\"250\" y=\"-296.3\" font-family=\"Times,serif\" font-size=\"14.00\">raceId → raceId</text>\n",
       "</g>\n",
       "</g>\n",
       "</svg>"
      ],
      "text/plain": [
       "<IPython.core.display.SVG object>"
      ]
     },
     "execution_count": 11,
     "metadata": {},
     "output_type": "execute_result"
    }
   ],
   "source": [
    "f1cube.schema"
   ]
  },
  {
   "cell_type": "code",
   "execution_count": 12,
   "metadata": {},
   "outputs": [],
   "source": [
    "l = f1cube.levels\n",
    "m = f1cube.measures\n",
    "h = f1cube.hierarchies"
   ]
  },
  {
   "cell_type": "code",
   "execution_count": 13,
   "metadata": {},
   "outputs": [
    {
     "data": {
      "text/plain": [
       "'http://localhost:35525'"
      ]
     },
     "execution_count": 13,
     "metadata": {},
     "output_type": "execute_result"
    }
   ],
   "source": [
    "session.url"
   ]
  },
  {
   "cell_type": "code",
   "execution_count": 17,
   "metadata": {
    "atoti": {
     "state": {
      "name": "",
      "type": "container",
      "value": {
       "body": {
        "configuration": {
         "tabular": {
          "addButtonFilter": "numeric",
          "columnsGroups": [
           {
            "captionProducer": "firstColumn",
            "cellFactory": "kpi-status",
            "selector": "kpi-status"
           },
           {
            "captionProducer": "firstColumn",
            "cellFactory": "lookup",
            "selector": "lookup"
           },
           {
            "captionProducer": "expiry",
            "cellFactory": "expiry",
            "selector": "kpi-expiry"
           },
           {
            "captionProducer": "columnMerge",
            "cellFactory": {
             "args": {},
             "key": "treeCells"
            },
            "selector": "member"
           }
          ],
          "defaultOptions": {},
          "expansion": {
           "automaticExpansion": true
          },
          "hideAddButton": true,
          "pinnedHeaderSelector": "member",
          "sortingMode": "non-breaking",
          "statisticsShown": true
         }
        },
        "mdx": "SELECT FROM [F1Cube] CELL PROPERTIES VALUE, FORMATTED_VALUE, BACK_COLOR, FORE_COLOR, FONT_FLAGS",
        "ranges": {
         "column": {
          "chunkSize": 50,
          "thresholdPercentage": 0.2
         },
         "row": {
          "chunkSize": 2000,
          "thresholdPercentage": 0.1
         }
        }
       },
       "containerKey": "pivot-table",
       "showTitleBar": false
      }
     }
    }
   },
   "outputs": [
    {
     "data": {
      "application/vnd.atoti.v0+json": {
       "cube": "F1Cube",
       "name": null,
       "session": "Unnamed"
      },
      "text/plain": [
       "Install the Atoti JupyterLab extension to see this widget."
      ]
     },
     "metadata": {},
     "output_type": "display_data"
    }
   ],
   "source": [
    "f1cube.visualize()"
   ]
  },
  {
   "cell_type": "markdown",
   "metadata": {},
   "source": [
    "## 4. First data visualization"
   ]
  },
  {
   "cell_type": "markdown",
   "metadata": {},
   "source": [
    "### dataviz1\n",
    "A simple data visualization showing a table with the total number of races by driver, sorted by descending 'count' field"
   ]
  },
  {
   "cell_type": "code",
   "execution_count": 15,
   "metadata": {
    "activeviam": {
     "state": {
      "name": "Total number of races by driver",
      "type": "container",
      "value": {
       "body": {
        "configuration": {
         "tabular": {
          "columnOrder": {
           "args": {
            "orderedColumns": [
             "[Hierarchies].[driverRef].[driverRef]",
             "[Hierarchies].[driverId].[driverId]",
             "[Measures].[contributors.COUNT]"
            ]
           },
           "key": "explicit"
          },
          "columnsGroups": [
           {
            "captionProducer": "firstColumn",
            "cellFactory": "kpi-status",
            "selector": "kpi-status"
           },
           {
            "captionProducer": "firstColumn",
            "cellFactory": "lookup",
            "selector": "lookup"
           },
           {
            "captionProducer": "expiry",
            "cellFactory": "expiry",
            "selector": "kpi-expiry"
           }
          ],
          "defaultOptions": {},
          "hideAddButton": true,
          "lineNumbers": true,
          "sortingMode": "breaking",
          "statisticsShown": true
         }
        },
        "contextValues": {},
        "mdx": "WITH  Member [Measures].[[Hierarchies]].[driverRef]].[driverRef]]_for_order] AS [Hierarchies].[driverRef].CurrentMember.MEMBER_VALUE  SELECT NON EMPTY Order(Crossjoin([Hierarchies].[driverRef].[driverRef].Members, [Hierarchies].[driverId].[driverId].Members), [Measures].[contributors.COUNT], BDESC) ON ROWS, [Measures].[contributors.COUNT] ON COLUMNS FROM [F1Cube] CELL PROPERTIES BACK_COLOR, FONT_FLAGS, FORE_COLOR, FORMATTED_VALUE, VALUE",
        "ranges": {
         "column": {
          "chunkSize": 50,
          "thresholdPercentage": 0.2
         },
         "row": {
          "chunkSize": 2000,
          "thresholdPercentage": 0.1
         }
        },
        "serverUrl": "",
        "updateMode": "once"
       },
       "containerKey": "tabular-view",
       "showTitleBar": false,
       "style": {}
      }
     }
    },
    "atoti": {
     "state": {
      "name": "Total number of races by driver",
      "type": "container",
      "value": {
       "body": {
        "configuration": {
         "tabular": {
          "addButtonFilter": "numeric",
          "columnOrder": {
           "args": {
            "orderedColumns": [
             "__lineNumber__",
             "c-treeCells-member",
             "[Measures].[contributors.COUNT]"
            ]
           },
           "key": "explicit"
          },
          "columnsGroups": [
           {
            "captionProducer": "firstColumn",
            "cellFactory": "kpi-status",
            "selector": "kpi-status"
           },
           {
            "captionProducer": "firstColumn",
            "cellFactory": "lookup",
            "selector": "lookup"
           },
           {
            "captionProducer": "expiry",
            "cellFactory": "expiry",
            "selector": "kpi-expiry"
           },
           {
            "captionProducer": "columnMerge",
            "cellFactory": {
             "args": {
              "automaticExpansion": true
             },
             "key": "treeCells"
            },
            "selector": "member"
           }
          ],
          "defaultOptions": {},
          "hideAddButton": true,
          "lineNumbers": true,
          "pinnedHeaderSelector": "member",
          "sortingMode": "non-breaking",
          "statisticsShown": true
         }
        },
        "contextValues": {},
        "mdx": "SELECT NON EMPTY [Measures].[contributors.COUNT] ON COLUMNS, NON EMPTY Order([Hierarchies].[driverRef].[driverRef].Members, [Measures].[contributors.COUNT], DESC) ON ROWS FROM [F1Cube] CELL PROPERTIES VALUE, FORMATTED_VALUE, BACK_COLOR, FORE_COLOR, FONT_FLAGS",
        "ranges": {
         "column": {
          "chunkSize": 50,
          "thresholdPercentage": 0.2
         },
         "row": {
          "chunkSize": 2000,
          "thresholdPercentage": 0.1
         }
        },
        "serverUrl": "",
        "updateMode": "once"
       },
       "containerKey": "pivot-table",
       "showTitleBar": false,
       "style": {}
      }
     }
    }
   },
   "outputs": [
    {
     "data": {
      "application/vnd.atoti.v0+json": {
       "cube": "F1Cube",
       "name": "Total number of races by driver",
       "session": "Unnamed"
      },
      "text/plain": [
       "Install the Atoti JupyterLab extension to see this widget."
      ]
     },
     "metadata": {},
     "output_type": "display_data"
    }
   ],
   "source": [
    "f1cube.visualize('Total number of races by driver')"
   ]
  },
  {
   "cell_type": "markdown",
   "metadata": {},
   "source": [
    "## 5 Measures and first queries"
   ]
  },
  {
   "cell_type": "code",
   "execution_count": 19,
   "metadata": {
    "atoti": {
     "state": {
      "name": "",
      "type": "container",
      "value": {
       "body": {
        "configuration": {
         "tabular": {
          "addButtonFilter": "numeric",
          "columnOrder": {
           "args": {
            "orderedColumns": [
             "__lineNumber__",
             "c-treeCells-member",
             "[Measures].[points.SUM]"
            ]
           },
           "key": "explicit"
          },
          "columns": [
           {
            "captions": [
             "Total Points"
            ],
            "key": "[Measures].[points.SUM]"
           }
          ],
          "columnsGroups": [
           {
            "captionProducer": "firstColumn",
            "cellFactory": "kpi-status",
            "selector": "kpi-status"
           },
           {
            "captionProducer": "firstColumn",
            "cellFactory": "lookup",
            "selector": "lookup"
           },
           {
            "captionProducer": "expiry",
            "cellFactory": "expiry",
            "selector": "kpi-expiry"
           },
           {
            "captionProducer": "columnMerge",
            "cellFactory": {
             "args": {
              "automaticExpansion": true
             },
             "key": "treeCells"
            },
            "selector": "member"
           }
          ],
          "defaultOptions": {},
          "hideAddButton": true,
          "lineNumbers": true,
          "pinnedHeaderSelector": "member",
          "sortingMode": "non-breaking",
          "statisticsShown": true
         }
        },
        "contextValues": {},
        "mdx": "SELECT NON EMPTY Order(Crossjoin([Hierarchies].[year].[year].Members, Hierarchize(DrilldownLevel([Hierarchies].[driverRef].[ALL].[AllMember]))), [Measures].[points.SUM], DESC) ON ROWS, NON EMPTY {[Measures].[points.SUM]} ON COLUMNS FROM [F1Cube] CELL PROPERTIES VALUE, FORMATTED_VALUE, BACK_COLOR, FORE_COLOR, FONT_FLAGS",
        "ranges": {
         "column": {
          "chunkSize": 50,
          "thresholdPercentage": 0.2
         },
         "row": {
          "chunkSize": 2000,
          "thresholdPercentage": 0.1
         }
        },
        "serverUrl": "",
        "updateMode": "once"
       },
       "containerKey": "pivot-table",
       "showTitleBar": false,
       "style": {}
      }
     }
    }
   },
   "outputs": [
    {
     "data": {
      "application/vnd.atoti.v0+json": {
       "cube": "F1Cube",
       "name": null,
       "session": "Unnamed"
      },
      "text/plain": [
       "Install the Atoti JupyterLab extension to see this widget."
      ]
     },
     "metadata": {},
     "output_type": "display_data"
    }
   ],
   "source": [
    "f1cube.visualize()"
   ]
  },
  {
   "cell_type": "markdown",
   "metadata": {},
   "source": [
    "### query1\n",
    "A simple query that returns a dataframe with the total number of points aggregated by driver forname,surname"
   ]
  },
  {
   "cell_type": "code",
   "execution_count": 20,
   "metadata": {},
   "outputs": [
    {
     "data": {
      "text/html": [
       "<div>\n",
       "<style scoped>\n",
       "    .dataframe tbody tr th:only-of-type {\n",
       "        vertical-align: middle;\n",
       "    }\n",
       "\n",
       "    .dataframe tbody tr th {\n",
       "        vertical-align: top;\n",
       "    }\n",
       "\n",
       "    .dataframe thead th {\n",
       "        text-align: right;\n",
       "    }\n",
       "</style>\n",
       "<table border=\"1\" class=\"dataframe\">\n",
       "  <thead>\n",
       "    <tr style=\"text-align: right;\">\n",
       "      <th></th>\n",
       "      <th></th>\n",
       "      <th>points.SUM</th>\n",
       "    </tr>\n",
       "    <tr>\n",
       "      <th>forename</th>\n",
       "      <th>surname</th>\n",
       "      <th></th>\n",
       "    </tr>\n",
       "  </thead>\n",
       "  <tbody>\n",
       "    <tr>\n",
       "      <th>Adolf</th>\n",
       "      <th>Brudes</th>\n",
       "      <td>0.0</td>\n",
       "    </tr>\n",
       "    <tr>\n",
       "      <th>Adolfo</th>\n",
       "      <th>Cruz</th>\n",
       "      <td>0.0</td>\n",
       "    </tr>\n",
       "    <tr>\n",
       "      <th>Adrian</th>\n",
       "      <th>Sutil</th>\n",
       "      <td>124.0</td>\n",
       "    </tr>\n",
       "    <tr>\n",
       "      <th>Adrián</th>\n",
       "      <th>Campos</th>\n",
       "      <td>0.0</td>\n",
       "    </tr>\n",
       "    <tr>\n",
       "      <th>Aguri</th>\n",
       "      <th>Suzuki</th>\n",
       "      <td>8.0</td>\n",
       "    </tr>\n",
       "    <tr>\n",
       "      <th>...</th>\n",
       "      <th>...</th>\n",
       "      <td>...</td>\n",
       "    </tr>\n",
       "    <tr>\n",
       "      <th>Zsolt</th>\n",
       "      <th>Baumgartner</th>\n",
       "      <td>1.0</td>\n",
       "    </tr>\n",
       "    <tr>\n",
       "      <th>Élie</th>\n",
       "      <th>Bayol</th>\n",
       "      <td>2.0</td>\n",
       "    </tr>\n",
       "    <tr>\n",
       "      <th>Éric</th>\n",
       "      <th>Bernard</th>\n",
       "      <td>10.0</td>\n",
       "    </tr>\n",
       "    <tr>\n",
       "      <th>Érik</th>\n",
       "      <th>Comas</th>\n",
       "      <td>7.0</td>\n",
       "    </tr>\n",
       "    <tr>\n",
       "      <th>Óscar</th>\n",
       "      <th>González</th>\n",
       "      <td>0.0</td>\n",
       "    </tr>\n",
       "  </tbody>\n",
       "</table>\n",
       "<p>846 rows × 1 columns</p>\n",
       "</div>"
      ],
      "text/plain": [
       "                      points.SUM\n",
       "forename surname                \n",
       "Adolf    Brudes              0.0\n",
       "Adolfo   Cruz                0.0\n",
       "Adrian   Sutil             124.0\n",
       "Adrián   Campos              0.0\n",
       "Aguri    Suzuki              8.0\n",
       "...                          ...\n",
       "Zsolt    Baumgartner         1.0\n",
       "Élie     Bayol               2.0\n",
       "Éric     Bernard            10.0\n",
       "Érik     Comas               7.0\n",
       "Óscar    González            0.0\n",
       "\n",
       "[846 rows x 1 columns]"
      ]
     },
     "execution_count": 20,
     "metadata": {},
     "output_type": "execute_result"
    }
   ],
   "source": [
    "dfq1=f1cube.query(m['points.SUM'],levels=[l[\"forename\"],l[\"surname\"]])\n",
    "dfq1"
   ]
  },
  {
   "cell_type": "markdown",
   "metadata": {},
   "source": [
    "### query2\n",
    "A similar query with the addition of the condition parameters, used as a filter on levels (not possible as of today on the measure)"
   ]
  },
  {
   "cell_type": "code",
   "execution_count": 22,
   "metadata": {},
   "outputs": [
    {
     "data": {
      "text/html": [
       "<div>\n",
       "<style scoped>\n",
       "    .dataframe tbody tr th:only-of-type {\n",
       "        vertical-align: middle;\n",
       "    }\n",
       "\n",
       "    .dataframe tbody tr th {\n",
       "        vertical-align: top;\n",
       "    }\n",
       "\n",
       "    .dataframe thead th {\n",
       "        text-align: right;\n",
       "    }\n",
       "</style>\n",
       "<table border=\"1\" class=\"dataframe\">\n",
       "  <thead>\n",
       "    <tr style=\"text-align: right;\">\n",
       "      <th></th>\n",
       "      <th></th>\n",
       "      <th>points.SUM</th>\n",
       "    </tr>\n",
       "    <tr>\n",
       "      <th>forename</th>\n",
       "      <th>surname</th>\n",
       "      <th></th>\n",
       "    </tr>\n",
       "  </thead>\n",
       "  <tbody>\n",
       "    <tr>\n",
       "      <th>Alain</th>\n",
       "      <th>Prost</th>\n",
       "      <td>798.5</td>\n",
       "    </tr>\n",
       "  </tbody>\n",
       "</table>\n",
       "</div>"
      ],
      "text/plain": [
       "                  points.SUM\n",
       "forename surname            \n",
       "Alain    Prost         798.5"
      ]
     },
     "execution_count": 22,
     "metadata": {},
     "output_type": "execute_result"
    }
   ],
   "source": [
    "dfq2=f1cube.query(m['points.SUM'],levels=[l[\"forename\"],l[\"surname\"]],condition=l[\"surname\"]==\"Prost\")\n",
    "dfq2\n",
    "# check data here: https://www.statsf1.com/en/alain-prost.aspx"
   ]
  },
  {
   "cell_type": "markdown",
   "metadata": {},
   "source": [
    "### query3\n",
    "Another query returning a dataframe aggregating the Total points measure by driver and by year"
   ]
  },
  {
   "cell_type": "code",
   "execution_count": 23,
   "metadata": {},
   "outputs": [
    {
     "data": {
      "text/html": [
       "<div>\n",
       "<style scoped>\n",
       "    .dataframe tbody tr th:only-of-type {\n",
       "        vertical-align: middle;\n",
       "    }\n",
       "\n",
       "    .dataframe tbody tr th {\n",
       "        vertical-align: top;\n",
       "    }\n",
       "\n",
       "    .dataframe thead th {\n",
       "        text-align: right;\n",
       "    }\n",
       "</style>\n",
       "<table border=\"1\" class=\"dataframe\">\n",
       "  <thead>\n",
       "    <tr style=\"text-align: right;\">\n",
       "      <th></th>\n",
       "      <th></th>\n",
       "      <th>points.SUM</th>\n",
       "    </tr>\n",
       "    <tr>\n",
       "      <th>driverRef</th>\n",
       "      <th>year</th>\n",
       "      <th></th>\n",
       "    </tr>\n",
       "  </thead>\n",
       "  <tbody>\n",
       "    <tr>\n",
       "      <th>Cannoc</th>\n",
       "      <th>1971</th>\n",
       "      <td>0.0</td>\n",
       "    </tr>\n",
       "    <tr>\n",
       "      <th>Changy</th>\n",
       "      <th>1959</th>\n",
       "      <td>0.0</td>\n",
       "    </tr>\n",
       "    <tr>\n",
       "      <th>abate</th>\n",
       "      <th>1963</th>\n",
       "      <td>0.0</td>\n",
       "    </tr>\n",
       "    <tr>\n",
       "      <th rowspan=\"2\" valign=\"top\">abecassis</th>\n",
       "      <th>1951</th>\n",
       "      <td>0.0</td>\n",
       "    </tr>\n",
       "    <tr>\n",
       "      <th>1952</th>\n",
       "      <td>0.0</td>\n",
       "    </tr>\n",
       "    <tr>\n",
       "      <th>...</th>\n",
       "      <th>...</th>\n",
       "      <td>...</td>\n",
       "    </tr>\n",
       "    <tr>\n",
       "      <th rowspan=\"2\" valign=\"top\">zorzi</th>\n",
       "      <th>1976</th>\n",
       "      <td>0.0</td>\n",
       "    </tr>\n",
       "    <tr>\n",
       "      <th>1977</th>\n",
       "      <td>1.0</td>\n",
       "    </tr>\n",
       "    <tr>\n",
       "      <th rowspan=\"3\" valign=\"top\">zunino</th>\n",
       "      <th>1979</th>\n",
       "      <td>0.0</td>\n",
       "    </tr>\n",
       "    <tr>\n",
       "      <th>1980</th>\n",
       "      <td>0.0</td>\n",
       "    </tr>\n",
       "    <tr>\n",
       "      <th>1981</th>\n",
       "      <td>0.0</td>\n",
       "    </tr>\n",
       "  </tbody>\n",
       "</table>\n",
       "<p>3096 rows × 1 columns</p>\n",
       "</div>"
      ],
      "text/plain": [
       "                points.SUM\n",
       "driverRef year            \n",
       "Cannoc    1971         0.0\n",
       "Changy    1959         0.0\n",
       "abate     1963         0.0\n",
       "abecassis 1951         0.0\n",
       "          1952         0.0\n",
       "...                    ...\n",
       "zorzi     1976         0.0\n",
       "          1977         1.0\n",
       "zunino    1979         0.0\n",
       "          1980         0.0\n",
       "          1981         0.0\n",
       "\n",
       "[3096 rows x 1 columns]"
      ]
     },
     "execution_count": 23,
     "metadata": {},
     "output_type": "execute_result"
    }
   ],
   "source": [
    "# There is no aggregation here... maybe change it to points sum per race?\n",
    "\n",
    "dfq3 = f1cube.query(m['points.SUM'],levels=[l[\"driverRef\"],l[\"year\"]])\n",
    "dfq3"
   ]
  },
  {
   "cell_type": "code",
   "execution_count": 24,
   "metadata": {},
   "outputs": [
    {
     "data": {
      "text/html": [
       "<div>\n",
       "<style scoped>\n",
       "    .dataframe tbody tr th:only-of-type {\n",
       "        vertical-align: middle;\n",
       "    }\n",
       "\n",
       "    .dataframe tbody tr th {\n",
       "        vertical-align: top;\n",
       "    }\n",
       "\n",
       "    .dataframe thead th {\n",
       "        text-align: right;\n",
       "    }\n",
       "</style>\n",
       "<table border=\"1\" class=\"dataframe\">\n",
       "  <thead>\n",
       "    <tr style=\"text-align: right;\">\n",
       "      <th></th>\n",
       "      <th></th>\n",
       "      <th>points.SUM</th>\n",
       "    </tr>\n",
       "    <tr>\n",
       "      <th>driverRef</th>\n",
       "      <th>year</th>\n",
       "      <th></th>\n",
       "    </tr>\n",
       "  </thead>\n",
       "  <tbody>\n",
       "    <tr>\n",
       "      <th rowspan=\"2\" valign=\"top\">adamich</th>\n",
       "      <th>1972</th>\n",
       "      <td>3.0</td>\n",
       "    </tr>\n",
       "    <tr>\n",
       "      <th>1973</th>\n",
       "      <td>3.0</td>\n",
       "    </tr>\n",
       "    <tr>\n",
       "      <th>agabashian</th>\n",
       "      <th>1953</th>\n",
       "      <td>1.5</td>\n",
       "    </tr>\n",
       "    <tr>\n",
       "      <th>alan_brown</th>\n",
       "      <th>1952</th>\n",
       "      <td>2.0</td>\n",
       "    </tr>\n",
       "    <tr>\n",
       "      <th>albers</th>\n",
       "      <th>2005</th>\n",
       "      <td>4.0</td>\n",
       "    </tr>\n",
       "    <tr>\n",
       "      <th>...</th>\n",
       "      <th>...</th>\n",
       "      <td>...</td>\n",
       "    </tr>\n",
       "    <tr>\n",
       "      <th rowspan=\"2\" valign=\"top\">wurz</th>\n",
       "      <th>2005</th>\n",
       "      <td>6.0</td>\n",
       "    </tr>\n",
       "    <tr>\n",
       "      <th>2007</th>\n",
       "      <td>13.0</td>\n",
       "    </tr>\n",
       "    <tr>\n",
       "      <th>zanardi</th>\n",
       "      <th>1993</th>\n",
       "      <td>1.0</td>\n",
       "    </tr>\n",
       "    <tr>\n",
       "      <th>zonta</th>\n",
       "      <th>2000</th>\n",
       "      <td>3.0</td>\n",
       "    </tr>\n",
       "    <tr>\n",
       "      <th>zorzi</th>\n",
       "      <th>1977</th>\n",
       "      <td>1.0</td>\n",
       "    </tr>\n",
       "  </tbody>\n",
       "</table>\n",
       "<p>1424 rows × 1 columns</p>\n",
       "</div>"
      ],
      "text/plain": [
       "                 points.SUM\n",
       "driverRef  year            \n",
       "adamich    1972         3.0\n",
       "           1973         3.0\n",
       "agabashian 1953         1.5\n",
       "alan_brown 1952         2.0\n",
       "albers     2005         4.0\n",
       "...                     ...\n",
       "wurz       2005         6.0\n",
       "           2007        13.0\n",
       "zanardi    1993         1.0\n",
       "zonta      2000         3.0\n",
       "zorzi      1977         1.0\n",
       "\n",
       "[1424 rows x 1 columns]"
      ]
     },
     "execution_count": 24,
     "metadata": {},
     "output_type": "execute_result"
    }
   ],
   "source": [
    "# You can then manipulate your dataframe like any other pandas dataframe, applying filtrer for example\n",
    "#type(dfq3)\n",
    "#dfq3.keys\n",
    "dfq3[dfq3['points.SUM']>0]"
   ]
  },
  {
   "cell_type": "code",
   "execution_count": 25,
   "metadata": {},
   "outputs": [
    {
     "data": {
      "text/plain": [
       "13.0"
      ]
     },
     "execution_count": 25,
     "metadata": {},
     "output_type": "execute_result"
    }
   ],
   "source": [
    "# in this case the resulting dataframe is multiindexed\n",
    "dfq3.loc[\"alesi\"].loc[1990]['points.SUM']"
   ]
  },
  {
   "cell_type": "markdown",
   "metadata": {},
   "source": [
    "### dataviz2\n",
    "Data visualization of the top-5 drivers with the highest total of points in their whole career"
   ]
  },
  {
   "cell_type": "code",
   "execution_count": 27,
   "metadata": {
    "activeviam": {
     "state": {
      "name": "TOP-5 drivers with highest total points in career",
      "type": "container",
      "value": {
       "body": {
        "configuration": {
         "mapping": {
          "splitBy": [
           "[Hierarchies].[driverRef].[driverRef]"
          ],
          "values": [
           "[Measures].[Total Points]"
          ]
         },
         "plotly": {
          "layout": {
           "yaxis": {
            "categoryorder": "total ascending"
           }
          }
         },
         "switchedTo": "plotly-clustered-bar-chart",
         "type": "plotly-tree-map"
        },
        "query": {
         "mdx": "SELECT NON EMPTY [Hierarchies].[driverRef].[driverRef].Members ON ROWS, NON EMPTY [Measures].[Total Points] ON COLUMNS FROM (SELECT TopCount(Filter([Hierarchies].[driverRef].Levels(1).Members, NOT IsEmpty([Measures].[Total Points])), 5, [Measures].[Total Points]) ON COLUMNS FROM [F1Cube]) CELL PROPERTIES VALUE, FORMATTED_VALUE, BACK_COLOR, FORE_COLOR, FONT_FLAGS",
         "serverUrl": "",
         "updateMode": "once"
        }
       },
       "containerKey": "chart",
       "showTitleBar": false,
       "style": {}
      }
     }
    },
    "atoti": {
     "state": {
      "name": "TOP-5 drivers with highest total points in career",
      "type": "container",
      "value": {
       "body": {
        "configuration": {
         "mapping": {
          "horizontal": [],
          "splitBy": [],
          "values": [
           "[Measures].[points.SUM]"
          ],
          "vertical": [],
          "yAxis": [
           "[Hierarchies].[driverRef].[driverRef]"
          ]
         },
         "plotly": {
          "layout": {
           "yaxis": {
            "categoryorder": "total ascending"
           }
          }
         },
         "type": "plotly-clustered-bar-chart"
        },
        "query": {
         "mdx": "SELECT NON EMPTY [Measures].[points.SUM] ON COLUMNS, NON EMPTY [Hierarchies].[driverRef].[driverRef].Members ON ROWS FROM (SELECT TopCount(Filter([Hierarchies].[driverRef].Levels(1).Members, NOT IsEmpty([Measures].[points.SUM])), 5, [Measures].[points.SUM]) ON COLUMNS FROM [F1Cube]) CELL PROPERTIES VALUE, FORMATTED_VALUE, BACK_COLOR, FORE_COLOR, FONT_FLAGS",
         "serverUrl": "",
         "updateMode": "once"
        }
       },
       "containerKey": "chart",
       "showTitleBar": false,
       "style": {}
      }
     }
    }
   },
   "outputs": [
    {
     "data": {
      "application/vnd.atoti.v0+json": {
       "cube": "F1Cube",
       "name": "TOP-5 drivers with highest total points in career",
       "session": "Unnamed"
      },
      "text/plain": [
       "Install the Atoti JupyterLab extension to see this widget."
      ]
     },
     "metadata": {},
     "output_type": "display_data"
    }
   ],
   "source": [
    "f1cube.visualize('TOP-5 drivers with highest total points in career')\n",
    "\n",
    "## check here in the widget configuration the \"TopCount\" filter used to select only the top-5\n",
    "## check here the cell metadata to sort the data in the chart\n",
    "    #     \"plotly\": {\n",
    "    #         \"layout\": {\n",
    "    #             \"yaxis\": {\n",
    "    #                 \"categoryorder\": \"total ascending\"\n",
    "    #             }\n",
    "    #         }\n",
    "    #     },"
   ]
  },
  {
   "cell_type": "markdown",
   "metadata": {},
   "source": [
    "### preparation of the world champions dataframe "
   ]
  },
  {
   "cell_type": "code",
   "execution_count": 36,
   "metadata": {
    "atoti": {
     "state": {
      "name": "World Champion by year",
      "type": "container",
      "value": {
       "body": {
        "configuration": {
         "tabular": {
          "columnsGroups": [
           {
            "captionProducer": "firstColumn",
            "cellFactory": "kpi-status",
            "selector": "kpi-status"
           },
           {
            "captionProducer": "firstColumn",
            "cellFactory": "lookup",
            "selector": "lookup"
           },
           {
            "captionProducer": "expiry",
            "cellFactory": "expiry",
            "selector": "kpi-expiry"
           }
          ],
          "defaultOptions": {},
          "hideAddButton": true,
          "lineNumbers": true,
          "sortingMode": "breaking",
          "statisticsShown": true
         }
        },
        "contextValues": {},
        "mdx": "SELECT NON EMPTY {[Measures].[points.SUM]} ON COLUMNS, NON EMPTY Generate([Hierarchies].[year].[year].Members, TopCount([Hierarchies].[year].CurrentMember * [Hierarchies].[driverRef].[driverRef].Members, 1, [Measures].[points.SUM])) ON ROWS FROM [F1StdCube] CELL PROPERTIES VALUE, FORMATTED_VALUE, BACK_COLOR, FORE_COLOR, FONT_FLAGS",
        "ranges": {
         "column": {
          "chunkSize": 50,
          "thresholdPercentage": 0.2
         },
         "row": {
          "chunkSize": 2000,
          "thresholdPercentage": 0.1
         }
        },
        "serverUrl": "",
        "updateMode": "once"
       },
       "containerKey": "tabular-view",
       "showTitleBar": false,
       "style": {}
      }
     }
    }
   },
   "outputs": [],
   "source": [
    "# Using MDX Generate function https://docs.microsoft.com/en-us/sql/mdx/generate-mdx?view=sql-server-ver15\n",
    "# Generate(\n",
    "#    [Hierarchies].[year].[year].Members,\n",
    "#    TopCount(\n",
    "#      [Hierarchies].[year].CurrentMember * [Hierarchies].[driverRef].[driverRef].Members,\n",
    "#      1,\n",
    "#      [Measures].[points.SUM]\n",
    "#    )\n",
    "#  )\n",
    "#f1stdcube.visualize('World Champion by year')"
   ]
  },
  {
   "cell_type": "code",
   "execution_count": 37,
   "metadata": {
    "atoti": {
     "state": {
      "name": "World Champion by year 2",
      "type": "container",
      "value": {
       "body": {
        "configuration": {
         "tabular": {
          "addButtonFilter": "numeric",
          "columns": [
           {
            "key": "c-treeCells-member",
            "width": 134
           }
          ],
          "columnsGroups": [
           {
            "captionProducer": "firstColumn",
            "cellFactory": "kpi-status",
            "selector": "kpi-status"
           },
           {
            "captionProducer": "firstColumn",
            "cellFactory": "lookup",
            "selector": "lookup"
           },
           {
            "captionProducer": "expiry",
            "cellFactory": "expiry",
            "selector": "kpi-expiry"
           },
           {
            "captionProducer": "columnMerge",
            "cellFactory": {
             "args": {
              "automaticExpansion": true
             },
             "key": "treeCells"
            },
            "selector": "member"
           }
          ],
          "defaultOptions": {},
          "hideAddButton": true,
          "lineNumbers": true,
          "pinnedHeaderSelector": "member",
          "sortingMode": "non-breaking",
          "statisticsShown": true
         }
        },
        "contextValues": {},
        "mdx": "WITH  Member [Measures].[Champion CM] AS TopCount([Hierarchies].[driverRef].[driverRef].Members, 1, [Measures].[points.SUM]).Item(0).MemberValue, FORMAT_STRING = \"#,###.##\"  SELECT NON EMPTY {[Measures].[Champion CM]} ON COLUMNS, NON EMPTY Hierarchize([Hierarchies].[year].[year].Members) ON ROWS FROM [F1StdCube] CELL PROPERTIES BACK_COLOR, FONT_FLAGS, FORE_COLOR, FORMATTED_VALUE, VALUE",
        "ranges": {
         "column": {
          "chunkSize": 50,
          "thresholdPercentage": 0.2
         },
         "row": {
          "chunkSize": 2000,
          "thresholdPercentage": 0.1
         }
        },
        "serverUrl": "",
        "updateMode": "once"
       },
       "containerKey": "pivot-table",
       "showTitleBar": false,
       "style": {}
      }
     }
    }
   },
   "outputs": [],
   "source": [
    "# Using MDX calculated measure\n",
    "# Member [Measures].[Champion CM] AS TopCount(\n",
    "#  [Hierarchies].[driverRef].[driverRef].Members,\n",
    "#  1,\n",
    "#  [Measures].[points.SUM]\n",
    "#).Item(\n",
    "#  0\n",
    "#).MemberValue\n",
    "#f1stdcube.visualize('World Champion by year 2')"
   ]
  },
  {
   "cell_type": "code",
   "execution_count": 28,
   "metadata": {},
   "outputs": [],
   "source": [
    "m[\"Champion\"] = tt.agg.max_member(m[\"points.SUM\"], l[\"driverRef\"])\n",
    "# # The one below only works if driverRef is explicitly given\n",
    "# # m[\"Champion Points\"] = tt.agg.max(m[\"points.SUM\"], scope=tt.scope.siblings(l[\"driverRef\"]))\n",
    "# # therefore we use parent value to protect against meaningless values\n",
    "# m[\"Driver Points MAX\"] = tt.agg.max(m[\"points.SUM\"], scope=tt.scope.origin(l[\"driverRef\"]))\n",
    "# m[\"Champion Points\"] = tt.parent_value(m[\"Driver Points MAX\"], on_hierarchies=[\"driverRef\"])\n",
    "\n",
    "# # does not handle ex aequo\n",
    "# m[\"Champion\"] = tt.agg.single_value(\n",
    "#     tt.where(m[\"Champion Points\"] == m[\"points.SUM\"], l[\"driverRef\"]),\n",
    "#     scope=tt.scope.origin(\"driverRef\"),\n",
    "# )"
   ]
  },
  {
   "cell_type": "code",
   "execution_count": 27,
   "metadata": {},
   "outputs": [
    {
     "data": {
      "text/html": [
       "<div>\n",
       "<style scoped>\n",
       "    .dataframe tbody tr th:only-of-type {\n",
       "        vertical-align: middle;\n",
       "    }\n",
       "\n",
       "    .dataframe tbody tr th {\n",
       "        vertical-align: top;\n",
       "    }\n",
       "\n",
       "    .dataframe thead th {\n",
       "        text-align: right;\n",
       "    }\n",
       "</style>\n",
       "<table border=\"1\" class=\"dataframe\">\n",
       "  <thead>\n",
       "    <tr style=\"text-align: right;\">\n",
       "      <th></th>\n",
       "      <th>Champion</th>\n",
       "    </tr>\n",
       "    <tr>\n",
       "      <th>year</th>\n",
       "      <th></th>\n",
       "    </tr>\n",
       "  </thead>\n",
       "  <tbody>\n",
       "    <tr>\n",
       "      <th>1950</th>\n",
       "      <td>farina</td>\n",
       "    </tr>\n",
       "    <tr>\n",
       "      <th>1951</th>\n",
       "      <td>fangio</td>\n",
       "    </tr>\n",
       "    <tr>\n",
       "      <th>1952</th>\n",
       "      <td>ascari</td>\n",
       "    </tr>\n",
       "    <tr>\n",
       "      <th>1953</th>\n",
       "      <td>ascari</td>\n",
       "    </tr>\n",
       "    <tr>\n",
       "      <th>1954</th>\n",
       "      <td>fangio</td>\n",
       "    </tr>\n",
       "    <tr>\n",
       "      <th>...</th>\n",
       "      <td>...</td>\n",
       "    </tr>\n",
       "    <tr>\n",
       "      <th>2015</th>\n",
       "      <td>hamilton</td>\n",
       "    </tr>\n",
       "    <tr>\n",
       "      <th>2016</th>\n",
       "      <td>rosberg</td>\n",
       "    </tr>\n",
       "    <tr>\n",
       "      <th>2017</th>\n",
       "      <td>hamilton</td>\n",
       "    </tr>\n",
       "    <tr>\n",
       "      <th>2018</th>\n",
       "      <td>hamilton</td>\n",
       "    </tr>\n",
       "    <tr>\n",
       "      <th>2019</th>\n",
       "      <td>hamilton</td>\n",
       "    </tr>\n",
       "  </tbody>\n",
       "</table>\n",
       "<p>70 rows × 1 columns</p>\n",
       "</div>"
      ],
      "text/plain": [
       "      Champion\n",
       "year          \n",
       "1950    farina\n",
       "1951    fangio\n",
       "1952    ascari\n",
       "1953    ascari\n",
       "1954    fangio\n",
       "...        ...\n",
       "2015  hamilton\n",
       "2016   rosberg\n",
       "2017  hamilton\n",
       "2018  hamilton\n",
       "2019  hamilton\n",
       "\n",
       "[70 rows x 1 columns]"
      ]
     },
     "execution_count": 27,
     "metadata": {},
     "output_type": "execute_result"
    }
   ],
   "source": [
    "f1cube.query(m[\"Champion\"], levels=[l[\"year\"]])"
   ]
  },
  {
   "cell_type": "code",
   "execution_count": 30,
   "metadata": {
    "atoti": {
     "state": {
      "name": "World Champion by year 3",
      "type": "container",
      "value": {
       "body": {
        "configuration": {
         "tabular": {
          "addButtonFilter": "numeric",
          "columns": [
           {
            "key": "c-treeCells-member",
            "width": 177
           },
           {
            "key": "[Measures].[points.SUM]",
            "width": 177
           },
           {
            "key": "[Measures].[Champion Points]",
            "width": 199
           }
          ],
          "columnsGroups": [
           {
            "captionProducer": "firstColumn",
            "cellFactory": "kpi-status",
            "selector": "kpi-status"
           },
           {
            "captionProducer": "firstColumn",
            "cellFactory": "lookup",
            "selector": "lookup"
           },
           {
            "captionProducer": "expiry",
            "cellFactory": "expiry",
            "selector": "kpi-expiry"
           },
           {
            "captionProducer": "columnMerge",
            "cellFactory": {
             "args": {
              "automaticExpansion": true
             },
             "key": "treeCells"
            },
            "selector": "member"
           }
          ],
          "defaultOptions": {},
          "hideAddButton": true,
          "lineNumbers": true,
          "pinnedHeaderSelector": "member",
          "sortingMode": "non-breaking",
          "statisticsShown": true
         }
        },
        "contextValues": {},
        "mdx": "SELECT NON EMPTY [Measures].[Champion] ON COLUMNS, NON EMPTY Hierarchize(Union(Crossjoin(DrilldownLevel([Hierarchies].[nationality].[ALL].[AllMember]), [Hierarchies].[circuitId].DefaultMember), Crossjoin([Hierarchies].[nationality].[ALL].[AllMember].[Australian], [Hierarchies].[circuitId].[circuitId].Members))) ON ROWS FROM [F1Cube] CELL PROPERTIES VALUE, FORMATTED_VALUE, BACK_COLOR, FORE_COLOR, FONT_FLAGS",
        "ranges": {
         "column": {
          "chunkSize": 50,
          "thresholdPercentage": 0.2
         },
         "row": {
          "chunkSize": 2000,
          "thresholdPercentage": 0.1
         }
        },
        "serverUrl": "",
        "updateMode": "once"
       },
       "containerKey": "pivot-table",
       "showTitleBar": false,
       "style": {}
      }
     }
    }
   },
   "outputs": [
    {
     "data": {
      "application/vnd.atoti.v0+json": {
       "cube": "F1Cube",
       "name": "World Champion by year 3",
       "session": "Unnamed"
      },
      "text/plain": [
       "Install the Atoti JupyterLab extension to see this widget."
      ]
     },
     "metadata": {},
     "output_type": "display_data"
    }
   ],
   "source": [
    "f1cube.visualize('World Champion by year 3')"
   ]
  },
  {
   "cell_type": "markdown",
   "metadata": {},
   "source": [
    "## 6. Simulations\n",
    "Variation of points scoring rule in F1 history  \n",
    "[EN version](https://en.wikipedia.org/wiki/List_of_Formula_One_World_Championship_points_scoring_systems)  \n",
    "[FR version](https://fr.wikipedia.org/wiki/Classement_des_pilotes_de_Formule_1_par_nombre_de_points#%C3%89volution_de_l'attribution_des_points_au_cours_du_temps)"
   ]
  },
  {
   "cell_type": "markdown",
   "metadata": {},
   "source": [
    "### Preparation of a dataframe for the different scoring systems"
   ]
  },
  {
   "cell_type": "code",
   "execution_count": 31,
   "metadata": {},
   "outputs": [],
   "source": [
    "# index = race year, 1 column for each position, values are the number of points scored for the race position\n",
    "scoring_columns = np.arange(1,41)\n",
    "scoring_index = ('sc1950to1959fl sc1960 sc1961to1990 sc1991to2002 sc2003to2009 sc2010to2013 sc2014lr sc2015to2018 sc2019fl').split()"
   ]
  },
  {
   "cell_type": "code",
   "execution_count": 32,
   "metadata": {},
   "outputs": [],
   "source": [
    "# check\n",
    "dfscoring = pd.DataFrame(0,index=scoring_index,columns=scoring_columns)"
   ]
  },
  {
   "cell_type": "code",
   "execution_count": 33,
   "metadata": {},
   "outputs": [],
   "source": [
    "# before 1991, the calculation rule is not a simple aggregation given that only the Nth best race results were retained...\n",
    "# dfscoring.loc['sc1950to1959fl'][1,2,3,4,5] = [8,6,4,3,2] #fastest lap bonus +1 point\n",
    "# dfscoring.loc['sc1960'][1,2,3,4,5,6] = [8,6,4,3,2,1]\n",
    "# dfscoring.loc['sc1961to1990'][1,2,3,4,5,6] = [9,6,4,3,2,1]\n",
    "dfscoring.loc['sc1991to2002'][1,2,3,4,5,6] = [10,6,4,3,2,1]\n",
    "dfscoring.loc['sc2003to2009'][1,2,3,4,5,6,7,8] = [10,8,6,5,4,3,2,1]\n",
    "dfscoring.loc['sc2010to2013'][1,2,3,4,5,6,7,8,9,10] = [25,18,15,12,10,8,6,4,2,1]\n",
    "# dfscoring.loc['sc2014lr'][1,2,3,4,5,6,7,8,9,10] = [25,18,15,12,10,8,6,4,2,1] #last race bonus double points\n",
    "dfscoring.loc['sc2015to2018'] = dfscoring.loc['sc2010to2013']\n",
    "# dfscoring.loc['sc2019fl'] = dfscoring.loc['sc2010to2013'] #fastest lap bonus +1 point"
   ]
  },
  {
   "cell_type": "code",
   "execution_count": 34,
   "metadata": {},
   "outputs": [
    {
     "data": {
      "text/html": [
       "<div>\n",
       "<style scoped>\n",
       "    .dataframe tbody tr th:only-of-type {\n",
       "        vertical-align: middle;\n",
       "    }\n",
       "\n",
       "    .dataframe tbody tr th {\n",
       "        vertical-align: top;\n",
       "    }\n",
       "\n",
       "    .dataframe thead th {\n",
       "        text-align: right;\n",
       "    }\n",
       "</style>\n",
       "<table border=\"1\" class=\"dataframe\">\n",
       "  <thead>\n",
       "    <tr style=\"text-align: right;\">\n",
       "      <th></th>\n",
       "      <th>1</th>\n",
       "      <th>2</th>\n",
       "      <th>3</th>\n",
       "      <th>4</th>\n",
       "      <th>5</th>\n",
       "      <th>6</th>\n",
       "      <th>7</th>\n",
       "      <th>8</th>\n",
       "      <th>9</th>\n",
       "      <th>10</th>\n",
       "      <th>...</th>\n",
       "      <th>31</th>\n",
       "      <th>32</th>\n",
       "      <th>33</th>\n",
       "      <th>34</th>\n",
       "      <th>35</th>\n",
       "      <th>36</th>\n",
       "      <th>37</th>\n",
       "      <th>38</th>\n",
       "      <th>39</th>\n",
       "      <th>40</th>\n",
       "    </tr>\n",
       "  </thead>\n",
       "  <tbody>\n",
       "    <tr>\n",
       "      <th>sc1950to1959fl</th>\n",
       "      <td>0</td>\n",
       "      <td>0</td>\n",
       "      <td>0</td>\n",
       "      <td>0</td>\n",
       "      <td>0</td>\n",
       "      <td>0</td>\n",
       "      <td>0</td>\n",
       "      <td>0</td>\n",
       "      <td>0</td>\n",
       "      <td>0</td>\n",
       "      <td>...</td>\n",
       "      <td>0</td>\n",
       "      <td>0</td>\n",
       "      <td>0</td>\n",
       "      <td>0</td>\n",
       "      <td>0</td>\n",
       "      <td>0</td>\n",
       "      <td>0</td>\n",
       "      <td>0</td>\n",
       "      <td>0</td>\n",
       "      <td>0</td>\n",
       "    </tr>\n",
       "    <tr>\n",
       "      <th>sc1960</th>\n",
       "      <td>0</td>\n",
       "      <td>0</td>\n",
       "      <td>0</td>\n",
       "      <td>0</td>\n",
       "      <td>0</td>\n",
       "      <td>0</td>\n",
       "      <td>0</td>\n",
       "      <td>0</td>\n",
       "      <td>0</td>\n",
       "      <td>0</td>\n",
       "      <td>...</td>\n",
       "      <td>0</td>\n",
       "      <td>0</td>\n",
       "      <td>0</td>\n",
       "      <td>0</td>\n",
       "      <td>0</td>\n",
       "      <td>0</td>\n",
       "      <td>0</td>\n",
       "      <td>0</td>\n",
       "      <td>0</td>\n",
       "      <td>0</td>\n",
       "    </tr>\n",
       "    <tr>\n",
       "      <th>sc1961to1990</th>\n",
       "      <td>0</td>\n",
       "      <td>0</td>\n",
       "      <td>0</td>\n",
       "      <td>0</td>\n",
       "      <td>0</td>\n",
       "      <td>0</td>\n",
       "      <td>0</td>\n",
       "      <td>0</td>\n",
       "      <td>0</td>\n",
       "      <td>0</td>\n",
       "      <td>...</td>\n",
       "      <td>0</td>\n",
       "      <td>0</td>\n",
       "      <td>0</td>\n",
       "      <td>0</td>\n",
       "      <td>0</td>\n",
       "      <td>0</td>\n",
       "      <td>0</td>\n",
       "      <td>0</td>\n",
       "      <td>0</td>\n",
       "      <td>0</td>\n",
       "    </tr>\n",
       "    <tr>\n",
       "      <th>sc1991to2002</th>\n",
       "      <td>10</td>\n",
       "      <td>6</td>\n",
       "      <td>4</td>\n",
       "      <td>3</td>\n",
       "      <td>2</td>\n",
       "      <td>1</td>\n",
       "      <td>0</td>\n",
       "      <td>0</td>\n",
       "      <td>0</td>\n",
       "      <td>0</td>\n",
       "      <td>...</td>\n",
       "      <td>0</td>\n",
       "      <td>0</td>\n",
       "      <td>0</td>\n",
       "      <td>0</td>\n",
       "      <td>0</td>\n",
       "      <td>0</td>\n",
       "      <td>0</td>\n",
       "      <td>0</td>\n",
       "      <td>0</td>\n",
       "      <td>0</td>\n",
       "    </tr>\n",
       "    <tr>\n",
       "      <th>sc2003to2009</th>\n",
       "      <td>10</td>\n",
       "      <td>8</td>\n",
       "      <td>6</td>\n",
       "      <td>5</td>\n",
       "      <td>4</td>\n",
       "      <td>3</td>\n",
       "      <td>2</td>\n",
       "      <td>1</td>\n",
       "      <td>0</td>\n",
       "      <td>0</td>\n",
       "      <td>...</td>\n",
       "      <td>0</td>\n",
       "      <td>0</td>\n",
       "      <td>0</td>\n",
       "      <td>0</td>\n",
       "      <td>0</td>\n",
       "      <td>0</td>\n",
       "      <td>0</td>\n",
       "      <td>0</td>\n",
       "      <td>0</td>\n",
       "      <td>0</td>\n",
       "    </tr>\n",
       "    <tr>\n",
       "      <th>sc2010to2013</th>\n",
       "      <td>25</td>\n",
       "      <td>18</td>\n",
       "      <td>15</td>\n",
       "      <td>12</td>\n",
       "      <td>10</td>\n",
       "      <td>8</td>\n",
       "      <td>6</td>\n",
       "      <td>4</td>\n",
       "      <td>2</td>\n",
       "      <td>1</td>\n",
       "      <td>...</td>\n",
       "      <td>0</td>\n",
       "      <td>0</td>\n",
       "      <td>0</td>\n",
       "      <td>0</td>\n",
       "      <td>0</td>\n",
       "      <td>0</td>\n",
       "      <td>0</td>\n",
       "      <td>0</td>\n",
       "      <td>0</td>\n",
       "      <td>0</td>\n",
       "    </tr>\n",
       "    <tr>\n",
       "      <th>sc2014lr</th>\n",
       "      <td>0</td>\n",
       "      <td>0</td>\n",
       "      <td>0</td>\n",
       "      <td>0</td>\n",
       "      <td>0</td>\n",
       "      <td>0</td>\n",
       "      <td>0</td>\n",
       "      <td>0</td>\n",
       "      <td>0</td>\n",
       "      <td>0</td>\n",
       "      <td>...</td>\n",
       "      <td>0</td>\n",
       "      <td>0</td>\n",
       "      <td>0</td>\n",
       "      <td>0</td>\n",
       "      <td>0</td>\n",
       "      <td>0</td>\n",
       "      <td>0</td>\n",
       "      <td>0</td>\n",
       "      <td>0</td>\n",
       "      <td>0</td>\n",
       "    </tr>\n",
       "    <tr>\n",
       "      <th>sc2015to2018</th>\n",
       "      <td>25</td>\n",
       "      <td>18</td>\n",
       "      <td>15</td>\n",
       "      <td>12</td>\n",
       "      <td>10</td>\n",
       "      <td>8</td>\n",
       "      <td>6</td>\n",
       "      <td>4</td>\n",
       "      <td>2</td>\n",
       "      <td>1</td>\n",
       "      <td>...</td>\n",
       "      <td>0</td>\n",
       "      <td>0</td>\n",
       "      <td>0</td>\n",
       "      <td>0</td>\n",
       "      <td>0</td>\n",
       "      <td>0</td>\n",
       "      <td>0</td>\n",
       "      <td>0</td>\n",
       "      <td>0</td>\n",
       "      <td>0</td>\n",
       "    </tr>\n",
       "    <tr>\n",
       "      <th>sc2019fl</th>\n",
       "      <td>0</td>\n",
       "      <td>0</td>\n",
       "      <td>0</td>\n",
       "      <td>0</td>\n",
       "      <td>0</td>\n",
       "      <td>0</td>\n",
       "      <td>0</td>\n",
       "      <td>0</td>\n",
       "      <td>0</td>\n",
       "      <td>0</td>\n",
       "      <td>...</td>\n",
       "      <td>0</td>\n",
       "      <td>0</td>\n",
       "      <td>0</td>\n",
       "      <td>0</td>\n",
       "      <td>0</td>\n",
       "      <td>0</td>\n",
       "      <td>0</td>\n",
       "      <td>0</td>\n",
       "      <td>0</td>\n",
       "      <td>0</td>\n",
       "    </tr>\n",
       "  </tbody>\n",
       "</table>\n",
       "<p>9 rows × 40 columns</p>\n",
       "</div>"
      ],
      "text/plain": [
       "                1   2   3   4   5   6   7   8   9   10  ...  31  32  33  34  \\\n",
       "sc1950to1959fl   0   0   0   0   0   0   0   0   0   0  ...   0   0   0   0   \n",
       "sc1960           0   0   0   0   0   0   0   0   0   0  ...   0   0   0   0   \n",
       "sc1961to1990     0   0   0   0   0   0   0   0   0   0  ...   0   0   0   0   \n",
       "sc1991to2002    10   6   4   3   2   1   0   0   0   0  ...   0   0   0   0   \n",
       "sc2003to2009    10   8   6   5   4   3   2   1   0   0  ...   0   0   0   0   \n",
       "sc2010to2013    25  18  15  12  10   8   6   4   2   1  ...   0   0   0   0   \n",
       "sc2014lr         0   0   0   0   0   0   0   0   0   0  ...   0   0   0   0   \n",
       "sc2015to2018    25  18  15  12  10   8   6   4   2   1  ...   0   0   0   0   \n",
       "sc2019fl         0   0   0   0   0   0   0   0   0   0  ...   0   0   0   0   \n",
       "\n",
       "                35  36  37  38  39  40  \n",
       "sc1950to1959fl   0   0   0   0   0   0  \n",
       "sc1960           0   0   0   0   0   0  \n",
       "sc1961to1990     0   0   0   0   0   0  \n",
       "sc1991to2002     0   0   0   0   0   0  \n",
       "sc2003to2009     0   0   0   0   0   0  \n",
       "sc2010to2013     0   0   0   0   0   0  \n",
       "sc2014lr         0   0   0   0   0   0  \n",
       "sc2015to2018     0   0   0   0   0   0  \n",
       "sc2019fl         0   0   0   0   0   0  \n",
       "\n",
       "[9 rows x 40 columns]"
      ]
     },
     "execution_count": 34,
     "metadata": {},
     "output_type": "execute_result"
    }
   ],
   "source": [
    "# check\n",
    "dfscoring"
   ]
  },
  {
   "cell_type": "markdown",
   "metadata": {},
   "source": [
    "### Simulation on points"
   ]
  },
  {
   "cell_type": "code",
   "execution_count": 35,
   "metadata": {},
   "outputs": [],
   "source": [
    "# Creation of simulation\n",
    "pointssystem_sim = f1cube.setup_simulation(\n",
    "    'pointssystem_sim',\n",
    "    levels=[l[\"positionText\"], l[\"driverId\"], l[\"raceId\"]],\n",
    "    replace=[m[\"points.SUM\"]], \n",
    "    base_scenario = 'Base'\n",
    ")"
   ]
  },
  {
   "cell_type": "code",
   "execution_count": 36,
   "metadata": {},
   "outputs": [],
   "source": [
    "# Creation of the different scenarios\n",
    "sc2015to2018_scenario = pointssystem_sim.scenarios['System 2015 to 2018']\n",
    "sc1991to2002_scenario = pointssystem_sim.scenarios['System 1991 to 2002']\n",
    "sc2003to2009_scenario = pointssystem_sim.scenarios['System 2003 to 2009']"
   ]
  },
  {
   "cell_type": "code",
   "execution_count": 37,
   "metadata": {},
   "outputs": [],
   "source": [
    "# Feed of the different scenarios with points from related scoring systems\n",
    "for i in range(1,11):\n",
    "    x=float(dfscoring.loc[\"sc2015to2018\"][i])\n",
    "    sc2015to2018_scenario += (str(i), \"*\", \"*\", x)\n",
    "    \n",
    "    x=float(dfscoring.loc[\"sc1991to2002\"][i])\n",
    "    sc1991to2002_scenario += (str(i), \"*\", \"*\", x)\n",
    "    \n",
    "    x=float(dfscoring.loc[\"sc2003to2009\"][i])\n",
    "    sc2003to2009_scenario += (str(i), \"*\", \"*\", x)"
   ]
  },
  {
   "cell_type": "code",
   "execution_count": 38,
   "metadata": {},
   "outputs": [
    {
     "data": {
      "text/html": [
       "<div>\n",
       "<style scoped>\n",
       "    .dataframe tbody tr th:only-of-type {\n",
       "        vertical-align: middle;\n",
       "    }\n",
       "\n",
       "    .dataframe tbody tr th {\n",
       "        vertical-align: top;\n",
       "    }\n",
       "\n",
       "    .dataframe thead th {\n",
       "        text-align: right;\n",
       "    }\n",
       "</style>\n",
       "<table border=\"1\" class=\"dataframe\">\n",
       "  <thead>\n",
       "    <tr style=\"text-align: right;\">\n",
       "      <th></th>\n",
       "      <th></th>\n",
       "      <th></th>\n",
       "      <th>pointssystem_sim_points.SUM_replace</th>\n",
       "      <th>Priority</th>\n",
       "    </tr>\n",
       "    <tr>\n",
       "      <th>positionText</th>\n",
       "      <th>driverId</th>\n",
       "      <th>raceId</th>\n",
       "      <th></th>\n",
       "      <th></th>\n",
       "    </tr>\n",
       "  </thead>\n",
       "  <tbody>\n",
       "    <tr>\n",
       "      <th>1</th>\n",
       "      <th>*</th>\n",
       "      <th>*</th>\n",
       "      <td>25.0</td>\n",
       "      <td>0.0</td>\n",
       "    </tr>\n",
       "    <tr>\n",
       "      <th>2</th>\n",
       "      <th>*</th>\n",
       "      <th>*</th>\n",
       "      <td>18.0</td>\n",
       "      <td>0.0</td>\n",
       "    </tr>\n",
       "    <tr>\n",
       "      <th>3</th>\n",
       "      <th>*</th>\n",
       "      <th>*</th>\n",
       "      <td>15.0</td>\n",
       "      <td>0.0</td>\n",
       "    </tr>\n",
       "    <tr>\n",
       "      <th>4</th>\n",
       "      <th>*</th>\n",
       "      <th>*</th>\n",
       "      <td>12.0</td>\n",
       "      <td>0.0</td>\n",
       "    </tr>\n",
       "    <tr>\n",
       "      <th>5</th>\n",
       "      <th>*</th>\n",
       "      <th>*</th>\n",
       "      <td>10.0</td>\n",
       "      <td>0.0</td>\n",
       "    </tr>\n",
       "    <tr>\n",
       "      <th>6</th>\n",
       "      <th>*</th>\n",
       "      <th>*</th>\n",
       "      <td>8.0</td>\n",
       "      <td>0.0</td>\n",
       "    </tr>\n",
       "    <tr>\n",
       "      <th>7</th>\n",
       "      <th>*</th>\n",
       "      <th>*</th>\n",
       "      <td>6.0</td>\n",
       "      <td>0.0</td>\n",
       "    </tr>\n",
       "    <tr>\n",
       "      <th>8</th>\n",
       "      <th>*</th>\n",
       "      <th>*</th>\n",
       "      <td>4.0</td>\n",
       "      <td>0.0</td>\n",
       "    </tr>\n",
       "    <tr>\n",
       "      <th>9</th>\n",
       "      <th>*</th>\n",
       "      <th>*</th>\n",
       "      <td>2.0</td>\n",
       "      <td>0.0</td>\n",
       "    </tr>\n",
       "    <tr>\n",
       "      <th>10</th>\n",
       "      <th>*</th>\n",
       "      <th>*</th>\n",
       "      <td>1.0</td>\n",
       "      <td>0.0</td>\n",
       "    </tr>\n",
       "  </tbody>\n",
       "</table>\n",
       "</div>"
      ],
      "text/plain": [
       "                              pointssystem_sim_points.SUM_replace  Priority\n",
       "positionText driverId raceId                                               \n",
       "1            *        *                                      25.0       0.0\n",
       "2            *        *                                      18.0       0.0\n",
       "3            *        *                                      15.0       0.0\n",
       "4            *        *                                      12.0       0.0\n",
       "5            *        *                                      10.0       0.0\n",
       "6            *        *                                       8.0       0.0\n",
       "7            *        *                                       6.0       0.0\n",
       "8            *        *                                       4.0       0.0\n",
       "9            *        *                                       2.0       0.0\n",
       "10           *        *                                       1.0       0.0"
      ]
     },
     "execution_count": 38,
     "metadata": {},
     "output_type": "execute_result"
    }
   ],
   "source": [
    "sc2015to2018_scenario.head(10)\n",
    "#sc1991to2002_scenario.head(10)\n",
    "#sc2003to2009_scenario.head(10)"
   ]
  },
  {
   "cell_type": "code",
   "execution_count": 39,
   "metadata": {},
   "outputs": [
    {
     "data": {
      "text/html": [
       "<div>\n",
       "<style scoped>\n",
       "    .dataframe tbody tr th:only-of-type {\n",
       "        vertical-align: middle;\n",
       "    }\n",
       "\n",
       "    .dataframe tbody tr th {\n",
       "        vertical-align: top;\n",
       "    }\n",
       "\n",
       "    .dataframe thead th {\n",
       "        text-align: right;\n",
       "    }\n",
       "</style>\n",
       "<table border=\"1\" class=\"dataframe\">\n",
       "  <thead>\n",
       "    <tr style=\"text-align: right;\">\n",
       "      <th></th>\n",
       "      <th></th>\n",
       "      <th></th>\n",
       "      <th>points.SUM</th>\n",
       "    </tr>\n",
       "    <tr>\n",
       "      <th>year</th>\n",
       "      <th>pointssystem_sim</th>\n",
       "      <th>driverRef</th>\n",
       "      <th></th>\n",
       "    </tr>\n",
       "  </thead>\n",
       "  <tbody>\n",
       "    <tr>\n",
       "      <th rowspan=\"5\" valign=\"top\">1950</th>\n",
       "      <th rowspan=\"5\" valign=\"top\">Base</th>\n",
       "      <th>ader</th>\n",
       "      <td>0.0</td>\n",
       "    </tr>\n",
       "    <tr>\n",
       "      <th>agabashian</th>\n",
       "      <td>0.0</td>\n",
       "    </tr>\n",
       "    <tr>\n",
       "      <th>ascari</th>\n",
       "      <td>11.0</td>\n",
       "    </tr>\n",
       "    <tr>\n",
       "      <th>banks</th>\n",
       "      <td>0.0</td>\n",
       "    </tr>\n",
       "    <tr>\n",
       "      <th>bettenhausen</th>\n",
       "      <td>1.0</td>\n",
       "    </tr>\n",
       "    <tr>\n",
       "      <th>...</th>\n",
       "      <th>...</th>\n",
       "      <th>...</th>\n",
       "      <td>...</td>\n",
       "    </tr>\n",
       "    <tr>\n",
       "      <th rowspan=\"5\" valign=\"top\">2019</th>\n",
       "      <th rowspan=\"5\" valign=\"top\">System 2015 to 2018</th>\n",
       "      <th>ricciardo</th>\n",
       "      <td>54.0</td>\n",
       "    </tr>\n",
       "    <tr>\n",
       "      <th>russell</th>\n",
       "      <td>0.0</td>\n",
       "    </tr>\n",
       "    <tr>\n",
       "      <th>sainz</th>\n",
       "      <td>96.0</td>\n",
       "    </tr>\n",
       "    <tr>\n",
       "      <th>stroll</th>\n",
       "      <td>21.0</td>\n",
       "    </tr>\n",
       "    <tr>\n",
       "      <th>vettel</th>\n",
       "      <td>238.0</td>\n",
       "    </tr>\n",
       "  </tbody>\n",
       "</table>\n",
       "<p>12384 rows × 1 columns</p>\n",
       "</div>"
      ],
      "text/plain": [
       "                                       points.SUM\n",
       "year pointssystem_sim    driverRef               \n",
       "1950 Base                ader                 0.0\n",
       "                         agabashian           0.0\n",
       "                         ascari              11.0\n",
       "                         banks                0.0\n",
       "                         bettenhausen         1.0\n",
       "...                                           ...\n",
       "2019 System 2015 to 2018 ricciardo           54.0\n",
       "                         russell              0.0\n",
       "                         sainz               96.0\n",
       "                         stroll              21.0\n",
       "                         vettel             238.0\n",
       "\n",
       "[12384 rows x 1 columns]"
      ]
     },
     "execution_count": 39,
     "metadata": {},
     "output_type": "execute_result"
    }
   ],
   "source": [
    "# query4bis\n",
    "# Construction of the base query to feed the champonship winners dataframe based on scenarios\n",
    "dfq4b = f1cube.query(m['points.SUM'],levels=[l[\"year\"],l[\"pointssystem_sim\"],l[\"driverRef\"]])\n",
    "dfq4b"
   ]
  },
  {
   "cell_type": "code",
   "execution_count": 40,
   "metadata": {},
   "outputs": [
    {
     "data": {
      "text/html": [
       "<div>\n",
       "<style scoped>\n",
       "    .dataframe tbody tr th:only-of-type {\n",
       "        vertical-align: middle;\n",
       "    }\n",
       "\n",
       "    .dataframe tbody tr th {\n",
       "        vertical-align: top;\n",
       "    }\n",
       "\n",
       "    .dataframe thead th {\n",
       "        text-align: right;\n",
       "    }\n",
       "</style>\n",
       "<table border=\"1\" class=\"dataframe\">\n",
       "  <thead>\n",
       "    <tr style=\"text-align: right;\">\n",
       "      <th></th>\n",
       "      <th>points.SUM</th>\n",
       "    </tr>\n",
       "    <tr>\n",
       "      <th>driverRef</th>\n",
       "      <th></th>\n",
       "    </tr>\n",
       "  </thead>\n",
       "  <tbody>\n",
       "    <tr>\n",
       "      <th>prost</th>\n",
       "      <td>105.0</td>\n",
       "    </tr>\n",
       "    <tr>\n",
       "      <th>senna</th>\n",
       "      <td>94.0</td>\n",
       "    </tr>\n",
       "    <tr>\n",
       "      <th>berger</th>\n",
       "      <td>41.0</td>\n",
       "    </tr>\n",
       "    <tr>\n",
       "      <th>boutsen</th>\n",
       "      <td>27.0</td>\n",
       "    </tr>\n",
       "    <tr>\n",
       "      <th>alboreto</th>\n",
       "      <td>24.0</td>\n",
       "    </tr>\n",
       "    <tr>\n",
       "      <th>piquet</th>\n",
       "      <td>22.0</td>\n",
       "    </tr>\n",
       "    <tr>\n",
       "      <th>capelli</th>\n",
       "      <td>17.0</td>\n",
       "    </tr>\n",
       "    <tr>\n",
       "      <th>warwick</th>\n",
       "      <td>17.0</td>\n",
       "    </tr>\n",
       "    <tr>\n",
       "      <th>mansell</th>\n",
       "      <td>12.0</td>\n",
       "    </tr>\n",
       "    <tr>\n",
       "      <th>nannini</th>\n",
       "      <td>12.0</td>\n",
       "    </tr>\n",
       "    <tr>\n",
       "      <th>patrese</th>\n",
       "      <td>8.0</td>\n",
       "    </tr>\n",
       "    <tr>\n",
       "      <th>cheever</th>\n",
       "      <td>6.0</td>\n",
       "    </tr>\n",
       "    <tr>\n",
       "      <th>gugelmin</th>\n",
       "      <td>5.0</td>\n",
       "    </tr>\n",
       "    <tr>\n",
       "      <th>palmer</th>\n",
       "      <td>5.0</td>\n",
       "    </tr>\n",
       "    <tr>\n",
       "      <th>cesaris</th>\n",
       "      <td>3.0</td>\n",
       "    </tr>\n",
       "    <tr>\n",
       "      <th>martini</th>\n",
       "      <td>1.0</td>\n",
       "    </tr>\n",
       "    <tr>\n",
       "      <th>satoru_nakajima</th>\n",
       "      <td>1.0</td>\n",
       "    </tr>\n",
       "    <tr>\n",
       "      <th>ghinzani</th>\n",
       "      <td>0.0</td>\n",
       "    </tr>\n",
       "    <tr>\n",
       "      <th>raphanel</th>\n",
       "      <td>0.0</td>\n",
       "    </tr>\n",
       "    <tr>\n",
       "      <th>tarquini</th>\n",
       "      <td>0.0</td>\n",
       "    </tr>\n",
       "    <tr>\n",
       "      <th>suzuki</th>\n",
       "      <td>0.0</td>\n",
       "    </tr>\n",
       "    <tr>\n",
       "      <th>streiff</th>\n",
       "      <td>0.0</td>\n",
       "    </tr>\n",
       "    <tr>\n",
       "      <th>arnoux</th>\n",
       "      <td>0.0</td>\n",
       "    </tr>\n",
       "    <tr>\n",
       "      <th>schneider</th>\n",
       "      <td>0.0</td>\n",
       "    </tr>\n",
       "    <tr>\n",
       "      <th>schlesser</th>\n",
       "      <td>0.0</td>\n",
       "    </tr>\n",
       "    <tr>\n",
       "      <th>sala</th>\n",
       "      <td>0.0</td>\n",
       "    </tr>\n",
       "    <tr>\n",
       "      <th>bailey</th>\n",
       "      <td>0.0</td>\n",
       "    </tr>\n",
       "    <tr>\n",
       "      <th>johansson</th>\n",
       "      <td>0.0</td>\n",
       "    </tr>\n",
       "    <tr>\n",
       "      <th>brundle</th>\n",
       "      <td>0.0</td>\n",
       "    </tr>\n",
       "    <tr>\n",
       "      <th>caffi</th>\n",
       "      <td>0.0</td>\n",
       "    </tr>\n",
       "    <tr>\n",
       "      <th>dalmas</th>\n",
       "      <td>0.0</td>\n",
       "    </tr>\n",
       "    <tr>\n",
       "      <th>modena</th>\n",
       "      <td>0.0</td>\n",
       "    </tr>\n",
       "    <tr>\n",
       "      <th>alliot</th>\n",
       "      <td>0.0</td>\n",
       "    </tr>\n",
       "    <tr>\n",
       "      <th>larrauri</th>\n",
       "      <td>0.0</td>\n",
       "    </tr>\n",
       "    <tr>\n",
       "      <th>larini</th>\n",
       "      <td>0.0</td>\n",
       "    </tr>\n",
       "    <tr>\n",
       "      <th>campos</th>\n",
       "      <td>0.0</td>\n",
       "    </tr>\n",
       "  </tbody>\n",
       "</table>\n",
       "</div>"
      ],
      "text/plain": [
       "                 points.SUM\n",
       "driverRef                  \n",
       "prost                 105.0\n",
       "senna                  94.0\n",
       "berger                 41.0\n",
       "boutsen                27.0\n",
       "alboreto               24.0\n",
       "piquet                 22.0\n",
       "capelli                17.0\n",
       "warwick                17.0\n",
       "mansell                12.0\n",
       "nannini                12.0\n",
       "patrese                 8.0\n",
       "cheever                 6.0\n",
       "gugelmin                5.0\n",
       "palmer                  5.0\n",
       "cesaris                 3.0\n",
       "martini                 1.0\n",
       "satoru_nakajima         1.0\n",
       "ghinzani                0.0\n",
       "raphanel                0.0\n",
       "tarquini                0.0\n",
       "suzuki                  0.0\n",
       "streiff                 0.0\n",
       "arnoux                  0.0\n",
       "schneider               0.0\n",
       "schlesser               0.0\n",
       "sala                    0.0\n",
       "bailey                  0.0\n",
       "johansson               0.0\n",
       "brundle                 0.0\n",
       "caffi                   0.0\n",
       "dalmas                  0.0\n",
       "modena                  0.0\n",
       "alliot                  0.0\n",
       "larrauri                0.0\n",
       "larini                  0.0\n",
       "campos                  0.0"
      ]
     },
     "execution_count": 40,
     "metadata": {},
     "output_type": "execute_result"
    }
   ],
   "source": [
    "#### \"BASE\" CALCULATIONS ARE INCORRECT for championships before 1991 because not all results were considered...\n",
    "# Example: in 1988, only the 11 best results were considered, meaning that Senna became WC, even if Prost had scored more points...\n",
    "dfq4b.loc[1988].loc['Base'].sort_values(by=['points.SUM'], ascending=False)"
   ]
  },
  {
   "cell_type": "code",
   "execution_count": 42,
   "metadata": {
    "atoti": {
     "height": 677,
     "state": {
      "name": "Champion comparison",
      "type": "container",
      "value": {
       "body": {
        "configuration": {
         "tabular": {
          "addButtonFilter": "numeric",
          "columnOrder": {
           "args": {
            "orderedColumns": [
             "__lineNumber__",
             "c-treeCells-member",
             "([Measure Simulations].[pointssystem_sim].[pointssystem_sim].[Base],[Measures].[Champion])",
             "([Measure Simulations].[pointssystem_sim].[pointssystem_sim].[System 1991 to 2002],[Measures].[Champion])",
             "([Measure Simulations].[pointssystem_sim].[pointssystem_sim].[System 2003 to 2009],[Measures].[Champion])",
             "([Measure Simulations].[pointssystem_sim].[pointssystem_sim].[System 2015 to 2018],[Measures].[Champion])"
            ]
           },
           "key": "explicit"
          },
          "columns": [
           {
            "key": "c-treeCells-member",
            "width": 97
           },
           {
            "key": "([Measure Simulations].[pointssystem_sim].[pointssystem_sim].[System 1991 to 2002],[Measures].[Champion])",
            "width": 179
           },
           {
            "key": "([Measure Simulations].[pointssystem_sim].[pointssystem_sim].[System 2003 to 2009],[Measures].[Champion])",
            "width": 159
           },
           {
            "key": "([Measure Simulations].[pointssystem_sim].[pointssystem_sim].[System 2015 to 2018],[Measures].[Champion])",
            "width": 171
           },
           {
            "key": "([Measure Simulations].[pointssystem_sim].[pointssystem_sim].[System 1991 to 2002],[Measures].[Champion (1)])",
            "width": 156
           },
           {
            "key": "([Measure Simulations].[pointssystem_sim].[pointssystem_sim].[System 2003 to 2009],[Measures].[Champion (1)])",
            "width": 164
           },
           {
            "key": "([Measure Simulations].[pointssystem_sim].[pointssystem_sim].[System 2015 to 2018],[Measures].[Champion (1)])",
            "width": 150
           },
           {
            "key": "[Measure Simulations].[pointssystem_sim].[pointssystem_sim].[System 2003 to 2009]",
            "width": 168
           },
           {
            "key": "[Measure Simulations].[pointssystem_sim].[pointssystem_sim].[System 2015 to 2018]",
            "width": 165
           },
           {
            "key": "[Measure Simulations].[pointssystem_sim].[pointssystem_sim].[System 1991 to 2002]",
            "width": 172
           }
          ],
          "columnsGroups": [
           {
            "captionProducer": "firstColumn",
            "cellFactory": "kpi-status",
            "selector": "kpi-status"
           },
           {
            "captionProducer": "firstColumn",
            "cellFactory": "lookup",
            "selector": "lookup"
           },
           {
            "captionProducer": "expiry",
            "cellFactory": "expiry",
            "selector": "kpi-expiry"
           },
           {
            "captionProducer": "columnMerge",
            "cellFactory": {
             "args": {
              "automaticExpansion": true
             },
             "key": "treeCells"
            },
            "selector": "member"
           }
          ],
          "defaultOptions": {},
          "hideAddButton": true,
          "lineNumbers": true,
          "pinnedHeaderSelector": "member",
          "sortingMode": "non-breaking",
          "statisticsShown": true
         }
        },
        "contextValues": {},
        "mdx": "WITH  Member [Measures].[Champion (1)] AS [Measures].[Champion], CAPTION = [Measures].[Champion].MEMBER_CAPTION, FORE_COLOR = CASE WHEN [Measures].[Champion (1)] <> ([Measure Simulations].[pointssystem_sim].[pointssystem_sim].[Base], [Measures].[Champion (1)]) THEN rgb(255, 0, 0) END  SELECT NON EMPTY Hierarchize([Measure Simulations].[pointssystem_sim].[pointssystem_sim].Members) ON COLUMNS, NON EMPTY Hierarchize([Hierarchies].[year].[year].Members) ON ROWS FROM [F1Cube] WHERE [Measures].[Champion (1)] CELL PROPERTIES BACK_COLOR, FONT_FLAGS, FORE_COLOR, FORMATTED_VALUE, VALUE",
        "ranges": {
         "column": {
          "chunkSize": 50,
          "thresholdPercentage": 0.2
         },
         "row": {
          "chunkSize": 2000,
          "thresholdPercentage": 0.1
         }
        },
        "serverUrl": "",
        "updateMode": "once"
       },
       "containerKey": "pivot-table",
       "showTitleBar": false,
       "style": {}
      }
     }
    }
   },
   "outputs": [
    {
     "data": {
      "application/vnd.atoti.v0+json": {
       "cube": "F1Cube",
       "name": "Champion comparison",
       "session": "Unnamed"
      },
      "text/plain": [
       "Install the Atoti JupyterLab extension to see this widget."
      ]
     },
     "metadata": {},
     "output_type": "display_data"
    }
   ],
   "source": [
    "f1cube.visualize('Champion comparison')"
   ]
  },
  {
   "cell_type": "markdown",
   "metadata": {},
   "source": [
    "## 8. Charts"
   ]
  },
  {
   "cell_type": "markdown",
   "metadata": {},
   "source": [
    "### Showing the differences for the race result of a famous GP, Brazil 2008\n",
    "Where we see how the 1991-2002 scoring systems makes a big difference between chamionship rivals Massa & Hamilton\n",
    "See race summary here :https://www.youtube.com/watch?v=XHSeGou-pCI ;)"
   ]
  },
  {
   "cell_type": "code",
   "execution_count": 47,
   "metadata": {
    "activeviam": {
     "state": {
      "name": "Base vs. Simulation - Brazil 2008",
      "type": "container",
      "value": {
       "body": {
        "configuration": {
         "tabular": {
          "addButtonFilter": "numeric",
          "columnOrder": {
           "args": {
            "orderedColumns": [
             "__lineNumber__",
             "c-treeCells-member",
             "([Measure Simulations].[pointssystem_sim].[pointssystem_sim].[Base],[Measures].[Total Points])",
             "([Measure Simulations].[pointssystem_sim].[pointssystem_sim].[System 2015 to 2018],[Measures].[Total Points])"
            ]
           },
           "key": "explicit"
          },
          "columns": [
           {
            "key": "([Measure Simulations].[pointssystem_sim].[pointssystem_sim].[System 2015 to 2018],[Measures].[Total Points])",
            "width": 159
           },
           {
            "key": "c-treeCells-member",
            "width": 319
           },
           {
            "key": "([Measure Simulations].[pointssystem_sim].[pointssystem_sim].[System 2003 to 2009],[Measures].[Total Points])",
            "width": 180
           },
           {
            "key": "([Measure Simulations].[pointssystem_sim].[pointssystem_sim].[System 1991 to 2002],[Measures].[Total Points])",
            "width": 157
           }
          ],
          "columnsGroups": [
           {
            "captionProducer": "firstColumn",
            "cellFactory": "kpi-status",
            "selector": "kpi-status"
           },
           {
            "captionProducer": "firstColumn",
            "cellFactory": "lookup",
            "selector": "lookup"
           },
           {
            "captionProducer": "expiry",
            "cellFactory": "expiry",
            "selector": "kpi-expiry"
           },
           {
            "captionProducer": "columnMerge",
            "cellFactory": {
             "args": {
              "automaticExpansion": true
             },
             "key": "treeCells"
            },
            "selector": "member"
           }
          ],
          "defaultOptions": {},
          "hideAddButton": true,
          "lineNumbers": true,
          "pinnedHeaderSelector": "member",
          "sortingMode": "non-breaking",
          "statisticsShown": true
         }
        },
        "contextValues": {
         "F1Cube": {
          "mdx.hiddengrandtotals": "1"
         }
        },
        "mdx": "SELECT NON EMPTY Crossjoin(Hierarchize([Measure Simulations].[pointssystem_sim].[pointssystem_sim].Members), [Measures].[Total Points]) ON COLUMNS, NON EMPTY Order(DrilldownLevel([Hierarchies].[driverRef].[ALL].[AllMember]), ([Measure Simulations].[pointssystem_sim].[pointssystem_sim].[System 2015 to 2018], [Measures].[Total Points]), DESC) ON ROWS FROM [F1Cube] WHERE ([Hierarchies].[name].[ALL].[AllMember].[Brazilian Grand Prix], [Hierarchies].[year].[ALL].[AllMember].[2008]) CELL PROPERTIES VALUE, FORMATTED_VALUE, BACK_COLOR, FORE_COLOR, FONT_FLAGS",
        "ranges": {
         "column": {
          "chunkSize": 50,
          "thresholdPercentage": 0.2
         },
         "row": {
          "chunkSize": 2000,
          "thresholdPercentage": 0.1
         }
        },
        "serverUrl": "",
        "updateMode": "once"
       },
       "containerKey": "pivot-table",
       "showTitleBar": false,
       "style": {}
      }
     }
    },
    "atoti": {
     "state": {
      "name": "Base vs. Simulation - Brazil 2008",
      "type": "container",
      "value": {
       "body": {
        "configuration": {
         "tabular": {
          "addButtonFilter": "numeric",
          "columnsGroups": [
           {
            "captionProducer": "firstColumn",
            "cellFactory": "kpi-status",
            "selector": "kpi-status"
           },
           {
            "captionProducer": "firstColumn",
            "cellFactory": "lookup",
            "selector": "lookup"
           },
           {
            "captionProducer": "expiry",
            "cellFactory": "expiry",
            "selector": "kpi-expiry"
           },
           {
            "captionProducer": "columnMerge",
            "cellFactory": {
             "args": {
              "automaticExpansion": true
             },
             "key": "treeCells"
            },
            "selector": "member"
           }
          ],
          "defaultOptions": {},
          "hideAddButton": true,
          "lineNumbers": true,
          "pinnedHeaderSelector": "member",
          "sortingMode": "non-breaking",
          "statisticsShown": true
         }
        },
        "contextValues": {
         "F1Cube": {
          "mdx.hiddengrandtotals": "1"
         }
        },
        "mdx": "SELECT NON EMPTY Crossjoin([Measure Simulations].[pointssystem_sim].[pointssystem_sim].Members, [Measures].[points.SUM]) ON COLUMNS, NON EMPTY Order(DrilldownLevel([Hierarchies].[driverRef].[ALL].[AllMember]), [Measures].[points.SUM], DESC) ON ROWS FROM [F1Cube] WHERE ([Hierarchies].[year].[ALL].[AllMember].[2008], [Hierarchies].[name].[ALL].[AllMember].[Brazilian Grand Prix]) CELL PROPERTIES VALUE, FORMATTED_VALUE, BACK_COLOR, FORE_COLOR, FONT_FLAGS",
        "ranges": {
         "column": {
          "chunkSize": 50,
          "thresholdPercentage": 0.2
         },
         "row": {
          "chunkSize": 2000,
          "thresholdPercentage": 0.1
         }
        },
        "serverUrl": "",
        "updateMode": "once"
       },
       "containerKey": "pivot-table",
       "showTitleBar": false,
       "style": {}
      }
     }
    }
   },
   "outputs": [
    {
     "data": {
      "application/vnd.atoti.v0+json": {
       "cube": "F1Cube",
       "name": "Base vs. Simulation - Brazil 2008",
       "session": "Unnamed"
      },
      "text/plain": [
       "Install the Atoti JupyterLab extension to see this widget."
      ]
     },
     "metadata": {},
     "output_type": "display_data"
    }
   ],
   "source": [
    "f1cube.visualize('Base vs. Simulation - Brazil 2008')"
   ]
  },
  {
   "cell_type": "markdown",
   "metadata": {},
   "source": [
    "### Showing the differences for the 2008 world championship result\n",
    "Would Felipe Massa have become world champ in 2008 with the 1991-2002 scoring system?? YES!"
   ]
  },
  {
   "cell_type": "code",
   "execution_count": 49,
   "metadata": {
    "activeviam": {
     "height": 530,
     "state": {
      "name": "Base vs. Simulation System 1991 to 2002 - 2008 Championship",
      "type": "container",
      "value": {
       "body": {
        "configuration": {
         "mapping": {
          "horizontal": [],
          "splitBy": [
           "[Measure Simulations].[pointssystem_sim].[pointssystem_sim]"
          ],
          "values": [
           "[Measures].[Total Points]"
          ],
          "vertical": [],
          "xAxis": [
           "[Hierarchies].[driverRef].[driverRef]"
          ]
         },
         "plotly": {
          "layout": {
           "xaxis": {
            "title": {
             "text": "Total points"
            }
           },
           "yaxis": {
            "categoryorder": "total ascending",
            "title": {
             "text": "Drivers"
            }
           }
          }
         },
         "switchedTo": "plotly-clustered-bar-chart",
         "type": "plotly-clustered-column-chart"
        },
        "query": {
         "mdx": "SELECT NON EMPTY [Measures].[Total Points] ON COLUMNS, NON EMPTY Crossjoin([Hierarchies].[driverRef].[driverRef].Members, [Measure Simulations].[pointssystem_sim].[pointssystem_sim].Members) ON ROWS FROM (SELECT TopCount(Filter([Hierarchies].[driverRef].Levels(1).Members, NOT IsEmpty([Measures].[Total Points])), 10, [Measures].[Total Points]) ON COLUMNS FROM (SELECT {[Measure Simulations].[pointssystem_sim].[pointssystem_sim].[Base], [Measure Simulations].[pointssystem_sim].[pointssystem_sim].[System 1991 to 2002]} ON COLUMNS FROM [F1Cube] WHERE [Hierarchies].[year].[ALL].[AllMember].[2008]) WHERE [Hierarchies].[year].[ALL].[AllMember].[2008]) WHERE [Hierarchies].[year].[ALL].[AllMember].[2008] CELL PROPERTIES VALUE, FORMATTED_VALUE, BACK_COLOR, FORE_COLOR, FONT_FLAGS",
         "serverUrl": "",
         "updateMode": "once"
        }
       },
       "containerKey": "chart",
       "showTitleBar": true,
       "style": {}
      }
     }
    },
    "atoti": {
     "state": {
      "name": "Base vs. Simulation System 1991 to 2002 - 2008 Championship",
      "type": "container",
      "value": {
       "body": {
        "configuration": {
         "tabular": {
          "addButtonFilter": "numeric",
          "columnOrder": {
           "args": {
            "orderedColumns": [
             "__lineNumber__",
             "c-treeCells-member",
             "([Measure Simulations].[pointssystem_sim].[pointssystem_sim].[Base],[Measures].[Champion])",
             "([Measure Simulations].[pointssystem_sim].[pointssystem_sim].[System 1991 to 2002],[Measures].[Champion])",
             "([Measure Simulations].[pointssystem_sim].[pointssystem_sim].[System 2003 to 2009],[Measures].[Champion])",
             "([Measure Simulations].[pointssystem_sim].[pointssystem_sim].[System 2015 to 2018],[Measures].[Champion])"
            ]
           },
           "key": "explicit"
          },
          "columns": [
           {
            "key": "([Measure Simulations].[pointssystem_sim].[pointssystem_sim].[System 1991 to 2002],[Measures].[Champion])",
            "width": 170
           }
          ],
          "columnsGroups": [
           {
            "captionProducer": "firstColumn",
            "cellFactory": "kpi-status",
            "selector": "kpi-status"
           },
           {
            "captionProducer": "firstColumn",
            "cellFactory": "lookup",
            "selector": "lookup"
           },
           {
            "captionProducer": "expiry",
            "cellFactory": "expiry",
            "selector": "kpi-expiry"
           },
           {
            "captionProducer": "columnMerge",
            "cellFactory": {
             "args": {
              "automaticExpansion": true
             },
             "key": "treeCells"
            },
            "selector": "member"
           }
          ],
          "defaultOptions": {},
          "hideAddButton": true,
          "lineNumbers": true,
          "pinnedHeaderSelector": "member",
          "sortingMode": "non-breaking",
          "statisticsShown": true
         }
        },
        "contextValues": {
         "F1Cube": {
          "mdx.hiddengrandtotals": "1"
         }
        },
        "mdx": "SELECT NON EMPTY Crossjoin([Measure Simulations].[pointssystem_sim].[pointssystem_sim].Members, [Measures].[Champion]) ON COLUMNS, NON EMPTY Hierarchize(DrilldownLevel([Hierarchies].[year].[ALL].[AllMember])) ON ROWS FROM (SELECT {[Measure Simulations].[pointssystem_sim].[pointssystem_sim].[Base], [Measure Simulations].[pointssystem_sim].[pointssystem_sim].[System 1991 to 2002]} ON COLUMNS FROM (SELECT [Hierarchies].[year].[ALL].[AllMember].[2008] ON COLUMNS FROM [F1Cube])) CELL PROPERTIES VALUE, FORMATTED_VALUE, BACK_COLOR, FORE_COLOR, FONT_FLAGS",
        "ranges": {
         "column": {
          "chunkSize": 50,
          "thresholdPercentage": 0.2
         },
         "row": {
          "chunkSize": 2000,
          "thresholdPercentage": 0.1
         }
        },
        "serverUrl": "",
        "updateMode": "once"
       },
       "containerKey": "pivot-table",
       "showTitleBar": false,
       "style": {}
      }
     }
    }
   },
   "outputs": [
    {
     "data": {
      "application/vnd.atoti.v0+json": {
       "cube": "F1Cube",
       "name": "Base vs. Simulation System 1991 to 2002 - 2008 Championship",
       "session": "Unnamed"
      },
      "text/plain": [
       "Install the Atoti JupyterLab extension to see this widget."
      ]
     },
     "metadata": {},
     "output_type": "display_data"
    }
   ],
   "source": [
    "# chart\n",
    "f1cube.visualize('Base vs. Simulation System 1991 to 2002 - 2008 Championship')"
   ]
  },
  {
   "cell_type": "code",
   "execution_count": 51,
   "metadata": {
    "activeviam": {
     "state": {
      "name": "Base vs. Simulation - 2008 Championship table",
      "type": "container",
      "value": {
       "body": {
        "configuration": {
         "tabular": {
          "addButtonFilter": "numeric",
          "columns": [
           {
            "key": "([Measure Simulations].[pointssystem_sim].[pointssystem_sim].[System 1991 to 2002],[Measures].[Total Points])",
            "width": 152
           },
           {
            "key": "([Measure Simulations].[pointssystem_sim].[pointssystem_sim].[System 2003 to 2009],[Measures].[Total Points])",
            "width": 165
           },
           {
            "key": "([Measure Simulations].[pointssystem_sim].[pointssystem_sim].[System 2015 to 2018],[Measures].[Total Points])",
            "width": 169
           }
          ],
          "columnsGroups": [
           {
            "captionProducer": "firstColumn",
            "cellFactory": "kpi-status",
            "selector": "kpi-status"
           },
           {
            "captionProducer": "firstColumn",
            "cellFactory": "lookup",
            "selector": "lookup"
           },
           {
            "captionProducer": "expiry",
            "cellFactory": "expiry",
            "selector": "kpi-expiry"
           },
           {
            "captionProducer": "columnMerge",
            "cellFactory": {
             "args": {
              "automaticExpansion": true
             },
             "key": "treeCells"
            },
            "selector": "member"
           }
          ],
          "defaultOptions": {},
          "hideAddButton": true,
          "lineNumbers": true,
          "pinnedHeaderSelector": "member",
          "sortingMode": "non-breaking",
          "statisticsShown": true
         }
        },
        "contextValues": {
         "F1Cube": {
          "mdx.hiddengrandtotals": "1"
         }
        },
        "mdx": "SELECT NON EMPTY Order(Order(Hierarchize(DrilldownLevel([Hierarchies].[driverRef].[ALL].[AllMember])), ([Hierarchies].[raceId].[ALL].[AllMember].[18], [Measure Simulations].[pointssystem_sim].[pointssystem_sim].[System 2015 to 2018], [Measures].[points.SUM]), DESC), ([Measure Simulations].[pointssystem_sim].[pointssystem_sim].[System 2015 to 2018], [Measures].[Total Points]), DESC) ON ROWS, NON EMPTY Crossjoin(Hierarchize([Measure Simulations].[pointssystem_sim].[pointssystem_sim].Members), [Measures].[Total Points]) ON COLUMNS FROM [F1Cube] WHERE [Hierarchies].[year].[ALL].[AllMember].[2008] CELL PROPERTIES VALUE, FORMATTED_VALUE, BACK_COLOR, FORE_COLOR, FONT_FLAGS",
        "ranges": {
         "column": {
          "chunkSize": 50,
          "thresholdPercentage": 0.2
         },
         "row": {
          "chunkSize": 2000,
          "thresholdPercentage": 0.1
         }
        },
        "serverUrl": "",
        "updateMode": "once"
       },
       "containerKey": "pivot-table",
       "showTitleBar": false,
       "style": {}
      }
     }
    },
    "atoti": {
     "height": 467,
     "state": {
      "name": "Base vs. Simulation - 2008 Championship table",
      "type": "container",
      "value": {
       "body": {
        "configuration": {
         "mapping": {
          "horizontal": [],
          "splitBy": [
           "[Measure Simulations].[pointssystem_sim].[pointssystem_sim]"
          ],
          "values": [
           "[Measures].[points.SUM]"
          ],
          "vertical": [],
          "yAxis": [
           "[Hierarchies].[driverRef].[driverRef]"
          ]
         },
         "plotly": {
          "layout": {
           "yaxis": {
            "categoryorder": "total ascending"
           }
          }
         },
         "type": "plotly-clustered-bar-chart"
        },
        "query": {
         "mdx": "SELECT NON EMPTY [Measures].[points.SUM] ON COLUMNS, NON EMPTY Crossjoin([Hierarchies].[driverRef].[driverRef].Members, [Measure Simulations].[pointssystem_sim].[pointssystem_sim].Members) ON ROWS FROM (SELECT {[Measure Simulations].[pointssystem_sim].[pointssystem_sim].[Base], [Measure Simulations].[pointssystem_sim].[pointssystem_sim].[System 1991 to 2002]} ON COLUMNS FROM (SELECT Filter([Hierarchies].[driverRef].[driverRef].Members, [Measures].[points.SUM] > 0) ON COLUMNS FROM [F1Cube] WHERE [Hierarchies].[year].[ALL].[AllMember].[2008]) WHERE [Hierarchies].[year].[ALL].[AllMember].[2008]) WHERE [Hierarchies].[year].[ALL].[AllMember].[2008] CELL PROPERTIES VALUE, FORMATTED_VALUE, BACK_COLOR, FORE_COLOR, FONT_FLAGS",
         "serverUrl": "",
         "updateMode": "once"
        }
       },
       "containerKey": "chart",
       "showTitleBar": false,
       "style": {}
      }
     }
    }
   },
   "outputs": [
    {
     "data": {
      "application/vnd.atoti.v0+json": {
       "cube": "F1Cube",
       "name": "Base vs. Simulation - 2008 Championship table",
       "session": "Unnamed"
      },
      "text/plain": [
       "Install the Atoti JupyterLab extension to see this widget."
      ]
     },
     "metadata": {},
     "output_type": "display_data"
    }
   ],
   "source": [
    "# 2008 championship standings table\n",
    "f1cube.visualize('Base vs. Simulation - 2008 Championship table')"
   ]
  },
  {
   "cell_type": "markdown",
   "metadata": {},
   "source": [
    "## THE END!"
   ]
  }
 ],
 "metadata": {
  "kernelspec": {
   "display_name": "Python 3",
   "language": "python",
   "name": "python3"
  },
  "language_info": {
   "codemirror_mode": {
    "name": "ipython",
    "version": 3
   },
   "file_extension": ".py",
   "mimetype": "text/x-python",
   "name": "python",
   "nbconvert_exporter": "python",
   "pygments_lexer": "ipython3",
   "version": "3.8.2"
  }
 },
 "nbformat": 4,
 "nbformat_minor": 4
}
