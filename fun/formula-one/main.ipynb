{
 "cells": [
  {
   "cell_type": "markdown",
   "metadata": {},
   "source": [
    "# F1 statistics & simulation"
   ]
  },
  {
   "cell_type": "markdown",
   "metadata": {},
   "source": [
    "## Introduction\n",
    "\n",
    "Credit:\n",
    "The original version of this notebook was created by David Chevrier, Diggers.\n",
    "\n",
    "More information: https://www.diggers-consulting.com/blog/articles/how-data-science-could-turn-felipe-massa-a-f1-world-champion"
   ]
  },
  {
   "cell_type": "markdown",
   "metadata": {},
   "source": [
    "## Dataset\n",
    "Data from https://ergast.com/mrd/db/#csv\n",
    "F1 data from 1950 to 2019"
   ]
  },
  {
   "cell_type": "markdown",
   "metadata": {},
   "source": [
    "## 1. Initialization & creation of the activepivot session"
   ]
  },
  {
   "cell_type": "code",
   "execution_count": 1,
   "metadata": {},
   "outputs": [
    {
     "name": "stdout",
     "output_type": "stream",
     "text": [
      "Welcome to Atoti 0.4.0.20200512194154!\n",
      "\n",
      "By using this community edition, you agree with the license available at https://www.atoti.io/eula.\n",
      "Browse the official documentation at https://docs.atoti.io.\n",
      "Join the community at https://www.atoti.io/register.\n",
      "\n",
      "You can hide this message by setting the ATOTI_HIDE_EULA_MESSAGE environment variable to True.\n"
     ]
    }
   ],
   "source": [
    "import atoti as tt\n",
    "import numpy as np\n",
    "import pandas as pd\n",
    "\n",
    "session = tt.create_session()"
   ]
  },
  {
   "cell_type": "markdown",
   "metadata": {},
   "source": [
    "## 2. Creation of Stores"
   ]
  },
  {
   "cell_type": "code",
   "execution_count": 2,
   "metadata": {},
   "outputs": [],
   "source": [
    "drivers_df = pd.read_csv(\n",
    "    \"https://data.atoti.io/notebooks/formula-one/drivers.csv\", encoding=\"latin-1\"\n",
    ")\n",
    "drivers_df.rename(columns={\"url\": \"driver_url\"}, inplace=True)\n",
    "drivers_df.rename(columns={\"nationality\": \"driver_nationality\"}, inplace=True)\n",
    "\n",
    "drivers_store = session.read_pandas(\n",
    "    drivers_df, keys=[\"driverId\"], store_name=\"F1 drivers\"\n",
    ")"
   ]
  },
  {
   "cell_type": "code",
   "execution_count": 3,
   "metadata": {},
   "outputs": [],
   "source": [
    "races_df = pd.read_csv(\n",
    "    \"https://data.atoti.io/notebooks/formula-one/races.csv\", encoding=\"latin-1\"\n",
    ")\n",
    "races_df.rename(columns={\"url\": \"race_url\"}, inplace=True)\n",
    "races_df.rename(columns={\"name\": \"race_name\"}, inplace=True)\n",
    "\n",
    "races_store = session.read_pandas(\n",
    "    races_df, keys=[\"raceId\"], store_name=\"F1 races\", types={\"year\": tt.types.STRING}\n",
    ")"
   ]
  },
  {
   "cell_type": "code",
   "execution_count": 4,
   "metadata": {},
   "outputs": [],
   "source": [
    "constructors_df = pd.read_csv(\n",
    "    \"https://data.atoti.io/notebooks/formula-one/constructors.csv\", encoding=\"latin-1\"\n",
    ")\n",
    "constructors_df.rename(columns={\"url\": \"constructor_url\"}, inplace=True)\n",
    "constructors_df.rename(columns={\"name\": \"constructor_name\"}, inplace=True)\n",
    "constructors_df.rename(columns={\"nationality\": \"constructor_nationality\"}, inplace=True)\n",
    "\n",
    "constructors_store = session.read_pandas(\n",
    "    constructors_df, keys=[\"constructorId\"], store_name=\"F1 constructors\",\n",
    ")"
   ]
  },
  {
   "cell_type": "code",
   "execution_count": 5,
   "metadata": {},
   "outputs": [
    {
     "name": "stderr",
     "output_type": "stream",
     "text": [
      "The store has been sampled because there is more than 10000 lines in the files to load.Call Session.load_all_data()  to trigger the full load of the data.\n"
     ]
    }
   ],
   "source": [
    "resultsTypes = {\n",
    "    \"points\": tt.types.DOUBLE,\n",
    "    \"resultId\": tt.types.STRING,\n",
    "}\n",
    "\n",
    "results_store = session.read_csv(\n",
    "    \"s3://data.atoti.io/notebooks/formula-one/results.csv\",\n",
    "    keys=[\"resultId\"],\n",
    "    store_name=\"F1 results\",\n",
    "    types=resultsTypes,\n",
    ")"
   ]
  },
  {
   "cell_type": "code",
   "execution_count": 6,
   "metadata": {},
   "outputs": [],
   "source": [
    "results_store.join(drivers_store, mapping={\"driverId\": \"driverId\"})\n",
    "results_store.join(races_store, mapping={\"raceId\": \"raceId\"})\n",
    "results_store.join(constructors_store, mapping={\"constructorId\": \"constructorId\"})"
   ]
  },
  {
   "cell_type": "markdown",
   "metadata": {},
   "source": [
    "## 3. Cube"
   ]
  },
  {
   "cell_type": "markdown",
   "metadata": {},
   "source": [
    "### Cube for Race results"
   ]
  },
  {
   "cell_type": "code",
   "execution_count": 7,
   "metadata": {},
   "outputs": [],
   "source": [
    "f1cube = session.create_cube(results_store, \"F1Cube\")"
   ]
  },
  {
   "cell_type": "code",
   "execution_count": 8,
   "metadata": {},
   "outputs": [],
   "source": [
    "session.load_all_data()"
   ]
  },
  {
   "cell_type": "code",
   "execution_count": 9,
   "metadata": {},
   "outputs": [
    {
     "data": {
      "image/svg+xml": [
       "<svg xmlns=\"http://www.w3.org/2000/svg\" xmlns:xlink=\"http://www.w3.org/1999/xlink\" width=\"607px\" height=\"1031px\" viewBox=\"0.00 0.00 607.00 1030.50\">\n",
       "<g id=\"graph0\" class=\"graph\" transform=\"scale(1.0 1.0) rotate(0) translate(4 1026.5)\">\n",
       "<title>F1Cube schema</title>\n",
       "<polygon fill=\"white\" stroke=\"transparent\" points=\"-4,4 -4,-1026.5 603,-1026.5 603,4 -4,4\"/>\n",
       "<!-- F1 results -->\n",
       "<g id=\"node1\" class=\"node\">\n",
       "<title>F1 results</title>\n",
       "<polygon fill=\"none\" stroke=\"black\" points=\"8.5,-769.5 8.5,-806.5 167.5,-806.5 167.5,-769.5 8.5,-769.5\"/>\n",
       "<text text-anchor=\"start\" x=\"58\" y=\"-785.3\" font-family=\"Times,serif\" font-weight=\"bold\" font-size=\"14.00\">F1 results</text>\n",
       "<polygon fill=\"none\" stroke=\"black\" points=\"8.5,-732.5 8.5,-769.5 167.5,-769.5 167.5,-732.5 8.5,-732.5\"/>\n",
       "<text text-anchor=\"start\" x=\"19.5\" y=\"-748.3\" font-family=\"Times,serif\" font-weight=\"bold\" font-size=\"14.00\">Key</text>\n",
       "<text text-anchor=\"start\" x=\"44.5\" y=\"-748.3\" font-family=\"Times,serif\" font-size=\"14.00\">  resultId </text>\n",
       "<text text-anchor=\"start\" x=\"99.5\" y=\"-748.3\" font-family=\"Times,serif\" font-style=\"italic\" font-size=\"14.00\">String</text>\n",
       "<text text-anchor=\"start\" x=\"135.5\" y=\"-748.3\" font-family=\"Times,serif\" font-size=\"14.00\"> </text>\n",
       "<polygon fill=\"none\" stroke=\"black\" points=\"8.5,-695.5 8.5,-732.5 167.5,-732.5 167.5,-695.5 8.5,-695.5\"/>\n",
       "<text text-anchor=\"start\" x=\"19.5\" y=\"-711.3\" font-family=\"Times,serif\" font-size=\"14.00\">raceId </text>\n",
       "<text text-anchor=\"start\" x=\"58.5\" y=\"-711.3\" font-family=\"Times,serif\" font-style=\"italic\" font-size=\"14.00\">long</text>\n",
       "<text text-anchor=\"start\" x=\"85.5\" y=\"-711.3\" font-family=\"Times,serif\" font-size=\"14.00\"> </text>\n",
       "<polygon fill=\"none\" stroke=\"black\" points=\"8.5,-658.5 8.5,-695.5 167.5,-695.5 167.5,-658.5 8.5,-658.5\"/>\n",
       "<text text-anchor=\"start\" x=\"19.5\" y=\"-674.3\" font-family=\"Times,serif\" font-size=\"14.00\">driverId </text>\n",
       "<text text-anchor=\"start\" x=\"69.5\" y=\"-674.3\" font-family=\"Times,serif\" font-style=\"italic\" font-size=\"14.00\">long</text>\n",
       "<text text-anchor=\"start\" x=\"96.5\" y=\"-674.3\" font-family=\"Times,serif\" font-size=\"14.00\"> </text>\n",
       "<polygon fill=\"none\" stroke=\"black\" points=\"8.5,-621.5 8.5,-658.5 167.5,-658.5 167.5,-621.5 8.5,-621.5\"/>\n",
       "<text text-anchor=\"start\" x=\"19.5\" y=\"-637.3\" font-family=\"Times,serif\" font-size=\"14.00\">constructorId </text>\n",
       "<text text-anchor=\"start\" x=\"99.5\" y=\"-637.3\" font-family=\"Times,serif\" font-style=\"italic\" font-size=\"14.00\">long</text>\n",
       "<text text-anchor=\"start\" x=\"126.5\" y=\"-637.3\" font-family=\"Times,serif\" font-size=\"14.00\"> </text>\n",
       "<polygon fill=\"none\" stroke=\"black\" points=\"8.5,-584.5 8.5,-621.5 167.5,-621.5 167.5,-584.5 8.5,-584.5\"/>\n",
       "<text text-anchor=\"start\" x=\"19.5\" y=\"-600.3\" font-family=\"Times,serif\" font-size=\"14.00\">number </text>\n",
       "<text text-anchor=\"start\" x=\"68.5\" y=\"-600.3\" font-family=\"Times,serif\" font-style=\"italic\" font-size=\"14.00\">int</text>\n",
       "<text text-anchor=\"start\" x=\"84.5\" y=\"-600.3\" font-family=\"Times,serif\" font-size=\"14.00\"> </text>\n",
       "<polygon fill=\"none\" stroke=\"black\" points=\"8.5,-547.5 8.5,-584.5 167.5,-584.5 167.5,-547.5 8.5,-547.5\"/>\n",
       "<text text-anchor=\"start\" x=\"19.5\" y=\"-563.3\" font-family=\"Times,serif\" font-size=\"14.00\">grid </text>\n",
       "<text text-anchor=\"start\" x=\"47.5\" y=\"-563.3\" font-family=\"Times,serif\" font-style=\"italic\" font-size=\"14.00\">int</text>\n",
       "<text text-anchor=\"start\" x=\"63.5\" y=\"-563.3\" font-family=\"Times,serif\" font-size=\"14.00\"> </text>\n",
       "<polygon fill=\"none\" stroke=\"black\" points=\"8.5,-510.5 8.5,-547.5 167.5,-547.5 167.5,-510.5 8.5,-510.5\"/>\n",
       "<text text-anchor=\"start\" x=\"19.5\" y=\"-526.3\" font-family=\"Times,serif\" font-size=\"14.00\">position </text>\n",
       "<text text-anchor=\"start\" x=\"70.5\" y=\"-526.3\" font-family=\"Times,serif\" font-style=\"italic\" font-size=\"14.00\">String</text>\n",
       "<text text-anchor=\"start\" x=\"106.5\" y=\"-526.3\" font-family=\"Times,serif\" font-size=\"14.00\"> </text>\n",
       "<polygon fill=\"none\" stroke=\"black\" points=\"8.5,-473.5 8.5,-510.5 167.5,-510.5 167.5,-473.5 8.5,-473.5\"/>\n",
       "<text text-anchor=\"start\" x=\"19.5\" y=\"-489.3\" font-family=\"Times,serif\" font-size=\"14.00\">positionText </text>\n",
       "<text text-anchor=\"start\" x=\"95.5\" y=\"-489.3\" font-family=\"Times,serif\" font-style=\"italic\" font-size=\"14.00\">String</text>\n",
       "<text text-anchor=\"start\" x=\"131.5\" y=\"-489.3\" font-family=\"Times,serif\" font-size=\"14.00\"> </text>\n",
       "<polygon fill=\"none\" stroke=\"black\" points=\"8.5,-436.5 8.5,-473.5 167.5,-473.5 167.5,-436.5 8.5,-436.5\"/>\n",
       "<text text-anchor=\"start\" x=\"19.5\" y=\"-452.3\" font-family=\"Times,serif\" font-size=\"14.00\">positionOrder </text>\n",
       "<text text-anchor=\"start\" x=\"103.5\" y=\"-452.3\" font-family=\"Times,serif\" font-style=\"italic\" font-size=\"14.00\">int</text>\n",
       "<text text-anchor=\"start\" x=\"119.5\" y=\"-452.3\" font-family=\"Times,serif\" font-size=\"14.00\"> </text>\n",
       "<polygon fill=\"none\" stroke=\"black\" points=\"8.5,-399.5 8.5,-436.5 167.5,-436.5 167.5,-399.5 8.5,-399.5\"/>\n",
       "<text text-anchor=\"start\" x=\"19.5\" y=\"-415.3\" font-family=\"Times,serif\" font-size=\"14.00\">points </text>\n",
       "<text text-anchor=\"start\" x=\"59.5\" y=\"-415.3\" font-family=\"Times,serif\" font-style=\"italic\" font-size=\"14.00\">double</text>\n",
       "<text text-anchor=\"start\" x=\"99.5\" y=\"-415.3\" font-family=\"Times,serif\" font-size=\"14.00\"> </text>\n",
       "<polygon fill=\"none\" stroke=\"black\" points=\"8.5,-362.5 8.5,-399.5 167.5,-399.5 167.5,-362.5 8.5,-362.5\"/>\n",
       "<text text-anchor=\"start\" x=\"19.5\" y=\"-378.3\" font-family=\"Times,serif\" font-size=\"14.00\">laps </text>\n",
       "<text text-anchor=\"start\" x=\"46.5\" y=\"-378.3\" font-family=\"Times,serif\" font-style=\"italic\" font-size=\"14.00\">int</text>\n",
       "<text text-anchor=\"start\" x=\"62.5\" y=\"-378.3\" font-family=\"Times,serif\" font-size=\"14.00\"> </text>\n",
       "<polygon fill=\"none\" stroke=\"black\" points=\"8.5,-325.5 8.5,-362.5 167.5,-362.5 167.5,-325.5 8.5,-325.5\"/>\n",
       "<text text-anchor=\"start\" x=\"19.5\" y=\"-341.3\" font-family=\"Times,serif\" font-size=\"14.00\">time </text>\n",
       "<text text-anchor=\"start\" x=\"48.5\" y=\"-341.3\" font-family=\"Times,serif\" font-style=\"italic\" font-size=\"14.00\">String</text>\n",
       "<text text-anchor=\"start\" x=\"84.5\" y=\"-341.3\" font-family=\"Times,serif\" font-size=\"14.00\"> </text>\n",
       "<polygon fill=\"none\" stroke=\"black\" points=\"8.5,-288.5 8.5,-325.5 167.5,-325.5 167.5,-288.5 8.5,-288.5\"/>\n",
       "<text text-anchor=\"start\" x=\"19.5\" y=\"-304.3\" font-family=\"Times,serif\" font-size=\"14.00\">milliseconds </text>\n",
       "<text text-anchor=\"start\" x=\"95.5\" y=\"-304.3\" font-family=\"Times,serif\" font-style=\"italic\" font-size=\"14.00\">String</text>\n",
       "<text text-anchor=\"start\" x=\"131.5\" y=\"-304.3\" font-family=\"Times,serif\" font-size=\"14.00\"> </text>\n",
       "<polygon fill=\"none\" stroke=\"black\" points=\"8.5,-251.5 8.5,-288.5 167.5,-288.5 167.5,-251.5 8.5,-251.5\"/>\n",
       "<text text-anchor=\"start\" x=\"19.5\" y=\"-267.3\" font-family=\"Times,serif\" font-size=\"14.00\">fastestLap </text>\n",
       "<text text-anchor=\"start\" x=\"80.5\" y=\"-267.3\" font-family=\"Times,serif\" font-style=\"italic\" font-size=\"14.00\">String</text>\n",
       "<text text-anchor=\"start\" x=\"116.5\" y=\"-267.3\" font-family=\"Times,serif\" font-size=\"14.00\"> </text>\n",
       "<polygon fill=\"none\" stroke=\"black\" points=\"8.5,-214.5 8.5,-251.5 167.5,-251.5 167.5,-214.5 8.5,-214.5\"/>\n",
       "<text text-anchor=\"start\" x=\"19.5\" y=\"-230.3\" font-family=\"Times,serif\" font-size=\"14.00\">rank </text>\n",
       "<text text-anchor=\"start\" x=\"49.5\" y=\"-230.3\" font-family=\"Times,serif\" font-style=\"italic\" font-size=\"14.00\">String</text>\n",
       "<text text-anchor=\"start\" x=\"85.5\" y=\"-230.3\" font-family=\"Times,serif\" font-size=\"14.00\"> </text>\n",
       "<polygon fill=\"none\" stroke=\"black\" points=\"8.5,-177.5 8.5,-214.5 167.5,-214.5 167.5,-177.5 8.5,-177.5\"/>\n",
       "<text text-anchor=\"start\" x=\"19.5\" y=\"-193.3\" font-family=\"Times,serif\" font-size=\"14.00\">fastestLapTime </text>\n",
       "<text text-anchor=\"start\" x=\"110.5\" y=\"-193.3\" font-family=\"Times,serif\" font-style=\"italic\" font-size=\"14.00\">String</text>\n",
       "<text text-anchor=\"start\" x=\"146.5\" y=\"-193.3\" font-family=\"Times,serif\" font-size=\"14.00\"> </text>\n",
       "<polygon fill=\"none\" stroke=\"black\" points=\"8.5,-140.5 8.5,-177.5 167.5,-177.5 167.5,-140.5 8.5,-140.5\"/>\n",
       "<text text-anchor=\"start\" x=\"19.5\" y=\"-156.3\" font-family=\"Times,serif\" font-size=\"14.00\">fastestLapSpeed </text>\n",
       "<text text-anchor=\"start\" x=\"116.5\" y=\"-156.3\" font-family=\"Times,serif\" font-style=\"italic\" font-size=\"14.00\">String</text>\n",
       "<text text-anchor=\"start\" x=\"152.5\" y=\"-156.3\" font-family=\"Times,serif\" font-size=\"14.00\"> </text>\n",
       "<polygon fill=\"none\" stroke=\"black\" points=\"8.5,-103.5 8.5,-140.5 167.5,-140.5 167.5,-103.5 8.5,-103.5\"/>\n",
       "<text text-anchor=\"start\" x=\"19.5\" y=\"-119.3\" font-family=\"Times,serif\" font-size=\"14.00\">statusId </text>\n",
       "<text text-anchor=\"start\" x=\"67.5\" y=\"-119.3\" font-family=\"Times,serif\" font-style=\"italic\" font-size=\"14.00\">int</text>\n",
       "<text text-anchor=\"start\" x=\"83.5\" y=\"-119.3\" font-family=\"Times,serif\" font-size=\"14.00\"> </text>\n",
       "</g>\n",
       "<!-- F1 drivers -->\n",
       "<g id=\"node2\" class=\"node\">\n",
       "<title>F1 drivers</title>\n",
       "<polygon fill=\"none\" stroke=\"black\" points=\"408,-981.5 408,-1018.5 576,-1018.5 576,-981.5 408,-981.5\"/>\n",
       "<text text-anchor=\"start\" x=\"460\" y=\"-997.3\" font-family=\"Times,serif\" font-weight=\"bold\" font-size=\"14.00\">F1 drivers</text>\n",
       "<polygon fill=\"none\" stroke=\"black\" points=\"408,-944.5 408,-981.5 576,-981.5 576,-944.5 408,-944.5\"/>\n",
       "<text text-anchor=\"start\" x=\"419\" y=\"-960.3\" font-family=\"Times,serif\" font-weight=\"bold\" font-size=\"14.00\">Key</text>\n",
       "<text text-anchor=\"start\" x=\"444\" y=\"-960.3\" font-family=\"Times,serif\" font-size=\"14.00\">  driverId </text>\n",
       "<text text-anchor=\"start\" x=\"502\" y=\"-960.3\" font-family=\"Times,serif\" font-style=\"italic\" font-size=\"14.00\">long</text>\n",
       "<text text-anchor=\"start\" x=\"529\" y=\"-960.3\" font-family=\"Times,serif\" font-size=\"14.00\"> </text>\n",
       "<polygon fill=\"none\" stroke=\"black\" points=\"408,-907.5 408,-944.5 576,-944.5 576,-907.5 408,-907.5\"/>\n",
       "<text text-anchor=\"start\" x=\"419\" y=\"-923.3\" font-family=\"Times,serif\" font-size=\"14.00\">driverRef </text>\n",
       "<text text-anchor=\"start\" x=\"477\" y=\"-923.3\" font-family=\"Times,serif\" font-style=\"italic\" font-size=\"14.00\">String</text>\n",
       "<text text-anchor=\"start\" x=\"513\" y=\"-923.3\" font-family=\"Times,serif\" font-size=\"14.00\"> </text>\n",
       "<polygon fill=\"none\" stroke=\"black\" points=\"408,-870.5 408,-907.5 576,-907.5 576,-870.5 408,-870.5\"/>\n",
       "<text text-anchor=\"start\" x=\"419\" y=\"-886.3\" font-family=\"Times,serif\" font-size=\"14.00\">number </text>\n",
       "<text text-anchor=\"start\" x=\"468\" y=\"-886.3\" font-family=\"Times,serif\" font-style=\"italic\" font-size=\"14.00\">double</text>\n",
       "<text text-anchor=\"start\" x=\"508\" y=\"-886.3\" font-family=\"Times,serif\" font-size=\"14.00\"> </text>\n",
       "<polygon fill=\"none\" stroke=\"black\" points=\"408,-833.5 408,-870.5 576,-870.5 576,-833.5 408,-833.5\"/>\n",
       "<text text-anchor=\"start\" x=\"419\" y=\"-849.3\" font-family=\"Times,serif\" font-size=\"14.00\">code </text>\n",
       "<text text-anchor=\"start\" x=\"450\" y=\"-849.3\" font-family=\"Times,serif\" font-style=\"italic\" font-size=\"14.00\">String</text>\n",
       "<text text-anchor=\"start\" x=\"486\" y=\"-849.3\" font-family=\"Times,serif\" font-size=\"14.00\"> </text>\n",
       "<polygon fill=\"none\" stroke=\"black\" points=\"408,-796.5 408,-833.5 576,-833.5 576,-796.5 408,-796.5\"/>\n",
       "<text text-anchor=\"start\" x=\"419\" y=\"-812.3\" font-family=\"Times,serif\" font-size=\"14.00\">forename </text>\n",
       "<text text-anchor=\"start\" x=\"477\" y=\"-812.3\" font-family=\"Times,serif\" font-style=\"italic\" font-size=\"14.00\">String</text>\n",
       "<text text-anchor=\"start\" x=\"513\" y=\"-812.3\" font-family=\"Times,serif\" font-size=\"14.00\"> </text>\n",
       "<polygon fill=\"none\" stroke=\"black\" points=\"408,-759.5 408,-796.5 576,-796.5 576,-759.5 408,-759.5\"/>\n",
       "<text text-anchor=\"start\" x=\"419\" y=\"-775.3\" font-family=\"Times,serif\" font-size=\"14.00\">surname </text>\n",
       "<text text-anchor=\"start\" x=\"471\" y=\"-775.3\" font-family=\"Times,serif\" font-style=\"italic\" font-size=\"14.00\">String</text>\n",
       "<text text-anchor=\"start\" x=\"507\" y=\"-775.3\" font-family=\"Times,serif\" font-size=\"14.00\"> </text>\n",
       "<polygon fill=\"none\" stroke=\"black\" points=\"408,-722.5 408,-759.5 576,-759.5 576,-722.5 408,-722.5\"/>\n",
       "<text text-anchor=\"start\" x=\"419\" y=\"-738.3\" font-family=\"Times,serif\" font-size=\"14.00\">dob </text>\n",
       "<text text-anchor=\"start\" x=\"446\" y=\"-738.3\" font-family=\"Times,serif\" font-style=\"italic\" font-size=\"14.00\">String</text>\n",
       "<text text-anchor=\"start\" x=\"482\" y=\"-738.3\" font-family=\"Times,serif\" font-size=\"14.00\"> </text>\n",
       "<polygon fill=\"none\" stroke=\"black\" points=\"408,-685.5 408,-722.5 576,-722.5 576,-685.5 408,-685.5\"/>\n",
       "<text text-anchor=\"start\" x=\"419\" y=\"-701.3\" font-family=\"Times,serif\" font-size=\"14.00\">driver_nationality </text>\n",
       "<text text-anchor=\"start\" x=\"525\" y=\"-701.3\" font-family=\"Times,serif\" font-style=\"italic\" font-size=\"14.00\">String</text>\n",
       "<text text-anchor=\"start\" x=\"561\" y=\"-701.3\" font-family=\"Times,serif\" font-size=\"14.00\"> </text>\n",
       "<polygon fill=\"none\" stroke=\"black\" points=\"408,-648.5 408,-685.5 576,-685.5 576,-648.5 408,-648.5\"/>\n",
       "<text text-anchor=\"start\" x=\"419\" y=\"-664.3\" font-family=\"Times,serif\" font-size=\"14.00\">driver_url </text>\n",
       "<text text-anchor=\"start\" x=\"480\" y=\"-664.3\" font-family=\"Times,serif\" font-style=\"italic\" font-size=\"14.00\">String</text>\n",
       "<text text-anchor=\"start\" x=\"516\" y=\"-664.3\" font-family=\"Times,serif\" font-size=\"14.00\"> </text>\n",
       "</g>\n",
       "<!-- F1 results&#45;&gt;F1 drivers -->\n",
       "<g id=\"edge3\" class=\"edge\">\n",
       "<title>F1 results-&gt;F1 drivers</title>\n",
       "<path fill=\"none\" stroke=\"black\" d=\"M175.34,-537.05C239.09,-596.93 325.79,-678.34 392.19,-740.7\"/>\n",
       "<polygon fill=\"black\" stroke=\"black\" points=\"390.09,-743.53 399.77,-747.83 394.88,-738.43 390.09,-743.53\"/>\n",
       "<text text-anchor=\"middle\" x=\"280\" y=\"-714.3\" font-family=\"Times,serif\" font-size=\"14.00\">driverId → driverId</text>\n",
       "</g>\n",
       "<!-- F1 races -->\n",
       "<g id=\"node3\" class=\"node\">\n",
       "<title>F1 races</title>\n",
       "<polygon fill=\"none\" stroke=\"black\" points=\"429,-584.5 429,-621.5 556,-621.5 556,-584.5 429,-584.5\"/>\n",
       "<text text-anchor=\"start\" x=\"466.5\" y=\"-600.3\" font-family=\"Times,serif\" font-weight=\"bold\" font-size=\"14.00\">F1 races</text>\n",
       "<polygon fill=\"none\" stroke=\"black\" points=\"429,-547.5 429,-584.5 556,-584.5 556,-547.5 429,-547.5\"/>\n",
       "<text text-anchor=\"start\" x=\"440\" y=\"-563.3\" font-family=\"Times,serif\" font-weight=\"bold\" font-size=\"14.00\">Key</text>\n",
       "<text text-anchor=\"start\" x=\"465\" y=\"-563.3\" font-family=\"Times,serif\" font-size=\"14.00\">  raceId </text>\n",
       "<text text-anchor=\"start\" x=\"511\" y=\"-563.3\" font-family=\"Times,serif\" font-style=\"italic\" font-size=\"14.00\">long</text>\n",
       "<text text-anchor=\"start\" x=\"538\" y=\"-563.3\" font-family=\"Times,serif\" font-size=\"14.00\"> </text>\n",
       "<polygon fill=\"none\" stroke=\"black\" points=\"429,-510.5 429,-547.5 556,-547.5 556,-510.5 429,-510.5\"/>\n",
       "<text text-anchor=\"start\" x=\"440\" y=\"-526.3\" font-family=\"Times,serif\" font-size=\"14.00\">year </text>\n",
       "<text text-anchor=\"start\" x=\"468\" y=\"-526.3\" font-family=\"Times,serif\" font-style=\"italic\" font-size=\"14.00\">String</text>\n",
       "<text text-anchor=\"start\" x=\"504\" y=\"-526.3\" font-family=\"Times,serif\" font-size=\"14.00\"> </text>\n",
       "<polygon fill=\"none\" stroke=\"black\" points=\"429,-473.5 429,-510.5 556,-510.5 556,-473.5 429,-473.5\"/>\n",
       "<text text-anchor=\"start\" x=\"440\" y=\"-489.3\" font-family=\"Times,serif\" font-size=\"14.00\">round </text>\n",
       "<text text-anchor=\"start\" x=\"479\" y=\"-489.3\" font-family=\"Times,serif\" font-style=\"italic\" font-size=\"14.00\">long</text>\n",
       "<text text-anchor=\"start\" x=\"506\" y=\"-489.3\" font-family=\"Times,serif\" font-size=\"14.00\"> </text>\n",
       "<polygon fill=\"none\" stroke=\"black\" points=\"429,-436.5 429,-473.5 556,-473.5 556,-436.5 429,-436.5\"/>\n",
       "<text text-anchor=\"start\" x=\"440\" y=\"-452.3\" font-family=\"Times,serif\" font-size=\"14.00\">circuitId </text>\n",
       "<text text-anchor=\"start\" x=\"492\" y=\"-452.3\" font-family=\"Times,serif\" font-style=\"italic\" font-size=\"14.00\">long</text>\n",
       "<text text-anchor=\"start\" x=\"519\" y=\"-452.3\" font-family=\"Times,serif\" font-size=\"14.00\"> </text>\n",
       "<polygon fill=\"none\" stroke=\"black\" points=\"429,-399.5 429,-436.5 556,-436.5 556,-399.5 429,-399.5\"/>\n",
       "<text text-anchor=\"start\" x=\"440\" y=\"-415.3\" font-family=\"Times,serif\" font-size=\"14.00\">race_name </text>\n",
       "<text text-anchor=\"start\" x=\"505\" y=\"-415.3\" font-family=\"Times,serif\" font-style=\"italic\" font-size=\"14.00\">String</text>\n",
       "<text text-anchor=\"start\" x=\"541\" y=\"-415.3\" font-family=\"Times,serif\" font-size=\"14.00\"> </text>\n",
       "<polygon fill=\"none\" stroke=\"black\" points=\"429,-362.5 429,-399.5 556,-399.5 556,-362.5 429,-362.5\"/>\n",
       "<text text-anchor=\"start\" x=\"440\" y=\"-378.3\" font-family=\"Times,serif\" font-size=\"14.00\">date </text>\n",
       "<text text-anchor=\"start\" x=\"468\" y=\"-378.3\" font-family=\"Times,serif\" font-style=\"italic\" font-size=\"14.00\">LocalDate</text>\n",
       "<text text-anchor=\"start\" x=\"529\" y=\"-378.3\" font-family=\"Times,serif\" font-size=\"14.00\"> </text>\n",
       "<polygon fill=\"none\" stroke=\"black\" points=\"429,-325.5 429,-362.5 556,-362.5 556,-325.5 429,-325.5\"/>\n",
       "<text text-anchor=\"start\" x=\"440\" y=\"-341.3\" font-family=\"Times,serif\" font-size=\"14.00\">time </text>\n",
       "<text text-anchor=\"start\" x=\"469\" y=\"-341.3\" font-family=\"Times,serif\" font-style=\"italic\" font-size=\"14.00\">String</text>\n",
       "<text text-anchor=\"start\" x=\"505\" y=\"-341.3\" font-family=\"Times,serif\" font-size=\"14.00\"> </text>\n",
       "<polygon fill=\"none\" stroke=\"black\" points=\"429,-288.5 429,-325.5 556,-325.5 556,-288.5 429,-288.5\"/>\n",
       "<text text-anchor=\"start\" x=\"440\" y=\"-304.3\" font-family=\"Times,serif\" font-size=\"14.00\">race_url </text>\n",
       "<text text-anchor=\"start\" x=\"490\" y=\"-304.3\" font-family=\"Times,serif\" font-style=\"italic\" font-size=\"14.00\">String</text>\n",
       "<text text-anchor=\"start\" x=\"526\" y=\"-304.3\" font-family=\"Times,serif\" font-size=\"14.00\"> </text>\n",
       "</g>\n",
       "<!-- F1 results&#45;&gt;F1 races -->\n",
       "<g id=\"edge2\" class=\"edge\">\n",
       "<title>F1 results-&gt;F1 races</title>\n",
       "<path fill=\"none\" stroke=\"black\" d=\"M175.34,-455.5C245.02,-455.5 342.11,-455.5 410.15,-455.5\"/>\n",
       "<polygon fill=\"black\" stroke=\"black\" points=\"410.39,-459 420.39,-455.5 410.39,-452 410.39,-459\"/>\n",
       "<text text-anchor=\"middle\" x=\"280\" y=\"-459.3\" font-family=\"Times,serif\" font-size=\"14.00\">raceId → raceId</text>\n",
       "</g>\n",
       "<!-- F1 constructors -->\n",
       "<g id=\"node4\" class=\"node\">\n",
       "<title>F1 constructors</title>\n",
       "<polygon fill=\"none\" stroke=\"black\" points=\"393,-225.5 393,-262.5 591,-262.5 591,-225.5 393,-225.5\"/>\n",
       "<text text-anchor=\"start\" x=\"444\" y=\"-241.3\" font-family=\"Times,serif\" font-weight=\"bold\" font-size=\"14.00\">F1 constructors</text>\n",
       "<polygon fill=\"none\" stroke=\"black\" points=\"393,-188.5 393,-225.5 591,-225.5 591,-188.5 393,-188.5\"/>\n",
       "<text text-anchor=\"start\" x=\"404\" y=\"-204.3\" font-family=\"Times,serif\" font-weight=\"bold\" font-size=\"14.00\">Key</text>\n",
       "<text text-anchor=\"start\" x=\"429\" y=\"-204.3\" font-family=\"Times,serif\" font-size=\"14.00\">  constructorId </text>\n",
       "<text text-anchor=\"start\" x=\"517\" y=\"-204.3\" font-family=\"Times,serif\" font-style=\"italic\" font-size=\"14.00\">long</text>\n",
       "<text text-anchor=\"start\" x=\"544\" y=\"-204.3\" font-family=\"Times,serif\" font-size=\"14.00\"> </text>\n",
       "<polygon fill=\"none\" stroke=\"black\" points=\"393,-151.5 393,-188.5 591,-188.5 591,-151.5 393,-151.5\"/>\n",
       "<text text-anchor=\"start\" x=\"404\" y=\"-167.3\" font-family=\"Times,serif\" font-size=\"14.00\">constructorRef </text>\n",
       "<text text-anchor=\"start\" x=\"492\" y=\"-167.3\" font-family=\"Times,serif\" font-style=\"italic\" font-size=\"14.00\">String</text>\n",
       "<text text-anchor=\"start\" x=\"528\" y=\"-167.3\" font-family=\"Times,serif\" font-size=\"14.00\"> </text>\n",
       "<polygon fill=\"none\" stroke=\"black\" points=\"393,-114.5 393,-151.5 591,-151.5 591,-114.5 393,-114.5\"/>\n",
       "<text text-anchor=\"start\" x=\"404\" y=\"-130.3\" font-family=\"Times,serif\" font-size=\"14.00\">constructor_name </text>\n",
       "<text text-anchor=\"start\" x=\"510\" y=\"-130.3\" font-family=\"Times,serif\" font-style=\"italic\" font-size=\"14.00\">String</text>\n",
       "<text text-anchor=\"start\" x=\"546\" y=\"-130.3\" font-family=\"Times,serif\" font-size=\"14.00\"> </text>\n",
       "<polygon fill=\"none\" stroke=\"black\" points=\"393,-77.5 393,-114.5 591,-114.5 591,-77.5 393,-77.5\"/>\n",
       "<text text-anchor=\"start\" x=\"404\" y=\"-93.3\" font-family=\"Times,serif\" font-size=\"14.00\">constructor_nationality </text>\n",
       "<text text-anchor=\"start\" x=\"540\" y=\"-93.3\" font-family=\"Times,serif\" font-style=\"italic\" font-size=\"14.00\">String</text>\n",
       "<text text-anchor=\"start\" x=\"576\" y=\"-93.3\" font-family=\"Times,serif\" font-size=\"14.00\"> </text>\n",
       "<polygon fill=\"none\" stroke=\"black\" points=\"393,-40.5 393,-77.5 591,-77.5 591,-40.5 393,-40.5\"/>\n",
       "<text text-anchor=\"start\" x=\"404\" y=\"-56.3\" font-family=\"Times,serif\" font-size=\"14.00\">constructor_url </text>\n",
       "<text text-anchor=\"start\" x=\"495\" y=\"-56.3\" font-family=\"Times,serif\" font-style=\"italic\" font-size=\"14.00\">String</text>\n",
       "<text text-anchor=\"start\" x=\"531\" y=\"-56.3\" font-family=\"Times,serif\" font-size=\"14.00\"> </text>\n",
       "<polygon fill=\"none\" stroke=\"black\" points=\"393,-3.5 393,-40.5 591,-40.5 591,-3.5 393,-3.5\"/>\n",
       "<text text-anchor=\"start\" x=\"404\" y=\"-19.3\" font-family=\"Times,serif\" font-size=\"14.00\">Unnamed: 5 </text>\n",
       "<text text-anchor=\"start\" x=\"480\" y=\"-19.3\" font-family=\"Times,serif\" font-style=\"italic\" font-size=\"14.00\">double</text>\n",
       "<text text-anchor=\"start\" x=\"520\" y=\"-19.3\" font-family=\"Times,serif\" font-size=\"14.00\"> </text>\n",
       "</g>\n",
       "<!-- F1 results&#45;&gt;F1 constructors -->\n",
       "<g id=\"edge1\" class=\"edge\">\n",
       "<title>F1 results-&gt;F1 constructors</title>\n",
       "<path fill=\"none\" stroke=\"black\" d=\"M175.34,-386.03C234.29,-338.87 312.86,-276.01 376.86,-224.81\"/>\n",
       "<polygon fill=\"black\" stroke=\"black\" points=\"379.36,-227.29 384.99,-218.31 374.99,-221.82 379.36,-227.29\"/>\n",
       "<text text-anchor=\"middle\" x=\"280\" y=\"-372.3\" font-family=\"Times,serif\" font-size=\"14.00\">constructorId → constructorId</text>\n",
       "</g>\n",
       "</g>\n",
       "</svg>"
      ],
      "text/plain": [
       "<IPython.core.display.SVG object>"
      ]
     },
     "execution_count": 9,
     "metadata": {},
     "output_type": "execute_result"
    }
   ],
   "source": [
    "f1cube.schema"
   ]
  },
  {
   "cell_type": "code",
   "execution_count": 10,
   "metadata": {},
   "outputs": [],
   "source": [
    "lvl = f1cube.levels\n",
    "m = f1cube.measures\n",
    "h = f1cube.hierarchies"
   ]
  },
  {
   "cell_type": "markdown",
   "metadata": {},
   "source": [
    "## 4. First data visualization"
   ]
  },
  {
   "cell_type": "code",
   "execution_count": 12,
   "metadata": {
    "activeviam": {
     "state": {
      "name": "Total number of races by driver",
      "type": "container",
      "value": {
       "body": {
        "configuration": {
         "tabular": {
          "columnOrder": {
           "args": {
            "orderedColumns": [
             "[Hierarchies].[driverRef].[driverRef]",
             "[Hierarchies].[driverId].[driverId]",
             "[Measures].[contributors.COUNT]"
            ]
           },
           "key": "explicit"
          },
          "columnsGroups": [
           {
            "captionProducer": "firstColumn",
            "cellFactory": "kpi-status",
            "selector": "kpi-status"
           },
           {
            "captionProducer": "firstColumn",
            "cellFactory": "lookup",
            "selector": "lookup"
           },
           {
            "captionProducer": "expiry",
            "cellFactory": "expiry",
            "selector": "kpi-expiry"
           }
          ],
          "defaultOptions": {},
          "hideAddButton": true,
          "lineNumbers": true,
          "sortingMode": "breaking",
          "statisticsShown": true
         }
        },
        "contextValues": {},
        "mdx": "WITH  Member [Measures].[[Hierarchies]].[driverRef]].[driverRef]]_for_order] AS [Hierarchies].[driverRef].CurrentMember.MEMBER_VALUE  SELECT NON EMPTY Order(Crossjoin([Hierarchies].[driverRef].[driverRef].Members, [Hierarchies].[driverId].[driverId].Members), [Measures].[contributors.COUNT], BDESC) ON ROWS, [Measures].[contributors.COUNT] ON COLUMNS FROM [F1Cube] CELL PROPERTIES BACK_COLOR, FONT_FLAGS, FORE_COLOR, FORMATTED_VALUE, VALUE",
        "ranges": {
         "column": {
          "chunkSize": 50,
          "thresholdPercentage": 0.2
         },
         "row": {
          "chunkSize": 2000,
          "thresholdPercentage": 0.1
         }
        },
        "serverUrl": "",
        "updateMode": "once"
       },
       "containerKey": "tabular-view",
       "showTitleBar": false,
       "style": {}
      }
     }
    },
    "atoti": {
     "state": {
      "name": "Total number of races per driver",
      "type": "container",
      "value": {
       "body": {
        "configuration": {
         "tabular": {
          "addButtonFilter": "numeric",
          "columnOrder": {
           "args": {
            "orderedColumns": [
             "__lineNumber__",
             "c-treeCells-member",
             "[Measures].[contributors.COUNT]"
            ]
           },
           "key": "explicit"
          },
          "columnsGroups": [
           {
            "captionProducer": "firstColumn",
            "cellFactory": "kpi-status",
            "selector": "kpi-status"
           },
           {
            "captionProducer": "firstColumn",
            "cellFactory": "lookup",
            "selector": "lookup"
           },
           {
            "captionProducer": "expiry",
            "cellFactory": "expiry",
            "selector": "kpi-expiry"
           },
           {
            "captionProducer": "columnMerge",
            "cellFactory": {
             "args": {
              "automaticExpansion": true
             },
             "key": "treeCells"
            },
            "selector": "member"
           }
          ],
          "defaultOptions": {},
          "hideAddButton": true,
          "lineNumbers": true,
          "pinnedHeaderSelector": "member",
          "sortingMode": "non-breaking",
          "statisticsShown": true
         }
        },
        "contextValues": {},
        "mdx": "SELECT NON EMPTY [Measures].[contributors.COUNT] ON COLUMNS, NON EMPTY Order([Hierarchies].[driverRef].[driverRef].Members, [Measures].[contributors.COUNT], DESC) ON ROWS FROM [F1Cube] CELL PROPERTIES VALUE, FORMATTED_VALUE, BACK_COLOR, FORE_COLOR, FONT_FLAGS",
        "ranges": {
         "column": {
          "chunkSize": 50,
          "thresholdPercentage": 0.2
         },
         "row": {
          "chunkSize": 2000,
          "thresholdPercentage": 0.1
         }
        },
        "serverUrl": "",
        "updateMode": "once"
       },
       "containerKey": "pivot-table",
       "showTitleBar": false,
       "style": {}
      }
     }
    }
   },
   "outputs": [
    {
     "data": {
      "application/vnd.atoti.v0+json": {
       "cube": "F1Cube",
       "name": "Total number of races per driver",
       "session": "Unnamed"
      },
      "text/plain": [
       "Install and enable the Atoti JupyterLab extension to see this widget."
      ]
     },
     "metadata": {},
     "output_type": "display_data"
    }
   ],
   "source": [
    "f1cube.visualize(\"Total number of races per driver\")"
   ]
  },
  {
   "cell_type": "code",
   "execution_count": 13,
   "metadata": {
    "atoti": {
     "state": {
      "name": "Total points per drivers",
      "type": "container",
      "value": {
       "body": {
        "configuration": {
         "tabular": {
          "addButtonFilter": "numeric",
          "columnsGroups": [
           {
            "captionProducer": "firstColumn",
            "cellFactory": "kpi-status",
            "selector": "kpi-status"
           },
           {
            "captionProducer": "firstColumn",
            "cellFactory": "lookup",
            "selector": "lookup"
           },
           {
            "captionProducer": "expiry",
            "cellFactory": "expiry",
            "selector": "kpi-expiry"
           },
           {
            "captionProducer": "columnMerge",
            "cellFactory": {
             "args": {},
             "key": "treeCells"
            },
            "selector": "member"
           }
          ],
          "defaultOptions": {},
          "expansion": {
           "automaticExpansion": true
          },
          "hideAddButton": true,
          "pinnedHeaderSelector": "member",
          "sortingMode": "non-breaking",
          "statisticsShown": true
         }
        },
        "contextValues": {},
        "mdx": "SELECT NON EMPTY Order(DrilldownLevel([Hierarchies].[driverRef].[ALL].[AllMember]), [Measures].[points.SUM], DESC) ON ROWS, NON EMPTY [Measures].[points.SUM] ON COLUMNS FROM [F1Cube] CELL PROPERTIES VALUE, FORMATTED_VALUE, BACK_COLOR, FORE_COLOR, FONT_FLAGS",
        "ranges": {
         "column": {
          "chunkSize": 50,
          "thresholdPercentage": 0.2
         },
         "row": {
          "chunkSize": 2000,
          "thresholdPercentage": 0.1
         }
        },
        "serverUrl": "",
        "updateMode": "once"
       },
       "containerKey": "pivot-table",
       "showTitleBar": false,
       "style": {}
      }
     }
    }
   },
   "outputs": [
    {
     "data": {
      "application/vnd.atoti.v0+json": {
       "cube": "F1Cube",
       "name": "Total points per drivers",
       "session": "Unnamed"
      },
      "text/plain": [
       "Install and enable the Atoti JupyterLab extension to see this widget."
      ]
     },
     "metadata": {},
     "output_type": "display_data"
    }
   ],
   "source": [
    "f1cube.visualize(\"Total points per drivers\")"
   ]
  },
  {
   "cell_type": "code",
   "execution_count": 15,
   "metadata": {
    "atoti": {
     "state": {
      "name": "Total points per constructors",
      "type": "container",
      "value": {
       "body": {
        "configuration": {
         "tabular": {
          "addButtonFilter": "numeric",
          "columnsGroups": [
           {
            "captionProducer": "firstColumn",
            "cellFactory": "kpi-status",
            "selector": "kpi-status"
           },
           {
            "captionProducer": "firstColumn",
            "cellFactory": "lookup",
            "selector": "lookup"
           },
           {
            "captionProducer": "expiry",
            "cellFactory": "expiry",
            "selector": "kpi-expiry"
           },
           {
            "captionProducer": "columnMerge",
            "cellFactory": {
             "args": {},
             "key": "treeCells"
            },
            "selector": "member"
           }
          ],
          "defaultOptions": {},
          "expansion": {
           "automaticExpansion": true
          },
          "hideAddButton": true,
          "pinnedHeaderSelector": "member",
          "sortingMode": "non-breaking",
          "statisticsShown": true
         }
        },
        "contextValues": {},
        "mdx": "SELECT NON EMPTY Order(DrilldownLevel([Hierarchies].[constructor_name].[ALL].[AllMember]), [Measures].[points.SUM], DESC) ON ROWS, NON EMPTY [Measures].[points.SUM] ON COLUMNS FROM [F1Cube] CELL PROPERTIES VALUE, FORMATTED_VALUE, BACK_COLOR, FORE_COLOR, FONT_FLAGS",
        "ranges": {
         "column": {
          "chunkSize": 50,
          "thresholdPercentage": 0.2
         },
         "row": {
          "chunkSize": 2000,
          "thresholdPercentage": 0.1
         }
        },
        "serverUrl": "",
        "updateMode": "once"
       },
       "containerKey": "pivot-table",
       "showTitleBar": false,
       "style": {}
      }
     }
    }
   },
   "outputs": [
    {
     "data": {
      "application/vnd.atoti.v0+json": {
       "cube": "F1Cube",
       "name": "Total points per constructors",
       "session": "Unnamed"
      },
      "text/plain": [
       "Install and enable the Atoti JupyterLab extension to see this widget."
      ]
     },
     "metadata": {},
     "output_type": "display_data"
    }
   ],
   "source": [
    "f1cube.visualize(\"Total points per constructors\")"
   ]
  },
  {
   "cell_type": "code",
   "execution_count": 17,
   "metadata": {
    "activeviam": {
     "state": {
      "name": "TOP-5 drivers with highest total points in career",
      "type": "container",
      "value": {
       "body": {
        "configuration": {
         "mapping": {
          "splitBy": [
           "[Hierarchies].[driverRef].[driverRef]"
          ],
          "values": [
           "[Measures].[Total Points]"
          ]
         },
         "plotly": {
          "layout": {
           "yaxis": {
            "categoryorder": "total ascending"
           }
          }
         },
         "switchedTo": "plotly-clustered-bar-chart",
         "type": "plotly-tree-map"
        },
        "query": {
         "mdx": "SELECT NON EMPTY [Hierarchies].[driverRef].[driverRef].Members ON ROWS, NON EMPTY [Measures].[Total Points] ON COLUMNS FROM (SELECT TopCount(Filter([Hierarchies].[driverRef].Levels(1).Members, NOT IsEmpty([Measures].[Total Points])), 5, [Measures].[Total Points]) ON COLUMNS FROM [F1Cube]) CELL PROPERTIES VALUE, FORMATTED_VALUE, BACK_COLOR, FORE_COLOR, FONT_FLAGS",
         "serverUrl": "",
         "updateMode": "once"
        }
       },
       "containerKey": "chart",
       "showTitleBar": false,
       "style": {}
      }
     }
    },
    "atoti": {
     "state": {
      "name": "TOP-5 drivers with highest total points in career",
      "type": "container",
      "value": {
       "body": {
        "configuration": {
         "mapping": {
          "horizontal": [],
          "splitBy": [],
          "values": [
           "[Measures].[points.SUM]"
          ],
          "vertical": [],
          "yAxis": [
           "[Hierarchies].[driverRef].[driverRef]"
          ]
         },
         "plotly": {
          "layout": {
           "yaxis": {
            "categoryorder": "total ascending"
           }
          }
         },
         "type": "plotly-clustered-bar-chart"
        },
        "query": {
         "mdx": "SELECT NON EMPTY [Measures].[points.SUM] ON COLUMNS, NON EMPTY [Hierarchies].[driverRef].[driverRef].Members ON ROWS FROM (SELECT TopCount(Filter([Hierarchies].[driverRef].Levels(1).Members, NOT IsEmpty([Measures].[points.SUM])), 5, [Measures].[points.SUM]) ON COLUMNS FROM [F1Cube]) CELL PROPERTIES VALUE, FORMATTED_VALUE, BACK_COLOR, FORE_COLOR, FONT_FLAGS",
         "serverUrl": "",
         "updateMode": "once"
        }
       },
       "containerKey": "chart",
       "showTitleBar": false,
       "style": {}
      }
     }
    }
   },
   "outputs": [
    {
     "data": {
      "application/vnd.atoti.v0+json": {
       "cube": "F1Cube",
       "name": "TOP-5 drivers with highest total points in career",
       "session": "Unnamed"
      },
      "text/plain": [
       "Install and enable the Atoti JupyterLab extension to see this widget."
      ]
     },
     "metadata": {},
     "output_type": "display_data"
    }
   ],
   "source": [
    "f1cube.visualize(\"TOP-5 drivers with highest total points in career\")\n",
    "\n",
    "## check here in the widget configuration the \"TopCount\" filter used to select only the top-5\n",
    "## check here the cell metadata to sort the data in the chart\n",
    "#     \"plotly\": {\n",
    "#         \"layout\": {\n",
    "#             \"yaxis\": {\n",
    "#                 \"categoryorder\": \"total ascending\"\n",
    "#             }\n",
    "#         }\n",
    "#     },"
   ]
  },
  {
   "cell_type": "markdown",
   "metadata": {},
   "source": [
    "### World champion"
   ]
  },
  {
   "cell_type": "code",
   "execution_count": 18,
   "metadata": {},
   "outputs": [],
   "source": [
    "m[\"Top driver\"] = tt.agg.max_member(m[\"points.SUM\"], lvl[\"driverRef\"])\n",
    "m[\"Top constructor\"] = tt.agg.max_member(m[\"points.SUM\"], lvl[\"constructor_name\"])"
   ]
  },
  {
   "cell_type": "code",
   "execution_count": 20,
   "metadata": {
    "atoti": {
     "state": {
      "name": "Top driver by year",
      "type": "container",
      "value": {
       "body": {
        "configuration": {
         "tabular": {
          "addButtonFilter": "numeric",
          "columns": [
           {
            "key": "c-treeCells-member",
            "width": 177
           },
           {
            "key": "[Measures].[points.SUM]",
            "width": 108
           },
           {
            "key": "[Measures].[Champion Points]",
            "width": 133
           },
           {
            "key": "[Measures].[Driver Points MAX]",
            "width": 146
           },
           {
            "key": "[Measures].[Champion Points2]",
            "width": 150
           }
          ],
          "columnsGroups": [
           {
            "captionProducer": "firstColumn",
            "cellFactory": "kpi-status",
            "selector": "kpi-status"
           },
           {
            "captionProducer": "firstColumn",
            "cellFactory": "lookup",
            "selector": "lookup"
           },
           {
            "captionProducer": "expiry",
            "cellFactory": "expiry",
            "selector": "kpi-expiry"
           },
           {
            "captionProducer": "columnMerge",
            "cellFactory": {
             "args": {
              "automaticExpansion": true
             },
             "key": "treeCells"
            },
            "selector": "member"
           }
          ],
          "defaultOptions": {},
          "hideAddButton": true,
          "lineNumbers": true,
          "pinnedHeaderSelector": "member",
          "sortingMode": "non-breaking",
          "statisticsShown": true
         }
        },
        "contextValues": {
         "F1Cube": {
          "mdx.aggressiveFormulaEvaluation": false
         }
        },
        "mdx": "SELECT NON EMPTY {[Measures].[Top driver]} ON COLUMNS, NON EMPTY Hierarchize(DrilldownLevel([Hierarchies].[year].[ALL].[AllMember])) ON ROWS FROM [F1Cube] CELL PROPERTIES VALUE, FORMATTED_VALUE, BACK_COLOR, FORE_COLOR, FONT_FLAGS",
        "ranges": {
         "column": {
          "chunkSize": 50,
          "thresholdPercentage": 0.2
         },
         "row": {
          "chunkSize": 2000,
          "thresholdPercentage": 0.1
         }
        },
        "serverUrl": "",
        "updateMode": "once"
       },
       "containerKey": "pivot-table",
       "showTitleBar": false,
       "style": {}
      }
     }
    }
   },
   "outputs": [
    {
     "data": {
      "application/vnd.atoti.v0+json": {
       "cube": "F1Cube",
       "name": "Top driver by year",
       "session": "Unnamed"
      },
      "text/plain": [
       "Install and enable the Atoti JupyterLab extension to see this widget."
      ]
     },
     "metadata": {},
     "output_type": "display_data"
    }
   ],
   "source": [
    "f1cube.visualize(\"Top driver by year\")"
   ]
  },
  {
   "cell_type": "code",
   "execution_count": 22,
   "metadata": {
    "atoti": {
     "state": {
      "name": "Top driver by race",
      "type": "container",
      "value": {
       "body": {
        "configuration": {
         "tabular": {
          "addButtonFilter": "numeric",
          "columnsGroups": [
           {
            "captionProducer": "firstColumn",
            "cellFactory": "kpi-status",
            "selector": "kpi-status"
           },
           {
            "captionProducer": "firstColumn",
            "cellFactory": "lookup",
            "selector": "lookup"
           },
           {
            "captionProducer": "expiry",
            "cellFactory": "expiry",
            "selector": "kpi-expiry"
           },
           {
            "captionProducer": "columnMerge",
            "cellFactory": {
             "args": {},
             "key": "treeCells"
            },
            "selector": "member"
           }
          ],
          "defaultOptions": {},
          "expansion": {
           "automaticExpansion": true
          },
          "hideAddButton": true,
          "pinnedHeaderSelector": "member",
          "sortingMode": "non-breaking",
          "statisticsShown": true
         }
        },
        "contextValues": {},
        "mdx": "SELECT NON EMPTY {[Measures].[Top driver]} ON COLUMNS, NON EMPTY Hierarchize(DrilldownLevel([Hierarchies].[race_name].[ALL].[AllMember])) ON ROWS FROM [F1Cube] CELL PROPERTIES VALUE, FORMATTED_VALUE, BACK_COLOR, FORE_COLOR, FONT_FLAGS",
        "ranges": {
         "column": {
          "chunkSize": 50,
          "thresholdPercentage": 0.2
         },
         "row": {
          "chunkSize": 2000,
          "thresholdPercentage": 0.1
         }
        },
        "serverUrl": "",
        "updateMode": "once"
       },
       "containerKey": "pivot-table",
       "showTitleBar": false,
       "style": {}
      }
     }
    }
   },
   "outputs": [
    {
     "data": {
      "application/vnd.atoti.v0+json": {
       "cube": "F1Cube",
       "name": "Top driver by race",
       "session": "Unnamed"
      },
      "text/plain": [
       "Install and enable the Atoti JupyterLab extension to see this widget."
      ]
     },
     "metadata": {},
     "output_type": "display_data"
    }
   ],
   "source": [
    "f1cube.visualize(\"Top driver by race\")"
   ]
  },
  {
   "cell_type": "code",
   "execution_count": 24,
   "metadata": {
    "atoti": {
     "state": {
      "name": "Top constructor by year",
      "type": "container",
      "value": {
       "body": {
        "configuration": {
         "tabular": {
          "addButtonFilter": "numeric",
          "columnsGroups": [
           {
            "captionProducer": "firstColumn",
            "cellFactory": "kpi-status",
            "selector": "kpi-status"
           },
           {
            "captionProducer": "firstColumn",
            "cellFactory": "lookup",
            "selector": "lookup"
           },
           {
            "captionProducer": "expiry",
            "cellFactory": "expiry",
            "selector": "kpi-expiry"
           },
           {
            "captionProducer": "columnMerge",
            "cellFactory": {
             "args": {},
             "key": "treeCells"
            },
            "selector": "member"
           }
          ],
          "defaultOptions": {},
          "expansion": {
           "automaticExpansion": true
          },
          "hideAddButton": true,
          "pinnedHeaderSelector": "member",
          "sortingMode": "non-breaking",
          "statisticsShown": true
         }
        },
        "contextValues": {},
        "mdx": "SELECT NON EMPTY Hierarchize(DrilldownLevel([Hierarchies].[year].[ALL].[AllMember])) ON ROWS, NON EMPTY [Measures].[Top constructor] ON COLUMNS FROM [F1Cube] CELL PROPERTIES VALUE, FORMATTED_VALUE, BACK_COLOR, FORE_COLOR, FONT_FLAGS",
        "ranges": {
         "column": {
          "chunkSize": 50,
          "thresholdPercentage": 0.2
         },
         "row": {
          "chunkSize": 2000,
          "thresholdPercentage": 0.1
         }
        },
        "serverUrl": "",
        "updateMode": "once"
       },
       "containerKey": "pivot-table",
       "showTitleBar": false,
       "style": {}
      }
     }
    }
   },
   "outputs": [
    {
     "data": {
      "application/vnd.atoti.v0+json": {
       "cube": "F1Cube",
       "name": "Top constructor by year",
       "session": "Unnamed"
      },
      "text/plain": [
       "Install and enable the Atoti JupyterLab extension to see this widget."
      ]
     },
     "metadata": {},
     "output_type": "display_data"
    }
   ],
   "source": [
    "f1cube.visualize(\"Top constructor by year\")"
   ]
  },
  {
   "cell_type": "code",
   "execution_count": 26,
   "metadata": {
    "atoti": {
     "state": {
      "name": "Top constructor by race",
      "type": "container",
      "value": {
       "body": {
        "configuration": {
         "tabular": {
          "addButtonFilter": "numeric",
          "columnsGroups": [
           {
            "captionProducer": "firstColumn",
            "cellFactory": "kpi-status",
            "selector": "kpi-status"
           },
           {
            "captionProducer": "firstColumn",
            "cellFactory": "lookup",
            "selector": "lookup"
           },
           {
            "captionProducer": "expiry",
            "cellFactory": "expiry",
            "selector": "kpi-expiry"
           },
           {
            "captionProducer": "columnMerge",
            "cellFactory": {
             "args": {},
             "key": "treeCells"
            },
            "selector": "member"
           }
          ],
          "defaultOptions": {},
          "expansion": {
           "automaticExpansion": true
          },
          "hideAddButton": true,
          "pinnedHeaderSelector": "member",
          "sortingMode": "non-breaking",
          "statisticsShown": true
         }
        },
        "contextValues": {},
        "mdx": "SELECT NON EMPTY Hierarchize(DrilldownLevel([Hierarchies].[race_name].[ALL].[AllMember])) ON ROWS, NON EMPTY {[Measures].[Top constructor]} ON COLUMNS FROM [F1Cube] CELL PROPERTIES VALUE, FORMATTED_VALUE, BACK_COLOR, FORE_COLOR, FONT_FLAGS",
        "ranges": {
         "column": {
          "chunkSize": 50,
          "thresholdPercentage": 0.2
         },
         "row": {
          "chunkSize": 2000,
          "thresholdPercentage": 0.1
         }
        },
        "serverUrl": "",
        "updateMode": "once"
       },
       "containerKey": "pivot-table",
       "showTitleBar": false,
       "style": {}
      }
     }
    }
   },
   "outputs": [
    {
     "data": {
      "application/vnd.atoti.v0+json": {
       "cube": "F1Cube",
       "name": "Top constructor by race",
       "session": "Unnamed"
      },
      "text/plain": [
       "Install and enable the Atoti JupyterLab extension to see this widget."
      ]
     },
     "metadata": {},
     "output_type": "display_data"
    }
   ],
   "source": [
    "f1cube.visualize(\"Top constructor by race\")"
   ]
  },
  {
   "cell_type": "markdown",
   "metadata": {},
   "source": [
    "## 6. Simulations\n",
    "Variation of points scoring rule in F1 history  \n",
    "[EN version](https://en.wikipedia.org/wiki/List_of_Formula_One_World_Championship_points_scoring_systems)  \n",
    "[FR version](https://fr.wikipedia.org/wiki/Classement_des_pilotes_de_Formule_1_par_nombre_de_points#%C3%89volution_de_l'attribution_des_points_au_cours_du_temps)"
   ]
  },
  {
   "cell_type": "markdown",
   "metadata": {},
   "source": [
    "### Preparation of a dataframe for the different scoring systems"
   ]
  },
  {
   "cell_type": "code",
   "execution_count": 27,
   "metadata": {},
   "outputs": [],
   "source": [
    "# index = race year, 1 column for each position, values are the number of points scored for the race position\n",
    "scoring_columns = np.arange(1, 41)\n",
    "scoring_index = (\n",
    "    \"sc1950to1959fl sc1960 sc1961to1990 sc1991to2002 sc2003to2009 sc2010to2013 sc2014lr sc2015to2018 sc2019fl\"\n",
    ").split()"
   ]
  },
  {
   "cell_type": "code",
   "execution_count": 28,
   "metadata": {},
   "outputs": [],
   "source": [
    "# check\n",
    "dfscoring = pd.DataFrame(0, index=scoring_index, columns=scoring_columns)"
   ]
  },
  {
   "cell_type": "code",
   "execution_count": 29,
   "metadata": {},
   "outputs": [],
   "source": [
    "# before 1991, the calculation rule is not a simple aggregation given that only the Nth best race results were retained...\n",
    "# dfscoring.loc['sc1950to1959fl'][1,2,3,4,5] = [8,6,4,3,2] #fastest lap bonus +1 point\n",
    "# dfscoring.loc['sc1960'][1,2,3,4,5,6] = [8,6,4,3,2,1]\n",
    "# dfscoring.loc['sc1961to1990'][1,2,3,4,5,6] = [9,6,4,3,2,1]\n",
    "dfscoring.loc[\"sc1991to2002\"][1, 2, 3, 4, 5, 6] = [10, 6, 4, 3, 2, 1]\n",
    "dfscoring.loc[\"sc2003to2009\"][1, 2, 3, 4, 5, 6, 7, 8] = [10, 8, 6, 5, 4, 3, 2, 1]\n",
    "dfscoring.loc[\"sc2010to2013\"][1, 2, 3, 4, 5, 6, 7, 8, 9, 10] = [\n",
    "    25,\n",
    "    18,\n",
    "    15,\n",
    "    12,\n",
    "    10,\n",
    "    8,\n",
    "    6,\n",
    "    4,\n",
    "    2,\n",
    "    1,\n",
    "]\n",
    "# dfscoring.loc['sc2014lr'][1,2,3,4,5,6,7,8,9,10] = [25,18,15,12,10,8,6,4,2,1] #last race bonus double points\n",
    "dfscoring.loc[\"sc2015to2018\"] = dfscoring.loc[\"sc2010to2013\"]\n",
    "# dfscoring.loc['sc2019fl'] = dfscoring.loc['sc2010to2013'] #fastest lap bonus +1 point"
   ]
  },
  {
   "cell_type": "code",
   "execution_count": 30,
   "metadata": {},
   "outputs": [
    {
     "data": {
      "text/html": [
       "<div>\n",
       "<style scoped>\n",
       "    .dataframe tbody tr th:only-of-type {\n",
       "        vertical-align: middle;\n",
       "    }\n",
       "\n",
       "    .dataframe tbody tr th {\n",
       "        vertical-align: top;\n",
       "    }\n",
       "\n",
       "    .dataframe thead th {\n",
       "        text-align: right;\n",
       "    }\n",
       "</style>\n",
       "<table border=\"1\" class=\"dataframe\">\n",
       "  <thead>\n",
       "    <tr style=\"text-align: right;\">\n",
       "      <th></th>\n",
       "      <th>1</th>\n",
       "      <th>2</th>\n",
       "      <th>3</th>\n",
       "      <th>4</th>\n",
       "      <th>5</th>\n",
       "      <th>6</th>\n",
       "      <th>7</th>\n",
       "      <th>8</th>\n",
       "      <th>9</th>\n",
       "      <th>10</th>\n",
       "      <th>...</th>\n",
       "      <th>31</th>\n",
       "      <th>32</th>\n",
       "      <th>33</th>\n",
       "      <th>34</th>\n",
       "      <th>35</th>\n",
       "      <th>36</th>\n",
       "      <th>37</th>\n",
       "      <th>38</th>\n",
       "      <th>39</th>\n",
       "      <th>40</th>\n",
       "    </tr>\n",
       "  </thead>\n",
       "  <tbody>\n",
       "    <tr>\n",
       "      <th>sc1950to1959fl</th>\n",
       "      <td>0</td>\n",
       "      <td>0</td>\n",
       "      <td>0</td>\n",
       "      <td>0</td>\n",
       "      <td>0</td>\n",
       "      <td>0</td>\n",
       "      <td>0</td>\n",
       "      <td>0</td>\n",
       "      <td>0</td>\n",
       "      <td>0</td>\n",
       "      <td>...</td>\n",
       "      <td>0</td>\n",
       "      <td>0</td>\n",
       "      <td>0</td>\n",
       "      <td>0</td>\n",
       "      <td>0</td>\n",
       "      <td>0</td>\n",
       "      <td>0</td>\n",
       "      <td>0</td>\n",
       "      <td>0</td>\n",
       "      <td>0</td>\n",
       "    </tr>\n",
       "    <tr>\n",
       "      <th>sc1960</th>\n",
       "      <td>0</td>\n",
       "      <td>0</td>\n",
       "      <td>0</td>\n",
       "      <td>0</td>\n",
       "      <td>0</td>\n",
       "      <td>0</td>\n",
       "      <td>0</td>\n",
       "      <td>0</td>\n",
       "      <td>0</td>\n",
       "      <td>0</td>\n",
       "      <td>...</td>\n",
       "      <td>0</td>\n",
       "      <td>0</td>\n",
       "      <td>0</td>\n",
       "      <td>0</td>\n",
       "      <td>0</td>\n",
       "      <td>0</td>\n",
       "      <td>0</td>\n",
       "      <td>0</td>\n",
       "      <td>0</td>\n",
       "      <td>0</td>\n",
       "    </tr>\n",
       "    <tr>\n",
       "      <th>sc1961to1990</th>\n",
       "      <td>0</td>\n",
       "      <td>0</td>\n",
       "      <td>0</td>\n",
       "      <td>0</td>\n",
       "      <td>0</td>\n",
       "      <td>0</td>\n",
       "      <td>0</td>\n",
       "      <td>0</td>\n",
       "      <td>0</td>\n",
       "      <td>0</td>\n",
       "      <td>...</td>\n",
       "      <td>0</td>\n",
       "      <td>0</td>\n",
       "      <td>0</td>\n",
       "      <td>0</td>\n",
       "      <td>0</td>\n",
       "      <td>0</td>\n",
       "      <td>0</td>\n",
       "      <td>0</td>\n",
       "      <td>0</td>\n",
       "      <td>0</td>\n",
       "    </tr>\n",
       "    <tr>\n",
       "      <th>sc1991to2002</th>\n",
       "      <td>10</td>\n",
       "      <td>6</td>\n",
       "      <td>4</td>\n",
       "      <td>3</td>\n",
       "      <td>2</td>\n",
       "      <td>1</td>\n",
       "      <td>0</td>\n",
       "      <td>0</td>\n",
       "      <td>0</td>\n",
       "      <td>0</td>\n",
       "      <td>...</td>\n",
       "      <td>0</td>\n",
       "      <td>0</td>\n",
       "      <td>0</td>\n",
       "      <td>0</td>\n",
       "      <td>0</td>\n",
       "      <td>0</td>\n",
       "      <td>0</td>\n",
       "      <td>0</td>\n",
       "      <td>0</td>\n",
       "      <td>0</td>\n",
       "    </tr>\n",
       "    <tr>\n",
       "      <th>sc2003to2009</th>\n",
       "      <td>10</td>\n",
       "      <td>8</td>\n",
       "      <td>6</td>\n",
       "      <td>5</td>\n",
       "      <td>4</td>\n",
       "      <td>3</td>\n",
       "      <td>2</td>\n",
       "      <td>1</td>\n",
       "      <td>0</td>\n",
       "      <td>0</td>\n",
       "      <td>...</td>\n",
       "      <td>0</td>\n",
       "      <td>0</td>\n",
       "      <td>0</td>\n",
       "      <td>0</td>\n",
       "      <td>0</td>\n",
       "      <td>0</td>\n",
       "      <td>0</td>\n",
       "      <td>0</td>\n",
       "      <td>0</td>\n",
       "      <td>0</td>\n",
       "    </tr>\n",
       "    <tr>\n",
       "      <th>sc2010to2013</th>\n",
       "      <td>25</td>\n",
       "      <td>18</td>\n",
       "      <td>15</td>\n",
       "      <td>12</td>\n",
       "      <td>10</td>\n",
       "      <td>8</td>\n",
       "      <td>6</td>\n",
       "      <td>4</td>\n",
       "      <td>2</td>\n",
       "      <td>1</td>\n",
       "      <td>...</td>\n",
       "      <td>0</td>\n",
       "      <td>0</td>\n",
       "      <td>0</td>\n",
       "      <td>0</td>\n",
       "      <td>0</td>\n",
       "      <td>0</td>\n",
       "      <td>0</td>\n",
       "      <td>0</td>\n",
       "      <td>0</td>\n",
       "      <td>0</td>\n",
       "    </tr>\n",
       "    <tr>\n",
       "      <th>sc2014lr</th>\n",
       "      <td>0</td>\n",
       "      <td>0</td>\n",
       "      <td>0</td>\n",
       "      <td>0</td>\n",
       "      <td>0</td>\n",
       "      <td>0</td>\n",
       "      <td>0</td>\n",
       "      <td>0</td>\n",
       "      <td>0</td>\n",
       "      <td>0</td>\n",
       "      <td>...</td>\n",
       "      <td>0</td>\n",
       "      <td>0</td>\n",
       "      <td>0</td>\n",
       "      <td>0</td>\n",
       "      <td>0</td>\n",
       "      <td>0</td>\n",
       "      <td>0</td>\n",
       "      <td>0</td>\n",
       "      <td>0</td>\n",
       "      <td>0</td>\n",
       "    </tr>\n",
       "    <tr>\n",
       "      <th>sc2015to2018</th>\n",
       "      <td>25</td>\n",
       "      <td>18</td>\n",
       "      <td>15</td>\n",
       "      <td>12</td>\n",
       "      <td>10</td>\n",
       "      <td>8</td>\n",
       "      <td>6</td>\n",
       "      <td>4</td>\n",
       "      <td>2</td>\n",
       "      <td>1</td>\n",
       "      <td>...</td>\n",
       "      <td>0</td>\n",
       "      <td>0</td>\n",
       "      <td>0</td>\n",
       "      <td>0</td>\n",
       "      <td>0</td>\n",
       "      <td>0</td>\n",
       "      <td>0</td>\n",
       "      <td>0</td>\n",
       "      <td>0</td>\n",
       "      <td>0</td>\n",
       "    </tr>\n",
       "    <tr>\n",
       "      <th>sc2019fl</th>\n",
       "      <td>0</td>\n",
       "      <td>0</td>\n",
       "      <td>0</td>\n",
       "      <td>0</td>\n",
       "      <td>0</td>\n",
       "      <td>0</td>\n",
       "      <td>0</td>\n",
       "      <td>0</td>\n",
       "      <td>0</td>\n",
       "      <td>0</td>\n",
       "      <td>...</td>\n",
       "      <td>0</td>\n",
       "      <td>0</td>\n",
       "      <td>0</td>\n",
       "      <td>0</td>\n",
       "      <td>0</td>\n",
       "      <td>0</td>\n",
       "      <td>0</td>\n",
       "      <td>0</td>\n",
       "      <td>0</td>\n",
       "      <td>0</td>\n",
       "    </tr>\n",
       "  </tbody>\n",
       "</table>\n",
       "<p>9 rows × 40 columns</p>\n",
       "</div>"
      ],
      "text/plain": [
       "                1   2   3   4   5   6   7   8   9   10  ...  31  32  33  34  \\\n",
       "sc1950to1959fl   0   0   0   0   0   0   0   0   0   0  ...   0   0   0   0   \n",
       "sc1960           0   0   0   0   0   0   0   0   0   0  ...   0   0   0   0   \n",
       "sc1961to1990     0   0   0   0   0   0   0   0   0   0  ...   0   0   0   0   \n",
       "sc1991to2002    10   6   4   3   2   1   0   0   0   0  ...   0   0   0   0   \n",
       "sc2003to2009    10   8   6   5   4   3   2   1   0   0  ...   0   0   0   0   \n",
       "sc2010to2013    25  18  15  12  10   8   6   4   2   1  ...   0   0   0   0   \n",
       "sc2014lr         0   0   0   0   0   0   0   0   0   0  ...   0   0   0   0   \n",
       "sc2015to2018    25  18  15  12  10   8   6   4   2   1  ...   0   0   0   0   \n",
       "sc2019fl         0   0   0   0   0   0   0   0   0   0  ...   0   0   0   0   \n",
       "\n",
       "                35  36  37  38  39  40  \n",
       "sc1950to1959fl   0   0   0   0   0   0  \n",
       "sc1960           0   0   0   0   0   0  \n",
       "sc1961to1990     0   0   0   0   0   0  \n",
       "sc1991to2002     0   0   0   0   0   0  \n",
       "sc2003to2009     0   0   0   0   0   0  \n",
       "sc2010to2013     0   0   0   0   0   0  \n",
       "sc2014lr         0   0   0   0   0   0  \n",
       "sc2015to2018     0   0   0   0   0   0  \n",
       "sc2019fl         0   0   0   0   0   0  \n",
       "\n",
       "[9 rows x 40 columns]"
      ]
     },
     "execution_count": 30,
     "metadata": {},
     "output_type": "execute_result"
    }
   ],
   "source": [
    "# check\n",
    "dfscoring"
   ]
  },
  {
   "cell_type": "markdown",
   "metadata": {},
   "source": [
    "### Simulation on points"
   ]
  },
  {
   "cell_type": "code",
   "execution_count": 31,
   "metadata": {},
   "outputs": [],
   "source": [
    "# Creation of simulation\n",
    "pointssystem_sim = f1cube.setup_simulation(\n",
    "    \"pointssystem_sim\",\n",
    "    levels=[lvl[\"positionText\"], lvl[\"resultId\"]],\n",
    "    replace=[m[\"points.SUM\"]],\n",
    "    base_scenario=\"Base\",\n",
    ")"
   ]
  },
  {
   "cell_type": "code",
   "execution_count": 32,
   "metadata": {},
   "outputs": [],
   "source": [
    "# Creation of the different scenarios\n",
    "sc2015to2018_scenario = pointssystem_sim.scenarios[\"System 2015 to 2018\"]\n",
    "sc1991to2002_scenario = pointssystem_sim.scenarios[\"System 1991 to 2002\"]\n",
    "sc2003to2009_scenario = pointssystem_sim.scenarios[\"System 2003 to 2009\"]"
   ]
  },
  {
   "cell_type": "code",
   "execution_count": 33,
   "metadata": {},
   "outputs": [],
   "source": [
    "# Feed of the different scenarios with points from related scoring systems\n",
    "for i in range(1, 11):\n",
    "    x = float(dfscoring.loc[\"sc2015to2018\"][i])\n",
    "    sc2015to2018_scenario += (str(i), \"*\", x)\n",
    "\n",
    "    x = float(dfscoring.loc[\"sc1991to2002\"][i])\n",
    "    sc1991to2002_scenario += (str(i), \"*\", x)\n",
    "\n",
    "    x = float(dfscoring.loc[\"sc2003to2009\"][i])\n",
    "    sc2003to2009_scenario += (str(i), \"*\", x)"
   ]
  },
  {
   "cell_type": "code",
   "execution_count": 34,
   "metadata": {},
   "outputs": [
    {
     "data": {
      "text/html": [
       "<div>\n",
       "<style scoped>\n",
       "    .dataframe tbody tr th:only-of-type {\n",
       "        vertical-align: middle;\n",
       "    }\n",
       "\n",
       "    .dataframe tbody tr th {\n",
       "        vertical-align: top;\n",
       "    }\n",
       "\n",
       "    .dataframe thead th {\n",
       "        text-align: right;\n",
       "    }\n",
       "</style>\n",
       "<table border=\"1\" class=\"dataframe\">\n",
       "  <thead>\n",
       "    <tr style=\"text-align: right;\">\n",
       "      <th></th>\n",
       "      <th></th>\n",
       "      <th>pointssystem_sim_points.SUM_replace</th>\n",
       "      <th>Priority</th>\n",
       "    </tr>\n",
       "    <tr>\n",
       "      <th>positionText</th>\n",
       "      <th>resultId</th>\n",
       "      <th></th>\n",
       "      <th></th>\n",
       "    </tr>\n",
       "  </thead>\n",
       "  <tbody>\n",
       "    <tr>\n",
       "      <th>1</th>\n",
       "      <th>*</th>\n",
       "      <td>25.0</td>\n",
       "      <td>0.0</td>\n",
       "    </tr>\n",
       "    <tr>\n",
       "      <th>2</th>\n",
       "      <th>*</th>\n",
       "      <td>18.0</td>\n",
       "      <td>0.0</td>\n",
       "    </tr>\n",
       "    <tr>\n",
       "      <th>3</th>\n",
       "      <th>*</th>\n",
       "      <td>15.0</td>\n",
       "      <td>0.0</td>\n",
       "    </tr>\n",
       "    <tr>\n",
       "      <th>4</th>\n",
       "      <th>*</th>\n",
       "      <td>12.0</td>\n",
       "      <td>0.0</td>\n",
       "    </tr>\n",
       "    <tr>\n",
       "      <th>5</th>\n",
       "      <th>*</th>\n",
       "      <td>10.0</td>\n",
       "      <td>0.0</td>\n",
       "    </tr>\n",
       "    <tr>\n",
       "      <th>6</th>\n",
       "      <th>*</th>\n",
       "      <td>8.0</td>\n",
       "      <td>0.0</td>\n",
       "    </tr>\n",
       "    <tr>\n",
       "      <th>7</th>\n",
       "      <th>*</th>\n",
       "      <td>6.0</td>\n",
       "      <td>0.0</td>\n",
       "    </tr>\n",
       "    <tr>\n",
       "      <th>8</th>\n",
       "      <th>*</th>\n",
       "      <td>4.0</td>\n",
       "      <td>0.0</td>\n",
       "    </tr>\n",
       "    <tr>\n",
       "      <th>9</th>\n",
       "      <th>*</th>\n",
       "      <td>2.0</td>\n",
       "      <td>0.0</td>\n",
       "    </tr>\n",
       "    <tr>\n",
       "      <th>10</th>\n",
       "      <th>*</th>\n",
       "      <td>1.0</td>\n",
       "      <td>0.0</td>\n",
       "    </tr>\n",
       "  </tbody>\n",
       "</table>\n",
       "</div>"
      ],
      "text/plain": [
       "                       pointssystem_sim_points.SUM_replace  Priority\n",
       "positionText resultId                                               \n",
       "1            *                                        25.0       0.0\n",
       "2            *                                        18.0       0.0\n",
       "3            *                                        15.0       0.0\n",
       "4            *                                        12.0       0.0\n",
       "5            *                                        10.0       0.0\n",
       "6            *                                         8.0       0.0\n",
       "7            *                                         6.0       0.0\n",
       "8            *                                         4.0       0.0\n",
       "9            *                                         2.0       0.0\n",
       "10           *                                         1.0       0.0"
      ]
     },
     "execution_count": 34,
     "metadata": {},
     "output_type": "execute_result"
    }
   ],
   "source": [
    "sc2015to2018_scenario.head(10)\n",
    "# sc1991to2002_scenario.head(10)\n",
    "# sc2003to2009_scenario.head(10)"
   ]
  },
  {
   "cell_type": "code",
   "execution_count": 36,
   "metadata": {
    "atoti": {
     "height": 677,
     "state": {
      "name": "Champion comparison",
      "type": "container",
      "value": {
       "body": {
        "configuration": {
         "tabular": {
          "addButtonFilter": "numeric",
          "columnOrder": {
           "args": {
            "orderedColumns": [
             "__lineNumber__",
             "c-treeCells-member",
             "([Measure Simulations].[pointssystem_sim].[pointssystem_sim].[Base],[Measures].[Champion])",
             "([Measure Simulations].[pointssystem_sim].[pointssystem_sim].[System 1991 to 2002],[Measures].[Champion])",
             "([Measure Simulations].[pointssystem_sim].[pointssystem_sim].[System 2003 to 2009],[Measures].[Champion])",
             "([Measure Simulations].[pointssystem_sim].[pointssystem_sim].[System 2015 to 2018],[Measures].[Champion])"
            ]
           },
           "key": "explicit"
          },
          "columns": [
           {
            "key": "c-treeCells-member",
            "width": 97
           },
           {
            "key": "([Measure Simulations].[pointssystem_sim].[pointssystem_sim].[System 1991 to 2002],[Measures].[Champion])",
            "width": 179
           },
           {
            "key": "([Measure Simulations].[pointssystem_sim].[pointssystem_sim].[System 2003 to 2009],[Measures].[Champion])",
            "width": 159
           },
           {
            "key": "([Measure Simulations].[pointssystem_sim].[pointssystem_sim].[System 2015 to 2018],[Measures].[Champion])",
            "width": 171
           },
           {
            "key": "([Measure Simulations].[pointssystem_sim].[pointssystem_sim].[System 1991 to 2002],[Measures].[Champion (1)])",
            "width": 156
           },
           {
            "key": "([Measure Simulations].[pointssystem_sim].[pointssystem_sim].[System 2003 to 2009],[Measures].[Champion (1)])",
            "width": 164
           },
           {
            "key": "([Measure Simulations].[pointssystem_sim].[pointssystem_sim].[System 2015 to 2018],[Measures].[Champion (1)])",
            "width": 150
           },
           {
            "key": "[Measure Simulations].[pointssystem_sim].[pointssystem_sim].[System 2003 to 2009]",
            "width": 168
           },
           {
            "key": "[Measure Simulations].[pointssystem_sim].[pointssystem_sim].[System 2015 to 2018]",
            "width": 165
           },
           {
            "key": "[Measure Simulations].[pointssystem_sim].[pointssystem_sim].[System 1991 to 2002]",
            "width": 172
           }
          ],
          "columnsGroups": [
           {
            "captionProducer": "firstColumn",
            "cellFactory": "kpi-status",
            "selector": "kpi-status"
           },
           {
            "captionProducer": "firstColumn",
            "cellFactory": "lookup",
            "selector": "lookup"
           },
           {
            "captionProducer": "expiry",
            "cellFactory": "expiry",
            "selector": "kpi-expiry"
           },
           {
            "captionProducer": "columnMerge",
            "cellFactory": {
             "args": {
              "automaticExpansion": true
             },
             "key": "treeCells"
            },
            "selector": "member"
           }
          ],
          "defaultOptions": {},
          "hideAddButton": true,
          "lineNumbers": true,
          "pinnedHeaderSelector": "member",
          "sortingMode": "non-breaking",
          "statisticsShown": true
         }
        },
        "contextValues": {},
        "mdx": "WITH  Member [Measures].[Top driver (1)] AS [Measures].[Top driver], FORE_COLOR = iif([Measures].[Top driver] <> ([Measures].[Top driver], [Measure Simulations].[pointssystem_sim].[pointssystem_sim].[Base]), \"red\", NULL)  SELECT NON EMPTY Crossjoin([Measures].[Top driver (1)], [Measure Simulations].[pointssystem_sim].[pointssystem_sim].Members) ON COLUMNS, NON EMPTY Hierarchize(DrilldownLevel([Hierarchies].[year].[ALL].[AllMember])) ON ROWS FROM [F1Cube] CELL PROPERTIES VALUE, FORMATTED_VALUE, BACK_COLOR, FORE_COLOR, FONT_FLAGS",
        "ranges": {
         "column": {
          "chunkSize": 50,
          "thresholdPercentage": 0.2
         },
         "row": {
          "chunkSize": 2000,
          "thresholdPercentage": 0.1
         }
        },
        "serverUrl": "",
        "updateMode": "once"
       },
       "containerKey": "pivot-table",
       "showTitleBar": false,
       "style": {}
      }
     }
    }
   },
   "outputs": [
    {
     "data": {
      "application/vnd.atoti.v0+json": {
       "cube": "F1Cube",
       "name": "Champion comparison",
       "session": "Unnamed"
      },
      "text/plain": [
       "Install and enable the Atoti JupyterLab extension to see this widget."
      ]
     },
     "metadata": {},
     "output_type": "display_data"
    }
   ],
   "source": [
    "#  Member [Measures].[Top driver (1)] AS [Measures].[Top driver], FORE_COLOR = iif(\n",
    "#   [Measures].[Top driver] <> (\n",
    "#     [Measures].[Top driver],\n",
    "#     [Measure Simulations].[pointssystem_sim].[pointssystem_sim].[Base]\n",
    "#   ),\n",
    "#   \"red\",\n",
    "#   NULL\n",
    "# )\n",
    "f1cube.visualize(\"Champion comparison\")"
   ]
  },
  {
   "cell_type": "markdown",
   "metadata": {},
   "source": [
    "## 8. Charts"
   ]
  },
  {
   "cell_type": "markdown",
   "metadata": {},
   "source": [
    "### Showing the differences for the race result of a famous GP, Brazil 2008\n",
    "Where we see how the 1991-2002 scoring systems makes a big difference between chamionship rivals Massa & Hamilton\n",
    "See race summary here :https://www.youtube.com/watch?v=XHSeGou-pCI ;)"
   ]
  },
  {
   "cell_type": "code",
   "execution_count": 38,
   "metadata": {
    "activeviam": {
     "state": {
      "name": "Base vs. Simulation - Brazil 2008",
      "type": "container",
      "value": {
       "body": {
        "configuration": {
         "tabular": {
          "addButtonFilter": "numeric",
          "columnOrder": {
           "args": {
            "orderedColumns": [
             "__lineNumber__",
             "c-treeCells-member",
             "([Measure Simulations].[pointssystem_sim].[pointssystem_sim].[Base],[Measures].[Total Points])",
             "([Measure Simulations].[pointssystem_sim].[pointssystem_sim].[System 2015 to 2018],[Measures].[Total Points])"
            ]
           },
           "key": "explicit"
          },
          "columns": [
           {
            "key": "([Measure Simulations].[pointssystem_sim].[pointssystem_sim].[System 2015 to 2018],[Measures].[Total Points])",
            "width": 159
           },
           {
            "key": "c-treeCells-member",
            "width": 319
           },
           {
            "key": "([Measure Simulations].[pointssystem_sim].[pointssystem_sim].[System 2003 to 2009],[Measures].[Total Points])",
            "width": 180
           },
           {
            "key": "([Measure Simulations].[pointssystem_sim].[pointssystem_sim].[System 1991 to 2002],[Measures].[Total Points])",
            "width": 157
           }
          ],
          "columnsGroups": [
           {
            "captionProducer": "firstColumn",
            "cellFactory": "kpi-status",
            "selector": "kpi-status"
           },
           {
            "captionProducer": "firstColumn",
            "cellFactory": "lookup",
            "selector": "lookup"
           },
           {
            "captionProducer": "expiry",
            "cellFactory": "expiry",
            "selector": "kpi-expiry"
           },
           {
            "captionProducer": "columnMerge",
            "cellFactory": {
             "args": {
              "automaticExpansion": true
             },
             "key": "treeCells"
            },
            "selector": "member"
           }
          ],
          "defaultOptions": {},
          "hideAddButton": true,
          "lineNumbers": true,
          "pinnedHeaderSelector": "member",
          "sortingMode": "non-breaking",
          "statisticsShown": true
         }
        },
        "contextValues": {
         "F1Cube": {
          "mdx.hiddengrandtotals": "1"
         }
        },
        "mdx": "SELECT NON EMPTY Crossjoin(Hierarchize([Measure Simulations].[pointssystem_sim].[pointssystem_sim].Members), [Measures].[Total Points]) ON COLUMNS, NON EMPTY Order(DrilldownLevel([Hierarchies].[driverRef].[ALL].[AllMember]), ([Measure Simulations].[pointssystem_sim].[pointssystem_sim].[System 2015 to 2018], [Measures].[Total Points]), DESC) ON ROWS FROM [F1Cube] WHERE ([Hierarchies].[name].[ALL].[AllMember].[Brazilian Grand Prix], [Hierarchies].[year].[ALL].[AllMember].[2008]) CELL PROPERTIES VALUE, FORMATTED_VALUE, BACK_COLOR, FORE_COLOR, FONT_FLAGS",
        "ranges": {
         "column": {
          "chunkSize": 50,
          "thresholdPercentage": 0.2
         },
         "row": {
          "chunkSize": 2000,
          "thresholdPercentage": 0.1
         }
        },
        "serverUrl": "",
        "updateMode": "once"
       },
       "containerKey": "pivot-table",
       "showTitleBar": false,
       "style": {}
      }
     }
    },
    "atoti": {
     "state": {
      "name": "Base vs. Simulation - Brazil 2008",
      "type": "container",
      "value": {
       "body": {
        "configuration": {
         "tabular": {
          "addButtonFilter": "numeric",
          "columns": [
           {
            "key": "c-treeCells-member",
            "width": 149
           },
           {
            "key": "([Measure Simulations].[pointssystem_sim].[pointssystem_sim].[System 1991 to 2002],[Measures].[points.SUM])",
            "width": 148
           },
           {
            "key": "([Measure Simulations].[pointssystem_sim].[pointssystem_sim].[System 2003 to 2009],[Measures].[points.SUM])",
            "width": 134
           },
           {
            "key": "([Measure Simulations].[pointssystem_sim].[pointssystem_sim].[System 2015 to 2018],[Measures].[points.SUM])",
            "width": 138
           }
          ],
          "columnsGroups": [
           {
            "captionProducer": "firstColumn",
            "cellFactory": "kpi-status",
            "selector": "kpi-status"
           },
           {
            "captionProducer": "firstColumn",
            "cellFactory": "lookup",
            "selector": "lookup"
           },
           {
            "captionProducer": "expiry",
            "cellFactory": "expiry",
            "selector": "kpi-expiry"
           },
           {
            "captionProducer": "columnMerge",
            "cellFactory": {
             "args": {
              "automaticExpansion": true
             },
             "key": "treeCells"
            },
            "selector": "member"
           }
          ],
          "defaultOptions": {},
          "hideAddButton": true,
          "lineNumbers": true,
          "pinnedHeaderSelector": "member",
          "sortingMode": "non-breaking",
          "statisticsShown": true
         }
        },
        "contextValues": {
         "F1Cube": {
          "mdx.hiddengrandtotals": "1"
         }
        },
        "mdx": "SELECT NON EMPTY Crossjoin([Measure Simulations].[pointssystem_sim].[pointssystem_sim].Members, [Measures].[points.SUM]) ON COLUMNS, NON EMPTY Order(DrilldownLevel([Hierarchies].[driverRef].[ALL].[AllMember]), [Measures].[points.SUM], DESC) ON ROWS FROM [F1Cube] WHERE ([Hierarchies].[year].[ALL].[AllMember].[2008], [Hierarchies].[race_name].[ALL].[AllMember].[Brazilian Grand Prix]) CELL PROPERTIES VALUE, FORMATTED_VALUE, BACK_COLOR, FORE_COLOR, FONT_FLAGS",
        "ranges": {
         "column": {
          "chunkSize": 50,
          "thresholdPercentage": 0.2
         },
         "row": {
          "chunkSize": 2000,
          "thresholdPercentage": 0.1
         }
        },
        "serverUrl": "",
        "updateMode": "once"
       },
       "containerKey": "pivot-table",
       "showTitleBar": false,
       "style": {}
      }
     }
    }
   },
   "outputs": [
    {
     "data": {
      "application/vnd.atoti.v0+json": {
       "cube": "F1Cube",
       "name": "Base vs. Simulation - Brazil 2008",
       "session": "Unnamed"
      },
      "text/plain": [
       "Install and enable the Atoti JupyterLab extension to see this widget."
      ]
     },
     "metadata": {},
     "output_type": "display_data"
    }
   ],
   "source": [
    "f1cube.visualize(\"Base vs. Simulation - Brazil 2008\")"
   ]
  },
  {
   "cell_type": "markdown",
   "metadata": {},
   "source": [
    "### Showing the differences for the 2008 world championship result\n",
    "Would Felipe Massa have become world champ in 2008 with the 1991-2002 scoring system?? YES!"
   ]
  },
  {
   "cell_type": "code",
   "execution_count": 40,
   "metadata": {
    "activeviam": {
     "height": 530,
     "state": {
      "name": "Base vs. Simulation System 1991 to 2002 - 2008 Championship",
      "type": "container",
      "value": {
       "body": {
        "configuration": {
         "mapping": {
          "horizontal": [],
          "splitBy": [
           "[Measure Simulations].[pointssystem_sim].[pointssystem_sim]"
          ],
          "values": [
           "[Measures].[Total Points]"
          ],
          "vertical": [],
          "xAxis": [
           "[Hierarchies].[driverRef].[driverRef]"
          ]
         },
         "plotly": {
          "layout": {
           "xaxis": {
            "title": {
             "text": "Total points"
            }
           },
           "yaxis": {
            "categoryorder": "total ascending",
            "title": {
             "text": "Drivers"
            }
           }
          }
         },
         "switchedTo": "plotly-clustered-bar-chart",
         "type": "plotly-clustered-column-chart"
        },
        "query": {
         "mdx": "SELECT NON EMPTY [Measures].[Total Points] ON COLUMNS, NON EMPTY Crossjoin([Hierarchies].[driverRef].[driverRef].Members, [Measure Simulations].[pointssystem_sim].[pointssystem_sim].Members) ON ROWS FROM (SELECT TopCount(Filter([Hierarchies].[driverRef].Levels(1).Members, NOT IsEmpty([Measures].[Total Points])), 10, [Measures].[Total Points]) ON COLUMNS FROM (SELECT {[Measure Simulations].[pointssystem_sim].[pointssystem_sim].[Base], [Measure Simulations].[pointssystem_sim].[pointssystem_sim].[System 1991 to 2002]} ON COLUMNS FROM [F1Cube] WHERE [Hierarchies].[year].[ALL].[AllMember].[2008]) WHERE [Hierarchies].[year].[ALL].[AllMember].[2008]) WHERE [Hierarchies].[year].[ALL].[AllMember].[2008] CELL PROPERTIES VALUE, FORMATTED_VALUE, BACK_COLOR, FORE_COLOR, FONT_FLAGS",
         "serverUrl": "",
         "updateMode": "once"
        }
       },
       "containerKey": "chart",
       "showTitleBar": true,
       "style": {}
      }
     }
    },
    "atoti": {
     "state": {
      "name": "Base vs. Simulation System 1991 to 2002 - 2008 Championship",
      "type": "container",
      "value": {
       "body": {
        "configuration": {
         "tabular": {
          "addButtonFilter": "numeric",
          "columnOrder": {
           "args": {
            "orderedColumns": [
             "__lineNumber__",
             "c-treeCells-member",
             "([Measure Simulations].[pointssystem_sim].[pointssystem_sim].[Base],[Measures].[Champion])",
             "([Measure Simulations].[pointssystem_sim].[pointssystem_sim].[System 1991 to 2002],[Measures].[Champion])",
             "([Measure Simulations].[pointssystem_sim].[pointssystem_sim].[System 2003 to 2009],[Measures].[Champion])",
             "([Measure Simulations].[pointssystem_sim].[pointssystem_sim].[System 2015 to 2018],[Measures].[Champion])"
            ]
           },
           "key": "explicit"
          },
          "columns": [
           {
            "key": "([Measure Simulations].[pointssystem_sim].[pointssystem_sim].[System 1991 to 2002],[Measures].[Champion])",
            "width": 170
           }
          ],
          "columnsGroups": [
           {
            "captionProducer": "firstColumn",
            "cellFactory": "kpi-status",
            "selector": "kpi-status"
           },
           {
            "captionProducer": "firstColumn",
            "cellFactory": "lookup",
            "selector": "lookup"
           },
           {
            "captionProducer": "expiry",
            "cellFactory": "expiry",
            "selector": "kpi-expiry"
           },
           {
            "captionProducer": "columnMerge",
            "cellFactory": {
             "args": {
              "automaticExpansion": true
             },
             "key": "treeCells"
            },
            "selector": "member"
           }
          ],
          "defaultOptions": {},
          "hideAddButton": true,
          "lineNumbers": true,
          "pinnedHeaderSelector": "member",
          "sortingMode": "non-breaking",
          "statisticsShown": true
         }
        },
        "contextValues": {
         "F1Cube": {
          "mdx.hiddengrandtotals": "1"
         }
        },
        "mdx": "SELECT NON EMPTY Crossjoin([Measure Simulations].[pointssystem_sim].[pointssystem_sim].Members, [Measures].[Top driver]) ON COLUMNS, NON EMPTY Hierarchize(DrilldownLevel([Hierarchies].[year].[ALL].[AllMember])) ON ROWS FROM (SELECT {[Measure Simulations].[pointssystem_sim].[pointssystem_sim].[Base], [Measure Simulations].[pointssystem_sim].[pointssystem_sim].[System 1991 to 2002]} ON COLUMNS FROM (SELECT [Hierarchies].[year].[ALL].[AllMember].[2008] ON COLUMNS FROM [F1Cube])) CELL PROPERTIES VALUE, FORMATTED_VALUE, BACK_COLOR, FORE_COLOR, FONT_FLAGS",
        "ranges": {
         "column": {
          "chunkSize": 50,
          "thresholdPercentage": 0.2
         },
         "row": {
          "chunkSize": 2000,
          "thresholdPercentage": 0.1
         }
        },
        "serverUrl": "",
        "updateMode": "once"
       },
       "containerKey": "pivot-table",
       "showTitleBar": false,
       "style": {}
      }
     }
    }
   },
   "outputs": [
    {
     "data": {
      "application/vnd.atoti.v0+json": {
       "cube": "F1Cube",
       "name": "Base vs. Simulation System 1991 to 2002 - 2008 Championship",
       "session": "Unnamed"
      },
      "text/plain": [
       "Install and enable the Atoti JupyterLab extension to see this widget."
      ]
     },
     "metadata": {},
     "output_type": "display_data"
    }
   ],
   "source": [
    "# chart\n",
    "f1cube.visualize(\"Base vs. Simulation System 1991 to 2002 - 2008 Championship\")"
   ]
  },
  {
   "cell_type": "code",
   "execution_count": 42,
   "metadata": {
    "activeviam": {
     "state": {
      "name": "Base vs. Simulation - 2008 Championship table",
      "type": "container",
      "value": {
       "body": {
        "configuration": {
         "tabular": {
          "addButtonFilter": "numeric",
          "columns": [
           {
            "key": "([Measure Simulations].[pointssystem_sim].[pointssystem_sim].[System 1991 to 2002],[Measures].[Total Points])",
            "width": 152
           },
           {
            "key": "([Measure Simulations].[pointssystem_sim].[pointssystem_sim].[System 2003 to 2009],[Measures].[Total Points])",
            "width": 165
           },
           {
            "key": "([Measure Simulations].[pointssystem_sim].[pointssystem_sim].[System 2015 to 2018],[Measures].[Total Points])",
            "width": 169
           }
          ],
          "columnsGroups": [
           {
            "captionProducer": "firstColumn",
            "cellFactory": "kpi-status",
            "selector": "kpi-status"
           },
           {
            "captionProducer": "firstColumn",
            "cellFactory": "lookup",
            "selector": "lookup"
           },
           {
            "captionProducer": "expiry",
            "cellFactory": "expiry",
            "selector": "kpi-expiry"
           },
           {
            "captionProducer": "columnMerge",
            "cellFactory": {
             "args": {
              "automaticExpansion": true
             },
             "key": "treeCells"
            },
            "selector": "member"
           }
          ],
          "defaultOptions": {},
          "hideAddButton": true,
          "lineNumbers": true,
          "pinnedHeaderSelector": "member",
          "sortingMode": "non-breaking",
          "statisticsShown": true
         }
        },
        "contextValues": {
         "F1Cube": {
          "mdx.hiddengrandtotals": "1"
         }
        },
        "mdx": "SELECT NON EMPTY Order(Order(Hierarchize(DrilldownLevel([Hierarchies].[driverRef].[ALL].[AllMember])), ([Hierarchies].[raceId].[ALL].[AllMember].[18], [Measure Simulations].[pointssystem_sim].[pointssystem_sim].[System 2015 to 2018], [Measures].[points.SUM]), DESC), ([Measure Simulations].[pointssystem_sim].[pointssystem_sim].[System 2015 to 2018], [Measures].[Total Points]), DESC) ON ROWS, NON EMPTY Crossjoin(Hierarchize([Measure Simulations].[pointssystem_sim].[pointssystem_sim].Members), [Measures].[Total Points]) ON COLUMNS FROM [F1Cube] WHERE [Hierarchies].[year].[ALL].[AllMember].[2008] CELL PROPERTIES VALUE, FORMATTED_VALUE, BACK_COLOR, FORE_COLOR, FONT_FLAGS",
        "ranges": {
         "column": {
          "chunkSize": 50,
          "thresholdPercentage": 0.2
         },
         "row": {
          "chunkSize": 2000,
          "thresholdPercentage": 0.1
         }
        },
        "serverUrl": "",
        "updateMode": "once"
       },
       "containerKey": "pivot-table",
       "showTitleBar": false,
       "style": {}
      }
     }
    },
    "atoti": {
     "height": 467,
     "state": {
      "name": "Base vs. Simulation - 2008 Championship table",
      "type": "container",
      "value": {
       "body": {
        "configuration": {
         "mapping": {
          "horizontal": [],
          "splitBy": [
           "[Measure Simulations].[pointssystem_sim].[pointssystem_sim]"
          ],
          "values": [
           "[Measures].[points.SUM]"
          ],
          "vertical": [],
          "yAxis": [
           "[Hierarchies].[driverRef].[driverRef]"
          ]
         },
         "plotly": {
          "layout": {
           "yaxis": {
            "categoryorder": "total ascending"
           }
          }
         },
         "type": "plotly-clustered-bar-chart"
        },
        "query": {
         "mdx": "SELECT NON EMPTY [Measures].[points.SUM] ON COLUMNS, NON EMPTY Crossjoin([Hierarchies].[driverRef].[driverRef].Members, [Measure Simulations].[pointssystem_sim].[pointssystem_sim].Members) ON ROWS FROM (SELECT {[Measure Simulations].[pointssystem_sim].[pointssystem_sim].[Base], [Measure Simulations].[pointssystem_sim].[pointssystem_sim].[System 1991 to 2002]} ON COLUMNS FROM (SELECT Filter([Hierarchies].[driverRef].[driverRef].Members, [Measures].[points.SUM] > 0) ON COLUMNS FROM [F1Cube] WHERE [Hierarchies].[year].[ALL].[AllMember].[2008]) WHERE [Hierarchies].[year].[ALL].[AllMember].[2008]) WHERE [Hierarchies].[year].[ALL].[AllMember].[2008] CELL PROPERTIES VALUE, FORMATTED_VALUE, BACK_COLOR, FORE_COLOR, FONT_FLAGS",
         "serverUrl": "",
         "updateMode": "once"
        }
       },
       "containerKey": "chart",
       "showTitleBar": false,
       "style": {}
      }
     }
    }
   },
   "outputs": [
    {
     "data": {
      "application/vnd.atoti.v0+json": {
       "cube": "F1Cube",
       "name": "Base vs. Simulation - 2008 Championship table",
       "session": "Unnamed"
      },
      "text/plain": [
       "Install and enable the Atoti JupyterLab extension to see this widget."
      ]
     },
     "metadata": {},
     "output_type": "display_data"
    }
   ],
   "source": [
    "# 2008 championship standings table\n",
    "f1cube.visualize(\"Base vs. Simulation - 2008 Championship table\")"
   ]
  }
 ],
 "metadata": {
  "kernelspec": {
   "display_name": "Python 3",
   "language": "python",
   "name": "python3"
  },
  "language_info": {
   "codemirror_mode": {
    "name": "ipython",
    "version": 3
   },
   "file_extension": ".py",
   "mimetype": "text/x-python",
   "name": "python",
   "nbconvert_exporter": "python",
   "pygments_lexer": "ipython3",
   "version": "3.8.2"
  }
 },
 "nbformat": 4,
 "nbformat_minor": 4
}
